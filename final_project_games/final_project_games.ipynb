{
 "cells": [
  {
   "cell_type": "markdown",
   "id": "f616bc95",
   "metadata": {},
   "source": [
    "# Формирование модели монетизации для игры \"Космические братья\""
   ]
  },
  {
   "cell_type": "markdown",
   "id": "c0b66d92",
   "metadata": {},
   "source": [
    "## Материалы:\n",
    "\n",
    "[Презентация](https://disk.yandex.ru/i/yqXc66LQNVaVag)\n",
    "\n",
    "[Дашборд](https://public.tableau.com/app/profile/lubov.morozova/viz/_16822651293160/Dashboard1?publish=yes)"
   ]
  },
  {
   "cell_type": "markdown",
   "id": "628972f7",
   "metadata": {},
   "source": [
    "**Описание проекта:**\n",
    "\n",
    "Молодое игровое приложение \"Космические братья\" планирует начать зарабатывать на рекламе. В период с 4 по 10 мая была проведена рекламная кампания и привлечены новые пользователи, нужно проанализировать их поведение и найти закономерности, чтобы сформировать модель монетизации.\n",
    "\n",
    "Немного об игре: пользователи пытаются преуспеть в колонизации галактики, они строят здания, дерутся с врагами за территории или проводят исследования в виде проектов. Есть два типа игроков:\n",
    "- PvP - проходят уровень убийством врага\n",
    "- PvE - проходят уровень завершив исследовательский проект\n",
    "- также есть пользователи, которые еще не прошли уровень и не выбрали свою тактику\n",
    "\n",
    "Рекламу планируют показывать на экране выбора постройки, стоимость просмотра одного рекламного баннера(ролика) 0.07 у.е.\n",
    "\n",
    "**Цель:** \\\n",
    "Изучив поведение пользователей в игре, сформировать модель монетизации для игрового приложения.\n",
    "\n",
    "**Описание данных:**\n",
    "\n",
    "Основной датасет содержит данные о событиях, совершенных в мобильной игре «Космические братья». \\\n",
    "Датасет *game_actions.csv*:\n",
    "- `event_datetime` — время события;\n",
    "- `event` — одно из трёх событий:\n",
    "    1. `building` — объект построен,\n",
    "    2. `finished_stage_1` — первый уровень завершён,\n",
    "    3. `project` — проект завершён;\n",
    "- `building_type` — один из трёх типов здания:\n",
    "    1. `assembly_shop` — сборочный цех,\n",
    "    2. `spaceport` — космопорт,\n",
    "    3. `research_center` — исследовательский центр;\n",
    "- `user_id` — идентификатор пользователя;\n",
    "- `project_type` — тип реализованного проекта;\n",
    "\n",
    "Помимо основного датасета есть два датасета с информацией о рекламных активностях. Они также помогут в решении задачи. \\\n",
    "Датасет *ad_costs.csv* содержит колонки:\n",
    "- `day` - день, в который был совершен клик по объявлению\n",
    "- `source` - источник трафика\n",
    "- `cost` - стоимость кликов\n",
    "\n",
    "Датасет user_source.csv содержит колонки:\n",
    "- `user_id` - идентификатор пользователя\n",
    "- `source` - источников, с которого пришёл пользователь, установивший приложение\n",
    "\n",
    "**Декомпозиция задачи:**\n",
    "\n",
    "1. Прочитать файл, ознакомиться с данными и с общей информацией о датасетах\n",
    "\n",
    "\n",
    "2. Провести предобработку данных:\n",
    "    - обработать пропуски\n",
    "    - обработать дубликаты\n",
    "    - если нужно, изменить типы данных\n",
    "    - проверить, что сроки рекламы и даты первых событий пользователей соответствуют указанным заказчиком\n",
    "\n",
    "\n",
    "3. Провести исследовательский анализ и проверку гипотез: \n",
    "\n",
    "    - Определить, какие объекты строят чаще других (все пользователи, с разбивкой на PvP и PvE, по статусу завершения)\n",
    "\n",
    "    - Определить медианное количество строек на пользователя (общее, с разбивкой на PvP и PvE, по статусу завершения). Можно ли сказать, что совершив N количество строек пользователь точно завершит уровень?\n",
    "\n",
    "    - Определить количество пользователей, которые прошли уровень завершением проекта, убийством врага или вообще не прошли первый уровень \n",
    "\n",
    "    - Оценить время завершения уровня (разница между датой первого события и датой прохождения уровня). Сколько в среднем требуется пользователю, чтобы завершить уровень?\n",
    "\n",
    "    - Зависит ли время прохождения уровня от тактики игры (PvP, PvE)?\n",
    "    \n",
    "    - Есть ли статистическая значимость между количеством строек у разных типов пользователей? (PvP, PvE)\n",
    "\n",
    "    - Определить расходы на рекламу за весь период (в общем и с разбивкой по каналам)\n",
    "    \n",
    "    - Рассчитать CAC для каналов и в общем\n",
    "\n",
    "    - Какая доля пользователей с каждого канала завершает первый уровень?\n",
    "    \n",
    "    - Изучить динамику постройки зданий с течением лайфтайма\n",
    "    \n",
    "    - Оценить окупаемость рекламы с различной периодичностью показа, выбрать наиболее эффективный и окупаемый способ\n",
    "\n",
    "    - Определить периодичность показа рекламы на основании полученный результатов\n",
    "    \n",
    "    - Рассчитать предполагаемую прибыль при такой схеме показа\n",
    "\n",
    "    \n",
    "4.Сформировать итоговые выводы и рекомендации для отдела маркетинга"
   ]
  },
  {
   "cell_type": "markdown",
   "id": "6dbe316b",
   "metadata": {},
   "source": [
    "## Изучение общей информации о данных"
   ]
  },
  {
   "cell_type": "code",
   "execution_count": 1,
   "id": "8ba9aa35",
   "metadata": {},
   "outputs": [
    {
     "name": "stdout",
     "output_type": "stream",
     "text": [
      "Requirement already satisfied: matplotlib in /opt/conda/lib/python3.9/site-packages (3.3.4)\n",
      "Collecting matplotlib\n",
      "  Downloading matplotlib-3.7.1-cp39-cp39-manylinux_2_17_x86_64.manylinux2014_x86_64.whl (11.6 MB)\n",
      "\u001b[K     |████████████████████████████████| 11.6 MB 1.2 MB/s eta 0:00:01\n",
      "\u001b[?25hCollecting fonttools>=4.22.0\n",
      "  Downloading fonttools-4.39.3-py3-none-any.whl (1.0 MB)\n",
      "\u001b[K     |████████████████████████████████| 1.0 MB 76.1 MB/s eta 0:00:01\n",
      "\u001b[?25hRequirement already satisfied: kiwisolver>=1.0.1 in /opt/conda/lib/python3.9/site-packages (from matplotlib) (1.4.4)\n",
      "Requirement already satisfied: pillow>=6.2.0 in /opt/conda/lib/python3.9/site-packages (from matplotlib) (8.4.0)\n",
      "Requirement already satisfied: python-dateutil>=2.7 in /opt/conda/lib/python3.9/site-packages (from matplotlib) (2.8.1)\n",
      "Collecting contourpy>=1.0.1\n",
      "  Downloading contourpy-1.0.7-cp39-cp39-manylinux_2_17_x86_64.manylinux2014_x86_64.whl (299 kB)\n",
      "\u001b[K     |████████████████████████████████| 299 kB 86.2 MB/s eta 0:00:01\n",
      "\u001b[?25hRequirement already satisfied: packaging>=20.0 in /opt/conda/lib/python3.9/site-packages (from matplotlib) (21.3)\n",
      "Collecting importlib-resources>=3.2.0\n",
      "  Downloading importlib_resources-5.12.0-py3-none-any.whl (36 kB)\n",
      "Requirement already satisfied: numpy>=1.20 in /opt/conda/lib/python3.9/site-packages (from matplotlib) (1.21.1)\n",
      "Requirement already satisfied: pyparsing>=2.3.1 in /opt/conda/lib/python3.9/site-packages (from matplotlib) (2.4.7)\n",
      "Requirement already satisfied: cycler>=0.10 in /opt/conda/lib/python3.9/site-packages (from matplotlib) (0.11.0)\n",
      "Requirement already satisfied: zipp>=3.1.0 in /opt/conda/lib/python3.9/site-packages (from importlib-resources>=3.2.0->matplotlib) (3.5.0)\n",
      "Requirement already satisfied: six>=1.5 in /opt/conda/lib/python3.9/site-packages (from python-dateutil>=2.7->matplotlib) (1.16.0)\n",
      "Installing collected packages: importlib-resources, fonttools, contourpy, matplotlib\n",
      "  Attempting uninstall: matplotlib\n",
      "    Found existing installation: matplotlib 3.3.4\n",
      "    Uninstalling matplotlib-3.3.4:\n",
      "      Successfully uninstalled matplotlib-3.3.4\n",
      "Successfully installed contourpy-1.0.7 fonttools-4.39.3 importlib-resources-5.12.0 matplotlib-3.7.1\n",
      "Note: you may need to restart the kernel to use updated packages.\n"
     ]
    }
   ],
   "source": [
    "pip install --upgrade matplotlib"
   ]
  },
  {
   "cell_type": "code",
   "execution_count": 2,
   "id": "7d6e8937",
   "metadata": {},
   "outputs": [],
   "source": [
    "# импортируем библиотеки, которые понадобятся\n",
    "import pandas as pd\n",
    "import numpy as np\n",
    "import seaborn as sns\n",
    "import matplotlib.pyplot as plt\n",
    "import plotly.express as px\n",
    "from plotly import graph_objects as go\n",
    "import warnings\n",
    "from datetime import datetime, timedelta\n",
    "from scipy import stats as st"
   ]
  },
  {
   "cell_type": "code",
   "execution_count": 3,
   "id": "6a0d7009",
   "metadata": {},
   "outputs": [],
   "source": [
    "# зададим настройки\n",
    "sns.set(rc={'figure.figsize':(14,6)})\n",
    "sns.set_palette('coolwarm')\n",
    "# исключим красные предупреждения\n",
    "warnings.filterwarnings('ignore')"
   ]
  },
  {
   "cell_type": "code",
   "execution_count": 4,
   "id": "5ade629e",
   "metadata": {},
   "outputs": [],
   "source": [
    "# прочитаем все файлы\n",
    "ad_costs = pd.read_csv('https://code.s3.yandex.net/datasets/ad_costs.csv')\n",
    "game_actions = pd.read_csv('https://code.s3.yandex.net/datasets/game_actions.csv')\n",
    "user_source = pd.read_csv('https://code.s3.yandex.net/datasets/user_source.csv')"
   ]
  },
  {
   "cell_type": "code",
   "execution_count": 5,
   "id": "3367724f",
   "metadata": {},
   "outputs": [
    {
     "data": {
      "text/html": [
       "<div>\n",
       "<style scoped>\n",
       "    .dataframe tbody tr th:only-of-type {\n",
       "        vertical-align: middle;\n",
       "    }\n",
       "\n",
       "    .dataframe tbody tr th {\n",
       "        vertical-align: top;\n",
       "    }\n",
       "\n",
       "    .dataframe thead th {\n",
       "        text-align: right;\n",
       "    }\n",
       "</style>\n",
       "<table border=\"1\" class=\"dataframe\">\n",
       "  <thead>\n",
       "    <tr style=\"text-align: right;\">\n",
       "      <th></th>\n",
       "      <th>source</th>\n",
       "      <th>day</th>\n",
       "      <th>cost</th>\n",
       "    </tr>\n",
       "  </thead>\n",
       "  <tbody>\n",
       "    <tr>\n",
       "      <th>0</th>\n",
       "      <td>facebook_ads</td>\n",
       "      <td>2020-05-03</td>\n",
       "      <td>935.882786</td>\n",
       "    </tr>\n",
       "    <tr>\n",
       "      <th>1</th>\n",
       "      <td>facebook_ads</td>\n",
       "      <td>2020-05-04</td>\n",
       "      <td>548.354480</td>\n",
       "    </tr>\n",
       "    <tr>\n",
       "      <th>2</th>\n",
       "      <td>facebook_ads</td>\n",
       "      <td>2020-05-05</td>\n",
       "      <td>260.185754</td>\n",
       "    </tr>\n",
       "    <tr>\n",
       "      <th>3</th>\n",
       "      <td>facebook_ads</td>\n",
       "      <td>2020-05-06</td>\n",
       "      <td>177.982200</td>\n",
       "    </tr>\n",
       "    <tr>\n",
       "      <th>4</th>\n",
       "      <td>facebook_ads</td>\n",
       "      <td>2020-05-07</td>\n",
       "      <td>111.766796</td>\n",
       "    </tr>\n",
       "  </tbody>\n",
       "</table>\n",
       "</div>"
      ],
      "text/plain": [
       "         source         day        cost\n",
       "0  facebook_ads  2020-05-03  935.882786\n",
       "1  facebook_ads  2020-05-04  548.354480\n",
       "2  facebook_ads  2020-05-05  260.185754\n",
       "3  facebook_ads  2020-05-06  177.982200\n",
       "4  facebook_ads  2020-05-07  111.766796"
      ]
     },
     "metadata": {},
     "output_type": "display_data"
    },
    {
     "data": {
      "text/html": [
       "<div>\n",
       "<style scoped>\n",
       "    .dataframe tbody tr th:only-of-type {\n",
       "        vertical-align: middle;\n",
       "    }\n",
       "\n",
       "    .dataframe tbody tr th {\n",
       "        vertical-align: top;\n",
       "    }\n",
       "\n",
       "    .dataframe thead th {\n",
       "        text-align: right;\n",
       "    }\n",
       "</style>\n",
       "<table border=\"1\" class=\"dataframe\">\n",
       "  <thead>\n",
       "    <tr style=\"text-align: right;\">\n",
       "      <th></th>\n",
       "      <th>event_datetime</th>\n",
       "      <th>event</th>\n",
       "      <th>building_type</th>\n",
       "      <th>user_id</th>\n",
       "      <th>project_type</th>\n",
       "    </tr>\n",
       "  </thead>\n",
       "  <tbody>\n",
       "    <tr>\n",
       "      <th>0</th>\n",
       "      <td>2020-05-04 00:00:01</td>\n",
       "      <td>building</td>\n",
       "      <td>assembly_shop</td>\n",
       "      <td>55e92310-cb8e-4754-b622-597e124b03de</td>\n",
       "      <td>NaN</td>\n",
       "    </tr>\n",
       "    <tr>\n",
       "      <th>1</th>\n",
       "      <td>2020-05-04 00:00:03</td>\n",
       "      <td>building</td>\n",
       "      <td>assembly_shop</td>\n",
       "      <td>c07b1c10-f477-44dc-81dc-ec82254b1347</td>\n",
       "      <td>NaN</td>\n",
       "    </tr>\n",
       "    <tr>\n",
       "      <th>2</th>\n",
       "      <td>2020-05-04 00:00:16</td>\n",
       "      <td>building</td>\n",
       "      <td>assembly_shop</td>\n",
       "      <td>6edd42cc-e753-4ff6-a947-2107cd560710</td>\n",
       "      <td>NaN</td>\n",
       "    </tr>\n",
       "    <tr>\n",
       "      <th>3</th>\n",
       "      <td>2020-05-04 00:00:16</td>\n",
       "      <td>building</td>\n",
       "      <td>assembly_shop</td>\n",
       "      <td>92c69003-d60a-444a-827f-8cc51bf6bf4c</td>\n",
       "      <td>NaN</td>\n",
       "    </tr>\n",
       "    <tr>\n",
       "      <th>4</th>\n",
       "      <td>2020-05-04 00:00:35</td>\n",
       "      <td>building</td>\n",
       "      <td>assembly_shop</td>\n",
       "      <td>cdc6bb92-0ccb-4490-9866-ef142f09139d</td>\n",
       "      <td>NaN</td>\n",
       "    </tr>\n",
       "  </tbody>\n",
       "</table>\n",
       "</div>"
      ],
      "text/plain": [
       "        event_datetime     event  building_type  \\\n",
       "0  2020-05-04 00:00:01  building  assembly_shop   \n",
       "1  2020-05-04 00:00:03  building  assembly_shop   \n",
       "2  2020-05-04 00:00:16  building  assembly_shop   \n",
       "3  2020-05-04 00:00:16  building  assembly_shop   \n",
       "4  2020-05-04 00:00:35  building  assembly_shop   \n",
       "\n",
       "                                user_id project_type  \n",
       "0  55e92310-cb8e-4754-b622-597e124b03de          NaN  \n",
       "1  c07b1c10-f477-44dc-81dc-ec82254b1347          NaN  \n",
       "2  6edd42cc-e753-4ff6-a947-2107cd560710          NaN  \n",
       "3  92c69003-d60a-444a-827f-8cc51bf6bf4c          NaN  \n",
       "4  cdc6bb92-0ccb-4490-9866-ef142f09139d          NaN  "
      ]
     },
     "metadata": {},
     "output_type": "display_data"
    },
    {
     "data": {
      "text/html": [
       "<div>\n",
       "<style scoped>\n",
       "    .dataframe tbody tr th:only-of-type {\n",
       "        vertical-align: middle;\n",
       "    }\n",
       "\n",
       "    .dataframe tbody tr th {\n",
       "        vertical-align: top;\n",
       "    }\n",
       "\n",
       "    .dataframe thead th {\n",
       "        text-align: right;\n",
       "    }\n",
       "</style>\n",
       "<table border=\"1\" class=\"dataframe\">\n",
       "  <thead>\n",
       "    <tr style=\"text-align: right;\">\n",
       "      <th></th>\n",
       "      <th>user_id</th>\n",
       "      <th>source</th>\n",
       "    </tr>\n",
       "  </thead>\n",
       "  <tbody>\n",
       "    <tr>\n",
       "      <th>0</th>\n",
       "      <td>0001f83c-c6ac-4621-b7f0-8a28b283ac30</td>\n",
       "      <td>facebook_ads</td>\n",
       "    </tr>\n",
       "    <tr>\n",
       "      <th>1</th>\n",
       "      <td>00151b4f-ba38-44a8-a650-d7cf130a0105</td>\n",
       "      <td>yandex_direct</td>\n",
       "    </tr>\n",
       "    <tr>\n",
       "      <th>2</th>\n",
       "      <td>001aaea6-3d14-43f1-8ca8-7f48820f17aa</td>\n",
       "      <td>youtube_channel_reklama</td>\n",
       "    </tr>\n",
       "    <tr>\n",
       "      <th>3</th>\n",
       "      <td>001d39dc-366c-4021-9604-6a3b9ff01e25</td>\n",
       "      <td>instagram_new_adverts</td>\n",
       "    </tr>\n",
       "    <tr>\n",
       "      <th>4</th>\n",
       "      <td>002f508f-67b6-479f-814b-b05f00d4e995</td>\n",
       "      <td>facebook_ads</td>\n",
       "    </tr>\n",
       "  </tbody>\n",
       "</table>\n",
       "</div>"
      ],
      "text/plain": [
       "                                user_id                   source\n",
       "0  0001f83c-c6ac-4621-b7f0-8a28b283ac30             facebook_ads\n",
       "1  00151b4f-ba38-44a8-a650-d7cf130a0105            yandex_direct\n",
       "2  001aaea6-3d14-43f1-8ca8-7f48820f17aa  youtube_channel_reklama\n",
       "3  001d39dc-366c-4021-9604-6a3b9ff01e25    instagram_new_adverts\n",
       "4  002f508f-67b6-479f-814b-b05f00d4e995             facebook_ads"
      ]
     },
     "execution_count": 5,
     "metadata": {},
     "output_type": "execute_result"
    }
   ],
   "source": [
    "# ознакомимся с первыми строками датасетов\n",
    "display(ad_costs.head())\n",
    "display(game_actions.head())\n",
    "user_source.head()"
   ]
  },
  {
   "cell_type": "code",
   "execution_count": 6,
   "id": "2b84617d",
   "metadata": {},
   "outputs": [
    {
     "name": "stdout",
     "output_type": "stream",
     "text": [
      "<class 'pandas.core.frame.DataFrame'>\n",
      "RangeIndex: 28 entries, 0 to 27\n",
      "Data columns (total 3 columns):\n",
      " #   Column  Non-Null Count  Dtype  \n",
      "---  ------  --------------  -----  \n",
      " 0   source  28 non-null     object \n",
      " 1   day     28 non-null     object \n",
      " 2   cost    28 non-null     float64\n",
      "dtypes: float64(1), object(2)\n",
      "memory usage: 800.0+ bytes\n"
     ]
    },
    {
     "data": {
      "text/plain": [
       "None"
      ]
     },
     "metadata": {},
     "output_type": "display_data"
    },
    {
     "name": "stdout",
     "output_type": "stream",
     "text": [
      "<class 'pandas.core.frame.DataFrame'>\n",
      "RangeIndex: 135640 entries, 0 to 135639\n",
      "Data columns (total 5 columns):\n",
      " #   Column          Non-Null Count   Dtype \n",
      "---  ------          --------------   ----- \n",
      " 0   event_datetime  135640 non-null  object\n",
      " 1   event           135640 non-null  object\n",
      " 2   building_type   127957 non-null  object\n",
      " 3   user_id         135640 non-null  object\n",
      " 4   project_type    1866 non-null    object\n",
      "dtypes: object(5)\n",
      "memory usage: 5.2+ MB\n"
     ]
    },
    {
     "data": {
      "text/plain": [
       "None"
      ]
     },
     "metadata": {},
     "output_type": "display_data"
    },
    {
     "name": "stdout",
     "output_type": "stream",
     "text": [
      "<class 'pandas.core.frame.DataFrame'>\n",
      "RangeIndex: 13576 entries, 0 to 13575\n",
      "Data columns (total 2 columns):\n",
      " #   Column   Non-Null Count  Dtype \n",
      "---  ------   --------------  ----- \n",
      " 0   user_id  13576 non-null  object\n",
      " 1   source   13576 non-null  object\n",
      "dtypes: object(2)\n",
      "memory usage: 212.2+ KB\n"
     ]
    }
   ],
   "source": [
    "# и с общей информацией о типах данных и пропусках\n",
    "display(ad_costs.info())\n",
    "display(game_actions.info())\n",
    "user_source.info()"
   ]
  },
  {
   "cell_type": "markdown",
   "id": "e31f3b3e",
   "metadata": {},
   "source": [
    "**Вывод:** \\\n",
    "Уже на этом этапе видны пропуски, особенно большое количество в столбце `project_type`, и неточности в типах данных - даты имеют тип object. Значит, здесь точно нужна более прицельная предобработка, к которой мы и приступим."
   ]
  },
  {
   "cell_type": "markdown",
   "id": "cf3bc83a",
   "metadata": {},
   "source": [
    "## Предобработка данных"
   ]
  },
  {
   "cell_type": "markdown",
   "id": "458bd4a8",
   "metadata": {},
   "source": [
    "### Работа с пропусками"
   ]
  },
  {
   "cell_type": "markdown",
   "id": "003fb189",
   "metadata": {},
   "source": [
    "Мы уже заметили большое количество пропусков, но для наглядности я всегда строю график и смотрю на долю пропусков в столбцах."
   ]
  },
  {
   "cell_type": "code",
   "execution_count": 7,
   "id": "9a5f5df5",
   "metadata": {},
   "outputs": [
    {
     "data": {
      "image/png": "[encoded data removed]",
      "text/plain": [
       "<Figure size 1008x432 with 1 Axes>"
      ]
     },
     "metadata": {
      "needs_background": "light"
     },
     "output_type": "display_data"
    }
   ],
   "source": [
    "# так как пропуски только в одном из датасетов, будем работать с ним\n",
    "plt.figure(figsize=(14,6))\n",
    "miss_data = game_actions.isna().sum(axis=0).reset_index()\n",
    "miss_data.columns = ['column', 'missing']\n",
    "miss_data = miss_data[miss_data['missing'] != 0]\n",
    "miss_data['percent, %'] = (miss_data['missing'] / len(game_actions))*100\n",
    "ax = sns.barplot(data = miss_data, x = 'column', y = 'missing');\n",
    "ax.bar_label(ax.containers[0], label_type = 'center')\n",
    "plt.title('Количество пропусков в столбцах');\n",
    "plt.ylabel('Пропуски');\n",
    "plt.xlabel('Названия столбцов');\n",
    "plt.show();"
   ]
  },
  {
   "cell_type": "code",
   "execution_count": 8,
   "id": "e45075c0",
   "metadata": {},
   "outputs": [
    {
     "data": {
      "text/html": [
       "<div>\n",
       "<style scoped>\n",
       "    .dataframe tbody tr th:only-of-type {\n",
       "        vertical-align: middle;\n",
       "    }\n",
       "\n",
       "    .dataframe tbody tr th {\n",
       "        vertical-align: top;\n",
       "    }\n",
       "\n",
       "    .dataframe thead th {\n",
       "        text-align: right;\n",
       "    }\n",
       "</style>\n",
       "<table border=\"1\" class=\"dataframe\">\n",
       "  <thead>\n",
       "    <tr style=\"text-align: right;\">\n",
       "      <th></th>\n",
       "      <th>column</th>\n",
       "      <th>percent, %</th>\n",
       "    </tr>\n",
       "  </thead>\n",
       "  <tbody>\n",
       "    <tr>\n",
       "      <th>2</th>\n",
       "      <td>building_type</td>\n",
       "      <td>5.664258</td>\n",
       "    </tr>\n",
       "    <tr>\n",
       "      <th>4</th>\n",
       "      <td>project_type</td>\n",
       "      <td>98.624300</td>\n",
       "    </tr>\n",
       "  </tbody>\n",
       "</table>\n",
       "</div>"
      ],
      "text/plain": [
       "          column  percent, %\n",
       "2  building_type    5.664258\n",
       "4   project_type   98.624300"
      ]
     },
     "execution_count": 8,
     "metadata": {},
     "output_type": "execute_result"
    }
   ],
   "source": [
    "# доля пропусков в столбцах\n",
    "miss_data[['column', 'percent, %']]"
   ]
  },
  {
   "cell_type": "markdown",
   "id": "ff2b6fd2",
   "metadata": {},
   "source": [
    "Ого, более 98% пропусков в столбце с проектом. Вряд ли это какая-то ошибка, вероятно, пропуски в тех событиях, которые не связаны с проектом. И более 5% пропусков в столбце с типом строения, это могут быть события как раз с проектом и с завершением уровня."
   ]
  },
  {
   "cell_type": "code",
   "execution_count": 9,
   "id": "8b4dcf69",
   "metadata": {},
   "outputs": [
    {
     "data": {
      "text/html": [
       "<div>\n",
       "<style scoped>\n",
       "    .dataframe tbody tr th:only-of-type {\n",
       "        vertical-align: middle;\n",
       "    }\n",
       "\n",
       "    .dataframe tbody tr th {\n",
       "        vertical-align: top;\n",
       "    }\n",
       "\n",
       "    .dataframe thead th {\n",
       "        text-align: right;\n",
       "    }\n",
       "</style>\n",
       "<table border=\"1\" class=\"dataframe\">\n",
       "  <thead>\n",
       "    <tr style=\"text-align: right;\">\n",
       "      <th></th>\n",
       "      <th>event_datetime</th>\n",
       "      <th>event</th>\n",
       "      <th>building_type</th>\n",
       "      <th>user_id</th>\n",
       "      <th>project_type</th>\n",
       "    </tr>\n",
       "  </thead>\n",
       "  <tbody>\n",
       "  </tbody>\n",
       "</table>\n",
       "</div>"
      ],
      "text/plain": [
       "Empty DataFrame\n",
       "Columns: [event_datetime, event, building_type, user_id, project_type]\n",
       "Index: []"
      ]
     },
     "execution_count": 9,
     "metadata": {},
     "output_type": "execute_result"
    }
   ],
   "source": [
    "# посмотрим, есть ли пропуски в типе проекта у события типа проект\n",
    "game_actions.loc[(game_actions['event'] == 'project') & (game_actions['project_type'].isna())]"
   ]
  },
  {
   "cell_type": "markdown",
   "id": "6cda255b",
   "metadata": {},
   "source": [
    "Значит, пропуски, действительно, не связаны с ошибкой сбора данных, как и говорил заказчик. Типы проекта не указаны там, где событие не связано с проектом.\n",
    "Посмотрим теперь на пропуски в типах строений:"
   ]
  },
  {
   "cell_type": "code",
   "execution_count": 10,
   "id": "ccf57747",
   "metadata": {},
   "outputs": [
    {
     "data": {
      "text/html": [
       "<div>\n",
       "<style scoped>\n",
       "    .dataframe tbody tr th:only-of-type {\n",
       "        vertical-align: middle;\n",
       "    }\n",
       "\n",
       "    .dataframe tbody tr th {\n",
       "        vertical-align: top;\n",
       "    }\n",
       "\n",
       "    .dataframe thead th {\n",
       "        text-align: right;\n",
       "    }\n",
       "</style>\n",
       "<table border=\"1\" class=\"dataframe\">\n",
       "  <thead>\n",
       "    <tr style=\"text-align: right;\">\n",
       "      <th></th>\n",
       "      <th>event_datetime</th>\n",
       "      <th>event</th>\n",
       "      <th>building_type</th>\n",
       "      <th>user_id</th>\n",
       "      <th>project_type</th>\n",
       "    </tr>\n",
       "  </thead>\n",
       "  <tbody>\n",
       "  </tbody>\n",
       "</table>\n",
       "</div>"
      ],
      "text/plain": [
       "Empty DataFrame\n",
       "Columns: [event_datetime, event, building_type, user_id, project_type]\n",
       "Index: []"
      ]
     },
     "execution_count": 10,
     "metadata": {},
     "output_type": "execute_result"
    }
   ],
   "source": [
    "game_actions.loc[(game_actions['event'] == 'bulding') & (game_actions['building_type'].isna())]"
   ]
  },
  {
   "cell_type": "markdown",
   "id": "6175c453",
   "metadata": {},
   "source": [
    "Отлично, где событие - стройка, там указан тип строения. Ну и в заключении убедимся еще раз, посмотрим на строки, где пропущено и то, и другое значение. Здесь должно быть событие завершения первого уровня."
   ]
  },
  {
   "cell_type": "code",
   "execution_count": 11,
   "id": "6906c8a0",
   "metadata": {},
   "outputs": [
    {
     "data": {
      "text/plain": [
       "array(['finished_stage_1'], dtype=object)"
      ]
     },
     "execution_count": 11,
     "metadata": {},
     "output_type": "execute_result"
    }
   ],
   "source": [
    "game_actions.loc[(game_actions['project_type'].isna()) & (game_actions['building_type'].isna())]['event'].unique()"
   ]
  },
  {
   "cell_type": "markdown",
   "id": "f1831756",
   "metadata": {},
   "source": [
    "Отлично, здесь нет никаких неожиданностей: где завершение уровня, там и пропущены типы строений и проектов.\n",
    "\n",
    "Такие пропуски не требуют замены или удаления, поэтому оставим их как есть."
   ]
  },
  {
   "cell_type": "markdown",
   "id": "62fd3335",
   "metadata": {},
   "source": [
    "### Работа с дубликатами"
   ]
  },
  {
   "cell_type": "markdown",
   "id": "3e12588d",
   "metadata": {},
   "source": [
    "Для начала посмотрим, есть ли явные дубликаты в данных"
   ]
  },
  {
   "cell_type": "code",
   "execution_count": 12,
   "id": "e92ea6f2",
   "metadata": {},
   "outputs": [
    {
     "name": "stdout",
     "output_type": "stream",
     "text": [
      "Дубликаты в датасете ad_costs: 0\n",
      "Дубликаты в датасете game_actions: 1\n",
      "Дубликаты в датасете user_source: 0\n"
     ]
    }
   ],
   "source": [
    "print(f'Дубликаты в датасете ad_costs: {ad_costs.duplicated().sum()}')\n",
    "print(f'Дубликаты в датасете game_actions: {game_actions.duplicated().sum()}')\n",
    "print(f'Дубликаты в датасете user_source: {user_source.duplicated().sum()}')"
   ]
  },
  {
   "cell_type": "markdown",
   "id": "7d99400b",
   "metadata": {},
   "source": [
    "Ага, есть один дубликат в `game_actions`, удалим его:"
   ]
  },
  {
   "cell_type": "code",
   "execution_count": 13,
   "id": "61cdeac6",
   "metadata": {},
   "outputs": [
    {
     "data": {
      "text/html": [
       "<div>\n",
       "<style scoped>\n",
       "    .dataframe tbody tr th:only-of-type {\n",
       "        vertical-align: middle;\n",
       "    }\n",
       "\n",
       "    .dataframe tbody tr th {\n",
       "        vertical-align: top;\n",
       "    }\n",
       "\n",
       "    .dataframe thead th {\n",
       "        text-align: right;\n",
       "    }\n",
       "</style>\n",
       "<table border=\"1\" class=\"dataframe\">\n",
       "  <thead>\n",
       "    <tr style=\"text-align: right;\">\n",
       "      <th></th>\n",
       "      <th>event_datetime</th>\n",
       "      <th>event</th>\n",
       "      <th>building_type</th>\n",
       "      <th>user_id</th>\n",
       "      <th>project_type</th>\n",
       "    </tr>\n",
       "  </thead>\n",
       "  <tbody>\n",
       "    <tr>\n",
       "      <th>0</th>\n",
       "      <td>2020-05-04 00:00:01</td>\n",
       "      <td>building</td>\n",
       "      <td>assembly_shop</td>\n",
       "      <td>55e92310-cb8e-4754-b622-597e124b03de</td>\n",
       "      <td>NaN</td>\n",
       "    </tr>\n",
       "    <tr>\n",
       "      <th>1</th>\n",
       "      <td>2020-05-04 00:00:03</td>\n",
       "      <td>building</td>\n",
       "      <td>assembly_shop</td>\n",
       "      <td>c07b1c10-f477-44dc-81dc-ec82254b1347</td>\n",
       "      <td>NaN</td>\n",
       "    </tr>\n",
       "    <tr>\n",
       "      <th>2</th>\n",
       "      <td>2020-05-04 00:00:16</td>\n",
       "      <td>building</td>\n",
       "      <td>assembly_shop</td>\n",
       "      <td>6edd42cc-e753-4ff6-a947-2107cd560710</td>\n",
       "      <td>NaN</td>\n",
       "    </tr>\n",
       "    <tr>\n",
       "      <th>3</th>\n",
       "      <td>2020-05-04 00:00:16</td>\n",
       "      <td>building</td>\n",
       "      <td>assembly_shop</td>\n",
       "      <td>92c69003-d60a-444a-827f-8cc51bf6bf4c</td>\n",
       "      <td>NaN</td>\n",
       "    </tr>\n",
       "    <tr>\n",
       "      <th>4</th>\n",
       "      <td>2020-05-04 00:00:35</td>\n",
       "      <td>building</td>\n",
       "      <td>assembly_shop</td>\n",
       "      <td>cdc6bb92-0ccb-4490-9866-ef142f09139d</td>\n",
       "      <td>NaN</td>\n",
       "    </tr>\n",
       "    <tr>\n",
       "      <th>...</th>\n",
       "      <td>...</td>\n",
       "      <td>...</td>\n",
       "      <td>...</td>\n",
       "      <td>...</td>\n",
       "      <td>...</td>\n",
       "    </tr>\n",
       "    <tr>\n",
       "      <th>135634</th>\n",
       "      <td>2020-06-05 00:08:06</td>\n",
       "      <td>building</td>\n",
       "      <td>research_center</td>\n",
       "      <td>f21d179f-1c4b-437e-b9c6-ab1976907195</td>\n",
       "      <td>NaN</td>\n",
       "    </tr>\n",
       "    <tr>\n",
       "      <th>135635</th>\n",
       "      <td>2020-06-05 02:25:12</td>\n",
       "      <td>finished_stage_1</td>\n",
       "      <td>NaN</td>\n",
       "      <td>515c1952-99aa-4bca-a7ea-d0449eb5385a</td>\n",
       "      <td>NaN</td>\n",
       "    </tr>\n",
       "    <tr>\n",
       "      <th>135636</th>\n",
       "      <td>2020-06-05 08:57:52</td>\n",
       "      <td>building</td>\n",
       "      <td>research_center</td>\n",
       "      <td>ed3e7d02-8a96-4be7-9998-e9813ff9c316</td>\n",
       "      <td>NaN</td>\n",
       "    </tr>\n",
       "    <tr>\n",
       "      <th>135637</th>\n",
       "      <td>2020-06-05 12:12:27</td>\n",
       "      <td>finished_stage_1</td>\n",
       "      <td>NaN</td>\n",
       "      <td>32572adb-900f-4b5d-a453-1eb1e6d88d8b</td>\n",
       "      <td>NaN</td>\n",
       "    </tr>\n",
       "    <tr>\n",
       "      <th>135638</th>\n",
       "      <td>2020-06-05 12:32:49</td>\n",
       "      <td>finished_stage_1</td>\n",
       "      <td>NaN</td>\n",
       "      <td>f21d179f-1c4b-437e-b9c6-ab1976907195</td>\n",
       "      <td>NaN</td>\n",
       "    </tr>\n",
       "  </tbody>\n",
       "</table>\n",
       "<p>135639 rows × 5 columns</p>\n",
       "</div>"
      ],
      "text/plain": [
       "             event_datetime             event    building_type  \\\n",
       "0       2020-05-04 00:00:01          building    assembly_shop   \n",
       "1       2020-05-04 00:00:03          building    assembly_shop   \n",
       "2       2020-05-04 00:00:16          building    assembly_shop   \n",
       "3       2020-05-04 00:00:16          building    assembly_shop   \n",
       "4       2020-05-04 00:00:35          building    assembly_shop   \n",
       "...                     ...               ...              ...   \n",
       "135634  2020-06-05 00:08:06          building  research_center   \n",
       "135635  2020-06-05 02:25:12  finished_stage_1              NaN   \n",
       "135636  2020-06-05 08:57:52          building  research_center   \n",
       "135637  2020-06-05 12:12:27  finished_stage_1              NaN   \n",
       "135638  2020-06-05 12:32:49  finished_stage_1              NaN   \n",
       "\n",
       "                                     user_id project_type  \n",
       "0       55e92310-cb8e-4754-b622-597e124b03de          NaN  \n",
       "1       c07b1c10-f477-44dc-81dc-ec82254b1347          NaN  \n",
       "2       6edd42cc-e753-4ff6-a947-2107cd560710          NaN  \n",
       "3       92c69003-d60a-444a-827f-8cc51bf6bf4c          NaN  \n",
       "4       cdc6bb92-0ccb-4490-9866-ef142f09139d          NaN  \n",
       "...                                      ...          ...  \n",
       "135634  f21d179f-1c4b-437e-b9c6-ab1976907195          NaN  \n",
       "135635  515c1952-99aa-4bca-a7ea-d0449eb5385a          NaN  \n",
       "135636  ed3e7d02-8a96-4be7-9998-e9813ff9c316          NaN  \n",
       "135637  32572adb-900f-4b5d-a453-1eb1e6d88d8b          NaN  \n",
       "135638  f21d179f-1c4b-437e-b9c6-ab1976907195          NaN  \n",
       "\n",
       "[135639 rows x 5 columns]"
      ]
     },
     "execution_count": 13,
     "metadata": {},
     "output_type": "execute_result"
    }
   ],
   "source": [
    "game_actions.drop_duplicates(keep='first').reset_index(drop=True)"
   ]
  },
  {
   "cell_type": "markdown",
   "id": "3d47339d",
   "metadata": {},
   "source": [
    "Можно посмотреть и неявные дубликаты. Вряд ли они будут, так как выгрузка автоматическая, но всё же проверим. Посмотрим уникальные значения там, где могут быть ошибки:"
   ]
  },
  {
   "cell_type": "code",
   "execution_count": 14,
   "id": "6a60aaa5",
   "metadata": {},
   "outputs": [
    {
     "data": {
      "text/plain": [
       "array(['building', 'finished_stage_1', 'project'], dtype=object)"
      ]
     },
     "execution_count": 14,
     "metadata": {},
     "output_type": "execute_result"
    }
   ],
   "source": [
    "game_actions['event'].unique()"
   ]
  },
  {
   "cell_type": "code",
   "execution_count": 15,
   "id": "cb05485f",
   "metadata": {},
   "outputs": [
    {
     "data": {
      "text/plain": [
       "array(['assembly_shop', 'spaceport', nan, 'research_center'], dtype=object)"
      ]
     },
     "execution_count": 15,
     "metadata": {},
     "output_type": "execute_result"
    }
   ],
   "source": [
    "game_actions['building_type'].unique()"
   ]
  },
  {
   "cell_type": "code",
   "execution_count": 16,
   "id": "617b2c8c",
   "metadata": {},
   "outputs": [
    {
     "data": {
      "text/plain": [
       "array([nan, 'satellite_orbital_assembly'], dtype=object)"
      ]
     },
     "execution_count": 16,
     "metadata": {},
     "output_type": "execute_result"
    }
   ],
   "source": [
    "game_actions['project_type'].unique()"
   ]
  },
  {
   "cell_type": "code",
   "execution_count": 17,
   "id": "cf7ce954",
   "metadata": {},
   "outputs": [
    {
     "data": {
      "text/plain": [
       "array(['facebook_ads', 'instagram_new_adverts', 'yandex_direct',\n",
       "       'youtube_channel_reklama'], dtype=object)"
      ]
     },
     "execution_count": 17,
     "metadata": {},
     "output_type": "execute_result"
    }
   ],
   "source": [
    "ad_costs['source'].unique()"
   ]
  },
  {
   "cell_type": "code",
   "execution_count": 18,
   "id": "b598b597",
   "metadata": {},
   "outputs": [
    {
     "data": {
      "text/plain": [
       "array(['facebook_ads', 'yandex_direct', 'youtube_channel_reklama',\n",
       "       'instagram_new_adverts'], dtype=object)"
      ]
     },
     "execution_count": 18,
     "metadata": {},
     "output_type": "execute_result"
    }
   ],
   "source": [
    "user_source['source'].unique()"
   ]
  },
  {
   "cell_type": "markdown",
   "id": "68d4ebee",
   "metadata": {},
   "source": [
    "Отлично, неявных дубликатов нет. От одного единственного явного мы избавились. Можно перейти к типам данных."
   ]
  },
  {
   "cell_type": "markdown",
   "id": "a2d59849",
   "metadata": {},
   "source": [
    "### Работа с типами данных"
   ]
  },
  {
   "cell_type": "markdown",
   "id": "f2cbd84e",
   "metadata": {},
   "source": [
    "Даты у нас встречаются в двух датасетах - со стоимостью рекламы и с действиями пользователей. В первом случае - это дата без времени, во втором нам важно не потерять и точное время."
   ]
  },
  {
   "cell_type": "code",
   "execution_count": 19,
   "id": "eae47e1a",
   "metadata": {},
   "outputs": [],
   "source": [
    "ad_costs['day'] = pd.to_datetime(ad_costs['day'])\n",
    "game_actions['event_datetime'] = pd.to_datetime(game_actions['event_datetime'])"
   ]
  },
  {
   "cell_type": "code",
   "execution_count": 20,
   "id": "8bb59c56",
   "metadata": {},
   "outputs": [
    {
     "name": "stdout",
     "output_type": "stream",
     "text": [
      "<class 'pandas.core.frame.DataFrame'>\n",
      "RangeIndex: 28 entries, 0 to 27\n",
      "Data columns (total 3 columns):\n",
      " #   Column  Non-Null Count  Dtype         \n",
      "---  ------  --------------  -----         \n",
      " 0   source  28 non-null     object        \n",
      " 1   day     28 non-null     datetime64[ns]\n",
      " 2   cost    28 non-null     float64       \n",
      "dtypes: datetime64[ns](1), float64(1), object(1)\n",
      "memory usage: 800.0+ bytes\n"
     ]
    },
    {
     "data": {
      "text/plain": [
       "None"
      ]
     },
     "metadata": {},
     "output_type": "display_data"
    },
    {
     "data": {
      "text/html": [
       "<div>\n",
       "<style scoped>\n",
       "    .dataframe tbody tr th:only-of-type {\n",
       "        vertical-align: middle;\n",
       "    }\n",
       "\n",
       "    .dataframe tbody tr th {\n",
       "        vertical-align: top;\n",
       "    }\n",
       "\n",
       "    .dataframe thead th {\n",
       "        text-align: right;\n",
       "    }\n",
       "</style>\n",
       "<table border=\"1\" class=\"dataframe\">\n",
       "  <thead>\n",
       "    <tr style=\"text-align: right;\">\n",
       "      <th></th>\n",
       "      <th>source</th>\n",
       "      <th>day</th>\n",
       "      <th>cost</th>\n",
       "    </tr>\n",
       "  </thead>\n",
       "  <tbody>\n",
       "    <tr>\n",
       "      <th>0</th>\n",
       "      <td>facebook_ads</td>\n",
       "      <td>2020-05-03</td>\n",
       "      <td>935.882786</td>\n",
       "    </tr>\n",
       "    <tr>\n",
       "      <th>1</th>\n",
       "      <td>facebook_ads</td>\n",
       "      <td>2020-05-04</td>\n",
       "      <td>548.354480</td>\n",
       "    </tr>\n",
       "    <tr>\n",
       "      <th>2</th>\n",
       "      <td>facebook_ads</td>\n",
       "      <td>2020-05-05</td>\n",
       "      <td>260.185754</td>\n",
       "    </tr>\n",
       "    <tr>\n",
       "      <th>3</th>\n",
       "      <td>facebook_ads</td>\n",
       "      <td>2020-05-06</td>\n",
       "      <td>177.982200</td>\n",
       "    </tr>\n",
       "    <tr>\n",
       "      <th>4</th>\n",
       "      <td>facebook_ads</td>\n",
       "      <td>2020-05-07</td>\n",
       "      <td>111.766796</td>\n",
       "    </tr>\n",
       "  </tbody>\n",
       "</table>\n",
       "</div>"
      ],
      "text/plain": [
       "         source        day        cost\n",
       "0  facebook_ads 2020-05-03  935.882786\n",
       "1  facebook_ads 2020-05-04  548.354480\n",
       "2  facebook_ads 2020-05-05  260.185754\n",
       "3  facebook_ads 2020-05-06  177.982200\n",
       "4  facebook_ads 2020-05-07  111.766796"
      ]
     },
     "execution_count": 20,
     "metadata": {},
     "output_type": "execute_result"
    }
   ],
   "source": [
    "# посмотрим на результат\n",
    "display(ad_costs.info())\n",
    "ad_costs.head()"
   ]
  },
  {
   "cell_type": "code",
   "execution_count": 21,
   "id": "c3d240e9",
   "metadata": {},
   "outputs": [
    {
     "name": "stdout",
     "output_type": "stream",
     "text": [
      "<class 'pandas.core.frame.DataFrame'>\n",
      "RangeIndex: 135640 entries, 0 to 135639\n",
      "Data columns (total 5 columns):\n",
      " #   Column          Non-Null Count   Dtype         \n",
      "---  ------          --------------   -----         \n",
      " 0   event_datetime  135640 non-null  datetime64[ns]\n",
      " 1   event           135640 non-null  object        \n",
      " 2   building_type   127957 non-null  object        \n",
      " 3   user_id         135640 non-null  object        \n",
      " 4   project_type    1866 non-null    object        \n",
      "dtypes: datetime64[ns](1), object(4)\n",
      "memory usage: 5.2+ MB\n"
     ]
    },
    {
     "data": {
      "text/plain": [
       "None"
      ]
     },
     "metadata": {},
     "output_type": "display_data"
    },
    {
     "data": {
      "text/html": [
       "<div>\n",
       "<style scoped>\n",
       "    .dataframe tbody tr th:only-of-type {\n",
       "        vertical-align: middle;\n",
       "    }\n",
       "\n",
       "    .dataframe tbody tr th {\n",
       "        vertical-align: top;\n",
       "    }\n",
       "\n",
       "    .dataframe thead th {\n",
       "        text-align: right;\n",
       "    }\n",
       "</style>\n",
       "<table border=\"1\" class=\"dataframe\">\n",
       "  <thead>\n",
       "    <tr style=\"text-align: right;\">\n",
       "      <th></th>\n",
       "      <th>event_datetime</th>\n",
       "      <th>event</th>\n",
       "      <th>building_type</th>\n",
       "      <th>user_id</th>\n",
       "      <th>project_type</th>\n",
       "    </tr>\n",
       "  </thead>\n",
       "  <tbody>\n",
       "    <tr>\n",
       "      <th>0</th>\n",
       "      <td>2020-05-04 00:00:01</td>\n",
       "      <td>building</td>\n",
       "      <td>assembly_shop</td>\n",
       "      <td>55e92310-cb8e-4754-b622-597e124b03de</td>\n",
       "      <td>NaN</td>\n",
       "    </tr>\n",
       "    <tr>\n",
       "      <th>1</th>\n",
       "      <td>2020-05-04 00:00:03</td>\n",
       "      <td>building</td>\n",
       "      <td>assembly_shop</td>\n",
       "      <td>c07b1c10-f477-44dc-81dc-ec82254b1347</td>\n",
       "      <td>NaN</td>\n",
       "    </tr>\n",
       "    <tr>\n",
       "      <th>2</th>\n",
       "      <td>2020-05-04 00:00:16</td>\n",
       "      <td>building</td>\n",
       "      <td>assembly_shop</td>\n",
       "      <td>6edd42cc-e753-4ff6-a947-2107cd560710</td>\n",
       "      <td>NaN</td>\n",
       "    </tr>\n",
       "    <tr>\n",
       "      <th>3</th>\n",
       "      <td>2020-05-04 00:00:16</td>\n",
       "      <td>building</td>\n",
       "      <td>assembly_shop</td>\n",
       "      <td>92c69003-d60a-444a-827f-8cc51bf6bf4c</td>\n",
       "      <td>NaN</td>\n",
       "    </tr>\n",
       "    <tr>\n",
       "      <th>4</th>\n",
       "      <td>2020-05-04 00:00:35</td>\n",
       "      <td>building</td>\n",
       "      <td>assembly_shop</td>\n",
       "      <td>cdc6bb92-0ccb-4490-9866-ef142f09139d</td>\n",
       "      <td>NaN</td>\n",
       "    </tr>\n",
       "  </tbody>\n",
       "</table>\n",
       "</div>"
      ],
      "text/plain": [
       "       event_datetime     event  building_type  \\\n",
       "0 2020-05-04 00:00:01  building  assembly_shop   \n",
       "1 2020-05-04 00:00:03  building  assembly_shop   \n",
       "2 2020-05-04 00:00:16  building  assembly_shop   \n",
       "3 2020-05-04 00:00:16  building  assembly_shop   \n",
       "4 2020-05-04 00:00:35  building  assembly_shop   \n",
       "\n",
       "                                user_id project_type  \n",
       "0  55e92310-cb8e-4754-b622-597e124b03de          NaN  \n",
       "1  c07b1c10-f477-44dc-81dc-ec82254b1347          NaN  \n",
       "2  6edd42cc-e753-4ff6-a947-2107cd560710          NaN  \n",
       "3  92c69003-d60a-444a-827f-8cc51bf6bf4c          NaN  \n",
       "4  cdc6bb92-0ccb-4490-9866-ef142f09139d          NaN  "
      ]
     },
     "execution_count": 21,
     "metadata": {},
     "output_type": "execute_result"
    }
   ],
   "source": [
    "display(game_actions.info())\n",
    "game_actions.head()"
   ]
  },
  {
   "cell_type": "markdown",
   "id": "a28a6692",
   "metadata": {},
   "source": [
    "Пропуски данных обработаны, дубликаты удалены, типа данных приведены к нужным. На этом предобработку можно завершить.\n",
    "\n",
    "**Вывод:** \\\n",
    "На данном этапе проведена предобработка данных. Обнаруженные пропуски не связаны с какими-либо ошибками при выгрузке, а вполне логичны и обоснованы (тип проекта пропущен в событиях, не связанных с проектами, а пропуски в типе объекта - в событиях, не связанных с построением объектов). Поэтому принято решение их не удалять и не заменять. \\\n",
    "Найден лишь один дубликат в датасете `game_actions`, он был удален. Неявных дубликатов не выявлено. \\\n",
    "Типы данных у дат приведены к нужным."
   ]
  },
  {
   "cell_type": "markdown",
   "id": "e5cf1c1e",
   "metadata": {},
   "source": [
    "## Исследовательский анализ"
   ]
  },
  {
   "cell_type": "markdown",
   "id": "7b4ab56d",
   "metadata": {},
   "source": [
    "### Распределение по типам зданий"
   ]
  },
  {
   "cell_type": "markdown",
   "id": "d380e2ee",
   "metadata": {},
   "source": [
    "Отдел маркетинга планирует размещать рекламу на экране с выбором типа постройки. Посмотрим вообще какие типы построек у нас есть и как распределены по частоте встречаемости."
   ]
  },
  {
   "cell_type": "code",
   "execution_count": 22,
   "id": "f6955bcd",
   "metadata": {},
   "outputs": [
    {
     "data": {
      "image/png": "[encoded data removed]",
      "text/plain": [
       "<Figure size 1008x432 with 1 Axes>"
      ]
     },
     "metadata": {
      "needs_background": "light"
     },
     "output_type": "display_data"
    }
   ],
   "source": [
    "plt.figure(figsize=(14,6));\n",
    "ax = sns.barplot(\n",
    "    data = (game_actions.groupby('building_type', as_index=False)\n",
    "            .agg({'event_datetime':'count'})\n",
    "            .sort_values(by='event_datetime', ascending=False)\n",
    "           ),\n",
    "    x = 'building_type', y ='event_datetime');\n",
    "ax.bar_label(ax.containers[0], label_type = 'center');\n",
    "plt.xticks(rotation=0);\n",
    "plt.title('Количество событий по типам объектов');\n",
    "plt.xlabel('Количество событий');\n",
    "plt.ylabel('Тип объекта');\n",
    "plt.show();"
   ]
  },
  {
   "cell_type": "markdown",
   "id": "0df44178",
   "metadata": {},
   "source": [
    "Значит, чаще всего пользователи строят космопорт, а вот исследовательский центр менее популярен. Вероятно, исследовательский центр строят те пользователи, которые будут завершать уровень проектом (PvE игроки), поэтому такое небольшое количество. Посмотрим, верна ли эта теория: как распределены типы объектов в зависимости от типа игрока (PvP, PvE):"
   ]
  },
  {
   "cell_type": "code",
   "execution_count": 23,
   "id": "0ed4bd05",
   "metadata": {},
   "outputs": [
    {
     "data": {
      "text/plain": [
       "13576"
      ]
     },
     "execution_count": 23,
     "metadata": {},
     "output_type": "execute_result"
    }
   ],
   "source": [
    "# сохраним список игроков, которые завершили первый уровень, и тех, кто не завершил\n",
    "finished = game_actions.loc[game_actions['event'] == 'finished_stage_1']['user_id'].unique()\n",
    "not_finish = game_actions.loc[~(game_actions['user_id'].isin(finished))]['user_id'].unique()\n",
    "# проверим, все ли пользователи попали в списки\n",
    "len(finished) + len(not_finish)"
   ]
  },
  {
   "cell_type": "code",
   "execution_count": 24,
   "id": "fd5f3510",
   "metadata": {},
   "outputs": [
    {
     "data": {
      "text/plain": [
       "13576"
      ]
     },
     "execution_count": 24,
     "metadata": {},
     "output_type": "execute_result"
    }
   ],
   "source": [
    "# теперь сохраним список PvP и PvE игроков\n",
    "pve = game_actions.loc[game_actions['event'] == 'project']['user_id'].unique()\n",
    "pvp = game_actions.loc[~(game_actions['user_id'].isin(pve)) & (game_actions['user_id'].isin(finished))]['user_id'].unique()\n",
    "other = game_actions.loc[~(game_actions['user_id'].isin(pve)) & ~(game_actions['user_id'].isin(pvp))]['user_id'].unique()\n",
    "# проверии, все ли пользователи распределены\n",
    "len(pve) + len(pvp) + len(other)"
   ]
  },
  {
   "cell_type": "code",
   "execution_count": 25,
   "id": "d3b112e5",
   "metadata": {},
   "outputs": [
    {
     "data": {
      "image/png": "[encoded data removed]",
      "text/plain": [
       "<Figure size 1008x432 with 1 Axes>"
      ]
     },
     "metadata": {
      "needs_background": "light"
     },
     "output_type": "display_data"
    },
    {
     "data": {
      "image/png": "[encoded data removed]",
      "text/plain": [
       "<Figure size 1008x432 with 1 Axes>"
      ]
     },
     "metadata": {
      "needs_background": "light"
     },
     "output_type": "display_data"
    }
   ],
   "source": [
    "def build_type_visual (row, x, type_p):\n",
    "    plt.figure(figsize=(14,6));\n",
    "    ax = sns.barplot(\n",
    "        data = (game_actions.loc[game_actions['user_id'].isin(row)].groupby('building_type', as_index=False)\n",
    "                .agg({'event_datetime':'count'})\n",
    "                .sort_values(by='event_datetime', ascending=False)\n",
    "               ),\n",
    "        ax = plt.subplot(1,2,x),\n",
    "        x = 'building_type', y ='event_datetime');\n",
    "    ax.bar_label(ax.containers[0], label_type = 'center');\n",
    "    plt.xticks(rotation=0);\n",
    "    plt.title(f'Типы построенных объектов у {type_p} пользователей');\n",
    "    plt.xlabel('Количество событий');\n",
    "    plt.ylabel('Тип объекта');\n",
    "    plt.show();\n",
    "\n",
    "build_type_visual(pve, 1, 'PvE')\n",
    "build_type_visual(pvp, 2, 'PvP')"
   ]
  },
  {
   "cell_type": "markdown",
   "id": "86b03ad5",
   "metadata": {},
   "source": [
    "Распределение по популярности не отличается у разных типов игроков. Даже у тех, кто делает проект, исследовательские центры не в приоритете. Далее изучим количество строек на игрока, чтобы сделать более подробный вывод."
   ]
  },
  {
   "cell_type": "markdown",
   "id": "6d93cdf2",
   "metadata": {},
   "source": [
    "Теперь у нас есть айди пользователей по виду игры, по статутсу завершения, благодаря этому мы можем комбинировать и смотреть разные группы игроков. Например, тех, кто завершил уровень проектом, тех, кто делал проект, но не завершил уровень и тд."
   ]
  },
  {
   "cell_type": "code",
   "execution_count": 26,
   "id": "121a22a6",
   "metadata": {},
   "outputs": [
    {
     "data": {
      "image/png": "[encoded data removed]",
      "text/plain": [
       "<Figure size 1008x432 with 1 Axes>"
      ]
     },
     "metadata": {
      "needs_background": "light"
     },
     "output_type": "display_data"
    },
    {
     "data": {
      "image/png": "[encoded data removed]",
      "text/plain": [
       "<Figure size 1008x432 with 1 Axes>"
      ]
     },
     "metadata": {
      "needs_background": "light"
     },
     "output_type": "display_data"
    }
   ],
   "source": [
    "build_type_visual(not_finish, 1, 'не завершивших 1 уровень')\n",
    "build_type_visual(finished, 2, 'завершивших первый уровень')"
   ]
  },
  {
   "cell_type": "markdown",
   "id": "4af1e5d7",
   "metadata": {},
   "source": [
    "Как мы видим, каких-то значимых отличий в типах зданий у завершивших уровень нет. "
   ]
  },
  {
   "cell_type": "markdown",
   "id": "240021b0",
   "metadata": {},
   "source": [
    "**Вывод:** \\\n",
    "Было выявлено, что наибольшей популярностью обладает космопорт, чаще пользователи строят именно его. Хотя сборочный цех имеет лишь небольшое отставание. А вот реже всего игроки выбирают для постройки исследовательский центр. При этом каких-то отличий в выборе объекта у PvE и PvP игроков выявлено не было."
   ]
  },
  {
   "cell_type": "markdown",
   "id": "714b33b3",
   "metadata": {},
   "source": [
    "### Сколько строек приходится на пользователя?"
   ]
  },
  {
   "cell_type": "markdown",
   "id": "8fe1ae75",
   "metadata": {},
   "source": [
    "Чтобы примерно понимать, сколько раз пользователь может увидеть рекламный баннер, нужно посмотреть, сколько вообще строк приходится на пользователя (считаем, что каждая стройка сопровождается выбором объекта - соответственно, просмотром рекламы)."
   ]
  },
  {
   "cell_type": "code",
   "execution_count": 27,
   "id": "d22a79e1",
   "metadata": {},
   "outputs": [
    {
     "name": "stdout",
     "output_type": "stream",
     "text": [
      "Количество PvE игроков 1866, количество PvP игроков 3951\n",
      "Количество завершивших уровень 5817, а не завершивших 7759\n",
      "Количество завершивших проектом - PvE 1866\n",
      "Количество завершивших убийством врага - PvP 3951\n"
     ]
    }
   ],
   "source": [
    "# сначала выведем количество людей в наших сегментах\n",
    "print(f'Количество PvE игроков {len(pve)}, количество PvP игроков {len(pvp)}')\n",
    "print(f'Количество завершивших уровень {len(finished)}, а не завершивших {len(not_finish)}')\n",
    "pve_fin = game_actions.loc[(game_actions['user_id'].isin(pve)) \\\n",
    "                               & game_actions['user_id'].isin(finished)]['user_id'].unique()\n",
    "pvp_fin = game_actions.loc[(game_actions['user_id'].isin(pvp)) \\\n",
    "                               & game_actions['user_id'].isin(finished)]['user_id'].unique()\n",
    "print(f'Количество завершивших проектом - PvE {len(pve_fin)}')\n",
    "print(f'Количество завершивших убийством врага - PvP {len(pvp_fin)}')"
   ]
  },
  {
   "cell_type": "markdown",
   "id": "4daac3c9",
   "metadata": {},
   "source": [
    "Да, вполне логично, что те, кого мы отнесли к определенной категории - завершили уровень. Пользователи, которые распределены в список `other` пока не завершили уровень, поэтому мы не можем узнать их тип игры, ведь отдельно события \"убийство врага\" у нас нет."
   ]
  },
  {
   "cell_type": "code",
   "execution_count": 28,
   "id": "c8f2c240",
   "metadata": {},
   "outputs": [
    {
     "data": {
      "image/png": "[encoded data removed]",
      "text/plain": [
       "<Figure size 1008x432 with 1 Axes>"
      ]
     },
     "metadata": {
      "needs_background": "light"
     },
     "output_type": "display_data"
    }
   ],
   "source": [
    "# найдем сколько строит каждый пользователь\n",
    "def build_user(data):\n",
    "    plt.figure(figsize=(14,6));\n",
    "    build_user = (data\n",
    "                  .groupby('user_id', as_index=False)\n",
    "                  .agg({'event_datetime':'count'})\n",
    "                  .rename(columns={'event_datetime':'build_cnt'})\n",
    "                  .sort_values(by = 'build_cnt', ascending=False)\n",
    "                 )\n",
    "    return build_user\n",
    "build_all = build_user(game_actions.loc[game_actions['event'] == 'building'])\n",
    "sns.histplot(build_all, bins=10, kde=True);\n",
    "plt.title('Количество строек на пользователя');\n",
    "plt.xlabel('Количество строек');\n",
    "plt.ylabel('Частота');\n",
    "plt.show();"
   ]
  },
  {
   "cell_type": "markdown",
   "id": "fddc676a",
   "metadata": {},
   "source": [
    "На каждого пользователя приходится от 1 до 20 строек. Интересный провал наблюдается между 7 и 8 стройками. \\\n",
    "Найдем медианное число строек и перцентили."
   ]
  },
  {
   "cell_type": "code",
   "execution_count": 29,
   "id": "681e40e9",
   "metadata": {},
   "outputs": [
    {
     "name": "stdout",
     "output_type": "stream",
     "text": [
      "Медианное количество строек во всём датасете 10.0\n",
      "95 перцентиль = 16.0, 99 = 18.0\n"
     ]
    }
   ],
   "source": [
    "print(f'Медианное количество строек во всём датасете {build_all[\"build_cnt\"].median()}')\n",
    "print(f'95 перцентиль = {np.percentile(build_all[\"build_cnt\"], [95][0])}, \\\n",
    "99 = {np.percentile(build_all[\"build_cnt\"], [99][0])}')"
   ]
  },
  {
   "cell_type": "markdown",
   "id": "b2e9ebd3",
   "metadata": {},
   "source": [
    "Получается, большинство пользователей имеет по 10 построенных зданий. Значит, среднестатистический пользователь будет видеть рекламу 10 раз. Посмотрим теперь, изменится ли это число в зависимости от типа игрока."
   ]
  },
  {
   "cell_type": "code",
   "execution_count": 30,
   "id": "08520009",
   "metadata": {},
   "outputs": [
    {
     "data": {
      "text/plain": [
       "<Figure size 1008x432 with 0 Axes>"
      ]
     },
     "metadata": {},
     "output_type": "display_data"
    },
    {
     "data": {
      "image/png": "[encoded data removed]",
      "text/plain": [
       "<Figure size 1008x432 with 1 Axes>"
      ]
     },
     "metadata": {
      "needs_background": "light"
     },
     "output_type": "display_data"
    }
   ],
   "source": [
    "build_pve = build_user(game_actions.loc[(game_actions['event'] == 'building') & (game_actions['user_id'].isin(pve))])\n",
    "plt.figure(figsize=(14,6));\n",
    "sns.histplot(build_pve, bins=10, kde=True);\n",
    "plt.title('Количество строек на пользователя для PvE игроков');\n",
    "plt.xlabel('Количество строек');\n",
    "plt.ylabel('Частота');\n",
    "plt.show();"
   ]
  },
  {
   "cell_type": "code",
   "execution_count": 31,
   "id": "9bd42a53",
   "metadata": {},
   "outputs": [
    {
     "name": "stdout",
     "output_type": "stream",
     "text": [
      "Медианное количество строек среди PvE пользователей 12.0\n",
      "95 перцентиль = 17.0, 99 = 18.0\n"
     ]
    }
   ],
   "source": [
    "print(f'Медианное количество строек среди PvE пользователей {build_pve[\"build_cnt\"].median()}')\n",
    "print(f'95 перцентиль = {np.percentile(build_pve[\"build_cnt\"], [95][0])}, \\\n",
    "99 = {np.percentile(build_pve[\"build_cnt\"], [99][0])}')"
   ]
  },
  {
   "cell_type": "markdown",
   "id": "36b7f432",
   "metadata": {},
   "source": [
    "Количество зданий на PvE игроков варьируется от 10 до 20. При этом медианное количество выше, чем во всем датасете. \\\n",
    "Посмотрим, насколько активно строят объекты PvP игроки:"
   ]
  },
  {
   "cell_type": "code",
   "execution_count": 32,
   "id": "c5ce6844",
   "metadata": {},
   "outputs": [
    {
     "data": {
      "text/plain": [
       "<Figure size 1008x432 with 0 Axes>"
      ]
     },
     "metadata": {},
     "output_type": "display_data"
    },
    {
     "data": {
      "image/png": "[encoded data removed]",
      "text/plain": [
       "<Figure size 1008x432 with 1 Axes>"
      ]
     },
     "metadata": {
      "needs_background": "light"
     },
     "output_type": "display_data"
    }
   ],
   "source": [
    "build_pvp = build_user(game_actions.loc[(game_actions['event'] == 'building') & (game_actions['user_id'].isin(pvp))])\n",
    "plt.figure(figsize=(14,6));\n",
    "sns.histplot(build_pvp, bins=10, kde=True);\n",
    "plt.title('Количество строек на пользователя для PvP игроков');\n",
    "plt.xlabel('Количество строек');\n",
    "plt.ylabel('Частота');\n",
    "plt.show();"
   ]
  },
  {
   "cell_type": "code",
   "execution_count": 33,
   "id": "b5d6f08e",
   "metadata": {},
   "outputs": [
    {
     "name": "stdout",
     "output_type": "stream",
     "text": [
      "Медианное количество строек среди PvE пользователей 10.0\n",
      "95 перцентиль = 14.0, 99 = 16.0\n"
     ]
    }
   ],
   "source": [
    "print(f'Медианное количество строек среди PvE пользователей {build_pvp[\"build_cnt\"].median()}')\n",
    "print(f'95 перцентиль = {np.percentile(build_pvp[\"build_cnt\"], [95][0])}, \\\n",
    "99 = {np.percentile(build_pvp[\"build_cnt\"], [99][0])}')"
   ]
  },
  {
   "cell_type": "markdown",
   "id": "1f1b16e4",
   "metadata": {},
   "source": [
    "Больше 1000 PvP игроков строят менее 10 объектов, да и медианное количество строек на игрока меньше, чем у PvE игроков. Можем ли мы сказать, что PvE пользователи строят больше объектов? Проверим статистическую значимость. \\\n",
    "H0 - пользователи PvE и PvP строят одинаковое количество объектов \\\n",
    "H1 - пользвоатели строят разное количество объектов \\\n",
    "Уровень значимость 0.05\n",
    "\n",
    "Но перед этим проверим, нормально ли распределены выборки с помощью теста Шапиро-Уилка. Если p-value будет меньше 0.05 - выборки не нормальны."
   ]
  },
  {
   "cell_type": "code",
   "execution_count": 34,
   "id": "caa457a5",
   "metadata": {},
   "outputs": [
    {
     "name": "stdout",
     "output_type": "stream",
     "text": [
      "Распределение отличается от нормального\n"
     ]
    }
   ],
   "source": [
    "if st.shapiro(build_pve['build_cnt']).pvalue < 0.05:\n",
    "    print('Распределение отличается от нормального')\n",
    "else:\n",
    "    print('Распределение нормальное')"
   ]
  },
  {
   "cell_type": "code",
   "execution_count": 35,
   "id": "11ce0742",
   "metadata": {},
   "outputs": [
    {
     "name": "stdout",
     "output_type": "stream",
     "text": [
      "Распределение отличается от нормального\n"
     ]
    }
   ],
   "source": [
    "if st.shapiro(build_pvp['build_cnt']).pvalue < 0.05:\n",
    "    print('Распределение отличается от нормального')\n",
    "else:\n",
    "    print('Распределение нормальное')"
   ]
  },
  {
   "cell_type": "markdown",
   "id": "4436d011",
   "metadata": {},
   "source": [
    "Выборки распределены не нормально. Будем использовать критерий Манна-Уитни. Есть много споров в разных источниках об использовании данного критерия. Конечно, лучшим вариантом, наверное, был бы бутстрап-метод, но я пока недостаточно освоила его."
   ]
  },
  {
   "cell_type": "code",
   "execution_count": 36,
   "id": "acc36a94",
   "metadata": {},
   "outputs": [
    {
     "name": "stdout",
     "output_type": "stream",
     "text": [
      "Значение p-value: 5.211926275022306e-305\n",
      "Отвергаем нулевую гипотезу\n"
     ]
    }
   ],
   "source": [
    "alpha = 0.05 #критическое значение p-value\n",
    "result = st.mannwhitneyu(\n",
    "    build_pve['build_cnt'],\n",
    "    build_pvp['build_cnt'],\n",
    "    ) \n",
    "\n",
    "print('Значение p-value:', result.pvalue)\n",
    "\n",
    "#проверяем гипотезу: H0 - пользователи, которые завершили строят столько же зданий, сколько и не завершившие\n",
    "if result.pvalue < alpha:\n",
    "    print('Отвергаем нулевую гипотезу')\n",
    "else:\n",
    "    print('Не получилось отвергнуть нулевую гипотезу')"
   ]
  },
  {
   "cell_type": "markdown",
   "id": "ff06742e",
   "metadata": {},
   "source": [
    "Ага, значит PvE пользователи строят достоверно больше объектов."
   ]
  },
  {
   "cell_type": "markdown",
   "id": "526b913c",
   "metadata": {},
   "source": [
    "Теперь посмотрим, сколько строек совершают пользователи, завершившие первый уровень, и не завершившие. Здесь тоже должны быть отличия."
   ]
  },
  {
   "cell_type": "code",
   "execution_count": 37,
   "id": "d245588c",
   "metadata": {},
   "outputs": [
    {
     "data": {
      "text/plain": [
       "11.0"
      ]
     },
     "execution_count": 37,
     "metadata": {},
     "output_type": "execute_result"
    },
    {
     "data": {
      "text/plain": [
       "<Figure size 1008x432 with 0 Axes>"
      ]
     },
     "metadata": {},
     "output_type": "display_data"
    }
   ],
   "source": [
    "build_finish = build_user(game_actions.loc[(game_actions['event'] == 'building') & (game_actions['user_id'].isin(finished))])\n",
    "build_finish['build_cnt'].median()"
   ]
  },
  {
   "cell_type": "code",
   "execution_count": 38,
   "id": "def901c4",
   "metadata": {},
   "outputs": [
    {
     "data": {
      "text/plain": [
       "8.0"
      ]
     },
     "execution_count": 38,
     "metadata": {},
     "output_type": "execute_result"
    },
    {
     "data": {
      "text/plain": [
       "<Figure size 1008x432 with 0 Axes>"
      ]
     },
     "metadata": {},
     "output_type": "display_data"
    }
   ],
   "source": [
    "build_not_finish = build_user(game_actions.loc[(game_actions['event'] == 'building') & (game_actions['user_id'].isin(not_finish))])\n",
    "build_not_finish['build_cnt'].median()"
   ]
  },
  {
   "cell_type": "markdown",
   "id": "e83cfe88",
   "metadata": {},
   "source": [
    "Да, медианное количество зданий у тех, кто не завершил уровень ниже. Но посмотрим, значимо ли это отличие. \\\n",
    "H0 - среднее количество строек на пользователя среди завершивших и не завершивших уровень одинаково \\\n",
    "H1 - среднее количество строек на пользователей разнится в зависимости от статуса завершения уровня\n",
    "Уровень значимости 0.05\n",
    "\n",
    "Но перед этим проверим, нормально ли распределены выборки с помощью теста Шапиро-Уилка. Если p-value будет меньше 0.05 - выборки не нормальны."
   ]
  },
  {
   "cell_type": "code",
   "execution_count": 39,
   "id": "b047c6ec",
   "metadata": {},
   "outputs": [
    {
     "name": "stdout",
     "output_type": "stream",
     "text": [
      "Распределение отличается от нормального\n"
     ]
    }
   ],
   "source": [
    "if st.shapiro(build_finish['build_cnt']).pvalue < 0.05:\n",
    "    print('Распределение отличается от нормального')\n",
    "else:\n",
    "    print('Распределение нормальное')"
   ]
  },
  {
   "cell_type": "code",
   "execution_count": 40,
   "id": "97455b5b",
   "metadata": {},
   "outputs": [
    {
     "name": "stdout",
     "output_type": "stream",
     "text": [
      "Распределение отличается от нормального\n"
     ]
    }
   ],
   "source": [
    "if st.shapiro(build_not_finish['build_cnt']).pvalue < 0.05:\n",
    "    print('Распределение отличается от нормального')\n",
    "else:\n",
    "    print('Распределение нормальное')"
   ]
  },
  {
   "cell_type": "markdown",
   "id": "084f3fa3",
   "metadata": {},
   "source": [
    "Выборки распределены не нормально. Снова используем критерий Манна-Уитни. "
   ]
  },
  {
   "cell_type": "code",
   "execution_count": 41,
   "id": "d5f06c75",
   "metadata": {},
   "outputs": [
    {
     "name": "stdout",
     "output_type": "stream",
     "text": [
      "Значение p-value: 1.6927051876296536e-161\n",
      "Отвергаем нулевую гипотезу\n"
     ]
    }
   ],
   "source": [
    "alpha = 0.05 #критическое значение p-value\n",
    "result = st.mannwhitneyu(\n",
    "    build_finish['build_cnt'],\n",
    "    build_not_finish['build_cnt'],\n",
    "    ) \n",
    "\n",
    "print('Значение p-value:', result.pvalue)\n",
    "\n",
    "#проверяем гипотезу: H0 - пользователи, которые завершили строят столько же зданий, сколько и не завершившие\n",
    "if result.pvalue < alpha:\n",
    "    print('Отвергаем нулевую гипотезу')\n",
    "else:\n",
    "    print('Не получилось отвергнуть нулевую гипотезу')        "
   ]
  },
  {
   "cell_type": "markdown",
   "id": "d7655bbd",
   "metadata": {},
   "source": [
    "Да, действительно, статистически значимо незавершившие уровень строят меньше зданий, что и следовало ожидать."
   ]
  },
  {
   "cell_type": "markdown",
   "id": "0ed34968",
   "metadata": {},
   "source": [
    "**Вывод:** \\\n",
    "В среднем пользователи совершают от 1 до 20 построек. Медианное количество строек на человека - 10. При этом PvE игроки строят достоверно больше объектов, чем PvP, медианное количество  - 12 строек. \\\n",
    "Среди тех, кто не завершил уровень, медианное количество строек на человека равно 8. При этом они достоверно меньше объектов строят, чем те, кто завершил уровень. \\\n",
    "Понимание того, сколько вообще построек делают игроки поможет нам лучше сформировать план показа рекламы в дальнейшем."
   ]
  },
  {
   "cell_type": "markdown",
   "id": "28c8e675",
   "metadata": {},
   "source": [
    "### Изучение времени прохождения первого уровня"
   ]
  },
  {
   "cell_type": "markdown",
   "id": "2cbe6ef0",
   "metadata": {},
   "source": [
    "Посмотрим, какая доля пользователей завершила первый уровень за этот месяц."
   ]
  },
  {
   "cell_type": "code",
   "execution_count": 42,
   "id": "cf3440ea",
   "metadata": {},
   "outputs": [
    {
     "data": {
      "image/png": "[encoded data removed]",
      "text/plain": [
       "<Figure size 1008x432 with 1 Axes>"
      ]
     },
     "metadata": {},
     "output_type": "display_data"
    }
   ],
   "source": [
    "x = ['Завершили уровень', 'Не завершили уровень']\n",
    "y = [len(finished), len(not_finish)]\n",
    "plt.figure(figsize=(14,6));\n",
    "plt.pie(y, labels=x, \n",
    "        autopct='%1.1f%%',\n",
    "        shadow=True,\n",
    "        explode=(0.1,0));\n",
    "plt.title('Соотношение завершивших и незавершивших 1-ый уровень');\n",
    "plt.show();"
   ]
  },
  {
   "cell_type": "markdown",
   "id": "ee438c1f",
   "metadata": {},
   "source": [
    "Довольно большой процент пользователей завершил уровень. Однако более половины всё еще проходят 1-ый уровень или вовсе забросили игру."
   ]
  },
  {
   "cell_type": "markdown",
   "id": "ce039f92",
   "metadata": {},
   "source": [
    "Изучим время прохождения уровня у разных сегментов пользователей."
   ]
  },
  {
   "cell_type": "code",
   "execution_count": 43,
   "id": "0383cb06",
   "metadata": {},
   "outputs": [
    {
     "data": {
      "text/html": [
       "<div>\n",
       "<style scoped>\n",
       "    .dataframe tbody tr th:only-of-type {\n",
       "        vertical-align: middle;\n",
       "    }\n",
       "\n",
       "    .dataframe tbody tr th {\n",
       "        vertical-align: top;\n",
       "    }\n",
       "\n",
       "    .dataframe thead th {\n",
       "        text-align: right;\n",
       "    }\n",
       "</style>\n",
       "<table border=\"1\" class=\"dataframe\">\n",
       "  <thead>\n",
       "    <tr style=\"text-align: right;\">\n",
       "      <th></th>\n",
       "      <th>user_id</th>\n",
       "      <th>first_dt</th>\n",
       "      <th>first_event</th>\n",
       "      <th>building_type</th>\n",
       "      <th>project_type</th>\n",
       "    </tr>\n",
       "  </thead>\n",
       "  <tbody>\n",
       "    <tr>\n",
       "      <th>0</th>\n",
       "      <td>0001f83c-c6ac-4621-b7f0-8a28b283ac30</td>\n",
       "      <td>2020-05-06 01:07:37</td>\n",
       "      <td>building</td>\n",
       "      <td>assembly_shop</td>\n",
       "      <td>None</td>\n",
       "    </tr>\n",
       "    <tr>\n",
       "      <th>1</th>\n",
       "      <td>00151b4f-ba38-44a8-a650-d7cf130a0105</td>\n",
       "      <td>2020-05-06 03:09:12</td>\n",
       "      <td>building</td>\n",
       "      <td>assembly_shop</td>\n",
       "      <td>None</td>\n",
       "    </tr>\n",
       "    <tr>\n",
       "      <th>2</th>\n",
       "      <td>001aaea6-3d14-43f1-8ca8-7f48820f17aa</td>\n",
       "      <td>2020-05-05 18:08:52</td>\n",
       "      <td>building</td>\n",
       "      <td>assembly_shop</td>\n",
       "      <td>None</td>\n",
       "    </tr>\n",
       "    <tr>\n",
       "      <th>3</th>\n",
       "      <td>001d39dc-366c-4021-9604-6a3b9ff01e25</td>\n",
       "      <td>2020-05-05 21:02:05</td>\n",
       "      <td>building</td>\n",
       "      <td>assembly_shop</td>\n",
       "      <td>None</td>\n",
       "    </tr>\n",
       "    <tr>\n",
       "      <th>4</th>\n",
       "      <td>002f508f-67b6-479f-814b-b05f00d4e995</td>\n",
       "      <td>2020-05-05 13:49:58</td>\n",
       "      <td>building</td>\n",
       "      <td>assembly_shop</td>\n",
       "      <td>None</td>\n",
       "    </tr>\n",
       "    <tr>\n",
       "      <th>...</th>\n",
       "      <td>...</td>\n",
       "      <td>...</td>\n",
       "      <td>...</td>\n",
       "      <td>...</td>\n",
       "      <td>...</td>\n",
       "    </tr>\n",
       "    <tr>\n",
       "      <th>13571</th>\n",
       "      <td>ffef4fed-164c-40e1-bde1-3980f76d0fb5</td>\n",
       "      <td>2020-05-04 01:58:59</td>\n",
       "      <td>building</td>\n",
       "      <td>assembly_shop</td>\n",
       "      <td>None</td>\n",
       "    </tr>\n",
       "    <tr>\n",
       "      <th>13572</th>\n",
       "      <td>fffab3da-da0e-4e30-ae62-10d0a2e24a4e</td>\n",
       "      <td>2020-05-04 11:58:14</td>\n",
       "      <td>building</td>\n",
       "      <td>assembly_shop</td>\n",
       "      <td>None</td>\n",
       "    </tr>\n",
       "    <tr>\n",
       "      <th>13573</th>\n",
       "      <td>fffb626c-5ab6-47c9-8113-2062a2f18494</td>\n",
       "      <td>2020-05-04 02:05:09</td>\n",
       "      <td>building</td>\n",
       "      <td>assembly_shop</td>\n",
       "      <td>None</td>\n",
       "    </tr>\n",
       "    <tr>\n",
       "      <th>13574</th>\n",
       "      <td>ffff194a-56b7-4c12-860d-3485242ae7f5</td>\n",
       "      <td>2020-05-04 20:28:28</td>\n",
       "      <td>building</td>\n",
       "      <td>assembly_shop</td>\n",
       "      <td>None</td>\n",
       "    </tr>\n",
       "    <tr>\n",
       "      <th>13575</th>\n",
       "      <td>ffff69cc-fec1-4fd3-9f98-93be1112a6b8</td>\n",
       "      <td>2020-05-08 06:57:30</td>\n",
       "      <td>building</td>\n",
       "      <td>assembly_shop</td>\n",
       "      <td>satellite_orbital_assembly</td>\n",
       "    </tr>\n",
       "  </tbody>\n",
       "</table>\n",
       "<p>13576 rows × 5 columns</p>\n",
       "</div>"
      ],
      "text/plain": [
       "                                    user_id            first_dt first_event  \\\n",
       "0      0001f83c-c6ac-4621-b7f0-8a28b283ac30 2020-05-06 01:07:37    building   \n",
       "1      00151b4f-ba38-44a8-a650-d7cf130a0105 2020-05-06 03:09:12    building   \n",
       "2      001aaea6-3d14-43f1-8ca8-7f48820f17aa 2020-05-05 18:08:52    building   \n",
       "3      001d39dc-366c-4021-9604-6a3b9ff01e25 2020-05-05 21:02:05    building   \n",
       "4      002f508f-67b6-479f-814b-b05f00d4e995 2020-05-05 13:49:58    building   \n",
       "...                                     ...                 ...         ...   \n",
       "13571  ffef4fed-164c-40e1-bde1-3980f76d0fb5 2020-05-04 01:58:59    building   \n",
       "13572  fffab3da-da0e-4e30-ae62-10d0a2e24a4e 2020-05-04 11:58:14    building   \n",
       "13573  fffb626c-5ab6-47c9-8113-2062a2f18494 2020-05-04 02:05:09    building   \n",
       "13574  ffff194a-56b7-4c12-860d-3485242ae7f5 2020-05-04 20:28:28    building   \n",
       "13575  ffff69cc-fec1-4fd3-9f98-93be1112a6b8 2020-05-08 06:57:30    building   \n",
       "\n",
       "       building_type                project_type  \n",
       "0      assembly_shop                        None  \n",
       "1      assembly_shop                        None  \n",
       "2      assembly_shop                        None  \n",
       "3      assembly_shop                        None  \n",
       "4      assembly_shop                        None  \n",
       "...              ...                         ...  \n",
       "13571  assembly_shop                        None  \n",
       "13572  assembly_shop                        None  \n",
       "13573  assembly_shop                        None  \n",
       "13574  assembly_shop                        None  \n",
       "13575  assembly_shop  satellite_orbital_assembly  \n",
       "\n",
       "[13576 rows x 5 columns]"
      ]
     },
     "execution_count": 43,
     "metadata": {},
     "output_type": "execute_result"
    }
   ],
   "source": [
    "# найдем время первого события у каждого пользователя\n",
    "first_events = (game_actions.sort_values(by=['user_id', 'event_datetime'])\n",
    "                .groupby('user_id', as_index=False)\n",
    "                .agg({'event_datetime':'first',\n",
    "                     'event':'first',\n",
    "                     'building_type':'first',\n",
    "                     'project_type':'first'\n",
    "                     })\n",
    "                .rename(columns={'event_datetime':'first_dt', 'event':'first_event'})\n",
    "               )\n",
    "first_events"
   ]
  },
  {
   "cell_type": "code",
   "execution_count": 44,
   "id": "ea94de26",
   "metadata": {},
   "outputs": [
    {
     "data": {
      "text/html": [
       "<div>\n",
       "<style scoped>\n",
       "    .dataframe tbody tr th:only-of-type {\n",
       "        vertical-align: middle;\n",
       "    }\n",
       "\n",
       "    .dataframe tbody tr th {\n",
       "        vertical-align: top;\n",
       "    }\n",
       "\n",
       "    .dataframe thead th {\n",
       "        text-align: right;\n",
       "    }\n",
       "</style>\n",
       "<table border=\"1\" class=\"dataframe\">\n",
       "  <thead>\n",
       "    <tr style=\"text-align: right;\">\n",
       "      <th></th>\n",
       "      <th>user_id</th>\n",
       "      <th>first_dt</th>\n",
       "      <th>first_event</th>\n",
       "      <th>building_type</th>\n",
       "      <th>project_type</th>\n",
       "      <th>last_dt</th>\n",
       "      <th>last_event</th>\n",
       "    </tr>\n",
       "  </thead>\n",
       "  <tbody>\n",
       "    <tr>\n",
       "      <th>3</th>\n",
       "      <td>001d39dc-366c-4021-9604-6a3b9ff01e25</td>\n",
       "      <td>2020-05-05 21:02:05</td>\n",
       "      <td>building</td>\n",
       "      <td>assembly_shop</td>\n",
       "      <td>None</td>\n",
       "      <td>2020-05-12 07:40:47</td>\n",
       "      <td>finished_stage_1</td>\n",
       "    </tr>\n",
       "    <tr>\n",
       "      <th>6</th>\n",
       "      <td>003ee7e8-6356-4286-a715-62f22a18d2a1</td>\n",
       "      <td>2020-05-05 08:31:04</td>\n",
       "      <td>building</td>\n",
       "      <td>assembly_shop</td>\n",
       "      <td>None</td>\n",
       "      <td>2020-05-17 21:47:49</td>\n",
       "      <td>finished_stage_1</td>\n",
       "    </tr>\n",
       "    <tr>\n",
       "      <th>7</th>\n",
       "      <td>004074f8-251a-4776-922c-8348dca1a2f6</td>\n",
       "      <td>2020-05-04 01:07:35</td>\n",
       "      <td>building</td>\n",
       "      <td>assembly_shop</td>\n",
       "      <td>None</td>\n",
       "      <td>2020-05-16 19:57:40</td>\n",
       "      <td>finished_stage_1</td>\n",
       "    </tr>\n",
       "    <tr>\n",
       "      <th>9</th>\n",
       "      <td>00464e5e-28ed-4be6-bf44-517ef7b3937b</td>\n",
       "      <td>2020-05-04 08:35:29</td>\n",
       "      <td>building</td>\n",
       "      <td>assembly_shop</td>\n",
       "      <td>None</td>\n",
       "      <td>2020-05-15 16:02:01</td>\n",
       "      <td>finished_stage_1</td>\n",
       "    </tr>\n",
       "    <tr>\n",
       "      <th>10</th>\n",
       "      <td>0056c007-c082-43cc-bdef-afc49bca4cb9</td>\n",
       "      <td>2020-05-10 11:49:47</td>\n",
       "      <td>building</td>\n",
       "      <td>assembly_shop</td>\n",
       "      <td>None</td>\n",
       "      <td>2020-05-16 13:48:39</td>\n",
       "      <td>finished_stage_1</td>\n",
       "    </tr>\n",
       "    <tr>\n",
       "      <th>...</th>\n",
       "      <td>...</td>\n",
       "      <td>...</td>\n",
       "      <td>...</td>\n",
       "      <td>...</td>\n",
       "      <td>...</td>\n",
       "      <td>...</td>\n",
       "      <td>...</td>\n",
       "    </tr>\n",
       "    <tr>\n",
       "      <th>13568</th>\n",
       "      <td>ffd002f3-3545-423e-8dba-0c6a2d48a3aa</td>\n",
       "      <td>2020-05-06 06:34:18</td>\n",
       "      <td>building</td>\n",
       "      <td>assembly_shop</td>\n",
       "      <td>None</td>\n",
       "      <td>2020-05-19 04:03:24</td>\n",
       "      <td>finished_stage_1</td>\n",
       "    </tr>\n",
       "    <tr>\n",
       "      <th>13570</th>\n",
       "      <td>ffe810f4-1a1f-464b-924d-6f120b0cb8df</td>\n",
       "      <td>2020-05-04 17:46:05</td>\n",
       "      <td>building</td>\n",
       "      <td>assembly_shop</td>\n",
       "      <td>None</td>\n",
       "      <td>2020-05-18 02:03:36</td>\n",
       "      <td>finished_stage_1</td>\n",
       "    </tr>\n",
       "    <tr>\n",
       "      <th>13571</th>\n",
       "      <td>ffef4fed-164c-40e1-bde1-3980f76d0fb5</td>\n",
       "      <td>2020-05-04 01:58:59</td>\n",
       "      <td>building</td>\n",
       "      <td>assembly_shop</td>\n",
       "      <td>None</td>\n",
       "      <td>2020-05-11 22:15:54</td>\n",
       "      <td>finished_stage_1</td>\n",
       "    </tr>\n",
       "    <tr>\n",
       "      <th>13573</th>\n",
       "      <td>fffb626c-5ab6-47c9-8113-2062a2f18494</td>\n",
       "      <td>2020-05-04 02:05:09</td>\n",
       "      <td>building</td>\n",
       "      <td>assembly_shop</td>\n",
       "      <td>None</td>\n",
       "      <td>2020-05-12 13:01:52</td>\n",
       "      <td>finished_stage_1</td>\n",
       "    </tr>\n",
       "    <tr>\n",
       "      <th>13575</th>\n",
       "      <td>ffff69cc-fec1-4fd3-9f98-93be1112a6b8</td>\n",
       "      <td>2020-05-08 06:57:30</td>\n",
       "      <td>building</td>\n",
       "      <td>assembly_shop</td>\n",
       "      <td>satellite_orbital_assembly</td>\n",
       "      <td>2020-05-25 14:05:51</td>\n",
       "      <td>finished_stage_1</td>\n",
       "    </tr>\n",
       "  </tbody>\n",
       "</table>\n",
       "<p>5817 rows × 7 columns</p>\n",
       "</div>"
      ],
      "text/plain": [
       "                                    user_id            first_dt first_event  \\\n",
       "3      001d39dc-366c-4021-9604-6a3b9ff01e25 2020-05-05 21:02:05    building   \n",
       "6      003ee7e8-6356-4286-a715-62f22a18d2a1 2020-05-05 08:31:04    building   \n",
       "7      004074f8-251a-4776-922c-8348dca1a2f6 2020-05-04 01:07:35    building   \n",
       "9      00464e5e-28ed-4be6-bf44-517ef7b3937b 2020-05-04 08:35:29    building   \n",
       "10     0056c007-c082-43cc-bdef-afc49bca4cb9 2020-05-10 11:49:47    building   \n",
       "...                                     ...                 ...         ...   \n",
       "13568  ffd002f3-3545-423e-8dba-0c6a2d48a3aa 2020-05-06 06:34:18    building   \n",
       "13570  ffe810f4-1a1f-464b-924d-6f120b0cb8df 2020-05-04 17:46:05    building   \n",
       "13571  ffef4fed-164c-40e1-bde1-3980f76d0fb5 2020-05-04 01:58:59    building   \n",
       "13573  fffb626c-5ab6-47c9-8113-2062a2f18494 2020-05-04 02:05:09    building   \n",
       "13575  ffff69cc-fec1-4fd3-9f98-93be1112a6b8 2020-05-08 06:57:30    building   \n",
       "\n",
       "       building_type                project_type             last_dt  \\\n",
       "3      assembly_shop                        None 2020-05-12 07:40:47   \n",
       "6      assembly_shop                        None 2020-05-17 21:47:49   \n",
       "7      assembly_shop                        None 2020-05-16 19:57:40   \n",
       "9      assembly_shop                        None 2020-05-15 16:02:01   \n",
       "10     assembly_shop                        None 2020-05-16 13:48:39   \n",
       "...              ...                         ...                 ...   \n",
       "13568  assembly_shop                        None 2020-05-19 04:03:24   \n",
       "13570  assembly_shop                        None 2020-05-18 02:03:36   \n",
       "13571  assembly_shop                        None 2020-05-11 22:15:54   \n",
       "13573  assembly_shop                        None 2020-05-12 13:01:52   \n",
       "13575  assembly_shop  satellite_orbital_assembly 2020-05-25 14:05:51   \n",
       "\n",
       "             last_event  \n",
       "3      finished_stage_1  \n",
       "6      finished_stage_1  \n",
       "7      finished_stage_1  \n",
       "9      finished_stage_1  \n",
       "10     finished_stage_1  \n",
       "...                 ...  \n",
       "13568  finished_stage_1  \n",
       "13570  finished_stage_1  \n",
       "13571  finished_stage_1  \n",
       "13573  finished_stage_1  \n",
       "13575  finished_stage_1  \n",
       "\n",
       "[5817 rows x 7 columns]"
      ]
     },
     "execution_count": 44,
     "metadata": {},
     "output_type": "execute_result"
    }
   ],
   "source": [
    "# и теперь получим время последнего события\n",
    "last_events = (game_actions.sort_values(by=['user_id', 'event_datetime'])\n",
    "                .groupby('user_id', as_index=False)\n",
    "                .agg({'event_datetime':'last',\n",
    "                     'event':'last',\n",
    "                     'building_type':'last',\n",
    "                     'project_type':'last'\n",
    "                     })\n",
    "                .rename(columns={'event_datetime':'last_dt', 'event':'last_event'})\n",
    "               )\n",
    "# объединим таблицы с первым и последним событием\n",
    "events_user = first_events.merge(last_events[['user_id', 'last_dt', 'last_event']])\n",
    "# отфильтуруем тех, кто закончил первый уровень\n",
    "events_user.loc[events_user['last_event'] == 'finished_stage_1']"
   ]
  },
  {
   "cell_type": "code",
   "execution_count": 45,
   "id": "ef7c1d9f",
   "metadata": {},
   "outputs": [
    {
     "data": {
      "text/html": [
       "<div>\n",
       "<style scoped>\n",
       "    .dataframe tbody tr th:only-of-type {\n",
       "        vertical-align: middle;\n",
       "    }\n",
       "\n",
       "    .dataframe tbody tr th {\n",
       "        vertical-align: top;\n",
       "    }\n",
       "\n",
       "    .dataframe thead th {\n",
       "        text-align: right;\n",
       "    }\n",
       "</style>\n",
       "<table border=\"1\" class=\"dataframe\">\n",
       "  <thead>\n",
       "    <tr style=\"text-align: right;\">\n",
       "      <th></th>\n",
       "      <th>user_id</th>\n",
       "      <th>first_dt</th>\n",
       "      <th>first_event</th>\n",
       "      <th>building_type</th>\n",
       "      <th>project_type</th>\n",
       "      <th>last_dt</th>\n",
       "      <th>last_event</th>\n",
       "      <th>diff_dt</th>\n",
       "    </tr>\n",
       "  </thead>\n",
       "  <tbody>\n",
       "    <tr>\n",
       "      <th>3</th>\n",
       "      <td>001d39dc-366c-4021-9604-6a3b9ff01e25</td>\n",
       "      <td>2020-05-05 21:02:05</td>\n",
       "      <td>building</td>\n",
       "      <td>assembly_shop</td>\n",
       "      <td>None</td>\n",
       "      <td>2020-05-12 07:40:47</td>\n",
       "      <td>finished_stage_1</td>\n",
       "      <td>6</td>\n",
       "    </tr>\n",
       "    <tr>\n",
       "      <th>6</th>\n",
       "      <td>003ee7e8-6356-4286-a715-62f22a18d2a1</td>\n",
       "      <td>2020-05-05 08:31:04</td>\n",
       "      <td>building</td>\n",
       "      <td>assembly_shop</td>\n",
       "      <td>None</td>\n",
       "      <td>2020-05-17 21:47:49</td>\n",
       "      <td>finished_stage_1</td>\n",
       "      <td>12</td>\n",
       "    </tr>\n",
       "    <tr>\n",
       "      <th>7</th>\n",
       "      <td>004074f8-251a-4776-922c-8348dca1a2f6</td>\n",
       "      <td>2020-05-04 01:07:35</td>\n",
       "      <td>building</td>\n",
       "      <td>assembly_shop</td>\n",
       "      <td>None</td>\n",
       "      <td>2020-05-16 19:57:40</td>\n",
       "      <td>finished_stage_1</td>\n",
       "      <td>12</td>\n",
       "    </tr>\n",
       "    <tr>\n",
       "      <th>9</th>\n",
       "      <td>00464e5e-28ed-4be6-bf44-517ef7b3937b</td>\n",
       "      <td>2020-05-04 08:35:29</td>\n",
       "      <td>building</td>\n",
       "      <td>assembly_shop</td>\n",
       "      <td>None</td>\n",
       "      <td>2020-05-15 16:02:01</td>\n",
       "      <td>finished_stage_1</td>\n",
       "      <td>11</td>\n",
       "    </tr>\n",
       "    <tr>\n",
       "      <th>10</th>\n",
       "      <td>0056c007-c082-43cc-bdef-afc49bca4cb9</td>\n",
       "      <td>2020-05-10 11:49:47</td>\n",
       "      <td>building</td>\n",
       "      <td>assembly_shop</td>\n",
       "      <td>None</td>\n",
       "      <td>2020-05-16 13:48:39</td>\n",
       "      <td>finished_stage_1</td>\n",
       "      <td>6</td>\n",
       "    </tr>\n",
       "    <tr>\n",
       "      <th>...</th>\n",
       "      <td>...</td>\n",
       "      <td>...</td>\n",
       "      <td>...</td>\n",
       "      <td>...</td>\n",
       "      <td>...</td>\n",
       "      <td>...</td>\n",
       "      <td>...</td>\n",
       "      <td>...</td>\n",
       "    </tr>\n",
       "    <tr>\n",
       "      <th>13568</th>\n",
       "      <td>ffd002f3-3545-423e-8dba-0c6a2d48a3aa</td>\n",
       "      <td>2020-05-06 06:34:18</td>\n",
       "      <td>building</td>\n",
       "      <td>assembly_shop</td>\n",
       "      <td>None</td>\n",
       "      <td>2020-05-19 04:03:24</td>\n",
       "      <td>finished_stage_1</td>\n",
       "      <td>12</td>\n",
       "    </tr>\n",
       "    <tr>\n",
       "      <th>13570</th>\n",
       "      <td>ffe810f4-1a1f-464b-924d-6f120b0cb8df</td>\n",
       "      <td>2020-05-04 17:46:05</td>\n",
       "      <td>building</td>\n",
       "      <td>assembly_shop</td>\n",
       "      <td>None</td>\n",
       "      <td>2020-05-18 02:03:36</td>\n",
       "      <td>finished_stage_1</td>\n",
       "      <td>13</td>\n",
       "    </tr>\n",
       "    <tr>\n",
       "      <th>13571</th>\n",
       "      <td>ffef4fed-164c-40e1-bde1-3980f76d0fb5</td>\n",
       "      <td>2020-05-04 01:58:59</td>\n",
       "      <td>building</td>\n",
       "      <td>assembly_shop</td>\n",
       "      <td>None</td>\n",
       "      <td>2020-05-11 22:15:54</td>\n",
       "      <td>finished_stage_1</td>\n",
       "      <td>7</td>\n",
       "    </tr>\n",
       "    <tr>\n",
       "      <th>13573</th>\n",
       "      <td>fffb626c-5ab6-47c9-8113-2062a2f18494</td>\n",
       "      <td>2020-05-04 02:05:09</td>\n",
       "      <td>building</td>\n",
       "      <td>assembly_shop</td>\n",
       "      <td>None</td>\n",
       "      <td>2020-05-12 13:01:52</td>\n",
       "      <td>finished_stage_1</td>\n",
       "      <td>8</td>\n",
       "    </tr>\n",
       "    <tr>\n",
       "      <th>13575</th>\n",
       "      <td>ffff69cc-fec1-4fd3-9f98-93be1112a6b8</td>\n",
       "      <td>2020-05-08 06:57:30</td>\n",
       "      <td>building</td>\n",
       "      <td>assembly_shop</td>\n",
       "      <td>satellite_orbital_assembly</td>\n",
       "      <td>2020-05-25 14:05:51</td>\n",
       "      <td>finished_stage_1</td>\n",
       "      <td>17</td>\n",
       "    </tr>\n",
       "  </tbody>\n",
       "</table>\n",
       "<p>5817 rows × 8 columns</p>\n",
       "</div>"
      ],
      "text/plain": [
       "                                    user_id            first_dt first_event  \\\n",
       "3      001d39dc-366c-4021-9604-6a3b9ff01e25 2020-05-05 21:02:05    building   \n",
       "6      003ee7e8-6356-4286-a715-62f22a18d2a1 2020-05-05 08:31:04    building   \n",
       "7      004074f8-251a-4776-922c-8348dca1a2f6 2020-05-04 01:07:35    building   \n",
       "9      00464e5e-28ed-4be6-bf44-517ef7b3937b 2020-05-04 08:35:29    building   \n",
       "10     0056c007-c082-43cc-bdef-afc49bca4cb9 2020-05-10 11:49:47    building   \n",
       "...                                     ...                 ...         ...   \n",
       "13568  ffd002f3-3545-423e-8dba-0c6a2d48a3aa 2020-05-06 06:34:18    building   \n",
       "13570  ffe810f4-1a1f-464b-924d-6f120b0cb8df 2020-05-04 17:46:05    building   \n",
       "13571  ffef4fed-164c-40e1-bde1-3980f76d0fb5 2020-05-04 01:58:59    building   \n",
       "13573  fffb626c-5ab6-47c9-8113-2062a2f18494 2020-05-04 02:05:09    building   \n",
       "13575  ffff69cc-fec1-4fd3-9f98-93be1112a6b8 2020-05-08 06:57:30    building   \n",
       "\n",
       "       building_type                project_type             last_dt  \\\n",
       "3      assembly_shop                        None 2020-05-12 07:40:47   \n",
       "6      assembly_shop                        None 2020-05-17 21:47:49   \n",
       "7      assembly_shop                        None 2020-05-16 19:57:40   \n",
       "9      assembly_shop                        None 2020-05-15 16:02:01   \n",
       "10     assembly_shop                        None 2020-05-16 13:48:39   \n",
       "...              ...                         ...                 ...   \n",
       "13568  assembly_shop                        None 2020-05-19 04:03:24   \n",
       "13570  assembly_shop                        None 2020-05-18 02:03:36   \n",
       "13571  assembly_shop                        None 2020-05-11 22:15:54   \n",
       "13573  assembly_shop                        None 2020-05-12 13:01:52   \n",
       "13575  assembly_shop  satellite_orbital_assembly 2020-05-25 14:05:51   \n",
       "\n",
       "             last_event  diff_dt  \n",
       "3      finished_stage_1        6  \n",
       "6      finished_stage_1       12  \n",
       "7      finished_stage_1       12  \n",
       "9      finished_stage_1       11  \n",
       "10     finished_stage_1        6  \n",
       "...                 ...      ...  \n",
       "13568  finished_stage_1       12  \n",
       "13570  finished_stage_1       13  \n",
       "13571  finished_stage_1        7  \n",
       "13573  finished_stage_1        8  \n",
       "13575  finished_stage_1       17  \n",
       "\n",
       "[5817 rows x 8 columns]"
      ]
     },
     "execution_count": 45,
     "metadata": {},
     "output_type": "execute_result"
    }
   ],
   "source": [
    "# теперь найдем разницу между первым и последним событием в днях\n",
    "events_user['diff_dt'] = (events_user['last_dt'] - events_user['first_dt']).dt.days\n",
    "events_user.loc[events_user['last_event'] == 'finished_stage_1']"
   ]
  },
  {
   "cell_type": "code",
   "execution_count": 46,
   "id": "fe802f63",
   "metadata": {},
   "outputs": [
    {
     "data": {
      "image/png": "[encoded data removed]",
      "text/plain": [
       "<Figure size 1008x432 with 1 Axes>"
      ]
     },
     "metadata": {
      "needs_background": "light"
     },
     "output_type": "display_data"
    }
   ],
   "source": [
    "# посмотрим распределение времени прохождения уровня\n",
    "plt.figure(figsize=(14,6));\n",
    "sns.histplot(events_user.loc[events_user['last_event'] == 'finished_stage_1']['diff_dt'], bins=10, kde=True);\n",
    "plt.title('Время прохождения 1-го уровня в днях');\n",
    "plt.xlabel('Количество дней');\n",
    "plt.ylabel('Частота');\n",
    "plt.show();"
   ]
  },
  {
   "cell_type": "code",
   "execution_count": 47,
   "id": "0596c152",
   "metadata": {},
   "outputs": [
    {
     "data": {
      "text/plain": [
       "11.0"
      ]
     },
     "execution_count": 47,
     "metadata": {},
     "output_type": "execute_result"
    }
   ],
   "source": [
    "# найдем медианное время прохождения\n",
    "events_user.loc[events_user['last_event'] == 'finished_stage_1']['diff_dt'].median()"
   ]
  },
  {
   "cell_type": "markdown",
   "id": "c1d56cde",
   "metadata": {},
   "source": [
    "Большая часть пользователей проходит первый уровень за 1.5 - 2 недели. Медианное количество дней на завершение уровня - 11. При этом странно, что есть пользователи, которые завершили уровень за 0 дней. Может быть, они, конечно, играли в течение всего дня. Мы не можем посмотреть время сессий, но можем посмотреть количество их построек."
   ]
  },
  {
   "cell_type": "code",
   "execution_count": 48,
   "id": "a0cc20b0",
   "metadata": {},
   "outputs": [
    {
     "data": {
      "text/html": [
       "<div>\n",
       "<style scoped>\n",
       "    .dataframe tbody tr th:only-of-type {\n",
       "        vertical-align: middle;\n",
       "    }\n",
       "\n",
       "    .dataframe tbody tr th {\n",
       "        vertical-align: top;\n",
       "    }\n",
       "\n",
       "    .dataframe thead th {\n",
       "        text-align: right;\n",
       "    }\n",
       "</style>\n",
       "<table border=\"1\" class=\"dataframe\">\n",
       "  <thead>\n",
       "    <tr style=\"text-align: right;\">\n",
       "      <th></th>\n",
       "      <th>user_id</th>\n",
       "      <th>first_dt</th>\n",
       "      <th>first_event</th>\n",
       "      <th>building_type</th>\n",
       "      <th>project_type</th>\n",
       "      <th>last_dt</th>\n",
       "      <th>last_event</th>\n",
       "      <th>diff_dt</th>\n",
       "    </tr>\n",
       "  </thead>\n",
       "  <tbody>\n",
       "    <tr>\n",
       "      <th>207</th>\n",
       "      <td>03990bc0-47b6-44ce-9f8b-3afb1a97d0e7</td>\n",
       "      <td>2020-05-07 16:40:32</td>\n",
       "      <td>building</td>\n",
       "      <td>assembly_shop</td>\n",
       "      <td>None</td>\n",
       "      <td>2020-05-08 02:19:33</td>\n",
       "      <td>finished_stage_1</td>\n",
       "      <td>0</td>\n",
       "    </tr>\n",
       "    <tr>\n",
       "      <th>1894</th>\n",
       "      <td>2204ae7f-892b-494d-bd58-28816ff35eb5</td>\n",
       "      <td>2020-05-07 02:25:27</td>\n",
       "      <td>building</td>\n",
       "      <td>assembly_shop</td>\n",
       "      <td>None</td>\n",
       "      <td>2020-05-08 01:02:51</td>\n",
       "      <td>finished_stage_1</td>\n",
       "      <td>0</td>\n",
       "    </tr>\n",
       "    <tr>\n",
       "      <th>10614</th>\n",
       "      <td>c8180f71-68dc-4fd5-ba6e-ba5f5d0d28f7</td>\n",
       "      <td>2020-05-08 16:08:29</td>\n",
       "      <td>building</td>\n",
       "      <td>assembly_shop</td>\n",
       "      <td>None</td>\n",
       "      <td>2020-05-09 11:52:33</td>\n",
       "      <td>finished_stage_1</td>\n",
       "      <td>0</td>\n",
       "    </tr>\n",
       "    <tr>\n",
       "      <th>10932</th>\n",
       "      <td>ced7b368-818f-48f6-9461-2346de0892c5</td>\n",
       "      <td>2020-05-04 00:13:21</td>\n",
       "      <td>building</td>\n",
       "      <td>assembly_shop</td>\n",
       "      <td>None</td>\n",
       "      <td>2020-05-04 19:47:29</td>\n",
       "      <td>finished_stage_1</td>\n",
       "      <td>0</td>\n",
       "    </tr>\n",
       "  </tbody>\n",
       "</table>\n",
       "</div>"
      ],
      "text/plain": [
       "                                    user_id            first_dt first_event  \\\n",
       "207    03990bc0-47b6-44ce-9f8b-3afb1a97d0e7 2020-05-07 16:40:32    building   \n",
       "1894   2204ae7f-892b-494d-bd58-28816ff35eb5 2020-05-07 02:25:27    building   \n",
       "10614  c8180f71-68dc-4fd5-ba6e-ba5f5d0d28f7 2020-05-08 16:08:29    building   \n",
       "10932  ced7b368-818f-48f6-9461-2346de0892c5 2020-05-04 00:13:21    building   \n",
       "\n",
       "       building_type project_type             last_dt        last_event  \\\n",
       "207    assembly_shop         None 2020-05-08 02:19:33  finished_stage_1   \n",
       "1894   assembly_shop         None 2020-05-08 01:02:51  finished_stage_1   \n",
       "10614  assembly_shop         None 2020-05-09 11:52:33  finished_stage_1   \n",
       "10932  assembly_shop         None 2020-05-04 19:47:29  finished_stage_1   \n",
       "\n",
       "       diff_dt  \n",
       "207          0  \n",
       "1894         0  \n",
       "10614        0  \n",
       "10932        0  "
      ]
     },
     "execution_count": 48,
     "metadata": {},
     "output_type": "execute_result"
    }
   ],
   "source": [
    "# сначала посмотрим, что это за пользователи\n",
    "events_user.loc[(events_user['diff_dt'] == 0) & (events_user['last_event'] == 'finished_stage_1')]"
   ]
  },
  {
   "cell_type": "markdown",
   "id": "ff40db26",
   "metadata": {},
   "source": [
    "Ага, для вычисления дней используется 24-часовой способ,а  не календарный. Посмотрим, сколько построек успели сделать эти пользователи за день."
   ]
  },
  {
   "cell_type": "code",
   "execution_count": 49,
   "id": "d0e6ef16",
   "metadata": {},
   "outputs": [
    {
     "data": {
      "text/html": [
       "<div>\n",
       "<style scoped>\n",
       "    .dataframe tbody tr th:only-of-type {\n",
       "        vertical-align: middle;\n",
       "    }\n",
       "\n",
       "    .dataframe tbody tr th {\n",
       "        vertical-align: top;\n",
       "    }\n",
       "\n",
       "    .dataframe thead th {\n",
       "        text-align: right;\n",
       "    }\n",
       "</style>\n",
       "<table border=\"1\" class=\"dataframe\">\n",
       "  <thead>\n",
       "    <tr style=\"text-align: right;\">\n",
       "      <th></th>\n",
       "      <th>event_datetime</th>\n",
       "      <th>event</th>\n",
       "      <th>building_type</th>\n",
       "      <th>user_id</th>\n",
       "      <th>project_type</th>\n",
       "    </tr>\n",
       "  </thead>\n",
       "  <tbody>\n",
       "    <tr>\n",
       "      <th>73</th>\n",
       "      <td>2020-05-04 00:13:21</td>\n",
       "      <td>building</td>\n",
       "      <td>assembly_shop</td>\n",
       "      <td>ced7b368-818f-48f6-9461-2346de0892c5</td>\n",
       "      <td>NaN</td>\n",
       "    </tr>\n",
       "    <tr>\n",
       "      <th>4222</th>\n",
       "      <td>2020-05-04 12:51:34</td>\n",
       "      <td>building</td>\n",
       "      <td>spaceport</td>\n",
       "      <td>ced7b368-818f-48f6-9461-2346de0892c5</td>\n",
       "      <td>NaN</td>\n",
       "    </tr>\n",
       "    <tr>\n",
       "      <th>6659</th>\n",
       "      <td>2020-05-04 19:47:29</td>\n",
       "      <td>finished_stage_1</td>\n",
       "      <td>NaN</td>\n",
       "      <td>ced7b368-818f-48f6-9461-2346de0892c5</td>\n",
       "      <td>NaN</td>\n",
       "    </tr>\n",
       "    <tr>\n",
       "      <th>28186</th>\n",
       "      <td>2020-05-07 02:25:27</td>\n",
       "      <td>building</td>\n",
       "      <td>assembly_shop</td>\n",
       "      <td>2204ae7f-892b-494d-bd58-28816ff35eb5</td>\n",
       "      <td>NaN</td>\n",
       "    </tr>\n",
       "    <tr>\n",
       "      <th>33803</th>\n",
       "      <td>2020-05-07 14:44:04</td>\n",
       "      <td>building</td>\n",
       "      <td>spaceport</td>\n",
       "      <td>2204ae7f-892b-494d-bd58-28816ff35eb5</td>\n",
       "      <td>NaN</td>\n",
       "    </tr>\n",
       "    <tr>\n",
       "      <th>34652</th>\n",
       "      <td>2020-05-07 16:40:32</td>\n",
       "      <td>building</td>\n",
       "      <td>assembly_shop</td>\n",
       "      <td>03990bc0-47b6-44ce-9f8b-3afb1a97d0e7</td>\n",
       "      <td>NaN</td>\n",
       "    </tr>\n",
       "    <tr>\n",
       "      <th>34732</th>\n",
       "      <td>2020-05-07 16:53:35</td>\n",
       "      <td>building</td>\n",
       "      <td>assembly_shop</td>\n",
       "      <td>03990bc0-47b6-44ce-9f8b-3afb1a97d0e7</td>\n",
       "      <td>NaN</td>\n",
       "    </tr>\n",
       "    <tr>\n",
       "      <th>35889</th>\n",
       "      <td>2020-05-07 19:28:57</td>\n",
       "      <td>building</td>\n",
       "      <td>spaceport</td>\n",
       "      <td>03990bc0-47b6-44ce-9f8b-3afb1a97d0e7</td>\n",
       "      <td>NaN</td>\n",
       "    </tr>\n",
       "    <tr>\n",
       "      <th>38510</th>\n",
       "      <td>2020-05-08 01:02:51</td>\n",
       "      <td>finished_stage_1</td>\n",
       "      <td>NaN</td>\n",
       "      <td>2204ae7f-892b-494d-bd58-28816ff35eb5</td>\n",
       "      <td>NaN</td>\n",
       "    </tr>\n",
       "    <tr>\n",
       "      <th>39142</th>\n",
       "      <td>2020-05-08 02:19:33</td>\n",
       "      <td>finished_stage_1</td>\n",
       "      <td>NaN</td>\n",
       "      <td>03990bc0-47b6-44ce-9f8b-3afb1a97d0e7</td>\n",
       "      <td>NaN</td>\n",
       "    </tr>\n",
       "    <tr>\n",
       "      <th>46073</th>\n",
       "      <td>2020-05-08 16:08:29</td>\n",
       "      <td>building</td>\n",
       "      <td>assembly_shop</td>\n",
       "      <td>c8180f71-68dc-4fd5-ba6e-ba5f5d0d28f7</td>\n",
       "      <td>NaN</td>\n",
       "    </tr>\n",
       "    <tr>\n",
       "      <th>50859</th>\n",
       "      <td>2020-05-09 01:30:43</td>\n",
       "      <td>building</td>\n",
       "      <td>spaceport</td>\n",
       "      <td>c8180f71-68dc-4fd5-ba6e-ba5f5d0d28f7</td>\n",
       "      <td>NaN</td>\n",
       "    </tr>\n",
       "    <tr>\n",
       "      <th>56299</th>\n",
       "      <td>2020-05-09 11:52:33</td>\n",
       "      <td>finished_stage_1</td>\n",
       "      <td>NaN</td>\n",
       "      <td>c8180f71-68dc-4fd5-ba6e-ba5f5d0d28f7</td>\n",
       "      <td>NaN</td>\n",
       "    </tr>\n",
       "  </tbody>\n",
       "</table>\n",
       "</div>"
      ],
      "text/plain": [
       "           event_datetime             event  building_type  \\\n",
       "73    2020-05-04 00:13:21          building  assembly_shop   \n",
       "4222  2020-05-04 12:51:34          building      spaceport   \n",
       "6659  2020-05-04 19:47:29  finished_stage_1            NaN   \n",
       "28186 2020-05-07 02:25:27          building  assembly_shop   \n",
       "33803 2020-05-07 14:44:04          building      spaceport   \n",
       "34652 2020-05-07 16:40:32          building  assembly_shop   \n",
       "34732 2020-05-07 16:53:35          building  assembly_shop   \n",
       "35889 2020-05-07 19:28:57          building      spaceport   \n",
       "38510 2020-05-08 01:02:51  finished_stage_1            NaN   \n",
       "39142 2020-05-08 02:19:33  finished_stage_1            NaN   \n",
       "46073 2020-05-08 16:08:29          building  assembly_shop   \n",
       "50859 2020-05-09 01:30:43          building      spaceport   \n",
       "56299 2020-05-09 11:52:33  finished_stage_1            NaN   \n",
       "\n",
       "                                    user_id project_type  \n",
       "73     ced7b368-818f-48f6-9461-2346de0892c5          NaN  \n",
       "4222   ced7b368-818f-48f6-9461-2346de0892c5          NaN  \n",
       "6659   ced7b368-818f-48f6-9461-2346de0892c5          NaN  \n",
       "28186  2204ae7f-892b-494d-bd58-28816ff35eb5          NaN  \n",
       "33803  2204ae7f-892b-494d-bd58-28816ff35eb5          NaN  \n",
       "34652  03990bc0-47b6-44ce-9f8b-3afb1a97d0e7          NaN  \n",
       "34732  03990bc0-47b6-44ce-9f8b-3afb1a97d0e7          NaN  \n",
       "35889  03990bc0-47b6-44ce-9f8b-3afb1a97d0e7          NaN  \n",
       "38510  2204ae7f-892b-494d-bd58-28816ff35eb5          NaN  \n",
       "39142  03990bc0-47b6-44ce-9f8b-3afb1a97d0e7          NaN  \n",
       "46073  c8180f71-68dc-4fd5-ba6e-ba5f5d0d28f7          NaN  \n",
       "50859  c8180f71-68dc-4fd5-ba6e-ba5f5d0d28f7          NaN  \n",
       "56299  c8180f71-68dc-4fd5-ba6e-ba5f5d0d28f7          NaN  "
      ]
     },
     "execution_count": 49,
     "metadata": {},
     "output_type": "execute_result"
    }
   ],
   "source": [
    "game_actions.loc[game_actions['user_id'].isin(events_user.loc[(events_user['diff_dt'] == 0) \\\n",
    "                                                              & (events_user['last_event'] == 'finished_stage_1')]['user_id'])]"
   ]
  },
  {
   "cell_type": "markdown",
   "id": "967cd6d7",
   "metadata": {},
   "source": [
    "Никто из них не реализовал проект, значит, так быстро завершали уровень только PvP игроки. И, действительно, за день они успевали сделать несколько зданий. Но мы убедились, что здесь нет какой-либо ошибки выгрузки.\n",
    "\n",
    "Теперь нам нужно проверить, влияет ли вид игрока на время прохождения первого уровня."
   ]
  },
  {
   "cell_type": "code",
   "execution_count": 50,
   "id": "1affc6c4",
   "metadata": {},
   "outputs": [],
   "source": [
    "# для начала сохраним списки дней \n",
    "days_pve = events_user.loc[events_user['user_id'].isin(pve)]['diff_dt']\n",
    "\n",
    "days_pvp = events_user.loc[events_user['user_id'].isin(pvp)]['diff_dt']"
   ]
  },
  {
   "cell_type": "markdown",
   "id": "c5c6d735",
   "metadata": {},
   "source": [
    "Посмотрим на медианное время прохождения уровня в двух группах математически."
   ]
  },
  {
   "cell_type": "code",
   "execution_count": 51,
   "id": "3ad6c9ed",
   "metadata": {},
   "outputs": [
    {
     "name": "stdout",
     "output_type": "stream",
     "text": [
      "Медианное время прохождения уровня PvE пользователями 13.0 дней\n",
      "Медианное время прохождения уровня PvP пользователями 10.0 дней\n"
     ]
    }
   ],
   "source": [
    "print(f'Медианное время прохождения уровня PvE пользователями {days_pve.median()} дней')\n",
    "print(f'Медианное время прохождения уровня PvP пользователями {days_pvp.median()} дней')"
   ]
  },
  {
   "cell_type": "markdown",
   "id": "ec08e6c0",
   "metadata": {},
   "source": [
    "Как мы видим, пользователи, реализующие проект, тратят больше времени на завершение уровня. Есть ли статистически значимые отличия? \\\n",
    "H0 - время прохождения 1-го уровня одинаково у PvE и PvP пользователей. \\\n",
    "H1 - время различное. \\\n",
    "Уровень значимости 0.05\n",
    "\n",
    "Сначала проверим данные на нормальность распределения с помощью теста Шапиро-Уилка. Если pvalue будет меньше 0.05 - данные распределены не нормально."
   ]
  },
  {
   "cell_type": "code",
   "execution_count": 52,
   "id": "1aac0ff4",
   "metadata": {},
   "outputs": [
    {
     "name": "stdout",
     "output_type": "stream",
     "text": [
      "Распределение отличается от нормального\n"
     ]
    }
   ],
   "source": [
    "if st.shapiro(days_pve).pvalue < 0.05:\n",
    "    print('Распределение отличается от нормального')\n",
    "else:\n",
    "    print('Распределение нормальное')"
   ]
  },
  {
   "cell_type": "code",
   "execution_count": 53,
   "id": "b27b15ca",
   "metadata": {},
   "outputs": [
    {
     "name": "stdout",
     "output_type": "stream",
     "text": [
      "Распределение отличается от нормального\n"
     ]
    }
   ],
   "source": [
    "if st.shapiro(days_pvp).pvalue < 0.05:\n",
    "    print('Распределение отличается от нормального')\n",
    "else:\n",
    "    print('Распределение нормальное')"
   ]
  },
  {
   "cell_type": "markdown",
   "id": "7eca73f4",
   "metadata": {},
   "source": [
    "Значит, здесь снова мы будем использовать критерий Манна-Уитни."
   ]
  },
  {
   "cell_type": "code",
   "execution_count": 54,
   "id": "df9ea08f",
   "metadata": {},
   "outputs": [
    {
     "name": "stdout",
     "output_type": "stream",
     "text": [
      "Значение p-value: 1.4810402498079134e-105\n",
      "Отвергаем нулевую гипотезу\n"
     ]
    }
   ],
   "source": [
    "alpha = 0.05 #критическое значение p-value\n",
    "result = st.mannwhitneyu(\n",
    "    days_pve,\n",
    "    days_pvp,\n",
    "    ) \n",
    "\n",
    "print('Значение p-value:', result.pvalue)\n",
    "\n",
    "#проверяем гипотезу: H0 - время прохождения 1-го уровня одинаково у PvE и PvP пользователей\n",
    "if result.pvalue < alpha:\n",
    "    print('Отвергаем нулевую гипотезу')\n",
    "else:\n",
    "    print('Не получилось отвергнуть нулевую гипотезу')     \n"
   ]
  },
  {
   "cell_type": "markdown",
   "id": "2ee27e44",
   "metadata": {},
   "source": [
    "Итак, мы получили, что пользователи, которые реализуют проект, значимо дольше проходят 1-ый уровень, чем пользователи, убивающие врага.\n",
    "\n",
    "Также хочется посмотреть, какое медианное время игры у тех, кто так и не завершил первый уровень. И продолжают ли они играть в игру или забросили. Чтобы понять, с какого дня показывать рекламу."
   ]
  },
  {
   "cell_type": "code",
   "execution_count": 55,
   "id": "31498fac",
   "metadata": {},
   "outputs": [
    {
     "data": {
      "image/png": "[encoded data removed]",
      "text/plain": [
       "<Figure size 1008x432 with 1 Axes>"
      ]
     },
     "metadata": {
      "needs_background": "light"
     },
     "output_type": "display_data"
    }
   ],
   "source": [
    "plt.figure(figsize=(14,6));\n",
    "sns.histplot(events_user.loc[events_user['last_event'] != 'finished_stage_1']['diff_dt'], bins=10, kde=True);\n",
    "plt.title('Время игры у пользователей, которые не завершили 1-ый уровень');\n",
    "plt.xlabel('Количество дней');\n",
    "plt.ylabel('Частота');\n",
    "plt.show();"
   ]
  },
  {
   "cell_type": "code",
   "execution_count": 56,
   "id": "6a906c1c",
   "metadata": {
    "scrolled": false
   },
   "outputs": [
    {
     "data": {
      "text/plain": [
       "9.0"
      ]
     },
     "execution_count": 56,
     "metadata": {},
     "output_type": "execute_result"
    }
   ],
   "source": [
    "events_user.loc[events_user['last_event'] != 'finished_stage_1']['diff_dt'].median()"
   ]
  },
  {
   "cell_type": "code",
   "execution_count": 57,
   "id": "bac346f0",
   "metadata": {},
   "outputs": [
    {
     "data": {
      "text/plain": [
       "29"
      ]
     },
     "execution_count": 57,
     "metadata": {},
     "output_type": "execute_result"
    }
   ],
   "source": [
    "events_user.loc[events_user['last_event'] != 'finished_stage_1']['diff_dt'].max()"
   ]
  },
  {
   "cell_type": "markdown",
   "id": "433e5e3b",
   "metadata": {},
   "source": [
    "**Вывод:** \\\n",
    "Из 13 тысяч игроков первый уровень прошли 42.8%. Большая часть пользователей завершает уровень за 1.5-2 недели. Медианное время прохождения - 11 дней. При этом есть игроки, которые проходят 1-ый уровень в первый же день, есть любителя растянуть удовольствие на весь месяц. \\\n",
    "Было выявлено, что PvE пользователи значимо дольше проходят первый уровень, чем PvP игроки. \\\n",
    "При этом даже незавершившие уровень \"живут\" в игре в среднем 9 дней. \\\n",
    "Всё это помогает нам в принятии решения о расположении рекламы. Привязывать начало показа лучше к количеству строек, а не к дню игры. Так как есть пользователи, завершающие уровень раньше, а есть те, кто дольше играет."
   ]
  },
  {
   "cell_type": "markdown",
   "id": "80d8e043",
   "metadata": {},
   "source": [
    "### Формирование модели монетизации рекламы"
   ]
  },
  {
   "cell_type": "markdown",
   "id": "b6ef550f",
   "metadata": {},
   "source": [
    "Итак, нам известно, что один показ рекламы пользователю приносит 0.07 у.е.. При этом рекламный баннер будет отображаться на экране выбора постройки. И наша задача выбрать оптимальное время показа, чтобы не вызвать недовольство новых игроков, но и при этом окупить вложения в рекламу.\n",
    "\n",
    "В среднем пользователи завершают уровень за 1.5 - 2 недели (медиана 11 дней). За жизнь в игре игроки строят от 1 до 20 зданий. Медианное количество построек - 10 зданий на человека. При этом PvE игроки строят больше объектов, чем PvP. И завершившие игру строят больше зданий, чем те, кто не завершил.\n",
    "\n",
    "Исходя из этого нужно выбрать оптимальную схему показа рекламы."
   ]
  },
  {
   "cell_type": "code",
   "execution_count": 58,
   "id": "ee997434",
   "metadata": {},
   "outputs": [
    {
     "data": {
      "text/html": [
       "<div>\n",
       "<style scoped>\n",
       "    .dataframe tbody tr th:only-of-type {\n",
       "        vertical-align: middle;\n",
       "    }\n",
       "\n",
       "    .dataframe tbody tr th {\n",
       "        vertical-align: top;\n",
       "    }\n",
       "\n",
       "    .dataframe thead th {\n",
       "        text-align: right;\n",
       "    }\n",
       "</style>\n",
       "<table border=\"1\" class=\"dataframe\">\n",
       "  <thead>\n",
       "    <tr style=\"text-align: right;\">\n",
       "      <th></th>\n",
       "      <th>source</th>\n",
       "      <th>day</th>\n",
       "      <th>cost</th>\n",
       "    </tr>\n",
       "  </thead>\n",
       "  <tbody>\n",
       "    <tr>\n",
       "      <th>0</th>\n",
       "      <td>facebook_ads</td>\n",
       "      <td>2020-05-03</td>\n",
       "      <td>935.882786</td>\n",
       "    </tr>\n",
       "    <tr>\n",
       "      <th>1</th>\n",
       "      <td>facebook_ads</td>\n",
       "      <td>2020-05-04</td>\n",
       "      <td>548.354480</td>\n",
       "    </tr>\n",
       "    <tr>\n",
       "      <th>2</th>\n",
       "      <td>facebook_ads</td>\n",
       "      <td>2020-05-05</td>\n",
       "      <td>260.185754</td>\n",
       "    </tr>\n",
       "    <tr>\n",
       "      <th>3</th>\n",
       "      <td>facebook_ads</td>\n",
       "      <td>2020-05-06</td>\n",
       "      <td>177.982200</td>\n",
       "    </tr>\n",
       "    <tr>\n",
       "      <th>4</th>\n",
       "      <td>facebook_ads</td>\n",
       "      <td>2020-05-07</td>\n",
       "      <td>111.766796</td>\n",
       "    </tr>\n",
       "    <tr>\n",
       "      <th>5</th>\n",
       "      <td>facebook_ads</td>\n",
       "      <td>2020-05-08</td>\n",
       "      <td>68.009276</td>\n",
       "    </tr>\n",
       "    <tr>\n",
       "      <th>6</th>\n",
       "      <td>facebook_ads</td>\n",
       "      <td>2020-05-09</td>\n",
       "      <td>38.723350</td>\n",
       "    </tr>\n",
       "    <tr>\n",
       "      <th>7</th>\n",
       "      <td>instagram_new_adverts</td>\n",
       "      <td>2020-05-03</td>\n",
       "      <td>943.204717</td>\n",
       "    </tr>\n",
       "    <tr>\n",
       "      <th>8</th>\n",
       "      <td>instagram_new_adverts</td>\n",
       "      <td>2020-05-04</td>\n",
       "      <td>502.925451</td>\n",
       "    </tr>\n",
       "    <tr>\n",
       "      <th>9</th>\n",
       "      <td>instagram_new_adverts</td>\n",
       "      <td>2020-05-05</td>\n",
       "      <td>313.970984</td>\n",
       "    </tr>\n",
       "  </tbody>\n",
       "</table>\n",
       "</div>"
      ],
      "text/plain": [
       "                  source        day        cost\n",
       "0           facebook_ads 2020-05-03  935.882786\n",
       "1           facebook_ads 2020-05-04  548.354480\n",
       "2           facebook_ads 2020-05-05  260.185754\n",
       "3           facebook_ads 2020-05-06  177.982200\n",
       "4           facebook_ads 2020-05-07  111.766796\n",
       "5           facebook_ads 2020-05-08   68.009276\n",
       "6           facebook_ads 2020-05-09   38.723350\n",
       "7  instagram_new_adverts 2020-05-03  943.204717\n",
       "8  instagram_new_adverts 2020-05-04  502.925451\n",
       "9  instagram_new_adverts 2020-05-05  313.970984"
      ]
     },
     "execution_count": 58,
     "metadata": {},
     "output_type": "execute_result"
    }
   ],
   "source": [
    "# еще раз ознакомимся с датасетом трат на рекламу\n",
    "ad_costs.head(10)"
   ]
  },
  {
   "cell_type": "code",
   "execution_count": 59,
   "id": "be745ec6",
   "metadata": {},
   "outputs": [
    {
     "name": "stdout",
     "output_type": "stream",
     "text": [
      "Траты на рекламу за весь период по всем каналам 7603.58\n"
     ]
    }
   ],
   "source": [
    "# сколько потратили на рекламу за выбранный период?\n",
    "print('Траты на рекламу за весь период по всем каналам', round(ad_costs['cost'].sum(),2))"
   ]
  },
  {
   "cell_type": "code",
   "execution_count": 60,
   "id": "5a8b32c9",
   "metadata": {},
   "outputs": [
    {
     "data": {
      "image/png": "[encoded data removed]",
      "text/plain": [
       "<Figure size 1008x432 with 1 Axes>"
      ]
     },
     "metadata": {
      "needs_background": "light"
     },
     "output_type": "display_data"
    }
   ],
   "source": [
    "plt.figure(figsize=(14,6));\n",
    "ax = sns.barplot(data = ad_costs.groupby('source', as_index=False).agg({'cost':'sum'}).sort_values(by='cost', ascending=False),\n",
    "                 x = 'cost', y = 'source');\n",
    "ax.bar_label(ax.containers[0], label_type = 'center');\n",
    "plt.title('Траты на рекламу по источникам');\n",
    "plt.xlabel('Сумма затрат');\n",
    "plt.ylabel('Источник');\n",
    "plt.show();"
   ]
  },
  {
   "cell_type": "code",
   "execution_count": 61,
   "id": "32a3c657",
   "metadata": {},
   "outputs": [
    {
     "data": {
      "image/png": "[encoded data removed]",
      "text/plain": [
       "<Figure size 1008x432 with 1 Axes>"
      ]
     },
     "metadata": {
      "needs_background": "light"
     },
     "output_type": "display_data"
    }
   ],
   "source": [
    "cac = (user_source.groupby('source', as_index=False).agg({'user_id':'count'}).merge(\n",
    "    ad_costs.groupby('source', as_index=False).agg({'cost':'sum'}), on = 'source')\n",
    "      )\n",
    "cac['cac'] = round(cac['cost'] / cac['user_id'],2)\n",
    "plt.figure(figsize=(14,6));\n",
    "ax = sns.barplot(data = cac, x = 'cac', y = 'source');\n",
    "ax.bar_label(ax.containers[0], label_type = 'center');\n",
    "plt.title('Стоимость привлечения одного клиента по источникам');\n",
    "plt.xlabel('САС');\n",
    "plt.ylabel('Источник');\n",
    "plt.show();"
   ]
  },
  {
   "cell_type": "markdown",
   "id": "658c64c8",
   "metadata": {},
   "source": [
    "Больше всего денег было потрачено на рекламу в Яндекс Директе. Но при этом дороже привлечение одного пользователя обойдется на Фейсбуке. \\\n",
    "Причем, если вспомнить, что показ одного объявления приносит 0.07 у.е, а каждый пользователь в среднем строит (=смотрит объявление) 10 зданий, значит, реклама из всех источников, кроме Фейсбука, в теории должна окупаться. \\\n",
    "А реклама фейсбука окупается только у PvE пользователей, которые в среднем строят 12 зданий. Тогда нужно подумать о том, чтобы мотивировать игроков, привлеченных с Фейсбука, выбрать именно PvE тактику игры. Может быть, какие-то бонусы или промокоды на исследования, идеи для проектов и т.д включить в рекламный баннер."
   ]
  },
  {
   "cell_type": "markdown",
   "id": "9b3fcb89",
   "metadata": {},
   "source": [
    "Посмотрим, есть ли какие-то отличия в завершении уровня среди пользователей из разных источников."
   ]
  },
  {
   "cell_type": "code",
   "execution_count": 62,
   "id": "d95e8155",
   "metadata": {},
   "outputs": [
    {
     "data": {
      "image/png": "[encoded data removed]",
      "text/plain": [
       "<Figure size 1008x432 with 1 Axes>"
      ]
     },
     "metadata": {
      "needs_background": "light"
     },
     "output_type": "display_data"
    }
   ],
   "source": [
    "finished_source = (user_source.loc[user_source['user_id'].isin(finished)]\n",
    "                   .groupby('source', as_index=False)\n",
    "                   .agg({'user_id':'count'})\n",
    "                   .rename(columns={'user_id':'finished'})\n",
    "                  )\n",
    "finished_source = finished_source.merge(user_source.groupby('source', as_index=False).agg({'user_id':'count'}, on = \n",
    "                                                                       'source').rename(columns={'user_id':'all'})\n",
    "                     ) \n",
    "finished_source['share_finished'] = round(finished_source['finished']*100 / finished_source['all'],2)\n",
    "plt.figure(figsize=(14,6));\n",
    "ax = sns.barplot(data = finished_source.sort_values(by='share_finished', ascending=False), \n",
    "                 y = 'share_finished', x = 'source');\n",
    "ax.bar_label(ax.containers[0], label_type = 'center');\n",
    "plt.title('Доля завершивших 1-ый уровень по источникам');\n",
    "plt.ylabel('Доля в %');\n",
    "plt.xlabel('Источник');\n",
    "plt.show();"
   ]
  },
  {
   "cell_type": "markdown",
   "id": "5953b4ec",
   "metadata": {},
   "source": [
    "Большой разницы в проценте завершения уровня у источников нет. Лидером является инстаграмм, однако разрыв между первым и последним местом лишь чуть больше 1%."
   ]
  },
  {
   "cell_type": "code",
   "execution_count": 63,
   "id": "ea436768",
   "metadata": {},
   "outputs": [
    {
     "name": "stdout",
     "output_type": "stream",
     "text": [
      "Значит, на рекламу было потрачено 7603.58 у.е.\n",
      "За весь период с 4.05 по 10.05 реклама привлекла 13576 пользователей\n",
      "Они построили в сумме 127957 зданий\n",
      "Если один показ рекламы стоит 0.07 у.е, значит, теоретически, показывая рекламу сразу и всем, приложение заработало бы 8956.99 у.е\n"
     ]
    }
   ],
   "source": [
    "print(f'Значит, на рекламу было потрачено {round(ad_costs[\"cost\"].sum(),2)} у.е.')\n",
    "print(f'За весь период с 4.05 по 10.05 реклама привлекла {len(user_source)} пользователей')\n",
    "print(f'Они построили в сумме {len(game_actions.loc[game_actions[\"event\"] == \"building\"])} зданий')\n",
    "print(f'Если один показ рекламы стоит 0.07 у.е, значит, теоретически, показывая рекламу сразу и всем, приложение заработало бы \\\n",
    "{round(len(game_actions.loc[game_actions[\"event\"] == \"building\"])*0.07,2)} у.е')"
   ]
  },
  {
   "cell_type": "markdown",
   "id": "ca0ca822",
   "metadata": {},
   "source": [
    "Но показывать рекламу всем и сразу мы не можем, так как это вызовет негативные последствия. \\\n",
    "Посмотрим, как меняется активность игроков (относительно построек) с течением времени."
   ]
  },
  {
   "cell_type": "code",
   "execution_count": 64,
   "id": "2c6cf082",
   "metadata": {},
   "outputs": [
    {
     "data": {
      "text/html": [
       "<div>\n",
       "<style scoped>\n",
       "    .dataframe tbody tr th:only-of-type {\n",
       "        vertical-align: middle;\n",
       "    }\n",
       "\n",
       "    .dataframe tbody tr th {\n",
       "        vertical-align: top;\n",
       "    }\n",
       "\n",
       "    .dataframe thead th {\n",
       "        text-align: right;\n",
       "    }\n",
       "</style>\n",
       "<table border=\"1\" class=\"dataframe\">\n",
       "  <thead>\n",
       "    <tr style=\"text-align: right;\">\n",
       "      <th></th>\n",
       "      <th>user_id</th>\n",
       "      <th>first_dt</th>\n",
       "      <th>first_event</th>\n",
       "      <th>building_type</th>\n",
       "      <th>project_type</th>\n",
       "      <th>event_datetime</th>\n",
       "      <th>event</th>\n",
       "      <th>lifetime</th>\n",
       "    </tr>\n",
       "  </thead>\n",
       "  <tbody>\n",
       "    <tr>\n",
       "      <th>0</th>\n",
       "      <td>0001f83c-c6ac-4621-b7f0-8a28b283ac30</td>\n",
       "      <td>2020-05-06</td>\n",
       "      <td>building</td>\n",
       "      <td>assembly_shop</td>\n",
       "      <td>None</td>\n",
       "      <td>2020-05-06</td>\n",
       "      <td>building</td>\n",
       "      <td>0</td>\n",
       "    </tr>\n",
       "    <tr>\n",
       "      <th>1</th>\n",
       "      <td>0001f83c-c6ac-4621-b7f0-8a28b283ac30</td>\n",
       "      <td>2020-05-06</td>\n",
       "      <td>building</td>\n",
       "      <td>assembly_shop</td>\n",
       "      <td>None</td>\n",
       "      <td>2020-05-06</td>\n",
       "      <td>building</td>\n",
       "      <td>0</td>\n",
       "    </tr>\n",
       "    <tr>\n",
       "      <th>2</th>\n",
       "      <td>0001f83c-c6ac-4621-b7f0-8a28b283ac30</td>\n",
       "      <td>2020-05-06</td>\n",
       "      <td>building</td>\n",
       "      <td>assembly_shop</td>\n",
       "      <td>None</td>\n",
       "      <td>2020-05-06</td>\n",
       "      <td>building</td>\n",
       "      <td>0</td>\n",
       "    </tr>\n",
       "    <tr>\n",
       "      <th>3</th>\n",
       "      <td>0001f83c-c6ac-4621-b7f0-8a28b283ac30</td>\n",
       "      <td>2020-05-06</td>\n",
       "      <td>building</td>\n",
       "      <td>assembly_shop</td>\n",
       "      <td>None</td>\n",
       "      <td>2020-05-09</td>\n",
       "      <td>building</td>\n",
       "      <td>3</td>\n",
       "    </tr>\n",
       "    <tr>\n",
       "      <th>4</th>\n",
       "      <td>0001f83c-c6ac-4621-b7f0-8a28b283ac30</td>\n",
       "      <td>2020-05-06</td>\n",
       "      <td>building</td>\n",
       "      <td>assembly_shop</td>\n",
       "      <td>None</td>\n",
       "      <td>2020-05-09</td>\n",
       "      <td>building</td>\n",
       "      <td>3</td>\n",
       "    </tr>\n",
       "    <tr>\n",
       "      <th>...</th>\n",
       "      <td>...</td>\n",
       "      <td>...</td>\n",
       "      <td>...</td>\n",
       "      <td>...</td>\n",
       "      <td>...</td>\n",
       "      <td>...</td>\n",
       "      <td>...</td>\n",
       "      <td>...</td>\n",
       "    </tr>\n",
       "    <tr>\n",
       "      <th>135635</th>\n",
       "      <td>ffff69cc-fec1-4fd3-9f98-93be1112a6b8</td>\n",
       "      <td>2020-05-08</td>\n",
       "      <td>building</td>\n",
       "      <td>assembly_shop</td>\n",
       "      <td>satellite_orbital_assembly</td>\n",
       "      <td>2020-05-23</td>\n",
       "      <td>building</td>\n",
       "      <td>15</td>\n",
       "    </tr>\n",
       "    <tr>\n",
       "      <th>135636</th>\n",
       "      <td>ffff69cc-fec1-4fd3-9f98-93be1112a6b8</td>\n",
       "      <td>2020-05-08</td>\n",
       "      <td>building</td>\n",
       "      <td>assembly_shop</td>\n",
       "      <td>satellite_orbital_assembly</td>\n",
       "      <td>2020-05-24</td>\n",
       "      <td>building</td>\n",
       "      <td>16</td>\n",
       "    </tr>\n",
       "    <tr>\n",
       "      <th>135637</th>\n",
       "      <td>ffff69cc-fec1-4fd3-9f98-93be1112a6b8</td>\n",
       "      <td>2020-05-08</td>\n",
       "      <td>building</td>\n",
       "      <td>assembly_shop</td>\n",
       "      <td>satellite_orbital_assembly</td>\n",
       "      <td>2020-05-25</td>\n",
       "      <td>project</td>\n",
       "      <td>17</td>\n",
       "    </tr>\n",
       "    <tr>\n",
       "      <th>135638</th>\n",
       "      <td>ffff69cc-fec1-4fd3-9f98-93be1112a6b8</td>\n",
       "      <td>2020-05-08</td>\n",
       "      <td>building</td>\n",
       "      <td>assembly_shop</td>\n",
       "      <td>satellite_orbital_assembly</td>\n",
       "      <td>2020-05-25</td>\n",
       "      <td>building</td>\n",
       "      <td>17</td>\n",
       "    </tr>\n",
       "    <tr>\n",
       "      <th>135639</th>\n",
       "      <td>ffff69cc-fec1-4fd3-9f98-93be1112a6b8</td>\n",
       "      <td>2020-05-08</td>\n",
       "      <td>building</td>\n",
       "      <td>assembly_shop</td>\n",
       "      <td>satellite_orbital_assembly</td>\n",
       "      <td>2020-05-25</td>\n",
       "      <td>finished_stage_1</td>\n",
       "      <td>17</td>\n",
       "    </tr>\n",
       "  </tbody>\n",
       "</table>\n",
       "<p>135640 rows × 8 columns</p>\n",
       "</div>"
      ],
      "text/plain": [
       "                                     user_id    first_dt first_event  \\\n",
       "0       0001f83c-c6ac-4621-b7f0-8a28b283ac30  2020-05-06    building   \n",
       "1       0001f83c-c6ac-4621-b7f0-8a28b283ac30  2020-05-06    building   \n",
       "2       0001f83c-c6ac-4621-b7f0-8a28b283ac30  2020-05-06    building   \n",
       "3       0001f83c-c6ac-4621-b7f0-8a28b283ac30  2020-05-06    building   \n",
       "4       0001f83c-c6ac-4621-b7f0-8a28b283ac30  2020-05-06    building   \n",
       "...                                      ...         ...         ...   \n",
       "135635  ffff69cc-fec1-4fd3-9f98-93be1112a6b8  2020-05-08    building   \n",
       "135636  ffff69cc-fec1-4fd3-9f98-93be1112a6b8  2020-05-08    building   \n",
       "135637  ffff69cc-fec1-4fd3-9f98-93be1112a6b8  2020-05-08    building   \n",
       "135638  ffff69cc-fec1-4fd3-9f98-93be1112a6b8  2020-05-08    building   \n",
       "135639  ffff69cc-fec1-4fd3-9f98-93be1112a6b8  2020-05-08    building   \n",
       "\n",
       "        building_type                project_type event_datetime  \\\n",
       "0       assembly_shop                        None     2020-05-06   \n",
       "1       assembly_shop                        None     2020-05-06   \n",
       "2       assembly_shop                        None     2020-05-06   \n",
       "3       assembly_shop                        None     2020-05-09   \n",
       "4       assembly_shop                        None     2020-05-09   \n",
       "...               ...                         ...            ...   \n",
       "135635  assembly_shop  satellite_orbital_assembly     2020-05-23   \n",
       "135636  assembly_shop  satellite_orbital_assembly     2020-05-24   \n",
       "135637  assembly_shop  satellite_orbital_assembly     2020-05-25   \n",
       "135638  assembly_shop  satellite_orbital_assembly     2020-05-25   \n",
       "135639  assembly_shop  satellite_orbital_assembly     2020-05-25   \n",
       "\n",
       "                   event  lifetime  \n",
       "0               building         0  \n",
       "1               building         0  \n",
       "2               building         0  \n",
       "3               building         3  \n",
       "4               building         3  \n",
       "...                  ...       ...  \n",
       "135635          building        15  \n",
       "135636          building        16  \n",
       "135637           project        17  \n",
       "135638          building        17  \n",
       "135639  finished_stage_1        17  \n",
       "\n",
       "[135640 rows x 8 columns]"
      ]
     },
     "execution_count": 64,
     "metadata": {},
     "output_type": "execute_result"
    }
   ],
   "source": [
    "# сделаем столбец с лайфтаймом и порядковым номером события\n",
    "life = first_events.merge(\n",
    "        game_actions[['user_id', 'event_datetime', 'event']], on='user_id', how='left'\n",
    "    )\n",
    "# переведем даты в дни\n",
    "life['first_dt'] = life['first_dt'].dt.date\n",
    "life['event_datetime'] = life['event_datetime'].dt.date\n",
    "\n",
    "life['lifetime'] = (\n",
    "       life['event_datetime'] - life['first_dt']\n",
    "    ).dt.days\n",
    "\n",
    "life"
   ]
  },
  {
   "cell_type": "code",
   "execution_count": 65,
   "id": "067c94d1",
   "metadata": {},
   "outputs": [],
   "source": [
    "# сделаем столбец с типом игрока\n",
    "def type_player(users):\n",
    "    if users in pve:\n",
    "        return 'PvE'\n",
    "    if users in pvp:\n",
    "        return 'PvP'\n",
    "    else:\n",
    "        return 'other'\n",
    "\n",
    "life['type_player'] = life['user_id'].apply(type_player)"
   ]
  },
  {
   "cell_type": "code",
   "execution_count": 66,
   "id": "c80e59e8",
   "metadata": {},
   "outputs": [
    {
     "data": {
      "text/html": [
       "<div>\n",
       "<style scoped>\n",
       "    .dataframe tbody tr th:only-of-type {\n",
       "        vertical-align: middle;\n",
       "    }\n",
       "\n",
       "    .dataframe tbody tr th {\n",
       "        vertical-align: top;\n",
       "    }\n",
       "\n",
       "    .dataframe thead th {\n",
       "        text-align: right;\n",
       "    }\n",
       "</style>\n",
       "<table border=\"1\" class=\"dataframe\">\n",
       "  <thead>\n",
       "    <tr style=\"text-align: right;\">\n",
       "      <th></th>\n",
       "      <th>user_id</th>\n",
       "      <th>first_dt</th>\n",
       "      <th>first_event</th>\n",
       "      <th>building_type</th>\n",
       "      <th>project_type</th>\n",
       "      <th>event_datetime</th>\n",
       "      <th>event</th>\n",
       "      <th>lifetime</th>\n",
       "      <th>type_player</th>\n",
       "      <th>source</th>\n",
       "    </tr>\n",
       "  </thead>\n",
       "  <tbody>\n",
       "    <tr>\n",
       "      <th>0</th>\n",
       "      <td>0001f83c-c6ac-4621-b7f0-8a28b283ac30</td>\n",
       "      <td>2020-05-06</td>\n",
       "      <td>building</td>\n",
       "      <td>assembly_shop</td>\n",
       "      <td>None</td>\n",
       "      <td>2020-05-06</td>\n",
       "      <td>building</td>\n",
       "      <td>0</td>\n",
       "      <td>other</td>\n",
       "      <td>facebook_ads</td>\n",
       "    </tr>\n",
       "    <tr>\n",
       "      <th>1</th>\n",
       "      <td>0001f83c-c6ac-4621-b7f0-8a28b283ac30</td>\n",
       "      <td>2020-05-06</td>\n",
       "      <td>building</td>\n",
       "      <td>assembly_shop</td>\n",
       "      <td>None</td>\n",
       "      <td>2020-05-06</td>\n",
       "      <td>building</td>\n",
       "      <td>0</td>\n",
       "      <td>other</td>\n",
       "      <td>facebook_ads</td>\n",
       "    </tr>\n",
       "    <tr>\n",
       "      <th>2</th>\n",
       "      <td>0001f83c-c6ac-4621-b7f0-8a28b283ac30</td>\n",
       "      <td>2020-05-06</td>\n",
       "      <td>building</td>\n",
       "      <td>assembly_shop</td>\n",
       "      <td>None</td>\n",
       "      <td>2020-05-06</td>\n",
       "      <td>building</td>\n",
       "      <td>0</td>\n",
       "      <td>other</td>\n",
       "      <td>facebook_ads</td>\n",
       "    </tr>\n",
       "    <tr>\n",
       "      <th>3</th>\n",
       "      <td>0001f83c-c6ac-4621-b7f0-8a28b283ac30</td>\n",
       "      <td>2020-05-06</td>\n",
       "      <td>building</td>\n",
       "      <td>assembly_shop</td>\n",
       "      <td>None</td>\n",
       "      <td>2020-05-09</td>\n",
       "      <td>building</td>\n",
       "      <td>3</td>\n",
       "      <td>other</td>\n",
       "      <td>facebook_ads</td>\n",
       "    </tr>\n",
       "    <tr>\n",
       "      <th>4</th>\n",
       "      <td>0001f83c-c6ac-4621-b7f0-8a28b283ac30</td>\n",
       "      <td>2020-05-06</td>\n",
       "      <td>building</td>\n",
       "      <td>assembly_shop</td>\n",
       "      <td>None</td>\n",
       "      <td>2020-05-09</td>\n",
       "      <td>building</td>\n",
       "      <td>3</td>\n",
       "      <td>other</td>\n",
       "      <td>facebook_ads</td>\n",
       "    </tr>\n",
       "    <tr>\n",
       "      <th>...</th>\n",
       "      <td>...</td>\n",
       "      <td>...</td>\n",
       "      <td>...</td>\n",
       "      <td>...</td>\n",
       "      <td>...</td>\n",
       "      <td>...</td>\n",
       "      <td>...</td>\n",
       "      <td>...</td>\n",
       "      <td>...</td>\n",
       "      <td>...</td>\n",
       "    </tr>\n",
       "    <tr>\n",
       "      <th>135635</th>\n",
       "      <td>ffff69cc-fec1-4fd3-9f98-93be1112a6b8</td>\n",
       "      <td>2020-05-08</td>\n",
       "      <td>building</td>\n",
       "      <td>assembly_shop</td>\n",
       "      <td>satellite_orbital_assembly</td>\n",
       "      <td>2020-05-23</td>\n",
       "      <td>building</td>\n",
       "      <td>15</td>\n",
       "      <td>PvE</td>\n",
       "      <td>facebook_ads</td>\n",
       "    </tr>\n",
       "    <tr>\n",
       "      <th>135636</th>\n",
       "      <td>ffff69cc-fec1-4fd3-9f98-93be1112a6b8</td>\n",
       "      <td>2020-05-08</td>\n",
       "      <td>building</td>\n",
       "      <td>assembly_shop</td>\n",
       "      <td>satellite_orbital_assembly</td>\n",
       "      <td>2020-05-24</td>\n",
       "      <td>building</td>\n",
       "      <td>16</td>\n",
       "      <td>PvE</td>\n",
       "      <td>facebook_ads</td>\n",
       "    </tr>\n",
       "    <tr>\n",
       "      <th>135637</th>\n",
       "      <td>ffff69cc-fec1-4fd3-9f98-93be1112a6b8</td>\n",
       "      <td>2020-05-08</td>\n",
       "      <td>building</td>\n",
       "      <td>assembly_shop</td>\n",
       "      <td>satellite_orbital_assembly</td>\n",
       "      <td>2020-05-25</td>\n",
       "      <td>project</td>\n",
       "      <td>17</td>\n",
       "      <td>PvE</td>\n",
       "      <td>facebook_ads</td>\n",
       "    </tr>\n",
       "    <tr>\n",
       "      <th>135638</th>\n",
       "      <td>ffff69cc-fec1-4fd3-9f98-93be1112a6b8</td>\n",
       "      <td>2020-05-08</td>\n",
       "      <td>building</td>\n",
       "      <td>assembly_shop</td>\n",
       "      <td>satellite_orbital_assembly</td>\n",
       "      <td>2020-05-25</td>\n",
       "      <td>building</td>\n",
       "      <td>17</td>\n",
       "      <td>PvE</td>\n",
       "      <td>facebook_ads</td>\n",
       "    </tr>\n",
       "    <tr>\n",
       "      <th>135639</th>\n",
       "      <td>ffff69cc-fec1-4fd3-9f98-93be1112a6b8</td>\n",
       "      <td>2020-05-08</td>\n",
       "      <td>building</td>\n",
       "      <td>assembly_shop</td>\n",
       "      <td>satellite_orbital_assembly</td>\n",
       "      <td>2020-05-25</td>\n",
       "      <td>finished_stage_1</td>\n",
       "      <td>17</td>\n",
       "      <td>PvE</td>\n",
       "      <td>facebook_ads</td>\n",
       "    </tr>\n",
       "  </tbody>\n",
       "</table>\n",
       "<p>135640 rows × 10 columns</p>\n",
       "</div>"
      ],
      "text/plain": [
       "                                     user_id    first_dt first_event  \\\n",
       "0       0001f83c-c6ac-4621-b7f0-8a28b283ac30  2020-05-06    building   \n",
       "1       0001f83c-c6ac-4621-b7f0-8a28b283ac30  2020-05-06    building   \n",
       "2       0001f83c-c6ac-4621-b7f0-8a28b283ac30  2020-05-06    building   \n",
       "3       0001f83c-c6ac-4621-b7f0-8a28b283ac30  2020-05-06    building   \n",
       "4       0001f83c-c6ac-4621-b7f0-8a28b283ac30  2020-05-06    building   \n",
       "...                                      ...         ...         ...   \n",
       "135635  ffff69cc-fec1-4fd3-9f98-93be1112a6b8  2020-05-08    building   \n",
       "135636  ffff69cc-fec1-4fd3-9f98-93be1112a6b8  2020-05-08    building   \n",
       "135637  ffff69cc-fec1-4fd3-9f98-93be1112a6b8  2020-05-08    building   \n",
       "135638  ffff69cc-fec1-4fd3-9f98-93be1112a6b8  2020-05-08    building   \n",
       "135639  ffff69cc-fec1-4fd3-9f98-93be1112a6b8  2020-05-08    building   \n",
       "\n",
       "        building_type                project_type event_datetime  \\\n",
       "0       assembly_shop                        None     2020-05-06   \n",
       "1       assembly_shop                        None     2020-05-06   \n",
       "2       assembly_shop                        None     2020-05-06   \n",
       "3       assembly_shop                        None     2020-05-09   \n",
       "4       assembly_shop                        None     2020-05-09   \n",
       "...               ...                         ...            ...   \n",
       "135635  assembly_shop  satellite_orbital_assembly     2020-05-23   \n",
       "135636  assembly_shop  satellite_orbital_assembly     2020-05-24   \n",
       "135637  assembly_shop  satellite_orbital_assembly     2020-05-25   \n",
       "135638  assembly_shop  satellite_orbital_assembly     2020-05-25   \n",
       "135639  assembly_shop  satellite_orbital_assembly     2020-05-25   \n",
       "\n",
       "                   event  lifetime type_player        source  \n",
       "0               building         0       other  facebook_ads  \n",
       "1               building         0       other  facebook_ads  \n",
       "2               building         0       other  facebook_ads  \n",
       "3               building         3       other  facebook_ads  \n",
       "4               building         3       other  facebook_ads  \n",
       "...                  ...       ...         ...           ...  \n",
       "135635          building        15         PvE  facebook_ads  \n",
       "135636          building        16         PvE  facebook_ads  \n",
       "135637           project        17         PvE  facebook_ads  \n",
       "135638          building        17         PvE  facebook_ads  \n",
       "135639  finished_stage_1        17         PvE  facebook_ads  \n",
       "\n",
       "[135640 rows x 10 columns]"
      ]
     },
     "execution_count": 66,
     "metadata": {},
     "output_type": "execute_result"
    }
   ],
   "source": [
    "# добавим столбец с источником привлечения пользователя\n",
    "life = life.merge(user_source, on = 'user_id', how='left')\n",
    "life"
   ]
  },
  {
   "cell_type": "markdown",
   "id": "4500a2c1",
   "metadata": {},
   "source": [
    "Посмотрим, как меняется количество построек в течение лайфтайма по типам пользователей:"
   ]
  },
  {
   "cell_type": "code",
   "execution_count": 67,
   "id": "fe67e784",
   "metadata": {},
   "outputs": [
    {
     "data": {
      "text/plain": [
       "<Figure size 1008x432 with 0 Axes>"
      ]
     },
     "metadata": {},
     "output_type": "display_data"
    },
    {
     "data": {
      "image/png": "[encoded data removed]",
      "text/plain": [
       "<Figure size 432x288 with 1 Axes>"
      ]
     },
     "metadata": {
      "needs_background": "light"
     },
     "output_type": "display_data"
    }
   ],
   "source": [
    "# построим график\n",
    "plt.figure(figsize=(14,6));\n",
    "life.loc[life['event'] == 'building']\\\n",
    ".pivot_table(index = 'lifetime', columns = 'type_player', values = 'event', aggfunc = 'count').plot();\n",
    "plt.title('История изменения количества построек по типу игроков');\n",
    "plt.xlabel('Лайфтайм');\n",
    "plt.ylabel('Количество строек');\n",
    "plt.show();"
   ]
  },
  {
   "cell_type": "markdown",
   "id": "24fde254",
   "metadata": {},
   "source": [
    "По этому графику видно, что нужно успевать начать показ рекламы до 5 дня лайфтайма. При этом PvE пользователи, как мы видим, вносят меньший вклад в общее количество построенных объектов, так как это немногочисленная группа (лишь 1866 человек), но мы помним, что каждый из них активнее строит здания, чем PvP игроки. \n",
    "\n",
    "Посмотрим, какую долю составляют PvE игроки среди тех, кто был привлечен с Фейсбука, так как там самая высокая цена за привлечение пользователя, которая лучше окупается игроками PvE."
   ]
  },
  {
   "cell_type": "code",
   "execution_count": 68,
   "id": "5d4a8ff6",
   "metadata": {},
   "outputs": [
    {
     "data": {
      "image/png": "[encoded data removed]",
      "text/plain": [
       "<Figure size 432x288 with 1 Axes>"
      ]
     },
     "metadata": {},
     "output_type": "display_data"
    }
   ],
   "source": [
    "life.loc[life['source'] == 'facebook_ads']['type_player'].value_counts().plot(kind = 'pie',\n",
    "                                                                              autopct='%1.1f%%',\n",
    "                                                                              ylabel = '');\n",
    "plt.title('Соотношение игроков по типам с Facebook');"
   ]
  },
  {
   "cell_type": "code",
   "execution_count": 69,
   "id": "dcc45c75",
   "metadata": {},
   "outputs": [
    {
     "data": {
      "image/png": "[encoded data removed]",
      "text/plain": [
       "<Figure size 432x288 with 1 Axes>"
      ]
     },
     "metadata": {},
     "output_type": "display_data"
    }
   ],
   "source": [
    "life['type_player'].value_counts().plot(kind = 'pie',\n",
    "                                        autopct='%1.1f%%',\n",
    "                                        ylabel = '');\n",
    "plt.title('Соотношение игроков по типам со всех источников');"
   ]
  },
  {
   "cell_type": "markdown",
   "id": "570a734f",
   "metadata": {},
   "source": [
    "Хм, их меньше, чем PvP игроков, но более половины пользователей еще не завершили уровень, поэтому не могут быть отнесены к какому-либо типу, есть шанс \"переманить\" их в сторону PvE.\n",
    "\n",
    "Перейдем к непосредственно подсчетам окупаемости рекламы."
   ]
  },
  {
   "cell_type": "code",
   "execution_count": 70,
   "id": "69ad08ca",
   "metadata": {},
   "outputs": [],
   "source": [
    "# сохраним траты, чтобы считать\n",
    "cost = ad_costs['cost'].sum()"
   ]
  },
  {
   "cell_type": "code",
   "execution_count": 71,
   "id": "0cb29009",
   "metadata": {},
   "outputs": [
    {
     "data": {
      "text/html": [
       "<div>\n",
       "<style scoped>\n",
       "    .dataframe tbody tr th:only-of-type {\n",
       "        vertical-align: middle;\n",
       "    }\n",
       "\n",
       "    .dataframe tbody tr th {\n",
       "        vertical-align: top;\n",
       "    }\n",
       "\n",
       "    .dataframe thead th {\n",
       "        text-align: right;\n",
       "    }\n",
       "</style>\n",
       "<table border=\"1\" class=\"dataframe\">\n",
       "  <thead>\n",
       "    <tr style=\"text-align: right;\">\n",
       "      <th></th>\n",
       "      <th>user_id</th>\n",
       "      <th>lifetime</th>\n",
       "      <th>build_cnt</th>\n",
       "      <th>cum_build</th>\n",
       "    </tr>\n",
       "  </thead>\n",
       "  <tbody>\n",
       "    <tr>\n",
       "      <th>0</th>\n",
       "      <td>0001f83c-c6ac-4621-b7f0-8a28b283ac30</td>\n",
       "      <td>0</td>\n",
       "      <td>3</td>\n",
       "      <td>3</td>\n",
       "    </tr>\n",
       "    <tr>\n",
       "      <th>1</th>\n",
       "      <td>0001f83c-c6ac-4621-b7f0-8a28b283ac30</td>\n",
       "      <td>3</td>\n",
       "      <td>3</td>\n",
       "      <td>6</td>\n",
       "    </tr>\n",
       "    <tr>\n",
       "      <th>2</th>\n",
       "      <td>0001f83c-c6ac-4621-b7f0-8a28b283ac30</td>\n",
       "      <td>5</td>\n",
       "      <td>1</td>\n",
       "      <td>7</td>\n",
       "    </tr>\n",
       "    <tr>\n",
       "      <th>3</th>\n",
       "      <td>0001f83c-c6ac-4621-b7f0-8a28b283ac30</td>\n",
       "      <td>6</td>\n",
       "      <td>2</td>\n",
       "      <td>9</td>\n",
       "    </tr>\n",
       "    <tr>\n",
       "      <th>4</th>\n",
       "      <td>0001f83c-c6ac-4621-b7f0-8a28b283ac30</td>\n",
       "      <td>8</td>\n",
       "      <td>1</td>\n",
       "      <td>10</td>\n",
       "    </tr>\n",
       "    <tr>\n",
       "      <th>...</th>\n",
       "      <td>...</td>\n",
       "      <td>...</td>\n",
       "      <td>...</td>\n",
       "      <td>...</td>\n",
       "    </tr>\n",
       "    <tr>\n",
       "      <th>91065</th>\n",
       "      <td>ffff69cc-fec1-4fd3-9f98-93be1112a6b8</td>\n",
       "      <td>8</td>\n",
       "      <td>2</td>\n",
       "      <td>8</td>\n",
       "    </tr>\n",
       "    <tr>\n",
       "      <th>91066</th>\n",
       "      <td>ffff69cc-fec1-4fd3-9f98-93be1112a6b8</td>\n",
       "      <td>9</td>\n",
       "      <td>1</td>\n",
       "      <td>9</td>\n",
       "    </tr>\n",
       "    <tr>\n",
       "      <th>91067</th>\n",
       "      <td>ffff69cc-fec1-4fd3-9f98-93be1112a6b8</td>\n",
       "      <td>15</td>\n",
       "      <td>1</td>\n",
       "      <td>10</td>\n",
       "    </tr>\n",
       "    <tr>\n",
       "      <th>91068</th>\n",
       "      <td>ffff69cc-fec1-4fd3-9f98-93be1112a6b8</td>\n",
       "      <td>16</td>\n",
       "      <td>1</td>\n",
       "      <td>11</td>\n",
       "    </tr>\n",
       "    <tr>\n",
       "      <th>91069</th>\n",
       "      <td>ffff69cc-fec1-4fd3-9f98-93be1112a6b8</td>\n",
       "      <td>17</td>\n",
       "      <td>1</td>\n",
       "      <td>12</td>\n",
       "    </tr>\n",
       "  </tbody>\n",
       "</table>\n",
       "<p>91070 rows × 4 columns</p>\n",
       "</div>"
      ],
      "text/plain": [
       "                                    user_id  lifetime  build_cnt  cum_build\n",
       "0      0001f83c-c6ac-4621-b7f0-8a28b283ac30         0          3          3\n",
       "1      0001f83c-c6ac-4621-b7f0-8a28b283ac30         3          3          6\n",
       "2      0001f83c-c6ac-4621-b7f0-8a28b283ac30         5          1          7\n",
       "3      0001f83c-c6ac-4621-b7f0-8a28b283ac30         6          2          9\n",
       "4      0001f83c-c6ac-4621-b7f0-8a28b283ac30         8          1         10\n",
       "...                                     ...       ...        ...        ...\n",
       "91065  ffff69cc-fec1-4fd3-9f98-93be1112a6b8         8          2          8\n",
       "91066  ffff69cc-fec1-4fd3-9f98-93be1112a6b8         9          1          9\n",
       "91067  ffff69cc-fec1-4fd3-9f98-93be1112a6b8        15          1         10\n",
       "91068  ffff69cc-fec1-4fd3-9f98-93be1112a6b8        16          1         11\n",
       "91069  ffff69cc-fec1-4fd3-9f98-93be1112a6b8        17          1         12\n",
       "\n",
       "[91070 rows x 4 columns]"
      ]
     },
     "execution_count": 71,
     "metadata": {},
     "output_type": "execute_result"
    }
   ],
   "source": [
    "# создадим таблицу с кумулирующей суммой построек\n",
    "cum_build = (life.loc[life['event'] == 'building']\n",
    "             .groupby(['user_id', 'lifetime'], as_index=False)\n",
    "             .agg({'event':'count'})\n",
    "             .rename(columns={'event':'build_cnt'})\n",
    "            )\n",
    "cum_build['cum_build'] = cum_build.groupby('user_id')['build_cnt'].cumsum()\n",
    "cum_build"
   ]
  },
  {
   "cell_type": "markdown",
   "id": "6c08c2f2",
   "metadata": {},
   "source": [
    "Значит, лучше начать показывать рекламу в первую неделю игры, при этом желательно привязать ее к количеству построек, а не к дням, так как могут быть отличия, некоторые пользователи могут долго не заходить в игру, но при этом успевать за свои сессии строить достаточное количество объектов.\n",
    "\n",
    "Ниже я пыталась составить следующую модель: начать показ рекламы с N-ого построенного здания, но при этом если игрок к M дню игры так и не сделал это N количество строек, начать показывать ему рекламу с этого M дня. Были варианты с 3, 4, 5 днями и стройками, но они не окупались по имеющимся данным."
   ]
  },
  {
   "cell_type": "code",
   "execution_count": 72,
   "id": "242e7c1c",
   "metadata": {},
   "outputs": [
    {
     "data": {
      "text/plain": [
       "372"
      ]
     },
     "execution_count": 72,
     "metadata": {},
     "output_type": "execute_result"
    }
   ],
   "source": [
    "# игроки, которые за 5 дней жизни построили менее 3 зданий\n",
    "passive = cum_build.loc[(cum_build['lifetime'] >= 5) & (cum_build['cum_build'] < 3)]['user_id'].unique()\n",
    "len(passive)"
   ]
  },
  {
   "cell_type": "code",
   "execution_count": 73,
   "id": "fda0966a",
   "metadata": {},
   "outputs": [
    {
     "data": {
      "text/plain": [
       "12949"
      ]
     },
     "execution_count": 73,
     "metadata": {},
     "output_type": "execute_result"
    }
   ],
   "source": [
    "# игроки, которые построили 3 и более зданий\n",
    "active = cum_build.loc[~(cum_build['user_id'].isin(passive)) & (cum_build['cum_build'] >= 3)]['user_id'].unique()\n",
    "len(active)"
   ]
  },
  {
   "cell_type": "code",
   "execution_count": 74,
   "id": "789aa0a0",
   "metadata": {},
   "outputs": [],
   "source": [
    "# рассчитываем выручку с активных игроков\n",
    "rev = (cum_build.loc[(cum_build['user_id'].isin(active))]\n",
    "        .groupby('user_id')\n",
    "        .agg({'cum_build':'last'})\n",
    "       )\n",
    "rev['cum_build'] = rev['cum_build'].apply(lambda x: x-2)\n",
    "rev = rev['cum_build'].sum()*0.07"
   ]
  },
  {
   "cell_type": "code",
   "execution_count": 75,
   "id": "7a752bb3",
   "metadata": {},
   "outputs": [],
   "source": [
    "# и выручку с пассивных игроков\n",
    "rev2 = cum_build.loc[(cum_build['user_id'].isin(passive)) & (cum_build['lifetime'] >= 5)]\n",
    "rev2 = rev2['build_cnt'].sum()*0.07"
   ]
  },
  {
   "cell_type": "code",
   "execution_count": 76,
   "id": "6ea83cc8",
   "metadata": {},
   "outputs": [
    {
     "name": "stdout",
     "output_type": "stream",
     "text": [
      "Выручка составит 7086.38 у.е\n",
      "Реклама не окупится ROI = 93.2%\n"
     ]
    }
   ],
   "source": [
    "# проверка окупаемости рекламы\n",
    "def check_rev(revenue, cost):\n",
    "    print(f'Выручка составит {round(revenue,2)} у.е')\n",
    "    if revenue < cost:\n",
    "        print(f'Реклама не окупится ROI = {round(revenue*100 / cost, 2)}%')\n",
    "    else:\n",
    "        print(f'Реклама окупится, ROI = {round(revenue*100 / cost, 2)}%')\n",
    "revenue = rev + rev2\n",
    "check_rev(revenue, cost)"
   ]
  },
  {
   "cell_type": "markdown",
   "id": "410e02e6",
   "metadata": {},
   "source": [
    "Поэтому я приняла решение начать показ рекламы с опреденного количества совершенных строек, не привязывая к дню игры. И вот тут самое сложное - обосновать, с какого количества зданий стоит начинать. \\\n",
    "Вспомним, что мы имеем: медианное количество строек на пользователя - 10 штук, при этом чуть выше у PvE игроков - 12 штук. Максимальная активность наблюдается в первую неделю от скачивания игры."
   ]
  },
  {
   "cell_type": "code",
   "execution_count": 77,
   "id": "9697c0df",
   "metadata": {},
   "outputs": [
    {
     "name": "stdout",
     "output_type": "stream",
     "text": [
      "При этом медианное количество строек, которые уже совершил пользователь к 5 дню равно 6.0\n"
     ]
    }
   ],
   "source": [
    "print(f'При этом медианное количество строек, которые уже совершил пользователь к 5 дню равно \\\n",
    "{cum_build.loc[cum_build[\"lifetime\"] == 5][\"cum_build\"].median()}')"
   ]
  },
  {
   "cell_type": "code",
   "execution_count": 78,
   "id": "6ee52551",
   "metadata": {},
   "outputs": [
    {
     "name": "stdout",
     "output_type": "stream",
     "text": [
      "Но имеется 2664 пользователя, которые совершили менее 6 строек, это 0.2% от всех\n"
     ]
    }
   ],
   "source": [
    "print(f'Но имеется {len(build_all.loc[build_all[\"build_cnt\"] < 6][\"user_id\"].unique())} \\\n",
    "пользователя, которые совершили менее 6 строек, \\\n",
    "это {round((len(build_all.loc[build_all[\"build_cnt\"] < 6][\"user_id\"].unique())) / len(user_source),2)}% от всех')"
   ]
  },
  {
   "cell_type": "markdown",
   "id": "b7be72b7",
   "metadata": {},
   "source": [
    "Доля небольшая, но посчитав разные варианты, я пришла к тому, что реклама окупится, если начать показ со второй стройки. "
   ]
  },
  {
   "cell_type": "code",
   "execution_count": 79,
   "id": "4a44c0bc",
   "metadata": {},
   "outputs": [],
   "source": [
    "# обернем расчеты в функцию, чтобы можно было проверить разные варианты\n",
    "def roi_ads(n):\n",
    "    # найдем тех, кто совершил n и более стройки\n",
    "    active = build_all.loc[build_all['build_cnt'] >= n]\n",
    "    # применим функцию, чтобы отнять стройки, где не было показа рекламы\n",
    "    active['build_cnt'] = active['build_cnt'].apply(lambda x: x-(n-1))\n",
    "    # найдем выручку\n",
    "    revenue = active['build_cnt'].sum()*0.07\n",
    "    # проверим окупаемость\n",
    "    check_rev(revenue, cost)"
   ]
  },
  {
   "cell_type": "markdown",
   "id": "56f421fd",
   "metadata": {},
   "source": [
    "Результат, если начать показ со 2-ой постройки:"
   ]
  },
  {
   "cell_type": "code",
   "execution_count": 80,
   "id": "eb692a4a",
   "metadata": {},
   "outputs": [
    {
     "name": "stdout",
     "output_type": "stream",
     "text": [
      "Выручка составит 8006.67 у.е\n",
      "Реклама окупится, ROI = 105.3%\n"
     ]
    }
   ],
   "source": [
    "roi_ads(2)"
   ]
  },
  {
   "cell_type": "markdown",
   "id": "694d9d1f",
   "metadata": {},
   "source": [
    "А вот если начать даже с 3-ей постройки:"
   ]
  },
  {
   "cell_type": "code",
   "execution_count": 81,
   "id": "69d997ca",
   "metadata": {},
   "outputs": [
    {
     "name": "stdout",
     "output_type": "stream",
     "text": [
      "Выручка составит 7060.34 у.е\n",
      "Реклама не окупится ROI = 92.86%\n"
     ]
    }
   ],
   "source": [
    "roi_ads(3)"
   ]
  },
  {
   "cell_type": "markdown",
   "id": "bbca0144",
   "metadata": {},
   "source": [
    "Еще раз доказать, что мы не можем начать показ рекламы позже, можно так:"
   ]
  },
  {
   "cell_type": "code",
   "execution_count": 82,
   "id": "3e12408a",
   "metadata": {},
   "outputs": [
    {
     "name": "stdout",
     "output_type": "stream",
     "text": [
      "Средняя стоимость привлечения пользователей из всех источников = 0.575\n",
      "Медианное количество строек на человека 10 штук, при этом одна сройка приносит 0.07 у.е.\n",
      "Если мы начнем показ хотя бы с третьего здания, то у каждого пользователя мы отнимем по 2 первых здания - они не будут видеть рекламу при постройке их\n",
      "Тогда с одного человека мы получим 0.56 у.е\n",
      "Что меньше, чем средний CAC\n"
     ]
    }
   ],
   "source": [
    "print(f'Средняя стоимость привлечения пользователей из всех источников = {cac[\"cac\"].mean()}')\n",
    "print('Медианное количество строек на человека 10 штук, при этом одна сройка приносит 0.07 у.е.')\n",
    "print('Если мы начнем показ хотя бы с третьего здания, то у каждого пользователя мы отнимем по 2 первых здания \\\n",
    "- они не будут видеть рекламу при постройке их')\n",
    "print(f'Тогда с одного человека мы получим {0.07*(10-2)} у.е')\n",
    "print('Что меньше, чем средний CAC')"
   ]
  },
  {
   "cell_type": "markdown",
   "id": "04590665",
   "metadata": {},
   "source": [
    "На самом деле, хотелось бы начать показ позже или связать его с лайфтаймом, как я изначально хотела. Но пока именно при проверке этих данных реклама никак не окупилась бы с другой схемой. \\\n",
    "Но да, стоит помнить, что в датасете есть пользователи, у которых еще не определен тип игры. Чтобы реклама была эффективнее и более индивидуальна, можно попробовать увеличить количество PvE пользователей, особенно с Фейсбука. Ну и, соответственно, увеличить количество зданий на пользователя. "
   ]
  },
  {
   "cell_type": "markdown",
   "id": "512c30a1",
   "metadata": {},
   "source": [
    "## Выводы"
   ]
  },
  {
   "cell_type": "markdown",
   "id": "72123080",
   "metadata": {},
   "source": [
    "**Предобработка данных:** В результате предобработки данных был обнаружен лишь один полный дубликат, что могло появиться из-за ошибки выгрузки. При этом аномальных пропусков не найдено, данные собраны корректно.\n",
    "\n",
    "**Исследовательский анализ:** \n",
    "\n",
    "Игроки разделены на три группы:\n",
    "- PvP (завершили уровень убийством врага)\n",
    "- PvE (завершили уровень проектом)\n",
    "- other (те, которые еще не завершили уровень, поэтому не могут быть отнесены к какому-либо типу).\n",
    "\n",
    "Была исследована популярность всех трёх типов объектов, лидером оказался космопорт - именно его пользователи строят чаще всего, а вот исследовательский центр выбирают реже других. Причем распределение по популярности объектов одинаково у всех типов игроков. \\\n",
    "За месяц каждый из игроков построил от 1 до 20 объектов, медианное количество зданий на человека - 10 штук. При этом было установлено, что PvE игроки строят достоверно больше зданий (медиана 12), чем PvP игроки (медиана 9). \n",
    "\n",
    "Первый уровень за этот месяц завершили 42.8% игроков. В среднем пользователю требуется 1.5 - 2 недели для прохождения 1-го уровня, медианное количество дней - 11. И было выявлено, что PvE игроки значимо дольше проходят первый уровень, чем PvP пользователи (13 и 10 дней соответственно).\n",
    "\n",
    "Максимальная активность по постройкам наблюдается в первую неделю жизни в игре, затем количество построек в день снижается. Пик приодится на 5-6 день. При этом в среднем к 5-му дню игры пользователи имеют уже по 6 построенных зданий, лишь 0.2% игроков не достигает такого количество к этому дню.\n",
    "\n",
    "**Исследование рекламных источников:** \n",
    "\n",
    "На рекламу было потрачено 7603.58 у.е. За весь период с 4.05 по 10.05 реклама привлекла 13576 пользователей. Они построили в сумме 127957 зданий. Если один показ рекламы стоит 0.07 у.е, значит, теоретически, показывая рекламу сразу и всем, приложение заработало бы 8956.99 у.е. \\\n",
    "Больше бюджета было потрачено на рекламу в Яндекс Директ, но в перерасчете на пользователя самым дорогим оказался Facebook, один привлеченный пользователь с Фейсбука обошелся в 0.79 у.е. Самой дешевой оказалась реклама на YouTube. \\\n",
    "Если учесть, что среднестатистический пользователь совершает 10 строек (=10 просмотров рекламы), значит, в среднем пользователь приносит 0.7 у.е, что не окупит рекламу с Фейсбука. А вот PvE пользователи с 12 просмотрами смогут окупить даже привлечение с Фейсбук, но сейчас среди привлеченных с данного источника лишь 20.7% игроков PvE.\n",
    "\n",
    "**Схема монетизации приложения:**\n",
    "\n",
    "Мной были исследованы различные схемы монетизации, но единственной окупаемой оказалась довольно простая схема: *начать показ рекламы всем пользователям со второй постройки*. Тогда приложение заработает 8006.67 у.е, что окупит затраты на привлечение пользователей. \n",
    "\n",
    "**Практические рекомендации:**\n",
    "\n",
    "Так как схема монетизации оказалась довольно проста, можно запустить A/B-тест с новой моделью показа баннеров. А также после запуска рекламы обязательно нужно следить за метриками в игре - retention, churn, lifetime, также мониторить отзывы на платформах для скачивания игры. Это поможет увидеть возможные негативные последствия в ранние сроки. \n",
    "\n",
    "Хотелось бы сделать показ рекламы более индивидуальным, я рассматривала привязку не только к количеству построек, но и к дню в игре. Но для этого нужно повысить долю PvE игроков, особенно пришедших с Facebook. Может быть, стоит сделать персональные предложения, бонусы за реализацию проекта. Или повышать мотивацию строить здания для всех игроков также дополнительными бонусами, наградой в виде внутриигровой валюты, соревнованиями по постройкам, введением баттл-пассов с дополнительными постройками. *Нужно привести медианное количество построек за месяц хотя бы к 12 зданиям, после этого можно будет пересмотреть модель монетизации.*\n",
    "\n",
    "И еще стоит обратить внимание, что есть большой провал пользователей на 7-ой постройке, либо там возникает сложность в механике, игроки пытаются завершить этап раньше этой стройки, либо после нее очень быстро совершают следующую постройку. Эту информацию можно передать геймдизайнерам, чтобы понять, в чем там дело."
   ]
  }
 ],
 "metadata": {
  "ExecuteTimeLog": [
   {
    "duration": 1625,
    "start_time": "2023-04-23T10:24:50.875Z"
   },
   {
    "duration": 9,
    "start_time": "2023-04-23T10:24:52.503Z"
   },
   {
    "duration": 871,
    "start_time": "2023-04-23T10:24:52.515Z"
   },
   {
    "duration": 25,
    "start_time": "2023-04-23T10:24:53.387Z"
   },
   {
    "duration": 95,
    "start_time": "2023-04-23T10:24:53.415Z"
   },
   {
    "duration": 322,
    "start_time": "2023-04-23T10:24:53.513Z"
   },
   {
    "duration": 0,
    "start_time": "2023-04-23T10:24:53.838Z"
   },
   {
    "duration": 0,
    "start_time": "2023-04-23T10:24:53.841Z"
   },
   {
    "duration": 0,
    "start_time": "2023-04-23T10:24:53.842Z"
   },
   {
    "duration": 0,
    "start_time": "2023-04-23T10:24:53.844Z"
   },
   {
    "duration": 0,
    "start_time": "2023-04-23T10:24:53.845Z"
   },
   {
    "duration": 0,
    "start_time": "2023-04-23T10:24:53.847Z"
   },
   {
    "duration": 0,
    "start_time": "2023-04-23T10:24:53.849Z"
   },
   {
    "duration": 0,
    "start_time": "2023-04-23T10:24:53.851Z"
   },
   {
    "duration": 0,
    "start_time": "2023-04-23T10:24:53.853Z"
   },
   {
    "duration": 0,
    "start_time": "2023-04-23T10:24:53.855Z"
   },
   {
    "duration": 0,
    "start_time": "2023-04-23T10:24:53.856Z"
   },
   {
    "duration": 0,
    "start_time": "2023-04-23T10:24:53.858Z"
   },
   {
    "duration": 0,
    "start_time": "2023-04-23T10:24:53.860Z"
   },
   {
    "duration": 1,
    "start_time": "2023-04-23T10:24:53.890Z"
   },
   {
    "duration": 0,
    "start_time": "2023-04-23T10:24:53.892Z"
   },
   {
    "duration": 0,
    "start_time": "2023-04-23T10:24:53.894Z"
   },
   {
    "duration": 0,
    "start_time": "2023-04-23T10:24:53.896Z"
   },
   {
    "duration": 0,
    "start_time": "2023-04-23T10:24:53.897Z"
   },
   {
    "duration": 0,
    "start_time": "2023-04-23T10:24:53.899Z"
   },
   {
    "duration": 0,
    "start_time": "2023-04-23T10:24:53.902Z"
   },
   {
    "duration": 0,
    "start_time": "2023-04-23T10:24:53.903Z"
   },
   {
    "duration": 0,
    "start_time": "2023-04-23T10:24:53.905Z"
   },
   {
    "duration": 0,
    "start_time": "2023-04-23T10:24:53.906Z"
   },
   {
    "duration": 0,
    "start_time": "2023-04-23T10:24:53.907Z"
   },
   {
    "duration": 0,
    "start_time": "2023-04-23T10:24:53.909Z"
   },
   {
    "duration": 0,
    "start_time": "2023-04-23T10:24:53.910Z"
   },
   {
    "duration": 0,
    "start_time": "2023-04-23T10:24:53.911Z"
   },
   {
    "duration": 0,
    "start_time": "2023-04-23T10:24:53.912Z"
   },
   {
    "duration": 0,
    "start_time": "2023-04-23T10:24:53.915Z"
   },
   {
    "duration": 0,
    "start_time": "2023-04-23T10:24:53.916Z"
   },
   {
    "duration": 0,
    "start_time": "2023-04-23T10:24:53.918Z"
   },
   {
    "duration": 0,
    "start_time": "2023-04-23T10:24:53.920Z"
   },
   {
    "duration": 0,
    "start_time": "2023-04-23T10:24:53.922Z"
   },
   {
    "duration": 0,
    "start_time": "2023-04-23T10:24:53.924Z"
   },
   {
    "duration": 0,
    "start_time": "2023-04-23T10:24:53.926Z"
   },
   {
    "duration": 0,
    "start_time": "2023-04-23T10:24:53.928Z"
   },
   {
    "duration": 0,
    "start_time": "2023-04-23T10:24:53.930Z"
   },
   {
    "duration": 0,
    "start_time": "2023-04-23T10:24:53.990Z"
   },
   {
    "duration": 0,
    "start_time": "2023-04-23T10:24:53.992Z"
   },
   {
    "duration": 0,
    "start_time": "2023-04-23T10:24:53.994Z"
   },
   {
    "duration": 0,
    "start_time": "2023-04-23T10:24:53.995Z"
   },
   {
    "duration": 0,
    "start_time": "2023-04-23T10:24:53.998Z"
   },
   {
    "duration": 0,
    "start_time": "2023-04-23T10:24:53.999Z"
   },
   {
    "duration": 0,
    "start_time": "2023-04-23T10:24:54.001Z"
   },
   {
    "duration": 0,
    "start_time": "2023-04-23T10:24:54.003Z"
   },
   {
    "duration": 0,
    "start_time": "2023-04-23T10:24:54.005Z"
   },
   {
    "duration": 0,
    "start_time": "2023-04-23T10:24:54.006Z"
   },
   {
    "duration": 0,
    "start_time": "2023-04-23T10:24:54.009Z"
   },
   {
    "duration": 0,
    "start_time": "2023-04-23T10:24:54.011Z"
   },
   {
    "duration": 0,
    "start_time": "2023-04-23T10:24:54.012Z"
   },
   {
    "duration": 0,
    "start_time": "2023-04-23T10:24:54.014Z"
   },
   {
    "duration": 0,
    "start_time": "2023-04-23T10:24:54.015Z"
   },
   {
    "duration": 0,
    "start_time": "2023-04-23T10:24:54.017Z"
   },
   {
    "duration": 0,
    "start_time": "2023-04-23T10:24:54.018Z"
   },
   {
    "duration": 0,
    "start_time": "2023-04-23T10:24:54.020Z"
   },
   {
    "duration": 0,
    "start_time": "2023-04-23T10:24:54.021Z"
   },
   {
    "duration": 0,
    "start_time": "2023-04-23T10:24:54.023Z"
   },
   {
    "duration": 0,
    "start_time": "2023-04-23T10:24:54.025Z"
   },
   {
    "duration": 0,
    "start_time": "2023-04-23T10:24:54.026Z"
   },
   {
    "duration": 0,
    "start_time": "2023-04-23T10:24:54.027Z"
   },
   {
    "duration": 0,
    "start_time": "2023-04-23T10:24:54.028Z"
   },
   {
    "duration": 0,
    "start_time": "2023-04-23T10:24:54.089Z"
   },
   {
    "duration": 0,
    "start_time": "2023-04-23T10:24:54.090Z"
   },
   {
    "duration": 0,
    "start_time": "2023-04-23T10:24:54.091Z"
   },
   {
    "duration": 0,
    "start_time": "2023-04-23T10:24:54.093Z"
   },
   {
    "duration": 0,
    "start_time": "2023-04-23T10:24:54.094Z"
   },
   {
    "duration": 0,
    "start_time": "2023-04-23T10:24:54.097Z"
   },
   {
    "duration": 0,
    "start_time": "2023-04-23T10:24:54.099Z"
   },
   {
    "duration": 0,
    "start_time": "2023-04-23T10:24:54.100Z"
   },
   {
    "duration": 0,
    "start_time": "2023-04-23T10:24:54.101Z"
   },
   {
    "duration": 0,
    "start_time": "2023-04-23T10:24:54.103Z"
   },
   {
    "duration": 0,
    "start_time": "2023-04-23T10:24:54.108Z"
   },
   {
    "duration": 0,
    "start_time": "2023-04-23T10:24:54.110Z"
   },
   {
    "duration": 0,
    "start_time": "2023-04-23T10:24:54.111Z"
   },
   {
    "duration": 0,
    "start_time": "2023-04-23T10:24:54.113Z"
   },
   {
    "duration": 0,
    "start_time": "2023-04-23T10:24:54.114Z"
   },
   {
    "duration": 9,
    "start_time": "2023-04-23T10:25:56.359Z"
   },
   {
    "duration": 31,
    "start_time": "2023-04-23T10:25:57.126Z"
   },
   {
    "duration": 19,
    "start_time": "2023-04-23T10:25:57.743Z"
   },
   {
    "duration": 15,
    "start_time": "2023-04-23T10:25:58.333Z"
   },
   {
    "duration": 73,
    "start_time": "2023-04-23T10:25:59.521Z"
   },
   {
    "duration": 86,
    "start_time": "2023-04-23T10:26:00.174Z"
   },
   {
    "duration": 14,
    "start_time": "2023-04-23T10:26:00.801Z"
   },
   {
    "duration": 11,
    "start_time": "2023-04-23T10:26:01.174Z"
   },
   {
    "duration": 12,
    "start_time": "2023-04-23T10:26:01.334Z"
   },
   {
    "duration": 5,
    "start_time": "2023-04-23T10:26:01.758Z"
   },
   {
    "duration": 5,
    "start_time": "2023-04-23T10:26:01.914Z"
   },
   {
    "duration": 44,
    "start_time": "2023-04-23T10:26:02.926Z"
   },
   {
    "duration": 18,
    "start_time": "2023-04-23T10:26:03.221Z"
   },
   {
    "duration": 34,
    "start_time": "2023-04-23T10:26:03.428Z"
   },
   {
    "duration": 172,
    "start_time": "2023-04-23T10:26:04.934Z"
   },
   {
    "duration": 40,
    "start_time": "2023-04-23T10:26:05.990Z"
   },
   {
    "duration": 76,
    "start_time": "2023-04-23T10:26:06.427Z"
   },
   {
    "duration": 169,
    "start_time": "2023-04-23T10:26:06.694Z"
   },
   {
    "duration": 161,
    "start_time": "2023-04-23T10:26:07.541Z"
   },
   {
    "duration": 56,
    "start_time": "2023-04-23T10:26:08.965Z"
   },
   {
    "duration": 588,
    "start_time": "2023-04-23T10:26:09.630Z"
   },
   {
    "duration": 0,
    "start_time": "2023-04-23T10:26:10.220Z"
   },
   {
    "duration": 277,
    "start_time": "2023-04-23T10:26:10.862Z"
   },
   {
    "duration": 7,
    "start_time": "2023-04-23T10:26:11.583Z"
   },
   {
    "duration": 413,
    "start_time": "2023-04-23T10:26:12.471Z"
   },
   {
    "duration": 1,
    "start_time": "2023-04-23T10:26:12.885Z"
   },
   {
    "duration": 5,
    "start_time": "2023-04-23T10:26:13.477Z"
   },
   {
    "duration": 4,
    "start_time": "2023-04-23T10:26:13.854Z"
   },
   {
    "duration": 11,
    "start_time": "2023-04-23T10:26:14.438Z"
   },
   {
    "duration": 42,
    "start_time": "2023-04-23T10:26:15.286Z"
   },
   {
    "duration": 41,
    "start_time": "2023-04-23T10:26:15.631Z"
   },
   {
    "duration": 4,
    "start_time": "2023-04-23T10:26:16.608Z"
   },
   {
    "duration": 5,
    "start_time": "2023-04-23T10:26:16.798Z"
   },
   {
    "duration": 13,
    "start_time": "2023-04-23T10:26:17.358Z"
   },
   {
    "duration": 111,
    "start_time": "2023-04-23T10:26:18.886Z"
   },
   {
    "duration": 140,
    "start_time": "2023-04-23T10:26:19.838Z"
   },
   {
    "duration": 167,
    "start_time": "2023-04-23T10:26:20.126Z"
   },
   {
    "duration": 23,
    "start_time": "2023-04-23T10:26:20.392Z"
   },
   {
    "duration": 241,
    "start_time": "2023-04-23T10:26:20.742Z"
   },
   {
    "duration": 9,
    "start_time": "2023-04-23T10:26:21.024Z"
   },
   {
    "duration": 15,
    "start_time": "2023-04-23T10:26:21.790Z"
   },
   {
    "duration": 26,
    "start_time": "2023-04-23T10:26:22.251Z"
   },
   {
    "duration": 10,
    "start_time": "2023-04-23T10:26:22.694Z"
   },
   {
    "duration": 6,
    "start_time": "2023-04-23T10:26:23.197Z"
   },
   {
    "duration": 4,
    "start_time": "2023-04-23T10:26:23.654Z"
   },
   {
    "duration": 6,
    "start_time": "2023-04-23T10:26:23.921Z"
   },
   {
    "duration": 12,
    "start_time": "2023-04-23T10:26:24.358Z"
   },
   {
    "duration": 264,
    "start_time": "2023-04-23T10:26:24.846Z"
   },
   {
    "duration": 0,
    "start_time": "2023-04-23T10:26:25.112Z"
   },
   {
    "duration": 8,
    "start_time": "2023-04-23T10:26:25.311Z"
   },
   {
    "duration": 8,
    "start_time": "2023-04-23T10:26:26.294Z"
   },
   {
    "duration": 3,
    "start_time": "2023-04-23T10:26:26.521Z"
   },
   {
    "duration": 179,
    "start_time": "2023-04-23T10:26:26.734Z"
   },
   {
    "duration": 223,
    "start_time": "2023-04-23T10:26:26.967Z"
   },
   {
    "duration": 170,
    "start_time": "2023-04-23T10:26:27.726Z"
   },
   {
    "duration": 34,
    "start_time": "2023-04-23T10:26:28.198Z"
   },
   {
    "duration": 136,
    "start_time": "2023-04-23T10:26:29.059Z"
   },
   {
    "duration": 0,
    "start_time": "2023-04-23T10:26:29.196Z"
   },
   {
    "duration": 0,
    "start_time": "2023-04-23T10:26:29.198Z"
   },
   {
    "duration": 36,
    "start_time": "2023-04-23T10:26:29.526Z"
   },
   {
    "duration": 1660,
    "start_time": "2023-04-23T10:26:30.024Z"
   },
   {
    "duration": 0,
    "start_time": "2023-04-23T10:26:31.685Z"
   },
   {
    "duration": 3,
    "start_time": "2023-04-23T10:26:33.886Z"
   },
   {
    "duration": 38,
    "start_time": "2023-04-23T10:26:34.479Z"
   },
   {
    "duration": 9,
    "start_time": "2023-04-23T10:26:34.975Z"
   },
   {
    "duration": 11,
    "start_time": "2023-04-23T10:26:35.223Z"
   },
   {
    "duration": 11,
    "start_time": "2023-04-23T10:26:35.438Z"
   },
   {
    "duration": 10,
    "start_time": "2023-04-23T10:26:35.678Z"
   },
   {
    "duration": 13,
    "start_time": "2023-04-23T10:26:35.920Z"
   },
   {
    "duration": 10,
    "start_time": "2023-04-23T10:26:36.398Z"
   },
   {
    "duration": 17,
    "start_time": "2023-04-23T10:26:36.621Z"
   },
   {
    "duration": 14,
    "start_time": "2023-04-23T10:26:37.021Z"
   },
   {
    "duration": 20,
    "start_time": "2023-04-23T10:26:37.175Z"
   },
   {
    "duration": 4,
    "start_time": "2023-04-23T10:26:37.358Z"
   },
   {
    "duration": 4,
    "start_time": "2023-04-23T10:26:37.594Z"
   },
   {
    "duration": 5,
    "start_time": "2023-04-23T10:26:38.021Z"
   },
   {
    "duration": 116,
    "start_time": "2023-04-23T10:36:22.779Z"
   },
   {
    "duration": 18777,
    "start_time": "2023-04-23T10:44:07.267Z"
   },
   {
    "duration": 57,
    "start_time": "2023-04-23T10:44:26.046Z"
   },
   {
    "duration": 139,
    "start_time": "2023-04-23T10:44:55.143Z"
   },
   {
    "duration": 7305,
    "start_time": "2023-04-23T13:17:43.402Z"
   },
   {
    "duration": 2933,
    "start_time": "2023-04-23T13:17:51.610Z"
   },
   {
    "duration": 1638,
    "start_time": "2023-04-23T13:17:54.546Z"
   },
   {
    "duration": 5,
    "start_time": "2023-04-23T13:17:56.186Z"
   },
   {
    "duration": 693,
    "start_time": "2023-04-23T13:17:56.193Z"
   },
   {
    "duration": 24,
    "start_time": "2023-04-23T13:17:56.888Z"
   },
   {
    "duration": 51,
    "start_time": "2023-04-23T13:17:56.914Z"
   },
   {
    "duration": 329,
    "start_time": "2023-04-23T13:17:56.967Z"
   },
   {
    "duration": 9,
    "start_time": "2023-04-23T13:17:57.298Z"
   },
   {
    "duration": 19,
    "start_time": "2023-04-23T13:17:57.308Z"
   },
   {
    "duration": 29,
    "start_time": "2023-04-23T13:17:57.328Z"
   },
   {
    "duration": 22,
    "start_time": "2023-04-23T13:17:57.359Z"
   },
   {
    "duration": 95,
    "start_time": "2023-04-23T13:17:57.383Z"
   },
   {
    "duration": 87,
    "start_time": "2023-04-23T13:17:57.480Z"
   },
   {
    "duration": 9,
    "start_time": "2023-04-23T13:17:57.570Z"
   },
   {
    "duration": 14,
    "start_time": "2023-04-23T13:17:57.581Z"
   },
   {
    "duration": 10,
    "start_time": "2023-04-23T13:17:57.597Z"
   },
   {
    "duration": 3,
    "start_time": "2023-04-23T13:17:57.609Z"
   },
   {
    "duration": 7,
    "start_time": "2023-04-23T13:17:57.614Z"
   },
   {
    "duration": 61,
    "start_time": "2023-04-23T13:17:57.623Z"
   },
   {
    "duration": 19,
    "start_time": "2023-04-23T13:17:57.686Z"
   },
   {
    "duration": 64,
    "start_time": "2023-04-23T13:17:57.706Z"
   },
   {
    "duration": 347,
    "start_time": "2023-04-23T13:17:57.772Z"
   },
   {
    "duration": 45,
    "start_time": "2023-04-23T13:17:58.121Z"
   },
   {
    "duration": 66,
    "start_time": "2023-04-23T13:17:58.168Z"
   },
   {
    "duration": 613,
    "start_time": "2023-04-23T13:17:58.236Z"
   },
   {
    "duration": 529,
    "start_time": "2023-04-23T13:17:58.851Z"
   },
   {
    "duration": 49,
    "start_time": "2023-04-23T13:17:59.382Z"
   },
   {
    "duration": 812,
    "start_time": "2023-04-23T13:17:59.433Z"
   },
   {
    "duration": 12,
    "start_time": "2023-04-23T13:18:00.247Z"
   },
   {
    "duration": 507,
    "start_time": "2023-04-23T13:18:00.260Z"
   },
   {
    "duration": 5,
    "start_time": "2023-04-23T13:18:00.769Z"
   },
   {
    "duration": 508,
    "start_time": "2023-04-23T13:18:00.775Z"
   },
   {
    "duration": 6,
    "start_time": "2023-04-23T13:18:01.285Z"
   },
   {
    "duration": 39,
    "start_time": "2023-04-23T13:18:01.292Z"
   },
   {
    "duration": 59,
    "start_time": "2023-04-23T13:18:01.333Z"
   },
   {
    "duration": 129,
    "start_time": "2023-04-23T13:18:01.394Z"
   },
   {
    "duration": 0,
    "start_time": "2023-04-23T13:18:01.526Z"
   },
   {
    "duration": 0,
    "start_time": "2023-04-23T13:18:01.527Z"
   },
   {
    "duration": 0,
    "start_time": "2023-04-23T13:18:01.528Z"
   },
   {
    "duration": 0,
    "start_time": "2023-04-23T13:18:01.529Z"
   },
   {
    "duration": 0,
    "start_time": "2023-04-23T13:18:01.531Z"
   },
   {
    "duration": 0,
    "start_time": "2023-04-23T13:18:01.532Z"
   },
   {
    "duration": 0,
    "start_time": "2023-04-23T13:18:01.533Z"
   },
   {
    "duration": 0,
    "start_time": "2023-04-23T13:18:01.534Z"
   },
   {
    "duration": 0,
    "start_time": "2023-04-23T13:18:01.535Z"
   },
   {
    "duration": 0,
    "start_time": "2023-04-23T13:18:01.536Z"
   },
   {
    "duration": 0,
    "start_time": "2023-04-23T13:18:01.537Z"
   },
   {
    "duration": 0,
    "start_time": "2023-04-23T13:18:01.538Z"
   },
   {
    "duration": 0,
    "start_time": "2023-04-23T13:18:01.539Z"
   },
   {
    "duration": 0,
    "start_time": "2023-04-23T13:18:01.540Z"
   },
   {
    "duration": 0,
    "start_time": "2023-04-23T13:18:01.556Z"
   },
   {
    "duration": 0,
    "start_time": "2023-04-23T13:18:01.558Z"
   },
   {
    "duration": 0,
    "start_time": "2023-04-23T13:18:01.558Z"
   },
   {
    "duration": 0,
    "start_time": "2023-04-23T13:18:01.560Z"
   },
   {
    "duration": 0,
    "start_time": "2023-04-23T13:18:01.561Z"
   },
   {
    "duration": 0,
    "start_time": "2023-04-23T13:18:01.562Z"
   },
   {
    "duration": 0,
    "start_time": "2023-04-23T13:18:01.563Z"
   },
   {
    "duration": 0,
    "start_time": "2023-04-23T13:18:01.564Z"
   },
   {
    "duration": 0,
    "start_time": "2023-04-23T13:18:01.565Z"
   },
   {
    "duration": 0,
    "start_time": "2023-04-23T13:18:01.566Z"
   },
   {
    "duration": 0,
    "start_time": "2023-04-23T13:18:01.567Z"
   },
   {
    "duration": 0,
    "start_time": "2023-04-23T13:18:01.568Z"
   },
   {
    "duration": 0,
    "start_time": "2023-04-23T13:18:01.570Z"
   },
   {
    "duration": 0,
    "start_time": "2023-04-23T13:18:01.572Z"
   },
   {
    "duration": 0,
    "start_time": "2023-04-23T13:18:01.573Z"
   },
   {
    "duration": 0,
    "start_time": "2023-04-23T13:18:01.574Z"
   },
   {
    "duration": 0,
    "start_time": "2023-04-23T13:18:01.576Z"
   },
   {
    "duration": 0,
    "start_time": "2023-04-23T13:18:01.577Z"
   },
   {
    "duration": 0,
    "start_time": "2023-04-23T13:18:01.578Z"
   },
   {
    "duration": 0,
    "start_time": "2023-04-23T13:18:01.579Z"
   },
   {
    "duration": 0,
    "start_time": "2023-04-23T13:18:01.580Z"
   },
   {
    "duration": 0,
    "start_time": "2023-04-23T13:18:01.581Z"
   },
   {
    "duration": 0,
    "start_time": "2023-04-23T13:18:01.582Z"
   },
   {
    "duration": 0,
    "start_time": "2023-04-23T13:18:01.583Z"
   },
   {
    "duration": 0,
    "start_time": "2023-04-23T13:18:01.584Z"
   },
   {
    "duration": 0,
    "start_time": "2023-04-23T13:18:01.585Z"
   },
   {
    "duration": 0,
    "start_time": "2023-04-23T13:18:01.586Z"
   },
   {
    "duration": 0,
    "start_time": "2023-04-23T13:18:01.587Z"
   },
   {
    "duration": 0,
    "start_time": "2023-04-23T13:18:01.588Z"
   },
   {
    "duration": 0,
    "start_time": "2023-04-23T13:18:01.589Z"
   },
   {
    "duration": 0,
    "start_time": "2023-04-23T13:18:01.590Z"
   },
   {
    "duration": 0,
    "start_time": "2023-04-23T13:18:01.591Z"
   },
   {
    "duration": 0,
    "start_time": "2023-04-23T13:18:01.656Z"
   },
   {
    "duration": 296,
    "start_time": "2023-04-23T13:19:32.565Z"
   },
   {
    "duration": 356,
    "start_time": "2023-04-23T13:19:56.043Z"
   },
   {
    "duration": 2566,
    "start_time": "2023-04-23T13:21:31.803Z"
   },
   {
    "duration": 4,
    "start_time": "2023-04-23T13:21:34.372Z"
   },
   {
    "duration": 25,
    "start_time": "2023-04-23T13:21:34.377Z"
   },
   {
    "duration": 582,
    "start_time": "2023-04-23T13:21:34.404Z"
   },
   {
    "duration": 19,
    "start_time": "2023-04-23T13:21:34.989Z"
   },
   {
    "duration": 52,
    "start_time": "2023-04-23T13:21:35.009Z"
   },
   {
    "duration": 422,
    "start_time": "2023-04-23T13:21:35.063Z"
   },
   {
    "duration": 9,
    "start_time": "2023-04-23T13:21:35.487Z"
   },
   {
    "duration": 23,
    "start_time": "2023-04-23T13:21:35.498Z"
   },
   {
    "duration": 35,
    "start_time": "2023-04-23T13:21:35.523Z"
   },
   {
    "duration": 17,
    "start_time": "2023-04-23T13:21:35.560Z"
   },
   {
    "duration": 87,
    "start_time": "2023-04-23T13:21:35.579Z"
   },
   {
    "duration": 97,
    "start_time": "2023-04-23T13:21:35.668Z"
   },
   {
    "duration": 9,
    "start_time": "2023-04-23T13:21:35.768Z"
   },
   {
    "duration": 10,
    "start_time": "2023-04-23T13:21:35.779Z"
   },
   {
    "duration": 37,
    "start_time": "2023-04-23T13:21:35.790Z"
   },
   {
    "duration": 12,
    "start_time": "2023-04-23T13:21:35.829Z"
   },
   {
    "duration": 16,
    "start_time": "2023-04-23T13:21:35.843Z"
   },
   {
    "duration": 31,
    "start_time": "2023-04-23T13:21:35.861Z"
   },
   {
    "duration": 17,
    "start_time": "2023-04-23T13:21:35.894Z"
   },
   {
    "duration": 50,
    "start_time": "2023-04-23T13:21:35.913Z"
   },
   {
    "duration": 409,
    "start_time": "2023-04-23T13:21:35.965Z"
   },
   {
    "duration": 34,
    "start_time": "2023-04-23T13:21:36.375Z"
   },
   {
    "duration": 70,
    "start_time": "2023-04-23T13:21:36.411Z"
   },
   {
    "duration": 582,
    "start_time": "2023-04-23T13:21:36.483Z"
   },
   {
    "duration": 593,
    "start_time": "2023-04-23T13:21:37.067Z"
   },
   {
    "duration": 48,
    "start_time": "2023-04-23T13:21:37.661Z"
   },
   {
    "duration": 749,
    "start_time": "2023-04-23T13:21:37.710Z"
   },
   {
    "duration": 5,
    "start_time": "2023-04-23T13:21:38.461Z"
   },
   {
    "duration": 427,
    "start_time": "2023-04-23T13:21:38.467Z"
   },
   {
    "duration": 5,
    "start_time": "2023-04-23T13:21:38.897Z"
   },
   {
    "duration": 472,
    "start_time": "2023-04-23T13:21:38.904Z"
   },
   {
    "duration": 6,
    "start_time": "2023-04-23T13:21:46.952Z"
   },
   {
    "duration": 5,
    "start_time": "2023-04-23T13:21:54.807Z"
   },
   {
    "duration": 4,
    "start_time": "2023-04-23T13:21:57.798Z"
   },
   {
    "duration": 11,
    "start_time": "2023-04-23T13:22:04.704Z"
   },
   {
    "duration": 7,
    "start_time": "2023-04-23T13:24:31.245Z"
   },
   {
    "duration": 41,
    "start_time": "2023-04-23T13:24:36.798Z"
   },
   {
    "duration": 41,
    "start_time": "2023-04-23T13:24:39.919Z"
   },
   {
    "duration": 4,
    "start_time": "2023-04-23T13:24:45.194Z"
   },
   {
    "duration": 4,
    "start_time": "2023-04-23T13:24:47.896Z"
   },
   {
    "duration": 11,
    "start_time": "2023-04-23T13:25:02.047Z"
   },
   {
    "duration": 175,
    "start_time": "2023-04-23T13:25:06.899Z"
   },
   {
    "duration": 199,
    "start_time": "2023-04-23T13:25:20.457Z"
   },
   {
    "duration": 177,
    "start_time": "2023-04-23T13:25:26.205Z"
   },
   {
    "duration": 129,
    "start_time": "2023-04-23T13:25:31.831Z"
   },
   {
    "duration": 144,
    "start_time": "2023-04-23T13:25:34.290Z"
   },
   {
    "duration": 17,
    "start_time": "2023-04-23T13:25:37.140Z"
   },
   {
    "duration": 460,
    "start_time": "2023-04-23T13:25:39.550Z"
   },
   {
    "duration": 425,
    "start_time": "2023-04-23T13:25:55.239Z"
   },
   {
    "duration": 7,
    "start_time": "2023-04-23T13:25:58.148Z"
   },
   {
    "duration": 13,
    "start_time": "2023-04-23T13:26:00.258Z"
   },
   {
    "duration": 16,
    "start_time": "2023-04-23T13:26:02.669Z"
   },
   {
    "duration": 8,
    "start_time": "2023-04-23T13:26:05.938Z"
   },
   {
    "duration": 6,
    "start_time": "2023-04-23T13:26:08.048Z"
   },
   {
    "duration": 3,
    "start_time": "2023-04-23T13:26:10.839Z"
   },
   {
    "duration": 4,
    "start_time": "2023-04-23T13:26:12.996Z"
   },
   {
    "duration": 9,
    "start_time": "2023-04-23T13:26:15.421Z"
   },
   {
    "duration": 461,
    "start_time": "2023-04-23T13:26:30.104Z"
   },
   {
    "duration": 7,
    "start_time": "2023-04-23T13:26:34.667Z"
   },
   {
    "duration": 8,
    "start_time": "2023-04-23T13:26:36.202Z"
   },
   {
    "duration": 9,
    "start_time": "2023-04-23T13:26:40.353Z"
   },
   {
    "duration": 3,
    "start_time": "2023-04-23T13:26:42.947Z"
   },
   {
    "duration": 373,
    "start_time": "2023-04-23T13:26:52.969Z"
   },
   {
    "duration": 376,
    "start_time": "2023-04-23T13:27:05.035Z"
   },
   {
    "duration": 331,
    "start_time": "2023-04-23T13:27:28.297Z"
   },
   {
    "duration": 28,
    "start_time": "2023-04-23T13:27:31.456Z"
   },
   {
    "duration": 333,
    "start_time": "2023-04-23T13:27:46.194Z"
   },
   {
    "duration": 13152,
    "start_time": "2023-04-23T13:27:49.097Z"
   },
   {
    "duration": 65,
    "start_time": "2023-04-23T13:28:02.251Z"
   },
   {
    "duration": 545,
    "start_time": "2023-04-23T13:28:08.097Z"
   },
   {
    "duration": 464,
    "start_time": "2023-04-23T13:28:19.869Z"
   },
   {
    "duration": 482,
    "start_time": "2023-04-23T13:29:26.602Z"
   },
   {
    "duration": 2636,
    "start_time": "2023-04-23T13:29:29.903Z"
   },
   {
    "duration": 4,
    "start_time": "2023-04-23T13:29:32.541Z"
   },
   {
    "duration": 8,
    "start_time": "2023-04-23T13:29:32.546Z"
   },
   {
    "duration": 767,
    "start_time": "2023-04-23T13:29:32.556Z"
   },
   {
    "duration": 17,
    "start_time": "2023-04-23T13:29:33.325Z"
   },
   {
    "duration": 45,
    "start_time": "2023-04-23T13:29:33.343Z"
   },
   {
    "duration": 392,
    "start_time": "2023-04-23T13:29:33.389Z"
   },
   {
    "duration": 7,
    "start_time": "2023-04-23T13:29:33.783Z"
   },
   {
    "duration": 22,
    "start_time": "2023-04-23T13:29:33.792Z"
   },
   {
    "duration": 16,
    "start_time": "2023-04-23T13:29:33.816Z"
   },
   {
    "duration": 38,
    "start_time": "2023-04-23T13:29:33.833Z"
   },
   {
    "duration": 104,
    "start_time": "2023-04-23T13:29:33.872Z"
   },
   {
    "duration": 103,
    "start_time": "2023-04-23T13:29:33.978Z"
   },
   {
    "duration": 9,
    "start_time": "2023-04-23T13:29:34.085Z"
   },
   {
    "duration": 9,
    "start_time": "2023-04-23T13:29:34.096Z"
   },
   {
    "duration": 10,
    "start_time": "2023-04-23T13:29:34.107Z"
   },
   {
    "duration": 4,
    "start_time": "2023-04-23T13:29:34.118Z"
   },
   {
    "duration": 36,
    "start_time": "2023-04-23T13:29:34.124Z"
   },
   {
    "duration": 39,
    "start_time": "2023-04-23T13:29:34.162Z"
   },
   {
    "duration": 18,
    "start_time": "2023-04-23T13:29:34.203Z"
   },
   {
    "duration": 60,
    "start_time": "2023-04-23T13:29:34.223Z"
   },
   {
    "duration": 325,
    "start_time": "2023-04-23T13:29:34.285Z"
   },
   {
    "duration": 44,
    "start_time": "2023-04-23T13:29:34.612Z"
   },
   {
    "duration": 59,
    "start_time": "2023-04-23T13:29:34.657Z"
   },
   {
    "duration": 647,
    "start_time": "2023-04-23T13:29:34.718Z"
   },
   {
    "duration": 664,
    "start_time": "2023-04-23T13:29:35.366Z"
   },
   {
    "duration": 58,
    "start_time": "2023-04-23T13:29:36.032Z"
   },
   {
    "duration": 691,
    "start_time": "2023-04-23T13:29:36.092Z"
   },
   {
    "duration": 6,
    "start_time": "2023-04-23T13:29:36.785Z"
   },
   {
    "duration": 458,
    "start_time": "2023-04-23T13:29:36.793Z"
   },
   {
    "duration": 6,
    "start_time": "2023-04-23T13:29:37.256Z"
   },
   {
    "duration": 482,
    "start_time": "2023-04-23T13:29:37.263Z"
   },
   {
    "duration": 12,
    "start_time": "2023-04-23T13:29:37.746Z"
   },
   {
    "duration": 8,
    "start_time": "2023-04-23T13:29:37.760Z"
   },
   {
    "duration": 10,
    "start_time": "2023-04-23T13:29:37.770Z"
   },
   {
    "duration": 11,
    "start_time": "2023-04-23T13:29:37.782Z"
   },
   {
    "duration": 45,
    "start_time": "2023-04-23T13:29:37.795Z"
   },
   {
    "duration": 53,
    "start_time": "2023-04-23T13:29:37.856Z"
   },
   {
    "duration": 3,
    "start_time": "2023-04-23T13:29:37.910Z"
   },
   {
    "duration": 5,
    "start_time": "2023-04-23T13:29:37.915Z"
   },
   {
    "duration": 36,
    "start_time": "2023-04-23T13:29:37.925Z"
   },
   {
    "duration": 193,
    "start_time": "2023-04-23T13:29:37.963Z"
   },
   {
    "duration": 166,
    "start_time": "2023-04-23T13:29:38.158Z"
   },
   {
    "duration": 146,
    "start_time": "2023-04-23T13:29:38.326Z"
   },
   {
    "duration": 18,
    "start_time": "2023-04-23T13:29:38.473Z"
   },
   {
    "duration": 435,
    "start_time": "2023-04-23T13:29:38.493Z"
   },
   {
    "duration": 7,
    "start_time": "2023-04-23T13:29:38.929Z"
   },
   {
    "duration": 26,
    "start_time": "2023-04-23T13:29:38.938Z"
   },
   {
    "duration": 18,
    "start_time": "2023-04-23T13:29:38.966Z"
   },
   {
    "duration": 17,
    "start_time": "2023-04-23T13:29:38.986Z"
   },
   {
    "duration": 5,
    "start_time": "2023-04-23T13:29:39.005Z"
   },
   {
    "duration": 6,
    "start_time": "2023-04-23T13:29:39.012Z"
   },
   {
    "duration": 5,
    "start_time": "2023-04-23T13:29:39.019Z"
   },
   {
    "duration": 31,
    "start_time": "2023-04-23T13:29:39.025Z"
   },
   {
    "duration": 415,
    "start_time": "2023-04-23T13:29:39.057Z"
   },
   {
    "duration": 7,
    "start_time": "2023-04-23T13:29:39.474Z"
   },
   {
    "duration": 10,
    "start_time": "2023-04-23T13:29:39.482Z"
   },
   {
    "duration": 8,
    "start_time": "2023-04-23T13:29:39.494Z"
   },
   {
    "duration": 3,
    "start_time": "2023-04-23T13:29:39.504Z"
   },
   {
    "duration": 375,
    "start_time": "2023-04-23T13:29:39.509Z"
   },
   {
    "duration": 359,
    "start_time": "2023-04-23T13:29:39.885Z"
   },
   {
    "duration": 333,
    "start_time": "2023-04-23T13:29:40.246Z"
   },
   {
    "duration": 29,
    "start_time": "2023-04-23T13:29:40.581Z"
   },
   {
    "duration": 350,
    "start_time": "2023-04-23T13:29:40.611Z"
   },
   {
    "duration": 13818,
    "start_time": "2023-04-23T13:29:40.962Z"
   },
   {
    "duration": 64,
    "start_time": "2023-04-23T13:29:54.782Z"
   },
   {
    "duration": 446,
    "start_time": "2023-04-23T13:29:58.428Z"
   },
   {
    "duration": 273,
    "start_time": "2023-04-23T13:30:01.895Z"
   },
   {
    "duration": 117,
    "start_time": "2023-04-23T13:30:06.266Z"
   },
   {
    "duration": 3,
    "start_time": "2023-04-23T13:30:09.907Z"
   },
   {
    "duration": 113,
    "start_time": "2023-04-23T13:30:12.757Z"
   },
   {
    "duration": 9,
    "start_time": "2023-04-23T13:30:20.657Z"
   },
   {
    "duration": 24,
    "start_time": "2023-04-23T13:30:23.396Z"
   },
   {
    "duration": 36,
    "start_time": "2023-04-23T13:30:26.008Z"
   },
   {
    "duration": 12,
    "start_time": "2023-04-23T13:30:27.925Z"
   },
   {
    "duration": 5,
    "start_time": "2023-04-23T13:30:30.049Z"
   },
   {
    "duration": 6,
    "start_time": "2023-04-23T13:30:34.767Z"
   },
   {
    "duration": 6,
    "start_time": "2023-04-23T13:30:35.712Z"
   },
   {
    "duration": 14,
    "start_time": "2023-04-23T13:30:38.182Z"
   },
   {
    "duration": 13,
    "start_time": "2023-04-23T13:30:40.815Z"
   },
   {
    "duration": 3,
    "start_time": "2023-04-23T13:30:43.861Z"
   },
   {
    "duration": 4,
    "start_time": "2023-04-23T13:30:49.928Z"
   },
   {
    "duration": 6,
    "start_time": "2023-04-23T13:30:52.663Z"
   },
   {
    "duration": 3,
    "start_time": "2023-04-23T13:41:17.004Z"
   },
   {
    "duration": 10,
    "start_time": "2023-04-23T13:41:34.755Z"
   },
   {
    "duration": 14,
    "start_time": "2023-04-23T13:41:46.893Z"
   },
   {
    "duration": 4,
    "start_time": "2023-04-23T13:43:27.836Z"
   },
   {
    "duration": 10,
    "start_time": "2023-04-23T13:43:29.916Z"
   },
   {
    "duration": 10,
    "start_time": "2023-04-23T13:43:31.700Z"
   },
   {
    "duration": 3,
    "start_time": "2023-04-23T13:46:16.090Z"
   },
   {
    "duration": 4,
    "start_time": "2023-04-23T13:46:34.998Z"
   },
   {
    "duration": 4,
    "start_time": "2023-04-23T13:47:00.110Z"
   },
   {
    "duration": 6,
    "start_time": "2023-04-23T13:47:13.951Z"
   },
   {
    "duration": 3,
    "start_time": "2023-04-23T13:47:23.035Z"
   },
   {
    "duration": 2639,
    "start_time": "2023-04-23T13:47:27.212Z"
   },
   {
    "duration": 4,
    "start_time": "2023-04-23T13:47:29.854Z"
   },
   {
    "duration": 10,
    "start_time": "2023-04-23T13:47:29.861Z"
   },
   {
    "duration": 558,
    "start_time": "2023-04-23T13:47:29.874Z"
   },
   {
    "duration": 18,
    "start_time": "2023-04-23T13:47:30.434Z"
   },
   {
    "duration": 86,
    "start_time": "2023-04-23T13:47:30.454Z"
   },
   {
    "duration": 373,
    "start_time": "2023-04-23T13:47:30.542Z"
   },
   {
    "duration": 8,
    "start_time": "2023-04-23T13:47:30.916Z"
   },
   {
    "duration": 49,
    "start_time": "2023-04-23T13:47:30.925Z"
   },
   {
    "duration": 37,
    "start_time": "2023-04-23T13:47:30.977Z"
   },
   {
    "duration": 39,
    "start_time": "2023-04-23T13:47:31.016Z"
   },
   {
    "duration": 93,
    "start_time": "2023-04-23T13:47:31.057Z"
   },
   {
    "duration": 95,
    "start_time": "2023-04-23T13:47:31.152Z"
   },
   {
    "duration": 14,
    "start_time": "2023-04-23T13:47:31.261Z"
   },
   {
    "duration": 38,
    "start_time": "2023-04-23T13:47:31.277Z"
   },
   {
    "duration": 31,
    "start_time": "2023-04-23T13:47:31.316Z"
   },
   {
    "duration": 18,
    "start_time": "2023-04-23T13:47:31.349Z"
   },
   {
    "duration": 20,
    "start_time": "2023-04-23T13:47:31.369Z"
   },
   {
    "duration": 55,
    "start_time": "2023-04-23T13:47:31.390Z"
   },
   {
    "duration": 70,
    "start_time": "2023-04-23T13:47:31.447Z"
   },
   {
    "duration": 81,
    "start_time": "2023-04-23T13:47:31.519Z"
   },
   {
    "duration": 344,
    "start_time": "2023-04-23T13:47:31.602Z"
   },
   {
    "duration": 47,
    "start_time": "2023-04-23T13:47:31.948Z"
   },
   {
    "duration": 81,
    "start_time": "2023-04-23T13:47:31.996Z"
   },
   {
    "duration": 705,
    "start_time": "2023-04-23T13:47:32.079Z"
   },
   {
    "duration": 662,
    "start_time": "2023-04-23T13:47:32.786Z"
   },
   {
    "duration": 56,
    "start_time": "2023-04-23T13:47:33.456Z"
   },
   {
    "duration": 776,
    "start_time": "2023-04-23T13:47:33.516Z"
   },
   {
    "duration": 5,
    "start_time": "2023-04-23T13:47:34.294Z"
   },
   {
    "duration": 474,
    "start_time": "2023-04-23T13:47:34.301Z"
   },
   {
    "duration": 6,
    "start_time": "2023-04-23T13:47:34.778Z"
   },
   {
    "duration": 494,
    "start_time": "2023-04-23T13:47:34.786Z"
   },
   {
    "duration": 5,
    "start_time": "2023-04-23T13:47:35.282Z"
   },
   {
    "duration": 21,
    "start_time": "2023-04-23T13:47:35.288Z"
   },
   {
    "duration": 12,
    "start_time": "2023-04-23T13:47:35.311Z"
   },
   {
    "duration": 10,
    "start_time": "2023-04-23T13:47:35.325Z"
   },
   {
    "duration": 56,
    "start_time": "2023-04-23T13:47:35.336Z"
   },
   {
    "duration": 49,
    "start_time": "2023-04-23T13:47:35.394Z"
   },
   {
    "duration": 13,
    "start_time": "2023-04-23T13:47:35.445Z"
   },
   {
    "duration": 5,
    "start_time": "2023-04-23T13:47:35.459Z"
   },
   {
    "duration": 16,
    "start_time": "2023-04-23T13:47:35.465Z"
   },
   {
    "duration": 186,
    "start_time": "2023-04-23T13:47:35.482Z"
   },
   {
    "duration": 210,
    "start_time": "2023-04-23T13:47:35.670Z"
   },
   {
    "duration": 157,
    "start_time": "2023-04-23T13:47:35.882Z"
   },
   {
    "duration": 32,
    "start_time": "2023-04-23T13:47:36.041Z"
   },
   {
    "duration": 421,
    "start_time": "2023-04-23T13:47:36.075Z"
   },
   {
    "duration": 7,
    "start_time": "2023-04-23T13:47:36.498Z"
   },
   {
    "duration": 12,
    "start_time": "2023-04-23T13:47:36.507Z"
   },
   {
    "duration": 42,
    "start_time": "2023-04-23T13:47:36.521Z"
   },
   {
    "duration": 11,
    "start_time": "2023-04-23T13:47:36.565Z"
   },
   {
    "duration": 5,
    "start_time": "2023-04-23T13:47:36.578Z"
   },
   {
    "duration": 4,
    "start_time": "2023-04-23T13:47:36.585Z"
   },
   {
    "duration": 4,
    "start_time": "2023-04-23T13:47:36.591Z"
   },
   {
    "duration": 9,
    "start_time": "2023-04-23T13:47:36.597Z"
   },
   {
    "duration": 453,
    "start_time": "2023-04-23T13:47:36.607Z"
   },
   {
    "duration": 10,
    "start_time": "2023-04-23T13:47:37.063Z"
   },
   {
    "duration": 7,
    "start_time": "2023-04-23T13:47:37.075Z"
   },
   {
    "duration": 10,
    "start_time": "2023-04-23T13:47:37.083Z"
   },
   {
    "duration": 6,
    "start_time": "2023-04-23T13:47:37.094Z"
   },
   {
    "duration": 393,
    "start_time": "2023-04-23T13:47:37.101Z"
   },
   {
    "duration": 367,
    "start_time": "2023-04-23T13:47:37.496Z"
   },
   {
    "duration": 311,
    "start_time": "2023-04-23T13:47:37.864Z"
   },
   {
    "duration": 28,
    "start_time": "2023-04-23T13:47:38.177Z"
   },
   {
    "duration": 328,
    "start_time": "2023-04-23T13:47:38.206Z"
   },
   {
    "duration": 13311,
    "start_time": "2023-04-23T13:47:38.535Z"
   },
   {
    "duration": 74,
    "start_time": "2023-04-23T13:47:51.848Z"
   },
   {
    "duration": 613,
    "start_time": "2023-04-23T13:47:51.923Z"
   },
   {
    "duration": 237,
    "start_time": "2023-04-23T13:47:52.538Z"
   },
   {
    "duration": 284,
    "start_time": "2023-04-23T13:47:52.777Z"
   },
   {
    "duration": 6,
    "start_time": "2023-04-23T13:47:53.065Z"
   },
   {
    "duration": 164,
    "start_time": "2023-04-23T13:47:53.073Z"
   },
   {
    "duration": 16,
    "start_time": "2023-04-23T13:47:53.239Z"
   },
   {
    "duration": 24,
    "start_time": "2023-04-23T13:47:53.257Z"
   },
   {
    "duration": 34,
    "start_time": "2023-04-23T13:47:53.283Z"
   },
   {
    "duration": 12,
    "start_time": "2023-04-23T13:47:53.319Z"
   },
   {
    "duration": 32,
    "start_time": "2023-04-23T13:47:53.332Z"
   },
   {
    "duration": 8,
    "start_time": "2023-04-23T13:48:22.160Z"
   },
   {
    "duration": 8,
    "start_time": "2023-04-23T13:48:24.293Z"
   },
   {
    "duration": 4,
    "start_time": "2023-04-23T13:48:26.734Z"
   },
   {
    "duration": 10,
    "start_time": "2023-04-23T13:48:29.109Z"
   },
   {
    "duration": 9,
    "start_time": "2023-04-23T13:48:31.617Z"
   },
   {
    "duration": 7868,
    "start_time": "2023-04-24T08:04:12.656Z"
   },
   {
    "duration": 1308,
    "start_time": "2023-04-24T08:04:20.526Z"
   },
   {
    "duration": 6,
    "start_time": "2023-04-24T08:04:21.835Z"
   },
   {
    "duration": 1989,
    "start_time": "2023-04-24T08:04:21.843Z"
   },
   {
    "duration": 22,
    "start_time": "2023-04-24T08:04:23.834Z"
   },
   {
    "duration": 68,
    "start_time": "2023-04-24T08:04:23.858Z"
   },
   {
    "duration": 357,
    "start_time": "2023-04-24T08:04:23.928Z"
   },
   {
    "duration": 8,
    "start_time": "2023-04-24T08:04:24.287Z"
   },
   {
    "duration": 17,
    "start_time": "2023-04-24T08:04:24.297Z"
   },
   {
    "duration": 16,
    "start_time": "2023-04-24T08:04:24.318Z"
   },
   {
    "duration": 16,
    "start_time": "2023-04-24T08:04:24.355Z"
   },
   {
    "duration": 90,
    "start_time": "2023-04-24T08:04:24.372Z"
   },
   {
    "duration": 94,
    "start_time": "2023-04-24T08:04:24.463Z"
   },
   {
    "duration": 10,
    "start_time": "2023-04-24T08:04:24.558Z"
   },
   {
    "duration": 9,
    "start_time": "2023-04-24T08:04:24.570Z"
   },
   {
    "duration": 19,
    "start_time": "2023-04-24T08:04:24.581Z"
   },
   {
    "duration": 16,
    "start_time": "2023-04-24T08:04:24.602Z"
   },
   {
    "duration": 9,
    "start_time": "2023-04-24T08:04:24.619Z"
   },
   {
    "duration": 40,
    "start_time": "2023-04-24T08:04:24.629Z"
   },
   {
    "duration": 19,
    "start_time": "2023-04-24T08:04:24.671Z"
   },
   {
    "duration": 36,
    "start_time": "2023-04-24T08:04:24.692Z"
   },
   {
    "duration": 338,
    "start_time": "2023-04-24T08:04:24.730Z"
   },
   {
    "duration": 34,
    "start_time": "2023-04-24T08:04:25.070Z"
   },
   {
    "duration": 77,
    "start_time": "2023-04-24T08:04:25.106Z"
   },
   {
    "duration": 609,
    "start_time": "2023-04-24T08:04:25.185Z"
   },
   {
    "duration": 678,
    "start_time": "2023-04-24T08:04:25.796Z"
   },
   {
    "duration": 53,
    "start_time": "2023-04-24T08:04:26.476Z"
   },
   {
    "duration": 741,
    "start_time": "2023-04-24T08:04:26.534Z"
   },
   {
    "duration": 5,
    "start_time": "2023-04-24T08:04:27.277Z"
   },
   {
    "duration": 503,
    "start_time": "2023-04-24T08:04:27.284Z"
   },
   {
    "duration": 5,
    "start_time": "2023-04-24T08:04:27.789Z"
   },
   {
    "duration": 498,
    "start_time": "2023-04-24T08:04:27.796Z"
   },
   {
    "duration": 5,
    "start_time": "2023-04-24T08:04:28.295Z"
   },
   {
    "duration": 10,
    "start_time": "2023-04-24T08:04:28.302Z"
   },
   {
    "duration": 14,
    "start_time": "2023-04-24T08:04:28.313Z"
   },
   {
    "duration": 25,
    "start_time": "2023-04-24T08:04:28.328Z"
   },
   {
    "duration": 48,
    "start_time": "2023-04-24T08:04:28.355Z"
   },
   {
    "duration": 41,
    "start_time": "2023-04-24T08:04:28.404Z"
   },
   {
    "duration": 13,
    "start_time": "2023-04-24T08:04:28.446Z"
   },
   {
    "duration": 8,
    "start_time": "2023-04-24T08:04:28.461Z"
   },
   {
    "duration": 30,
    "start_time": "2023-04-24T08:04:28.470Z"
   },
   {
    "duration": 169,
    "start_time": "2023-04-24T08:04:28.501Z"
   },
   {
    "duration": 204,
    "start_time": "2023-04-24T08:04:28.671Z"
   },
   {
    "duration": 150,
    "start_time": "2023-04-24T08:04:28.877Z"
   },
   {
    "duration": 18,
    "start_time": "2023-04-24T08:04:29.029Z"
   },
   {
    "duration": 390,
    "start_time": "2023-04-24T08:04:29.056Z"
   },
   {
    "duration": 12,
    "start_time": "2023-04-24T08:04:29.448Z"
   },
   {
    "duration": 13,
    "start_time": "2023-04-24T08:04:29.462Z"
   },
   {
    "duration": 22,
    "start_time": "2023-04-24T08:04:29.476Z"
   },
   {
    "duration": 14,
    "start_time": "2023-04-24T08:04:29.500Z"
   },
   {
    "duration": 15,
    "start_time": "2023-04-24T08:04:29.516Z"
   },
   {
    "duration": 10,
    "start_time": "2023-04-24T08:04:29.533Z"
   },
   {
    "duration": 13,
    "start_time": "2023-04-24T08:04:29.544Z"
   },
   {
    "duration": 10,
    "start_time": "2023-04-24T08:04:29.558Z"
   },
   {
    "duration": 426,
    "start_time": "2023-04-24T08:04:29.569Z"
   },
   {
    "duration": 8,
    "start_time": "2023-04-24T08:04:29.997Z"
   },
   {
    "duration": 33,
    "start_time": "2023-04-24T08:04:30.007Z"
   },
   {
    "duration": 22,
    "start_time": "2023-04-24T08:04:30.041Z"
   },
   {
    "duration": 12,
    "start_time": "2023-04-24T08:04:30.065Z"
   },
   {
    "duration": 429,
    "start_time": "2023-04-24T08:04:30.078Z"
   },
   {
    "duration": 519,
    "start_time": "2023-04-24T08:04:30.509Z"
   },
   {
    "duration": 354,
    "start_time": "2023-04-24T08:04:31.029Z"
   },
   {
    "duration": 34,
    "start_time": "2023-04-24T08:04:31.386Z"
   },
   {
    "duration": 341,
    "start_time": "2023-04-24T08:04:31.422Z"
   },
   {
    "duration": 13082,
    "start_time": "2023-04-24T08:04:31.764Z"
   },
   {
    "duration": 65,
    "start_time": "2023-04-24T08:04:44.848Z"
   },
   {
    "duration": 460,
    "start_time": "2023-04-24T08:04:44.915Z"
   },
   {
    "duration": 184,
    "start_time": "2023-04-24T08:04:45.377Z"
   },
   {
    "duration": 211,
    "start_time": "2023-04-24T08:04:45.564Z"
   },
   {
    "duration": 3,
    "start_time": "2023-04-24T08:04:45.777Z"
   },
   {
    "duration": 201,
    "start_time": "2023-04-24T08:04:45.782Z"
   },
   {
    "duration": 7,
    "start_time": "2023-04-24T08:04:45.984Z"
   },
   {
    "duration": 22,
    "start_time": "2023-04-24T08:04:45.993Z"
   },
   {
    "duration": 71,
    "start_time": "2023-04-24T08:04:46.017Z"
   },
   {
    "duration": 13,
    "start_time": "2023-04-24T08:04:46.090Z"
   },
   {
    "duration": 27,
    "start_time": "2023-04-24T08:04:46.104Z"
   },
   {
    "duration": 9,
    "start_time": "2023-04-24T08:04:46.133Z"
   },
   {
    "duration": 12,
    "start_time": "2023-04-24T08:04:46.145Z"
   },
   {
    "duration": 5,
    "start_time": "2023-04-24T08:04:46.158Z"
   },
   {
    "duration": 17,
    "start_time": "2023-04-24T08:04:46.165Z"
   },
   {
    "duration": 26,
    "start_time": "2023-04-24T08:04:46.184Z"
   },
   {
    "duration": 7,
    "start_time": "2023-04-24T08:04:46.215Z"
   }
  ],
  "kernelspec": {
   "display_name": "Python 3 (ipykernel)",
   "language": "python",
   "name": "python3"
  },
  "language_info": {
   "codemirror_mode": {
    "name": "ipython",
    "version": 3
   },
   "file_extension": ".py",
   "mimetype": "text/x-python",
   "name": "python",
   "nbconvert_exporter": "python",
   "pygments_lexer": "ipython3",
   "version": "3.9.13"
  },
  "toc": {
   "base_numbering": 1,
   "nav_menu": {},
   "number_sections": true,
   "sideBar": true,
   "skip_h1_title": false,
   "title_cell": "Table of Contents",
   "title_sidebar": "Contents",
   "toc_cell": false,
   "toc_position": {},
   "toc_section_display": true,
   "toc_window_display": false
  }
 },
 "nbformat": 4,
 "nbformat_minor": 5
}
