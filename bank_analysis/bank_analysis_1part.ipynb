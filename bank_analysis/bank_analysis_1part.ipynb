{
 "cells": [
  {
   "cell_type": "markdown",
   "id": "c81daeeb",
   "metadata": {
    "deletable": false,
    "editable": false,
    "id": "c81daeeb"
   },
   "source": [
    "# Исследование надежности заемщиков"
   ]
  },
  {
   "cell_type": "markdown",
   "id": "5afd62c8",
   "metadata": {},
   "source": [
    "Кредитный отдел банка планирует построить модель кредитного скоринга, чтобы оценить способность потенциального заемщика отдать кредит в срок. Для этого нужно оценить зависимость погашения кредита в срок от ряда факторов.\n",
    "\n",
    "**Цель исследования** - установить влияние ряда факторов на возврат кредита в срок:\n",
    "1. Количество детей\n",
    "2. Семейное положение\n",
    "3. Уровень дохода\n",
    "4. Цель кредита\n",
    "\n",
    "Данные получены из файла `data.csv`, полученного от банка\n",
    "\n",
    "**Ход исследования:**\n",
    "1. Обзор данных\n",
    "2. Предобработка данных\n",
    "3. Проверка гипотез и формирование вывода"
   ]
  },
  {
   "cell_type": "markdown",
   "id": "-G3EJWzf62s6",
   "metadata": {
    "deletable": false,
    "editable": false,
    "id": "-G3EJWzf62s6"
   },
   "source": [
    "Это первая часть проекта, она будет проверена автоматически. Вторую часть проверит ревьюер. "
   ]
  },
  {
   "cell_type": "markdown",
   "id": "744d7639",
   "metadata": {
    "deletable": false,
    "editable": false,
    "id": "744d7639"
   },
   "source": [
    "## Откройте таблицу и изучите общую информацию о данных"
   ]
  },
  {
   "cell_type": "markdown",
   "id": "e7a14c31",
   "metadata": {
    "deletable": false,
    "editable": false,
    "id": "e7a14c31",
    "tags": [
     "start_task"
    ]
   },
   "source": [
    "**Задание 1. Импортируйте библиотеку pandas. Считайте данные из csv-файла в датафрейм и сохраните в переменную `data`. Путь к файлу:**\n",
    "\n",
    "`/datasets/data.csv`"
   ]
  },
  {
   "cell_type": "code",
   "execution_count": 1,
   "id": "7bcf75c9",
   "metadata": {
    "id": "7bcf75c9"
   },
   "outputs": [],
   "source": [
    "import pandas as pd # импортируйте библиотеку pandas"
   ]
  },
  {
   "cell_type": "code",
   "execution_count": 24,
   "id": "4d240ee2",
   "metadata": {
    "id": "4d240ee2"
   },
   "outputs": [],
   "source": [
    "data = pd.read_csv('/datasets/data.csv') \n",
    "data.to_csv('data.csv', index=False) # прочитайте csv-файл"
   ]
  },
  {
   "cell_type": "markdown",
   "id": "b8038fe3",
   "metadata": {
    "deletable": false,
    "editable": false,
    "id": "b8038fe3",
    "tags": [
     "start_task"
    ]
   },
   "source": [
    "**Задание 2. Выведите первые 20 строчек датафрейма `data` на экран.**"
   ]
  },
  {
   "cell_type": "code",
   "execution_count": 3,
   "id": "2a7cab99",
   "metadata": {
    "id": "2a7cab99"
   },
   "outputs": [
    {
     "data": {
      "text/html": [
       "<div>\n",
       "<style scoped>\n",
       "    .dataframe tbody tr th:only-of-type {\n",
       "        vertical-align: middle;\n",
       "    }\n",
       "\n",
       "    .dataframe tbody tr th {\n",
       "        vertical-align: top;\n",
       "    }\n",
       "\n",
       "    .dataframe thead th {\n",
       "        text-align: right;\n",
       "    }\n",
       "</style>\n",
       "<table border=\"1\" class=\"dataframe\">\n",
       "  <thead>\n",
       "    <tr style=\"text-align: right;\">\n",
       "      <th></th>\n",
       "      <th>children</th>\n",
       "      <th>days_employed</th>\n",
       "      <th>dob_years</th>\n",
       "      <th>education</th>\n",
       "      <th>education_id</th>\n",
       "      <th>family_status</th>\n",
       "      <th>family_status_id</th>\n",
       "      <th>gender</th>\n",
       "      <th>income_type</th>\n",
       "      <th>debt</th>\n",
       "      <th>total_income</th>\n",
       "      <th>purpose</th>\n",
       "    </tr>\n",
       "  </thead>\n",
       "  <tbody>\n",
       "    <tr>\n",
       "      <th>0</th>\n",
       "      <td>1</td>\n",
       "      <td>-8437.673028</td>\n",
       "      <td>42</td>\n",
       "      <td>высшее</td>\n",
       "      <td>0</td>\n",
       "      <td>женат / замужем</td>\n",
       "      <td>0</td>\n",
       "      <td>F</td>\n",
       "      <td>сотрудник</td>\n",
       "      <td>0</td>\n",
       "      <td>253875.639453</td>\n",
       "      <td>покупка жилья</td>\n",
       "    </tr>\n",
       "    <tr>\n",
       "      <th>1</th>\n",
       "      <td>1</td>\n",
       "      <td>-4024.803754</td>\n",
       "      <td>36</td>\n",
       "      <td>среднее</td>\n",
       "      <td>1</td>\n",
       "      <td>женат / замужем</td>\n",
       "      <td>0</td>\n",
       "      <td>F</td>\n",
       "      <td>сотрудник</td>\n",
       "      <td>0</td>\n",
       "      <td>112080.014102</td>\n",
       "      <td>приобретение автомобиля</td>\n",
       "    </tr>\n",
       "    <tr>\n",
       "      <th>2</th>\n",
       "      <td>0</td>\n",
       "      <td>-5623.422610</td>\n",
       "      <td>33</td>\n",
       "      <td>Среднее</td>\n",
       "      <td>1</td>\n",
       "      <td>женат / замужем</td>\n",
       "      <td>0</td>\n",
       "      <td>M</td>\n",
       "      <td>сотрудник</td>\n",
       "      <td>0</td>\n",
       "      <td>145885.952297</td>\n",
       "      <td>покупка жилья</td>\n",
       "    </tr>\n",
       "    <tr>\n",
       "      <th>3</th>\n",
       "      <td>3</td>\n",
       "      <td>-4124.747207</td>\n",
       "      <td>32</td>\n",
       "      <td>среднее</td>\n",
       "      <td>1</td>\n",
       "      <td>женат / замужем</td>\n",
       "      <td>0</td>\n",
       "      <td>M</td>\n",
       "      <td>сотрудник</td>\n",
       "      <td>0</td>\n",
       "      <td>267628.550329</td>\n",
       "      <td>дополнительное образование</td>\n",
       "    </tr>\n",
       "    <tr>\n",
       "      <th>4</th>\n",
       "      <td>0</td>\n",
       "      <td>340266.072047</td>\n",
       "      <td>53</td>\n",
       "      <td>среднее</td>\n",
       "      <td>1</td>\n",
       "      <td>гражданский брак</td>\n",
       "      <td>1</td>\n",
       "      <td>F</td>\n",
       "      <td>пенсионер</td>\n",
       "      <td>0</td>\n",
       "      <td>158616.077870</td>\n",
       "      <td>сыграть свадьбу</td>\n",
       "    </tr>\n",
       "    <tr>\n",
       "      <th>5</th>\n",
       "      <td>0</td>\n",
       "      <td>-926.185831</td>\n",
       "      <td>27</td>\n",
       "      <td>высшее</td>\n",
       "      <td>0</td>\n",
       "      <td>гражданский брак</td>\n",
       "      <td>1</td>\n",
       "      <td>M</td>\n",
       "      <td>компаньон</td>\n",
       "      <td>0</td>\n",
       "      <td>255763.565419</td>\n",
       "      <td>покупка жилья</td>\n",
       "    </tr>\n",
       "    <tr>\n",
       "      <th>6</th>\n",
       "      <td>0</td>\n",
       "      <td>-2879.202052</td>\n",
       "      <td>43</td>\n",
       "      <td>высшее</td>\n",
       "      <td>0</td>\n",
       "      <td>женат / замужем</td>\n",
       "      <td>0</td>\n",
       "      <td>F</td>\n",
       "      <td>компаньон</td>\n",
       "      <td>0</td>\n",
       "      <td>240525.971920</td>\n",
       "      <td>операции с жильем</td>\n",
       "    </tr>\n",
       "    <tr>\n",
       "      <th>7</th>\n",
       "      <td>0</td>\n",
       "      <td>-152.779569</td>\n",
       "      <td>50</td>\n",
       "      <td>СРЕДНЕЕ</td>\n",
       "      <td>1</td>\n",
       "      <td>женат / замужем</td>\n",
       "      <td>0</td>\n",
       "      <td>M</td>\n",
       "      <td>сотрудник</td>\n",
       "      <td>0</td>\n",
       "      <td>135823.934197</td>\n",
       "      <td>образование</td>\n",
       "    </tr>\n",
       "    <tr>\n",
       "      <th>8</th>\n",
       "      <td>2</td>\n",
       "      <td>-6929.865299</td>\n",
       "      <td>35</td>\n",
       "      <td>ВЫСШЕЕ</td>\n",
       "      <td>0</td>\n",
       "      <td>гражданский брак</td>\n",
       "      <td>1</td>\n",
       "      <td>F</td>\n",
       "      <td>сотрудник</td>\n",
       "      <td>0</td>\n",
       "      <td>95856.832424</td>\n",
       "      <td>на проведение свадьбы</td>\n",
       "    </tr>\n",
       "    <tr>\n",
       "      <th>9</th>\n",
       "      <td>0</td>\n",
       "      <td>-2188.756445</td>\n",
       "      <td>41</td>\n",
       "      <td>среднее</td>\n",
       "      <td>1</td>\n",
       "      <td>женат / замужем</td>\n",
       "      <td>0</td>\n",
       "      <td>M</td>\n",
       "      <td>сотрудник</td>\n",
       "      <td>0</td>\n",
       "      <td>144425.938277</td>\n",
       "      <td>покупка жилья для семьи</td>\n",
       "    </tr>\n",
       "    <tr>\n",
       "      <th>10</th>\n",
       "      <td>2</td>\n",
       "      <td>-4171.483647</td>\n",
       "      <td>36</td>\n",
       "      <td>высшее</td>\n",
       "      <td>0</td>\n",
       "      <td>женат / замужем</td>\n",
       "      <td>0</td>\n",
       "      <td>M</td>\n",
       "      <td>компаньон</td>\n",
       "      <td>0</td>\n",
       "      <td>113943.491460</td>\n",
       "      <td>покупка недвижимости</td>\n",
       "    </tr>\n",
       "    <tr>\n",
       "      <th>11</th>\n",
       "      <td>0</td>\n",
       "      <td>-792.701887</td>\n",
       "      <td>40</td>\n",
       "      <td>среднее</td>\n",
       "      <td>1</td>\n",
       "      <td>женат / замужем</td>\n",
       "      <td>0</td>\n",
       "      <td>F</td>\n",
       "      <td>сотрудник</td>\n",
       "      <td>0</td>\n",
       "      <td>77069.234271</td>\n",
       "      <td>покупка коммерческой недвижимости</td>\n",
       "    </tr>\n",
       "    <tr>\n",
       "      <th>12</th>\n",
       "      <td>0</td>\n",
       "      <td>NaN</td>\n",
       "      <td>65</td>\n",
       "      <td>среднее</td>\n",
       "      <td>1</td>\n",
       "      <td>гражданский брак</td>\n",
       "      <td>1</td>\n",
       "      <td>M</td>\n",
       "      <td>пенсионер</td>\n",
       "      <td>0</td>\n",
       "      <td>NaN</td>\n",
       "      <td>сыграть свадьбу</td>\n",
       "    </tr>\n",
       "    <tr>\n",
       "      <th>13</th>\n",
       "      <td>0</td>\n",
       "      <td>-1846.641941</td>\n",
       "      <td>54</td>\n",
       "      <td>неоконченное высшее</td>\n",
       "      <td>2</td>\n",
       "      <td>женат / замужем</td>\n",
       "      <td>0</td>\n",
       "      <td>F</td>\n",
       "      <td>сотрудник</td>\n",
       "      <td>0</td>\n",
       "      <td>130458.228857</td>\n",
       "      <td>приобретение автомобиля</td>\n",
       "    </tr>\n",
       "    <tr>\n",
       "      <th>14</th>\n",
       "      <td>0</td>\n",
       "      <td>-1844.956182</td>\n",
       "      <td>56</td>\n",
       "      <td>высшее</td>\n",
       "      <td>0</td>\n",
       "      <td>гражданский брак</td>\n",
       "      <td>1</td>\n",
       "      <td>F</td>\n",
       "      <td>компаньон</td>\n",
       "      <td>1</td>\n",
       "      <td>165127.911772</td>\n",
       "      <td>покупка жилой недвижимости</td>\n",
       "    </tr>\n",
       "    <tr>\n",
       "      <th>15</th>\n",
       "      <td>1</td>\n",
       "      <td>-972.364419</td>\n",
       "      <td>26</td>\n",
       "      <td>среднее</td>\n",
       "      <td>1</td>\n",
       "      <td>женат / замужем</td>\n",
       "      <td>0</td>\n",
       "      <td>F</td>\n",
       "      <td>сотрудник</td>\n",
       "      <td>0</td>\n",
       "      <td>116820.904450</td>\n",
       "      <td>строительство собственной недвижимости</td>\n",
       "    </tr>\n",
       "    <tr>\n",
       "      <th>16</th>\n",
       "      <td>0</td>\n",
       "      <td>-1719.934226</td>\n",
       "      <td>35</td>\n",
       "      <td>среднее</td>\n",
       "      <td>1</td>\n",
       "      <td>женат / замужем</td>\n",
       "      <td>0</td>\n",
       "      <td>F</td>\n",
       "      <td>сотрудник</td>\n",
       "      <td>0</td>\n",
       "      <td>289202.704229</td>\n",
       "      <td>недвижимость</td>\n",
       "    </tr>\n",
       "    <tr>\n",
       "      <th>17</th>\n",
       "      <td>0</td>\n",
       "      <td>-2369.999720</td>\n",
       "      <td>33</td>\n",
       "      <td>высшее</td>\n",
       "      <td>0</td>\n",
       "      <td>гражданский брак</td>\n",
       "      <td>1</td>\n",
       "      <td>M</td>\n",
       "      <td>сотрудник</td>\n",
       "      <td>0</td>\n",
       "      <td>90410.586745</td>\n",
       "      <td>строительство недвижимости</td>\n",
       "    </tr>\n",
       "    <tr>\n",
       "      <th>18</th>\n",
       "      <td>0</td>\n",
       "      <td>400281.136913</td>\n",
       "      <td>53</td>\n",
       "      <td>среднее</td>\n",
       "      <td>1</td>\n",
       "      <td>вдовец / вдова</td>\n",
       "      <td>2</td>\n",
       "      <td>F</td>\n",
       "      <td>пенсионер</td>\n",
       "      <td>0</td>\n",
       "      <td>56823.777243</td>\n",
       "      <td>на покупку подержанного автомобиля</td>\n",
       "    </tr>\n",
       "    <tr>\n",
       "      <th>19</th>\n",
       "      <td>0</td>\n",
       "      <td>-10038.818549</td>\n",
       "      <td>48</td>\n",
       "      <td>СРЕДНЕЕ</td>\n",
       "      <td>1</td>\n",
       "      <td>в разводе</td>\n",
       "      <td>3</td>\n",
       "      <td>F</td>\n",
       "      <td>сотрудник</td>\n",
       "      <td>0</td>\n",
       "      <td>242831.107982</td>\n",
       "      <td>на покупку своего автомобиля</td>\n",
       "    </tr>\n",
       "  </tbody>\n",
       "</table>\n",
       "</div>"
      ],
      "text/plain": [
       "    children  days_employed  dob_years            education  education_id  \\\n",
       "0          1   -8437.673028         42               высшее             0   \n",
       "1          1   -4024.803754         36              среднее             1   \n",
       "2          0   -5623.422610         33              Среднее             1   \n",
       "3          3   -4124.747207         32              среднее             1   \n",
       "4          0  340266.072047         53              среднее             1   \n",
       "5          0    -926.185831         27               высшее             0   \n",
       "6          0   -2879.202052         43               высшее             0   \n",
       "7          0    -152.779569         50              СРЕДНЕЕ             1   \n",
       "8          2   -6929.865299         35               ВЫСШЕЕ             0   \n",
       "9          0   -2188.756445         41              среднее             1   \n",
       "10         2   -4171.483647         36               высшее             0   \n",
       "11         0    -792.701887         40              среднее             1   \n",
       "12         0            NaN         65              среднее             1   \n",
       "13         0   -1846.641941         54  неоконченное высшее             2   \n",
       "14         0   -1844.956182         56               высшее             0   \n",
       "15         1    -972.364419         26              среднее             1   \n",
       "16         0   -1719.934226         35              среднее             1   \n",
       "17         0   -2369.999720         33               высшее             0   \n",
       "18         0  400281.136913         53              среднее             1   \n",
       "19         0  -10038.818549         48              СРЕДНЕЕ             1   \n",
       "\n",
       "       family_status  family_status_id gender income_type  debt  \\\n",
       "0    женат / замужем                 0      F   сотрудник     0   \n",
       "1    женат / замужем                 0      F   сотрудник     0   \n",
       "2    женат / замужем                 0      M   сотрудник     0   \n",
       "3    женат / замужем                 0      M   сотрудник     0   \n",
       "4   гражданский брак                 1      F   пенсионер     0   \n",
       "5   гражданский брак                 1      M   компаньон     0   \n",
       "6    женат / замужем                 0      F   компаньон     0   \n",
       "7    женат / замужем                 0      M   сотрудник     0   \n",
       "8   гражданский брак                 1      F   сотрудник     0   \n",
       "9    женат / замужем                 0      M   сотрудник     0   \n",
       "10   женат / замужем                 0      M   компаньон     0   \n",
       "11   женат / замужем                 0      F   сотрудник     0   \n",
       "12  гражданский брак                 1      M   пенсионер     0   \n",
       "13   женат / замужем                 0      F   сотрудник     0   \n",
       "14  гражданский брак                 1      F   компаньон     1   \n",
       "15   женат / замужем                 0      F   сотрудник     0   \n",
       "16   женат / замужем                 0      F   сотрудник     0   \n",
       "17  гражданский брак                 1      M   сотрудник     0   \n",
       "18    вдовец / вдова                 2      F   пенсионер     0   \n",
       "19         в разводе                 3      F   сотрудник     0   \n",
       "\n",
       "     total_income                                 purpose  \n",
       "0   253875.639453                           покупка жилья  \n",
       "1   112080.014102                 приобретение автомобиля  \n",
       "2   145885.952297                           покупка жилья  \n",
       "3   267628.550329              дополнительное образование  \n",
       "4   158616.077870                         сыграть свадьбу  \n",
       "5   255763.565419                           покупка жилья  \n",
       "6   240525.971920                       операции с жильем  \n",
       "7   135823.934197                             образование  \n",
       "8    95856.832424                   на проведение свадьбы  \n",
       "9   144425.938277                 покупка жилья для семьи  \n",
       "10  113943.491460                    покупка недвижимости  \n",
       "11   77069.234271       покупка коммерческой недвижимости  \n",
       "12            NaN                         сыграть свадьбу  \n",
       "13  130458.228857                 приобретение автомобиля  \n",
       "14  165127.911772              покупка жилой недвижимости  \n",
       "15  116820.904450  строительство собственной недвижимости  \n",
       "16  289202.704229                            недвижимость  \n",
       "17   90410.586745              строительство недвижимости  \n",
       "18   56823.777243      на покупку подержанного автомобиля  \n",
       "19  242831.107982            на покупку своего автомобиля  "
      ]
     },
     "execution_count": 3,
     "metadata": {},
     "output_type": "execute_result"
    }
   ],
   "source": [
    "data.head(20) # ваш код здесь"
   ]
  },
  {
   "cell_type": "markdown",
   "id": "1c12e233",
   "metadata": {
    "deletable": false,
    "editable": false,
    "id": "1c12e233",
    "tags": [
     "start_task"
    ]
   },
   "source": [
    "**Задание 3. Выведите основную информацию о датафрейме с помощью метода `info()`.**"
   ]
  },
  {
   "cell_type": "code",
   "execution_count": 4,
   "id": "2b757bca",
   "metadata": {
    "id": "2b757bca"
   },
   "outputs": [
    {
     "name": "stdout",
     "output_type": "stream",
     "text": [
      "<class 'pandas.core.frame.DataFrame'>\n",
      "RangeIndex: 21525 entries, 0 to 21524\n",
      "Data columns (total 12 columns):\n",
      " #   Column            Non-Null Count  Dtype  \n",
      "---  ------            --------------  -----  \n",
      " 0   children          21525 non-null  int64  \n",
      " 1   days_employed     19351 non-null  float64\n",
      " 2   dob_years         21525 non-null  int64  \n",
      " 3   education         21525 non-null  object \n",
      " 4   education_id      21525 non-null  int64  \n",
      " 5   family_status     21525 non-null  object \n",
      " 6   family_status_id  21525 non-null  int64  \n",
      " 7   gender            21525 non-null  object \n",
      " 8   income_type       21525 non-null  object \n",
      " 9   debt              21525 non-null  int64  \n",
      " 10  total_income      19351 non-null  float64\n",
      " 11  purpose           21525 non-null  object \n",
      "dtypes: float64(2), int64(5), object(5)\n",
      "memory usage: 2.0+ MB\n"
     ]
    }
   ],
   "source": [
    "data.info() # ваш код здесь"
   ]
  },
  {
   "cell_type": "markdown",
   "id": "333ec665",
   "metadata": {
    "deletable": false,
    "editable": false,
    "id": "333ec665"
   },
   "source": [
    "## Предобработка данных"
   ]
  },
  {
   "cell_type": "markdown",
   "id": "02d92d53",
   "metadata": {
    "deletable": false,
    "editable": false,
    "id": "02d92d53"
   },
   "source": [
    "### Удаление пропусков"
   ]
  },
  {
   "cell_type": "markdown",
   "id": "cd84967c",
   "metadata": {
    "deletable": false,
    "editable": false,
    "id": "cd84967c",
    "tags": [
     "start_task"
    ]
   },
   "source": [
    "**Задание 4. Выведите количество пропущенных значений для каждого столбца. Используйте комбинацию двух методов.**"
   ]
  },
  {
   "cell_type": "code",
   "execution_count": 5,
   "id": "7f9b2309",
   "metadata": {
    "id": "7f9b2309"
   },
   "outputs": [
    {
     "data": {
      "text/plain": [
       "children               0\n",
       "days_employed       2174\n",
       "dob_years              0\n",
       "education              0\n",
       "education_id           0\n",
       "family_status          0\n",
       "family_status_id       0\n",
       "gender                 0\n",
       "income_type            0\n",
       "debt                   0\n",
       "total_income        2174\n",
       "purpose                0\n",
       "dtype: int64"
      ]
     },
     "execution_count": 5,
     "metadata": {},
     "output_type": "execute_result"
    }
   ],
   "source": [
    "data.isna().sum() # ваш код здесь"
   ]
  },
  {
   "cell_type": "markdown",
   "id": "db86e27b",
   "metadata": {
    "deletable": false,
    "editable": false,
    "id": "db86e27b",
    "tags": [
     "start_task"
    ]
   },
   "source": [
    "**Задание 5. В двух столбцах есть пропущенные значения. Один из них — `days_employed`. Пропуски в этом столбце вы обработаете на следующем этапе. Другой столбец с пропущенными значениями — `total_income` — хранит данные о доходах. На сумму дохода сильнее всего влияет тип занятости, поэтому заполнить пропуски в этом столбце нужно медианным значением по каждому типу из столбца `income_type`. Например, у человека с типом занятости `сотрудник` пропуск в столбце `total_income` должен быть заполнен медианным доходом среди всех записей с тем же типом.**"
   ]
  },
  {
   "cell_type": "code",
   "execution_count": 6,
   "id": "42006a93",
   "metadata": {
    "id": "42006a93"
   },
   "outputs": [
    {
     "data": {
      "text/plain": [
       "0"
      ]
     },
     "execution_count": 6,
     "metadata": {},
     "output_type": "execute_result"
    }
   ],
   "source": [
    "for elem in data['income_type'].unique():\n",
    "    data.loc[(data['income_type'] == elem) & (data['total_income'].isna()), \n",
    "             'total_income'] = data.loc[data['income_type'] == elem, 'total_income'].median()\n",
    "data['total_income'].isna().sum()    \n",
    "\n",
    "    \n",
    "    "
   ]
  },
  {
   "cell_type": "markdown",
   "id": "89da5ece",
   "metadata": {
    "deletable": false,
    "editable": false,
    "id": "89da5ece"
   },
   "source": [
    "### Обработка аномальных значений"
   ]
  },
  {
   "cell_type": "markdown",
   "id": "57964554",
   "metadata": {
    "deletable": false,
    "editable": false,
    "id": "57964554",
    "tags": [
     "start_task"
    ]
   },
   "source": [
    "**Задание 6. В данных могут встречаться артефакты (аномалии) — значения, которые не отражают действительность и появились по какой-то ошибке. Таким артефактом будет отрицательное количество дней трудового стажа в столбце `days_employed`. Для реальных данных это нормально. Обработайте значения в этом столбце: замените все отрицательные значения положительными с помощью метода `abs()`.**"
   ]
  },
  {
   "cell_type": "code",
   "execution_count": 7,
   "id": "f6f055bf",
   "metadata": {
    "id": "f6f055bf",
    "scrolled": true
   },
   "outputs": [
    {
     "data": {
      "text/html": [
       "<div>\n",
       "<style scoped>\n",
       "    .dataframe tbody tr th:only-of-type {\n",
       "        vertical-align: middle;\n",
       "    }\n",
       "\n",
       "    .dataframe tbody tr th {\n",
       "        vertical-align: top;\n",
       "    }\n",
       "\n",
       "    .dataframe thead th {\n",
       "        text-align: right;\n",
       "    }\n",
       "</style>\n",
       "<table border=\"1\" class=\"dataframe\">\n",
       "  <thead>\n",
       "    <tr style=\"text-align: right;\">\n",
       "      <th></th>\n",
       "      <th>children</th>\n",
       "      <th>days_employed</th>\n",
       "      <th>dob_years</th>\n",
       "      <th>education</th>\n",
       "      <th>education_id</th>\n",
       "      <th>family_status</th>\n",
       "      <th>family_status_id</th>\n",
       "      <th>gender</th>\n",
       "      <th>income_type</th>\n",
       "      <th>debt</th>\n",
       "      <th>total_income</th>\n",
       "      <th>purpose</th>\n",
       "    </tr>\n",
       "  </thead>\n",
       "  <tbody>\n",
       "    <tr>\n",
       "      <th>0</th>\n",
       "      <td>1</td>\n",
       "      <td>8437.673028</td>\n",
       "      <td>42</td>\n",
       "      <td>высшее</td>\n",
       "      <td>0</td>\n",
       "      <td>женат / замужем</td>\n",
       "      <td>0</td>\n",
       "      <td>F</td>\n",
       "      <td>сотрудник</td>\n",
       "      <td>0</td>\n",
       "      <td>253875.639453</td>\n",
       "      <td>покупка жилья</td>\n",
       "    </tr>\n",
       "    <tr>\n",
       "      <th>1</th>\n",
       "      <td>1</td>\n",
       "      <td>4024.803754</td>\n",
       "      <td>36</td>\n",
       "      <td>среднее</td>\n",
       "      <td>1</td>\n",
       "      <td>женат / замужем</td>\n",
       "      <td>0</td>\n",
       "      <td>F</td>\n",
       "      <td>сотрудник</td>\n",
       "      <td>0</td>\n",
       "      <td>112080.014102</td>\n",
       "      <td>приобретение автомобиля</td>\n",
       "    </tr>\n",
       "    <tr>\n",
       "      <th>2</th>\n",
       "      <td>0</td>\n",
       "      <td>5623.422610</td>\n",
       "      <td>33</td>\n",
       "      <td>Среднее</td>\n",
       "      <td>1</td>\n",
       "      <td>женат / замужем</td>\n",
       "      <td>0</td>\n",
       "      <td>M</td>\n",
       "      <td>сотрудник</td>\n",
       "      <td>0</td>\n",
       "      <td>145885.952297</td>\n",
       "      <td>покупка жилья</td>\n",
       "    </tr>\n",
       "    <tr>\n",
       "      <th>3</th>\n",
       "      <td>3</td>\n",
       "      <td>4124.747207</td>\n",
       "      <td>32</td>\n",
       "      <td>среднее</td>\n",
       "      <td>1</td>\n",
       "      <td>женат / замужем</td>\n",
       "      <td>0</td>\n",
       "      <td>M</td>\n",
       "      <td>сотрудник</td>\n",
       "      <td>0</td>\n",
       "      <td>267628.550329</td>\n",
       "      <td>дополнительное образование</td>\n",
       "    </tr>\n",
       "    <tr>\n",
       "      <th>4</th>\n",
       "      <td>0</td>\n",
       "      <td>340266.072047</td>\n",
       "      <td>53</td>\n",
       "      <td>среднее</td>\n",
       "      <td>1</td>\n",
       "      <td>гражданский брак</td>\n",
       "      <td>1</td>\n",
       "      <td>F</td>\n",
       "      <td>пенсионер</td>\n",
       "      <td>0</td>\n",
       "      <td>158616.077870</td>\n",
       "      <td>сыграть свадьбу</td>\n",
       "    </tr>\n",
       "    <tr>\n",
       "      <th>5</th>\n",
       "      <td>0</td>\n",
       "      <td>926.185831</td>\n",
       "      <td>27</td>\n",
       "      <td>высшее</td>\n",
       "      <td>0</td>\n",
       "      <td>гражданский брак</td>\n",
       "      <td>1</td>\n",
       "      <td>M</td>\n",
       "      <td>компаньон</td>\n",
       "      <td>0</td>\n",
       "      <td>255763.565419</td>\n",
       "      <td>покупка жилья</td>\n",
       "    </tr>\n",
       "    <tr>\n",
       "      <th>6</th>\n",
       "      <td>0</td>\n",
       "      <td>2879.202052</td>\n",
       "      <td>43</td>\n",
       "      <td>высшее</td>\n",
       "      <td>0</td>\n",
       "      <td>женат / замужем</td>\n",
       "      <td>0</td>\n",
       "      <td>F</td>\n",
       "      <td>компаньон</td>\n",
       "      <td>0</td>\n",
       "      <td>240525.971920</td>\n",
       "      <td>операции с жильем</td>\n",
       "    </tr>\n",
       "    <tr>\n",
       "      <th>7</th>\n",
       "      <td>0</td>\n",
       "      <td>152.779569</td>\n",
       "      <td>50</td>\n",
       "      <td>СРЕДНЕЕ</td>\n",
       "      <td>1</td>\n",
       "      <td>женат / замужем</td>\n",
       "      <td>0</td>\n",
       "      <td>M</td>\n",
       "      <td>сотрудник</td>\n",
       "      <td>0</td>\n",
       "      <td>135823.934197</td>\n",
       "      <td>образование</td>\n",
       "    </tr>\n",
       "    <tr>\n",
       "      <th>8</th>\n",
       "      <td>2</td>\n",
       "      <td>6929.865299</td>\n",
       "      <td>35</td>\n",
       "      <td>ВЫСШЕЕ</td>\n",
       "      <td>0</td>\n",
       "      <td>гражданский брак</td>\n",
       "      <td>1</td>\n",
       "      <td>F</td>\n",
       "      <td>сотрудник</td>\n",
       "      <td>0</td>\n",
       "      <td>95856.832424</td>\n",
       "      <td>на проведение свадьбы</td>\n",
       "    </tr>\n",
       "    <tr>\n",
       "      <th>9</th>\n",
       "      <td>0</td>\n",
       "      <td>2188.756445</td>\n",
       "      <td>41</td>\n",
       "      <td>среднее</td>\n",
       "      <td>1</td>\n",
       "      <td>женат / замужем</td>\n",
       "      <td>0</td>\n",
       "      <td>M</td>\n",
       "      <td>сотрудник</td>\n",
       "      <td>0</td>\n",
       "      <td>144425.938277</td>\n",
       "      <td>покупка жилья для семьи</td>\n",
       "    </tr>\n",
       "  </tbody>\n",
       "</table>\n",
       "</div>"
      ],
      "text/plain": [
       "   children  days_employed  dob_years education  education_id  \\\n",
       "0         1    8437.673028         42    высшее             0   \n",
       "1         1    4024.803754         36   среднее             1   \n",
       "2         0    5623.422610         33   Среднее             1   \n",
       "3         3    4124.747207         32   среднее             1   \n",
       "4         0  340266.072047         53   среднее             1   \n",
       "5         0     926.185831         27    высшее             0   \n",
       "6         0    2879.202052         43    высшее             0   \n",
       "7         0     152.779569         50   СРЕДНЕЕ             1   \n",
       "8         2    6929.865299         35    ВЫСШЕЕ             0   \n",
       "9         0    2188.756445         41   среднее             1   \n",
       "\n",
       "      family_status  family_status_id gender income_type  debt   total_income  \\\n",
       "0   женат / замужем                 0      F   сотрудник     0  253875.639453   \n",
       "1   женат / замужем                 0      F   сотрудник     0  112080.014102   \n",
       "2   женат / замужем                 0      M   сотрудник     0  145885.952297   \n",
       "3   женат / замужем                 0      M   сотрудник     0  267628.550329   \n",
       "4  гражданский брак                 1      F   пенсионер     0  158616.077870   \n",
       "5  гражданский брак                 1      M   компаньон     0  255763.565419   \n",
       "6   женат / замужем                 0      F   компаньон     0  240525.971920   \n",
       "7   женат / замужем                 0      M   сотрудник     0  135823.934197   \n",
       "8  гражданский брак                 1      F   сотрудник     0   95856.832424   \n",
       "9   женат / замужем                 0      M   сотрудник     0  144425.938277   \n",
       "\n",
       "                      purpose  \n",
       "0               покупка жилья  \n",
       "1     приобретение автомобиля  \n",
       "2               покупка жилья  \n",
       "3  дополнительное образование  \n",
       "4             сыграть свадьбу  \n",
       "5               покупка жилья  \n",
       "6           операции с жильем  \n",
       "7                 образование  \n",
       "8       на проведение свадьбы  \n",
       "9     покупка жилья для семьи  "
      ]
     },
     "execution_count": 7,
     "metadata": {},
     "output_type": "execute_result"
    }
   ],
   "source": [
    "data['days_employed'] = data['days_employed'].abs()\n",
    "data.head(10) # ваш код здесь"
   ]
  },
  {
   "cell_type": "markdown",
   "id": "6107dd2f",
   "metadata": {
    "deletable": false,
    "editable": false,
    "id": "6107dd2f",
    "tags": [
     "start_task"
    ]
   },
   "source": [
    "**Задание 7. Для каждого типа занятости выведите медианное значение трудового стажа `days_employed` в днях.**"
   ]
  },
  {
   "cell_type": "code",
   "execution_count": 8,
   "id": "85a5faf6",
   "metadata": {
    "id": "85a5faf6"
   },
   "outputs": [
    {
     "data": {
      "text/plain": [
       "income_type\n",
       "безработный        366413.652744\n",
       "в декрете            3296.759962\n",
       "госслужащий          2689.368353\n",
       "компаньон            1547.382223\n",
       "пенсионер          365213.306266\n",
       "предприниматель       520.848083\n",
       "сотрудник            1574.202821\n",
       "студент               578.751554\n",
       "Name: days_employed, dtype: float64"
      ]
     },
     "execution_count": 8,
     "metadata": {},
     "output_type": "execute_result"
    }
   ],
   "source": [
    "data.groupby('income_type')['days_employed'].median() # ваш код здесь"
   ]
  },
  {
   "cell_type": "markdown",
   "id": "38d1a030",
   "metadata": {
    "deletable": false,
    "editable": false,
    "id": "38d1a030"
   },
   "source": [
    "У двух типов (безработные и пенсионеры) получатся аномально большие значения. Исправить такие значения сложно, поэтому оставьте их как есть. Тем более этот столбец не понадобится вам для исследования."
   ]
  },
  {
   "cell_type": "markdown",
   "id": "d8a9f147",
   "metadata": {
    "deletable": false,
    "editable": false,
    "id": "d8a9f147",
    "tags": [
     "start_task"
    ]
   },
   "source": [
    "**Задание 8. Выведите перечень уникальных значений столбца `children`.**"
   ]
  },
  {
   "cell_type": "code",
   "execution_count": 9,
   "id": "ef5056eb",
   "metadata": {
    "id": "ef5056eb"
   },
   "outputs": [
    {
     "data": {
      "text/plain": [
       "array([ 1,  0,  3,  2, -1,  4, 20,  5])"
      ]
     },
     "execution_count": 9,
     "metadata": {},
     "output_type": "execute_result"
    }
   ],
   "source": [
    "data['children'].unique() # ваш код здесь"
   ]
  },
  {
   "cell_type": "markdown",
   "id": "40b9ebf2",
   "metadata": {
    "deletable": false,
    "editable": false,
    "id": "40b9ebf2",
    "tags": [
     "start_task"
    ]
   },
   "source": [
    "**Задание 9. В столбце `children` есть два аномальных значения. Удалите строки, в которых встречаются такие аномальные значения из датафрейма `data`.**"
   ]
  },
  {
   "cell_type": "code",
   "execution_count": 10,
   "id": "3ff9801d",
   "metadata": {
    "id": "3ff9801d"
   },
   "outputs": [],
   "source": [
    "data = data.loc[(data['children'] != -1) & (data['children'] != 20)] \n",
    "# ваш код здесь"
   ]
  },
  {
   "cell_type": "markdown",
   "id": "bbc4d0ce",
   "metadata": {
    "deletable": false,
    "editable": false,
    "id": "bbc4d0ce",
    "tags": [
     "start_task"
    ]
   },
   "source": [
    "**Задание 10. Ещё раз выведите перечень уникальных значений столбца `children`, чтобы убедиться, что артефакты удалены.**"
   ]
  },
  {
   "cell_type": "code",
   "execution_count": 11,
   "id": "ad4fa8b7",
   "metadata": {
    "id": "ad4fa8b7"
   },
   "outputs": [
    {
     "data": {
      "text/plain": [
       "array([1, 0, 3, 2, 4, 5])"
      ]
     },
     "execution_count": 11,
     "metadata": {},
     "output_type": "execute_result"
    }
   ],
   "source": [
    "data['children'].unique() # ваш код здесь"
   ]
  },
  {
   "cell_type": "markdown",
   "id": "75440b63",
   "metadata": {
    "deletable": false,
    "editable": false,
    "id": "75440b63"
   },
   "source": [
    "### Удаление пропусков (продолжение)"
   ]
  },
  {
   "cell_type": "markdown",
   "id": "f4ea573f",
   "metadata": {
    "deletable": false,
    "editable": false,
    "id": "f4ea573f",
    "tags": [
     "start_task"
    ]
   },
   "source": [
    "**Задание 11. Заполните пропуски в столбце `days_employed` медианными значениями по каждому типу занятости `income_type`.**"
   ]
  },
  {
   "cell_type": "code",
   "execution_count": 12,
   "id": "af6b1a7e",
   "metadata": {
    "id": "af6b1a7e"
   },
   "outputs": [],
   "source": [
    "for elem in data['income_type'].unique():\n",
    "    data.loc[(data['days_employed'].isna()) & (data['income_type'] == elem),\n",
    "             'days_employed'] = data.loc[data['income_type'] == elem]['days_employed'].median()# ваш код здесь"
   ]
  },
  {
   "cell_type": "markdown",
   "id": "2753f40d",
   "metadata": {
    "deletable": false,
    "editable": false,
    "id": "2753f40d",
    "tags": [
     "start_task"
    ]
   },
   "source": [
    "**Задание 12. Убедитесь, что все пропуски заполнены. Проверьте себя и ещё раз выведите количество пропущенных значений для каждого столбца с помощью двух методов.**"
   ]
  },
  {
   "cell_type": "code",
   "execution_count": 13,
   "id": "55f78bc2",
   "metadata": {
    "id": "55f78bc2"
   },
   "outputs": [
    {
     "data": {
      "text/plain": [
       "0"
      ]
     },
     "execution_count": 13,
     "metadata": {},
     "output_type": "execute_result"
    }
   ],
   "source": [
    "data['days_employed'].isna().sum() # ваш код здесь"
   ]
  },
  {
   "cell_type": "markdown",
   "id": "ddc81e43",
   "metadata": {
    "deletable": false,
    "editable": false,
    "id": "ddc81e43"
   },
   "source": [
    "### Изменение типов данных"
   ]
  },
  {
   "cell_type": "markdown",
   "id": "42d19d24",
   "metadata": {
    "deletable": false,
    "editable": false,
    "id": "42d19d24",
    "tags": [
     "start_task"
    ]
   },
   "source": [
    "**Задание 13. Замените вещественный тип данных в столбце `total_income` на целочисленный с помощью метода `astype()`.**"
   ]
  },
  {
   "cell_type": "code",
   "execution_count": 14,
   "id": "920b65ad",
   "metadata": {
    "id": "920b65ad"
   },
   "outputs": [],
   "source": [
    "data['total_income'] = data['total_income'].astype('int') # ваш код здесь"
   ]
  },
  {
   "cell_type": "markdown",
   "id": "80c420ba",
   "metadata": {
    "deletable": false,
    "editable": false,
    "id": "80c420ba"
   },
   "source": [
    "### Обработка дубликатов"
   ]
  },
  {
   "cell_type": "markdown",
   "id": "dc587695",
   "metadata": {
    "deletable": false,
    "editable": false,
    "id": "dc587695",
    "tags": [
     "start_task"
    ]
   },
   "source": [
    "**Задание 14. Выведите на экран количество строк-дубликатов в данных. Если такие строки присутствуют, удалите их.**"
   ]
  },
  {
   "cell_type": "code",
   "execution_count": 15,
   "id": "3ee445e4",
   "metadata": {
    "id": "3ee445e4"
   },
   "outputs": [
    {
     "data": {
      "text/plain": [
       "54"
      ]
     },
     "execution_count": 15,
     "metadata": {},
     "output_type": "execute_result"
    }
   ],
   "source": [
    "data.duplicated().sum()# посчитайте дубликаты"
   ]
  },
  {
   "cell_type": "code",
   "execution_count": 16,
   "id": "8575fe05",
   "metadata": {
    "id": "8575fe05"
   },
   "outputs": [
    {
     "data": {
      "text/html": [
       "<div>\n",
       "<style scoped>\n",
       "    .dataframe tbody tr th:only-of-type {\n",
       "        vertical-align: middle;\n",
       "    }\n",
       "\n",
       "    .dataframe tbody tr th {\n",
       "        vertical-align: top;\n",
       "    }\n",
       "\n",
       "    .dataframe thead th {\n",
       "        text-align: right;\n",
       "    }\n",
       "</style>\n",
       "<table border=\"1\" class=\"dataframe\">\n",
       "  <thead>\n",
       "    <tr style=\"text-align: right;\">\n",
       "      <th></th>\n",
       "      <th>children</th>\n",
       "      <th>days_employed</th>\n",
       "      <th>dob_years</th>\n",
       "      <th>education</th>\n",
       "      <th>education_id</th>\n",
       "      <th>family_status</th>\n",
       "      <th>family_status_id</th>\n",
       "      <th>gender</th>\n",
       "      <th>income_type</th>\n",
       "      <th>debt</th>\n",
       "      <th>total_income</th>\n",
       "      <th>purpose</th>\n",
       "    </tr>\n",
       "  </thead>\n",
       "  <tbody>\n",
       "    <tr>\n",
       "      <th>0</th>\n",
       "      <td>1</td>\n",
       "      <td>8437.673028</td>\n",
       "      <td>42</td>\n",
       "      <td>высшее</td>\n",
       "      <td>0</td>\n",
       "      <td>женат / замужем</td>\n",
       "      <td>0</td>\n",
       "      <td>F</td>\n",
       "      <td>сотрудник</td>\n",
       "      <td>0</td>\n",
       "      <td>253875</td>\n",
       "      <td>покупка жилья</td>\n",
       "    </tr>\n",
       "    <tr>\n",
       "      <th>1</th>\n",
       "      <td>1</td>\n",
       "      <td>4024.803754</td>\n",
       "      <td>36</td>\n",
       "      <td>среднее</td>\n",
       "      <td>1</td>\n",
       "      <td>женат / замужем</td>\n",
       "      <td>0</td>\n",
       "      <td>F</td>\n",
       "      <td>сотрудник</td>\n",
       "      <td>0</td>\n",
       "      <td>112080</td>\n",
       "      <td>приобретение автомобиля</td>\n",
       "    </tr>\n",
       "    <tr>\n",
       "      <th>2</th>\n",
       "      <td>0</td>\n",
       "      <td>5623.422610</td>\n",
       "      <td>33</td>\n",
       "      <td>Среднее</td>\n",
       "      <td>1</td>\n",
       "      <td>женат / замужем</td>\n",
       "      <td>0</td>\n",
       "      <td>M</td>\n",
       "      <td>сотрудник</td>\n",
       "      <td>0</td>\n",
       "      <td>145885</td>\n",
       "      <td>покупка жилья</td>\n",
       "    </tr>\n",
       "    <tr>\n",
       "      <th>3</th>\n",
       "      <td>3</td>\n",
       "      <td>4124.747207</td>\n",
       "      <td>32</td>\n",
       "      <td>среднее</td>\n",
       "      <td>1</td>\n",
       "      <td>женат / замужем</td>\n",
       "      <td>0</td>\n",
       "      <td>M</td>\n",
       "      <td>сотрудник</td>\n",
       "      <td>0</td>\n",
       "      <td>267628</td>\n",
       "      <td>дополнительное образование</td>\n",
       "    </tr>\n",
       "    <tr>\n",
       "      <th>4</th>\n",
       "      <td>0</td>\n",
       "      <td>340266.072047</td>\n",
       "      <td>53</td>\n",
       "      <td>среднее</td>\n",
       "      <td>1</td>\n",
       "      <td>гражданский брак</td>\n",
       "      <td>1</td>\n",
       "      <td>F</td>\n",
       "      <td>пенсионер</td>\n",
       "      <td>0</td>\n",
       "      <td>158616</td>\n",
       "      <td>сыграть свадьбу</td>\n",
       "    </tr>\n",
       "    <tr>\n",
       "      <th>...</th>\n",
       "      <td>...</td>\n",
       "      <td>...</td>\n",
       "      <td>...</td>\n",
       "      <td>...</td>\n",
       "      <td>...</td>\n",
       "      <td>...</td>\n",
       "      <td>...</td>\n",
       "      <td>...</td>\n",
       "      <td>...</td>\n",
       "      <td>...</td>\n",
       "      <td>...</td>\n",
       "      <td>...</td>\n",
       "    </tr>\n",
       "    <tr>\n",
       "      <th>21520</th>\n",
       "      <td>1</td>\n",
       "      <td>4529.316663</td>\n",
       "      <td>43</td>\n",
       "      <td>среднее</td>\n",
       "      <td>1</td>\n",
       "      <td>гражданский брак</td>\n",
       "      <td>1</td>\n",
       "      <td>F</td>\n",
       "      <td>компаньон</td>\n",
       "      <td>0</td>\n",
       "      <td>224791</td>\n",
       "      <td>операции с жильем</td>\n",
       "    </tr>\n",
       "    <tr>\n",
       "      <th>21521</th>\n",
       "      <td>0</td>\n",
       "      <td>343937.404131</td>\n",
       "      <td>67</td>\n",
       "      <td>среднее</td>\n",
       "      <td>1</td>\n",
       "      <td>женат / замужем</td>\n",
       "      <td>0</td>\n",
       "      <td>F</td>\n",
       "      <td>пенсионер</td>\n",
       "      <td>0</td>\n",
       "      <td>155999</td>\n",
       "      <td>сделка с автомобилем</td>\n",
       "    </tr>\n",
       "    <tr>\n",
       "      <th>21522</th>\n",
       "      <td>1</td>\n",
       "      <td>2113.346888</td>\n",
       "      <td>38</td>\n",
       "      <td>среднее</td>\n",
       "      <td>1</td>\n",
       "      <td>гражданский брак</td>\n",
       "      <td>1</td>\n",
       "      <td>M</td>\n",
       "      <td>сотрудник</td>\n",
       "      <td>1</td>\n",
       "      <td>89672</td>\n",
       "      <td>недвижимость</td>\n",
       "    </tr>\n",
       "    <tr>\n",
       "      <th>21523</th>\n",
       "      <td>3</td>\n",
       "      <td>3112.481705</td>\n",
       "      <td>38</td>\n",
       "      <td>среднее</td>\n",
       "      <td>1</td>\n",
       "      <td>женат / замужем</td>\n",
       "      <td>0</td>\n",
       "      <td>M</td>\n",
       "      <td>сотрудник</td>\n",
       "      <td>1</td>\n",
       "      <td>244093</td>\n",
       "      <td>на покупку своего автомобиля</td>\n",
       "    </tr>\n",
       "    <tr>\n",
       "      <th>21524</th>\n",
       "      <td>2</td>\n",
       "      <td>1984.507589</td>\n",
       "      <td>40</td>\n",
       "      <td>среднее</td>\n",
       "      <td>1</td>\n",
       "      <td>женат / замужем</td>\n",
       "      <td>0</td>\n",
       "      <td>F</td>\n",
       "      <td>сотрудник</td>\n",
       "      <td>0</td>\n",
       "      <td>82047</td>\n",
       "      <td>на покупку автомобиля</td>\n",
       "    </tr>\n",
       "  </tbody>\n",
       "</table>\n",
       "<p>21348 rows × 12 columns</p>\n",
       "</div>"
      ],
      "text/plain": [
       "       children  days_employed  dob_years education  education_id  \\\n",
       "0             1    8437.673028         42    высшее             0   \n",
       "1             1    4024.803754         36   среднее             1   \n",
       "2             0    5623.422610         33   Среднее             1   \n",
       "3             3    4124.747207         32   среднее             1   \n",
       "4             0  340266.072047         53   среднее             1   \n",
       "...         ...            ...        ...       ...           ...   \n",
       "21520         1    4529.316663         43   среднее             1   \n",
       "21521         0  343937.404131         67   среднее             1   \n",
       "21522         1    2113.346888         38   среднее             1   \n",
       "21523         3    3112.481705         38   среднее             1   \n",
       "21524         2    1984.507589         40   среднее             1   \n",
       "\n",
       "          family_status  family_status_id gender income_type  debt  \\\n",
       "0       женат / замужем                 0      F   сотрудник     0   \n",
       "1       женат / замужем                 0      F   сотрудник     0   \n",
       "2       женат / замужем                 0      M   сотрудник     0   \n",
       "3       женат / замужем                 0      M   сотрудник     0   \n",
       "4      гражданский брак                 1      F   пенсионер     0   \n",
       "...                 ...               ...    ...         ...   ...   \n",
       "21520  гражданский брак                 1      F   компаньон     0   \n",
       "21521   женат / замужем                 0      F   пенсионер     0   \n",
       "21522  гражданский брак                 1      M   сотрудник     1   \n",
       "21523   женат / замужем                 0      M   сотрудник     1   \n",
       "21524   женат / замужем                 0      F   сотрудник     0   \n",
       "\n",
       "       total_income                       purpose  \n",
       "0            253875                 покупка жилья  \n",
       "1            112080       приобретение автомобиля  \n",
       "2            145885                 покупка жилья  \n",
       "3            267628    дополнительное образование  \n",
       "4            158616               сыграть свадьбу  \n",
       "...             ...                           ...  \n",
       "21520        224791             операции с жильем  \n",
       "21521        155999          сделка с автомобилем  \n",
       "21522         89672                  недвижимость  \n",
       "21523        244093  на покупку своего автомобиля  \n",
       "21524         82047         на покупку автомобиля  \n",
       "\n",
       "[21348 rows x 12 columns]"
      ]
     },
     "execution_count": 16,
     "metadata": {},
     "output_type": "execute_result"
    }
   ],
   "source": [
    "data.drop_duplicates() # удалите дубликаты"
   ]
  },
  {
   "cell_type": "markdown",
   "id": "9771a76c",
   "metadata": {
    "deletable": false,
    "editable": false,
    "id": "9771a76c",
    "tags": [
     "start_task"
    ]
   },
   "source": [
    "**Задание 15. Обработайте неявные дубликаты в столбце `education`. В этом столбце есть одни и те же значения, но записанные по-разному: с использованием заглавных и строчных букв. Приведите их к нижнему регистру.**"
   ]
  },
  {
   "cell_type": "code",
   "execution_count": 17,
   "id": "a9f8e2bf",
   "metadata": {
    "id": "a9f8e2bf"
   },
   "outputs": [],
   "source": [
    "data['education'] = data['education'].str.lower()\n",
    "# ваш код здесь"
   ]
  },
  {
   "cell_type": "markdown",
   "id": "9904cf55",
   "metadata": {
    "deletable": false,
    "editable": false,
    "id": "9904cf55"
   },
   "source": [
    "### Категоризация данных"
   ]
  },
  {
   "cell_type": "markdown",
   "id": "72fcc8a2",
   "metadata": {
    "deletable": false,
    "editable": false,
    "id": "72fcc8a2",
    "tags": [
     "start_task"
    ]
   },
   "source": [
    "**Задание 16. На основании диапазонов, указанных ниже, создайте в датафрейме `data` столбец `total_income_category` с категориями:**\n",
    "\n",
    "- 0–30000 — `'E'`;\n",
    "- 30001–50000 — `'D'`;\n",
    "- 50001–200000 — `'C'`;\n",
    "- 200001–1000000 — `'B'`;\n",
    "- 1000001 и выше — `'A'`.\n",
    "\n",
    "\n",
    "**Например, кредитополучателю с доходом 25000 нужно назначить категорию `'E'`, а клиенту, получающему 235000, — `'B'`. Используйте собственную функцию с именем `categorize_income()` и метод `apply()`.**"
   ]
  },
  {
   "cell_type": "code",
   "execution_count": 18,
   "id": "e1771346",
   "metadata": {
    "id": "e1771346"
   },
   "outputs": [],
   "source": [
    "def categorize_income (income): \n",
    "    if income <= 30000: \n",
    "        return 'E' \n",
    "    if income <= 50000:\n",
    "        return 'D'\n",
    "    if income <=200000:\n",
    "        return 'C'\n",
    "    if income <= 1000000:\n",
    "        return 'B'\n",
    "    return 'A'\n",
    "    # создайте функцию categorize_income()"
   ]
  },
  {
   "cell_type": "code",
   "execution_count": 19,
   "id": "d5f3586d",
   "metadata": {
    "id": "d5f3586d"
   },
   "outputs": [],
   "source": [
    "data['total_income_category'] = data['total_income'].apply(categorize_income) # примените функцию методом apply()"
   ]
  },
  {
   "cell_type": "markdown",
   "id": "dde49b5c",
   "metadata": {
    "deletable": false,
    "editable": false,
    "id": "dde49b5c",
    "tags": [
     "start_task"
    ]
   },
   "source": [
    "**Задание 17. Выведите на экран перечень уникальных целей взятия кредита из столбца `purpose`.**"
   ]
  },
  {
   "cell_type": "code",
   "execution_count": 20,
   "id": "f67ce9b3",
   "metadata": {
    "id": "f67ce9b3"
   },
   "outputs": [
    {
     "data": {
      "text/plain": [
       "array(['покупка жилья', 'приобретение автомобиля',\n",
       "       'дополнительное образование', 'сыграть свадьбу',\n",
       "       'операции с жильем', 'образование', 'на проведение свадьбы',\n",
       "       'покупка жилья для семьи', 'покупка недвижимости',\n",
       "       'покупка коммерческой недвижимости', 'покупка жилой недвижимости',\n",
       "       'строительство собственной недвижимости', 'недвижимость',\n",
       "       'строительство недвижимости', 'на покупку подержанного автомобиля',\n",
       "       'на покупку своего автомобиля',\n",
       "       'операции с коммерческой недвижимостью',\n",
       "       'строительство жилой недвижимости', 'жилье',\n",
       "       'операции со своей недвижимостью', 'автомобили',\n",
       "       'заняться образованием', 'сделка с подержанным автомобилем',\n",
       "       'получение образования', 'автомобиль', 'свадьба',\n",
       "       'получение дополнительного образования', 'покупка своего жилья',\n",
       "       'операции с недвижимостью', 'получение высшего образования',\n",
       "       'свой автомобиль', 'сделка с автомобилем',\n",
       "       'профильное образование', 'высшее образование',\n",
       "       'покупка жилья для сдачи', 'на покупку автомобиля', 'ремонт жилью',\n",
       "       'заняться высшим образованием'], dtype=object)"
      ]
     },
     "execution_count": 20,
     "metadata": {},
     "output_type": "execute_result"
    }
   ],
   "source": [
    "data['purpose'].unique() # ваш код здесь"
   ]
  },
  {
   "cell_type": "markdown",
   "id": "85d0aef0",
   "metadata": {
    "deletable": false,
    "editable": false,
    "id": "85d0aef0",
    "tags": [
     "start_task"
    ]
   },
   "source": [
    "**Задание 18. Создайте функцию, которая на основании данных из столбца `purpose` сформирует новый столбец `purpose_category`, в который войдут следующие категории:**\n",
    "\n",
    "- `'операции с автомобилем'`,\n",
    "- `'операции с недвижимостью'`,\n",
    "- `'проведение свадьбы'`,\n",
    "- `'получение образования'`.\n",
    "\n",
    "**Например, если в столбце `purpose` находится подстрока `'на покупку автомобиля'`, то в столбце `purpose_category` должна появиться строка `'операции с автомобилем'`.**\n",
    "\n",
    "**Используйте собственную функцию с именем `categorize_purpose()` и метод `apply()`. Изучите данные в столбце `purpose` и определите, какие подстроки помогут вам правильно определить категорию.**"
   ]
  },
  {
   "cell_type": "code",
   "execution_count": 21,
   "id": "e149fab4",
   "metadata": {
    "id": "e149fab4"
   },
   "outputs": [],
   "source": [
    "def categorize_purpose (purpose):\n",
    "    if ('автомобиля' in purpose or \n",
    "        'автомобили' in purpose or\n",
    "        'автомобиль' in purpose or \n",
    "        'автомобилем' in purpose):\n",
    "        return 'операции с автомобилем' \n",
    "    if ('жилья' in purpose or \n",
    "        'жильем'in purpose or \n",
    "        'недвижимости' in purpose or \n",
    "        'недвижимость' in purpose or \n",
    "        'недвежимостью' in purpose or \n",
    "        'жилью' in purpose or\n",
    "        'жилье' in purpose):\n",
    "        return 'операции с недвижимостью'\n",
    "    if ('свадьбу' in purpose or \n",
    "        'свадьбы' in purpose or \n",
    "        'свадьба' in purpose):\n",
    "        return 'проведение свадьбы' \n",
    "    return 'получение образования' \n",
    " # создайте функцию categorize_purpose()"
   ]
  },
  {
   "cell_type": "code",
   "execution_count": 22,
   "id": "bf36e69b",
   "metadata": {
    "id": "bf36e69b"
   },
   "outputs": [],
   "source": [
    "data['purpose_category'] = data['purpose'].apply(categorize_purpose) \n",
    "# примените функцию методом apply()"
   ]
  },
  {
   "cell_type": "code",
   "execution_count": null,
   "id": "c5e68736",
   "metadata": {},
   "outputs": [],
   "source": []
  }
 ],
 "metadata": {
  "ExecuteTimeLog": [
   {
    "duration": 51,
    "start_time": "2022-11-03T16:07:24.186Z"
   },
   {
    "duration": 415,
    "start_time": "2022-11-03T16:07:32.386Z"
   },
   {
    "duration": 131,
    "start_time": "2022-11-03T16:07:34.378Z"
   },
   {
    "duration": 24,
    "start_time": "2022-11-03T16:08:11.062Z"
   },
   {
    "duration": 16,
    "start_time": "2022-11-03T16:23:42.584Z"
   },
   {
    "duration": 20,
    "start_time": "2022-11-03T16:24:58.172Z"
   },
   {
    "duration": 10,
    "start_time": "2022-11-03T16:25:16.590Z"
   },
   {
    "duration": 6,
    "start_time": "2022-11-03T16:26:34.088Z"
   },
   {
    "duration": 74,
    "start_time": "2022-11-03T16:36:31.415Z"
   },
   {
    "duration": 78,
    "start_time": "2022-11-03T16:36:39.576Z"
   },
   {
    "duration": 4,
    "start_time": "2022-11-03T16:36:48.115Z"
   },
   {
    "duration": 40,
    "start_time": "2022-11-03T17:08:38.087Z"
   },
   {
    "duration": 8,
    "start_time": "2022-11-03T17:08:50.277Z"
   },
   {
    "duration": 21,
    "start_time": "2022-11-03T17:09:27.955Z"
   },
   {
    "duration": 28,
    "start_time": "2022-11-03T17:09:55.411Z"
   },
   {
    "duration": 1274,
    "start_time": "2022-11-03T17:19:01.094Z"
   },
   {
    "duration": 1183,
    "start_time": "2022-11-03T17:19:35.198Z"
   },
   {
    "duration": 1156,
    "start_time": "2022-11-03T17:19:58.248Z"
   },
   {
    "duration": 1139,
    "start_time": "2022-11-03T17:20:49.719Z"
   },
   {
    "duration": 12,
    "start_time": "2022-11-03T17:21:12.877Z"
   },
   {
    "duration": 19,
    "start_time": "2022-11-03T17:22:16.080Z"
   },
   {
    "duration": 15,
    "start_time": "2022-11-03T17:22:28.139Z"
   },
   {
    "duration": 14,
    "start_time": "2022-11-03T17:22:41.607Z"
   },
   {
    "duration": 1166,
    "start_time": "2022-11-03T17:23:08.865Z"
   },
   {
    "duration": 1130,
    "start_time": "2022-11-03T17:24:26.398Z"
   },
   {
    "duration": 13,
    "start_time": "2022-11-03T17:25:15.022Z"
   },
   {
    "duration": 5,
    "start_time": "2022-11-03T17:26:17.130Z"
   },
   {
    "duration": 14,
    "start_time": "2022-11-03T17:36:34.253Z"
   },
   {
    "duration": 7,
    "start_time": "2022-11-03T17:37:03.764Z"
   },
   {
    "duration": 10,
    "start_time": "2022-11-03T17:37:10.733Z"
   },
   {
    "duration": 10,
    "start_time": "2022-11-03T17:37:29.358Z"
   },
   {
    "duration": 5,
    "start_time": "2022-11-03T17:37:50.215Z"
   },
   {
    "duration": 13,
    "start_time": "2022-11-03T17:38:21.685Z"
   },
   {
    "duration": 6,
    "start_time": "2022-11-03T17:38:39.700Z"
   },
   {
    "duration": 29,
    "start_time": "2022-11-03T17:47:56.821Z"
   },
   {
    "duration": 38,
    "start_time": "2022-11-03T17:53:48.493Z"
   },
   {
    "duration": 33,
    "start_time": "2022-11-03T17:54:28.614Z"
   },
   {
    "duration": 33,
    "start_time": "2022-11-03T17:55:16.203Z"
   },
   {
    "duration": 37,
    "start_time": "2022-11-03T17:56:14.397Z"
   },
   {
    "duration": 2,
    "start_time": "2022-11-03T17:56:30.912Z"
   },
   {
    "duration": 86,
    "start_time": "2022-11-03T17:56:30.916Z"
   },
   {
    "duration": 18,
    "start_time": "2022-11-03T17:56:31.005Z"
   },
   {
    "duration": 29,
    "start_time": "2022-11-03T17:56:31.025Z"
   },
   {
    "duration": 18,
    "start_time": "2022-11-03T17:56:31.056Z"
   },
   {
    "duration": 17,
    "start_time": "2022-11-03T17:58:00.944Z"
   },
   {
    "duration": 7,
    "start_time": "2022-11-03T17:59:17.325Z"
   },
   {
    "duration": 397,
    "start_time": "2022-11-04T03:32:57.420Z"
   },
   {
    "duration": 334,
    "start_time": "2022-11-04T03:32:57.823Z"
   },
   {
    "duration": 22,
    "start_time": "2022-11-04T03:32:58.158Z"
   },
   {
    "duration": 43,
    "start_time": "2022-11-04T03:32:58.182Z"
   },
   {
    "duration": 35,
    "start_time": "2022-11-04T03:32:58.227Z"
   },
   {
    "duration": 51,
    "start_time": "2022-11-04T03:32:58.264Z"
   },
   {
    "duration": 59,
    "start_time": "2022-11-04T03:32:58.317Z"
   },
   {
    "duration": 6,
    "start_time": "2022-11-04T03:33:18.808Z"
   },
   {
    "duration": 7,
    "start_time": "2022-11-04T03:33:49.383Z"
   },
   {
    "duration": 6,
    "start_time": "2022-11-04T03:34:05.101Z"
   },
   {
    "duration": 7,
    "start_time": "2022-11-04T03:34:07.587Z"
   },
   {
    "duration": 9,
    "start_time": "2022-11-04T03:34:41.826Z"
   },
   {
    "duration": 8,
    "start_time": "2022-11-04T03:35:57.227Z"
   },
   {
    "duration": 576,
    "start_time": "2022-11-04T03:36:08.589Z"
   },
   {
    "duration": 524,
    "start_time": "2022-11-04T03:36:33.989Z"
   },
   {
    "duration": 559,
    "start_time": "2022-11-04T03:37:19.482Z"
   },
   {
    "duration": 529,
    "start_time": "2022-11-04T03:37:45.351Z"
   },
   {
    "duration": 3,
    "start_time": "2022-11-04T03:38:14.316Z"
   },
   {
    "duration": 71,
    "start_time": "2022-11-04T03:38:14.367Z"
   },
   {
    "duration": 14,
    "start_time": "2022-11-04T03:38:14.456Z"
   },
   {
    "duration": 21,
    "start_time": "2022-11-04T03:38:14.502Z"
   },
   {
    "duration": 11,
    "start_time": "2022-11-04T03:38:14.525Z"
   },
   {
    "duration": 32,
    "start_time": "2022-11-04T03:38:14.601Z"
   },
   {
    "duration": 7,
    "start_time": "2022-11-04T03:38:20.205Z"
   },
   {
    "duration": 12,
    "start_time": "2022-11-04T03:43:01.740Z"
   },
   {
    "duration": 16,
    "start_time": "2022-11-04T03:43:44.254Z"
   },
   {
    "duration": 29,
    "start_time": "2022-11-04T03:43:50.948Z"
   },
   {
    "duration": 12,
    "start_time": "2022-11-04T03:43:58.515Z"
   },
   {
    "duration": 10,
    "start_time": "2022-11-04T03:44:13.564Z"
   },
   {
    "duration": 2,
    "start_time": "2022-11-04T03:44:55.721Z"
   },
   {
    "duration": 88,
    "start_time": "2022-11-04T03:44:55.727Z"
   },
   {
    "duration": 14,
    "start_time": "2022-11-04T03:44:55.817Z"
   },
   {
    "duration": 28,
    "start_time": "2022-11-04T03:44:55.833Z"
   },
   {
    "duration": 27,
    "start_time": "2022-11-04T03:44:55.863Z"
   },
   {
    "duration": 39,
    "start_time": "2022-11-04T03:44:55.892Z"
   },
   {
    "duration": 6,
    "start_time": "2022-11-04T03:44:55.933Z"
   },
   {
    "duration": 17,
    "start_time": "2022-11-04T03:44:55.940Z"
   },
   {
    "duration": 29,
    "start_time": "2022-11-04T03:44:55.958Z"
   },
   {
    "duration": 14,
    "start_time": "2022-11-04T03:44:55.989Z"
   },
   {
    "duration": 11,
    "start_time": "2022-11-04T03:44:56.005Z"
   },
   {
    "duration": 14,
    "start_time": "2022-11-04T03:44:56.017Z"
   },
   {
    "duration": 10,
    "start_time": "2022-11-04T03:44:56.032Z"
   },
   {
    "duration": 12,
    "start_time": "2022-11-04T03:44:56.044Z"
   },
   {
    "duration": 6,
    "start_time": "2022-11-04T03:44:56.059Z"
   },
   {
    "duration": 11,
    "start_time": "2022-11-04T03:44:56.066Z"
   },
   {
    "duration": 13,
    "start_time": "2022-11-04T03:44:56.079Z"
   },
   {
    "duration": 5,
    "start_time": "2022-11-04T03:44:56.093Z"
   },
   {
    "duration": 29,
    "start_time": "2022-11-04T03:44:56.099Z"
   },
   {
    "duration": 24,
    "start_time": "2022-11-04T03:44:56.130Z"
   },
   {
    "duration": 23,
    "start_time": "2022-11-04T03:44:56.156Z"
   },
   {
    "duration": 7,
    "start_time": "2022-11-04T03:44:56.181Z"
   },
   {
    "duration": 5,
    "start_time": "2022-11-04T03:45:09.344Z"
   },
   {
    "duration": 4,
    "start_time": "2022-11-04T03:46:16.281Z"
   },
   {
    "duration": 8,
    "start_time": "2022-11-04T03:46:36.660Z"
   },
   {
    "duration": 15,
    "start_time": "2022-11-04T03:47:12.307Z"
   },
   {
    "duration": 17,
    "start_time": "2022-11-04T03:47:29.683Z"
   },
   {
    "duration": 6,
    "start_time": "2022-11-04T03:48:09.730Z"
   },
   {
    "duration": 8,
    "start_time": "2022-11-04T03:48:38.857Z"
   },
   {
    "duration": 6,
    "start_time": "2022-11-04T03:48:49.494Z"
   },
   {
    "duration": 15,
    "start_time": "2022-11-04T03:49:46.817Z"
   },
   {
    "duration": 19,
    "start_time": "2022-11-04T03:51:19.437Z"
   },
   {
    "duration": 20,
    "start_time": "2022-11-04T03:51:29.485Z"
   },
   {
    "duration": 16,
    "start_time": "2022-11-04T03:55:03.079Z"
   },
   {
    "duration": 13,
    "start_time": "2022-11-04T03:55:12.390Z"
   },
   {
    "duration": 13,
    "start_time": "2022-11-04T03:55:34.600Z"
   },
   {
    "duration": 12,
    "start_time": "2022-11-04T03:55:46.611Z"
   },
   {
    "duration": 14,
    "start_time": "2022-11-04T03:56:26.463Z"
   },
   {
    "duration": 13,
    "start_time": "2022-11-04T03:56:42.180Z"
   },
   {
    "duration": 14,
    "start_time": "2022-11-04T03:59:12.249Z"
   },
   {
    "duration": 20,
    "start_time": "2022-11-04T03:59:44.385Z"
   },
   {
    "duration": 17,
    "start_time": "2022-11-04T04:00:19.464Z"
   },
   {
    "duration": 4,
    "start_time": "2022-11-04T04:00:30.310Z"
   },
   {
    "duration": 6,
    "start_time": "2022-11-04T04:00:50.931Z"
   },
   {
    "duration": 6,
    "start_time": "2022-11-04T04:01:40.197Z"
   },
   {
    "duration": 8,
    "start_time": "2022-11-04T04:01:59.482Z"
   },
   {
    "duration": 578,
    "start_time": "2022-11-04T04:02:34.986Z"
   },
   {
    "duration": 510,
    "start_time": "2022-11-04T04:02:46.986Z"
   },
   {
    "duration": 539,
    "start_time": "2022-11-04T04:03:06.202Z"
   },
   {
    "duration": 3,
    "start_time": "2022-11-04T04:03:18.236Z"
   },
   {
    "duration": 80,
    "start_time": "2022-11-04T04:03:18.241Z"
   },
   {
    "duration": 15,
    "start_time": "2022-11-04T04:03:18.323Z"
   },
   {
    "duration": 16,
    "start_time": "2022-11-04T04:03:18.340Z"
   },
   {
    "duration": 11,
    "start_time": "2022-11-04T04:03:18.358Z"
   },
   {
    "duration": 53,
    "start_time": "2022-11-04T04:03:18.370Z"
   },
   {
    "duration": 14,
    "start_time": "2022-11-04T04:03:20.983Z"
   },
   {
    "duration": 14,
    "start_time": "2022-11-04T04:03:48.377Z"
   },
   {
    "duration": 16,
    "start_time": "2022-11-04T04:04:04.994Z"
   },
   {
    "duration": 4,
    "start_time": "2022-11-04T04:05:30.135Z"
   },
   {
    "duration": 56,
    "start_time": "2022-11-04T04:05:30.141Z"
   },
   {
    "duration": 14,
    "start_time": "2022-11-04T04:05:30.198Z"
   },
   {
    "duration": 15,
    "start_time": "2022-11-04T04:05:30.379Z"
   },
   {
    "duration": 11,
    "start_time": "2022-11-04T04:05:30.396Z"
   },
   {
    "duration": 43,
    "start_time": "2022-11-04T04:05:30.409Z"
   },
   {
    "duration": 5,
    "start_time": "2022-11-04T04:05:30.476Z"
   },
   {
    "duration": 10,
    "start_time": "2022-11-04T04:05:30.482Z"
   },
   {
    "duration": 3,
    "start_time": "2022-11-04T04:05:30.508Z"
   },
   {
    "duration": 24,
    "start_time": "2022-11-04T04:05:30.513Z"
   },
   {
    "duration": 8,
    "start_time": "2022-11-04T04:05:30.539Z"
   },
   {
    "duration": 8,
    "start_time": "2022-11-04T04:05:30.548Z"
   },
   {
    "duration": 6,
    "start_time": "2022-11-04T04:05:30.558Z"
   },
   {
    "duration": 8,
    "start_time": "2022-11-04T04:05:30.566Z"
   },
   {
    "duration": 6,
    "start_time": "2022-11-04T04:05:30.575Z"
   },
   {
    "duration": 12,
    "start_time": "2022-11-04T04:05:30.583Z"
   },
   {
    "duration": 19,
    "start_time": "2022-11-04T04:05:30.596Z"
   },
   {
    "duration": 14,
    "start_time": "2022-11-04T04:05:30.617Z"
   },
   {
    "duration": 2,
    "start_time": "2022-11-04T04:05:30.695Z"
   },
   {
    "duration": 16,
    "start_time": "2022-11-04T04:05:30.699Z"
   },
   {
    "duration": 9,
    "start_time": "2022-11-04T04:05:30.717Z"
   },
   {
    "duration": 15,
    "start_time": "2022-11-04T04:05:32.667Z"
   },
   {
    "duration": 15,
    "start_time": "2022-11-04T04:06:51.915Z"
   },
   {
    "duration": 3,
    "start_time": "2022-11-04T04:20:30.282Z"
   },
   {
    "duration": 76,
    "start_time": "2022-11-04T04:20:30.287Z"
   },
   {
    "duration": 14,
    "start_time": "2022-11-04T04:20:30.364Z"
   },
   {
    "duration": 25,
    "start_time": "2022-11-04T04:20:30.380Z"
   },
   {
    "duration": 20,
    "start_time": "2022-11-04T04:20:30.407Z"
   },
   {
    "duration": 56,
    "start_time": "2022-11-04T04:20:30.428Z"
   },
   {
    "duration": 15,
    "start_time": "2022-11-04T04:20:30.485Z"
   },
   {
    "duration": 16,
    "start_time": "2022-11-04T04:21:10.306Z"
   },
   {
    "duration": 18,
    "start_time": "2022-11-04T04:21:46.603Z"
   },
   {
    "duration": 2,
    "start_time": "2022-11-04T04:21:52.448Z"
   },
   {
    "duration": 71,
    "start_time": "2022-11-04T04:21:52.452Z"
   },
   {
    "duration": 15,
    "start_time": "2022-11-04T04:21:52.524Z"
   },
   {
    "duration": 16,
    "start_time": "2022-11-04T04:21:52.540Z"
   },
   {
    "duration": 9,
    "start_time": "2022-11-04T04:21:52.558Z"
   },
   {
    "duration": 62,
    "start_time": "2022-11-04T04:21:52.568Z"
   },
   {
    "duration": 20,
    "start_time": "2022-11-04T04:21:55.488Z"
   },
   {
    "duration": 8,
    "start_time": "2022-11-04T04:32:13.606Z"
   },
   {
    "duration": 4,
    "start_time": "2022-11-04T04:33:16.806Z"
   },
   {
    "duration": 13,
    "start_time": "2022-11-04T04:39:24.669Z"
   },
   {
    "duration": 7,
    "start_time": "2022-11-04T04:39:40.803Z"
   },
   {
    "duration": 50,
    "start_time": "2022-11-04T13:51:02.746Z"
   },
   {
    "duration": 398,
    "start_time": "2022-11-04T13:51:08.473Z"
   },
   {
    "duration": 135,
    "start_time": "2022-11-04T13:51:08.872Z"
   },
   {
    "duration": 19,
    "start_time": "2022-11-04T13:51:09.009Z"
   },
   {
    "duration": 13,
    "start_time": "2022-11-04T13:51:09.029Z"
   },
   {
    "duration": 8,
    "start_time": "2022-11-04T13:51:09.044Z"
   },
   {
    "duration": 51,
    "start_time": "2022-11-04T13:51:09.053Z"
   },
   {
    "duration": 13,
    "start_time": "2022-11-04T13:51:09.106Z"
   },
   {
    "duration": 7,
    "start_time": "2022-11-04T13:51:09.120Z"
   },
   {
    "duration": 5,
    "start_time": "2022-11-04T13:51:09.128Z"
   },
   {
    "duration": 47,
    "start_time": "2022-11-04T13:51:09.134Z"
   },
   {
    "duration": 20,
    "start_time": "2022-11-04T13:51:13.073Z"
   },
   {
    "duration": 27,
    "start_time": "2022-11-04T13:51:24.265Z"
   },
   {
    "duration": 19,
    "start_time": "2022-11-04T13:51:44.474Z"
   },
   {
    "duration": 15,
    "start_time": "2022-11-04T14:00:51.224Z"
   },
   {
    "duration": 2,
    "start_time": "2022-11-04T14:01:15.893Z"
   },
   {
    "duration": 72,
    "start_time": "2022-11-04T14:01:15.898Z"
   },
   {
    "duration": 14,
    "start_time": "2022-11-04T14:01:15.972Z"
   },
   {
    "duration": 21,
    "start_time": "2022-11-04T14:01:15.987Z"
   },
   {
    "duration": 9,
    "start_time": "2022-11-04T14:01:16.010Z"
   },
   {
    "duration": 56,
    "start_time": "2022-11-04T14:01:16.021Z"
   },
   {
    "duration": 19,
    "start_time": "2022-11-04T14:01:16.079Z"
   },
   {
    "duration": 12,
    "start_time": "2022-11-04T14:01:16.100Z"
   },
   {
    "duration": 4,
    "start_time": "2022-11-04T14:01:16.114Z"
   },
   {
    "duration": 20,
    "start_time": "2022-11-04T14:01:16.120Z"
   },
   {
    "duration": 22,
    "start_time": "2022-11-04T14:01:44.167Z"
   },
   {
    "duration": 10,
    "start_time": "2022-11-04T14:02:35.025Z"
   },
   {
    "duration": 11,
    "start_time": "2022-11-04T14:02:39.110Z"
   },
   {
    "duration": 15,
    "start_time": "2022-11-04T14:02:42.224Z"
   },
   {
    "duration": 18,
    "start_time": "2022-11-04T14:02:50.499Z"
   },
   {
    "duration": 8,
    "start_time": "2022-11-04T14:04:26.743Z"
   },
   {
    "duration": 3,
    "start_time": "2022-11-04T14:04:29.981Z"
   },
   {
    "duration": 69,
    "start_time": "2022-11-04T14:04:29.990Z"
   },
   {
    "duration": 14,
    "start_time": "2022-11-04T14:04:30.061Z"
   },
   {
    "duration": 20,
    "start_time": "2022-11-04T14:04:30.077Z"
   },
   {
    "duration": 10,
    "start_time": "2022-11-04T14:04:30.099Z"
   },
   {
    "duration": 37,
    "start_time": "2022-11-04T14:04:30.112Z"
   },
   {
    "duration": 13,
    "start_time": "2022-11-04T14:04:30.150Z"
   },
   {
    "duration": 22,
    "start_time": "2022-11-04T14:04:30.177Z"
   },
   {
    "duration": 15,
    "start_time": "2022-11-04T14:04:30.200Z"
   },
   {
    "duration": 33,
    "start_time": "2022-11-04T14:04:30.217Z"
   },
   {
    "duration": 5,
    "start_time": "2022-11-04T14:05:11.178Z"
   },
   {
    "duration": 4,
    "start_time": "2022-11-04T14:05:23.879Z"
   },
   {
    "duration": 33,
    "start_time": "2022-11-04T14:14:42.895Z"
   },
   {
    "duration": 4,
    "start_time": "2022-11-04T14:15:19.228Z"
   },
   {
    "duration": 31,
    "start_time": "2022-11-04T14:20:51.028Z"
   },
   {
    "duration": 5,
    "start_time": "2022-11-04T14:20:54.223Z"
   },
   {
    "duration": 3,
    "start_time": "2022-11-04T14:23:06.870Z"
   },
   {
    "duration": 11,
    "start_time": "2022-11-04T14:33:28.924Z"
   },
   {
    "duration": 10,
    "start_time": "2022-11-04T14:34:09.098Z"
   },
   {
    "duration": 17,
    "start_time": "2022-11-04T14:35:08.223Z"
   },
   {
    "duration": 29,
    "start_time": "2022-11-04T14:35:23.754Z"
   },
   {
    "duration": 44,
    "start_time": "2022-11-04T14:36:00.224Z"
   },
   {
    "duration": 2,
    "start_time": "2022-11-04T14:36:37.892Z"
   },
   {
    "duration": 89,
    "start_time": "2022-11-04T14:36:37.897Z"
   },
   {
    "duration": 14,
    "start_time": "2022-11-04T14:36:37.988Z"
   },
   {
    "duration": 47,
    "start_time": "2022-11-04T14:36:38.004Z"
   },
   {
    "duration": 25,
    "start_time": "2022-11-04T14:36:38.053Z"
   },
   {
    "duration": 69,
    "start_time": "2022-11-04T14:36:38.079Z"
   },
   {
    "duration": 35,
    "start_time": "2022-11-04T14:36:38.149Z"
   },
   {
    "duration": 66,
    "start_time": "2022-11-04T14:36:38.186Z"
   },
   {
    "duration": 18,
    "start_time": "2022-11-04T14:36:38.254Z"
   },
   {
    "duration": 42,
    "start_time": "2022-11-04T14:36:38.273Z"
   },
   {
    "duration": 36,
    "start_time": "2022-11-04T14:36:38.317Z"
   },
   {
    "duration": 62,
    "start_time": "2022-11-04T14:36:38.355Z"
   },
   {
    "duration": 10,
    "start_time": "2022-11-04T14:36:38.420Z"
   },
   {
    "duration": 14,
    "start_time": "2022-11-04T14:36:38.431Z"
   },
   {
    "duration": 41,
    "start_time": "2022-11-04T14:36:38.446Z"
   },
   {
    "duration": 68,
    "start_time": "2022-11-04T14:36:38.488Z"
   },
   {
    "duration": 57,
    "start_time": "2022-11-04T14:36:38.557Z"
   },
   {
    "duration": 2,
    "start_time": "2022-11-04T14:36:38.616Z"
   },
   {
    "duration": 24,
    "start_time": "2022-11-04T14:36:38.619Z"
   },
   {
    "duration": 14,
    "start_time": "2022-11-04T14:36:38.645Z"
   },
   {
    "duration": 20,
    "start_time": "2022-11-04T14:36:38.660Z"
   },
   {
    "duration": 13,
    "start_time": "2022-11-04T14:36:38.682Z"
   },
   {
    "duration": 3,
    "start_time": "2022-11-04T14:36:51.187Z"
   },
   {
    "duration": 74,
    "start_time": "2022-11-04T14:36:51.191Z"
   },
   {
    "duration": 13,
    "start_time": "2022-11-04T14:36:51.267Z"
   },
   {
    "duration": 18,
    "start_time": "2022-11-04T14:36:51.281Z"
   },
   {
    "duration": 19,
    "start_time": "2022-11-04T14:36:51.301Z"
   },
   {
    "duration": 33,
    "start_time": "2022-11-04T14:36:51.322Z"
   },
   {
    "duration": 29,
    "start_time": "2022-11-04T14:36:51.357Z"
   },
   {
    "duration": 10,
    "start_time": "2022-11-04T14:36:51.387Z"
   },
   {
    "duration": 4,
    "start_time": "2022-11-04T14:36:51.399Z"
   },
   {
    "duration": 6,
    "start_time": "2022-11-04T14:36:51.404Z"
   },
   {
    "duration": 5,
    "start_time": "2022-11-04T14:36:51.412Z"
   },
   {
    "duration": 43,
    "start_time": "2022-11-04T14:36:51.434Z"
   },
   {
    "duration": 4,
    "start_time": "2022-11-04T14:36:51.479Z"
   },
   {
    "duration": 7,
    "start_time": "2022-11-04T14:36:51.484Z"
   },
   {
    "duration": 3,
    "start_time": "2022-11-04T14:36:51.493Z"
   },
   {
    "duration": 5,
    "start_time": "2022-11-04T14:36:51.497Z"
   },
   {
    "duration": 2,
    "start_time": "2022-11-04T14:38:04.224Z"
   },
   {
    "duration": 68,
    "start_time": "2022-11-04T14:38:04.228Z"
   },
   {
    "duration": 13,
    "start_time": "2022-11-04T14:38:04.298Z"
   },
   {
    "duration": 15,
    "start_time": "2022-11-04T14:38:04.312Z"
   },
   {
    "duration": 8,
    "start_time": "2022-11-04T14:38:04.329Z"
   },
   {
    "duration": 45,
    "start_time": "2022-11-04T14:38:04.338Z"
   },
   {
    "duration": 12,
    "start_time": "2022-11-04T14:38:04.384Z"
   },
   {
    "duration": 6,
    "start_time": "2022-11-04T14:38:04.398Z"
   },
   {
    "duration": 4,
    "start_time": "2022-11-04T14:38:04.405Z"
   },
   {
    "duration": 6,
    "start_time": "2022-11-04T14:38:04.411Z"
   },
   {
    "duration": 7,
    "start_time": "2022-11-04T14:38:04.418Z"
   },
   {
    "duration": 54,
    "start_time": "2022-11-04T14:38:04.427Z"
   },
   {
    "duration": 5,
    "start_time": "2022-11-04T14:38:04.482Z"
   },
   {
    "duration": 4,
    "start_time": "2022-11-04T14:38:04.489Z"
   },
   {
    "duration": 4,
    "start_time": "2022-11-04T14:38:04.495Z"
   },
   {
    "duration": 4,
    "start_time": "2022-11-04T14:38:04.500Z"
   },
   {
    "duration": 3,
    "start_time": "2022-11-04T14:38:41.723Z"
   },
   {
    "duration": 71,
    "start_time": "2022-11-04T14:38:41.728Z"
   },
   {
    "duration": 14,
    "start_time": "2022-11-04T14:38:41.800Z"
   },
   {
    "duration": 21,
    "start_time": "2022-11-04T14:38:41.815Z"
   },
   {
    "duration": 10,
    "start_time": "2022-11-04T14:38:41.838Z"
   },
   {
    "duration": 51,
    "start_time": "2022-11-04T14:38:41.849Z"
   },
   {
    "duration": 12,
    "start_time": "2022-11-04T14:38:41.902Z"
   },
   {
    "duration": 9,
    "start_time": "2022-11-04T14:38:41.915Z"
   },
   {
    "duration": 3,
    "start_time": "2022-11-04T14:38:41.926Z"
   },
   {
    "duration": 5,
    "start_time": "2022-11-04T14:38:41.931Z"
   },
   {
    "duration": 5,
    "start_time": "2022-11-04T14:38:41.937Z"
   },
   {
    "duration": 60,
    "start_time": "2022-11-04T14:38:41.943Z"
   },
   {
    "duration": 4,
    "start_time": "2022-11-04T14:38:42.004Z"
   },
   {
    "duration": 5,
    "start_time": "2022-11-04T14:38:42.010Z"
   },
   {
    "duration": 11,
    "start_time": "2022-11-04T14:38:42.016Z"
   },
   {
    "duration": 4,
    "start_time": "2022-11-04T14:38:42.028Z"
   },
   {
    "duration": 3,
    "start_time": "2022-11-04T14:39:42.733Z"
   },
   {
    "duration": 81,
    "start_time": "2022-11-04T14:39:42.738Z"
   },
   {
    "duration": 14,
    "start_time": "2022-11-04T14:39:42.821Z"
   },
   {
    "duration": 16,
    "start_time": "2022-11-04T14:39:42.836Z"
   },
   {
    "duration": 8,
    "start_time": "2022-11-04T14:39:42.854Z"
   },
   {
    "duration": 31,
    "start_time": "2022-11-04T14:39:42.877Z"
   },
   {
    "duration": 12,
    "start_time": "2022-11-04T14:39:42.909Z"
   },
   {
    "duration": 9,
    "start_time": "2022-11-04T14:39:42.923Z"
   },
   {
    "duration": 4,
    "start_time": "2022-11-04T14:39:42.933Z"
   },
   {
    "duration": 8,
    "start_time": "2022-11-04T14:39:42.938Z"
   },
   {
    "duration": 29,
    "start_time": "2022-11-04T14:39:42.948Z"
   },
   {
    "duration": 31,
    "start_time": "2022-11-04T14:39:42.979Z"
   },
   {
    "duration": 4,
    "start_time": "2022-11-04T14:39:43.011Z"
   },
   {
    "duration": 8,
    "start_time": "2022-11-04T14:39:43.016Z"
   },
   {
    "duration": 18,
    "start_time": "2022-11-04T14:39:43.025Z"
   },
   {
    "duration": 46,
    "start_time": "2022-11-04T14:39:43.045Z"
   },
   {
    "duration": 35,
    "start_time": "2022-11-04T14:45:25.735Z"
   },
   {
    "duration": 2,
    "start_time": "2022-11-04T14:46:52.329Z"
   },
   {
    "duration": 75,
    "start_time": "2022-11-04T14:46:52.333Z"
   },
   {
    "duration": 14,
    "start_time": "2022-11-04T14:46:52.409Z"
   },
   {
    "duration": 13,
    "start_time": "2022-11-04T14:46:52.425Z"
   },
   {
    "duration": 9,
    "start_time": "2022-11-04T14:46:52.440Z"
   },
   {
    "duration": 56,
    "start_time": "2022-11-04T14:46:52.450Z"
   },
   {
    "duration": 13,
    "start_time": "2022-11-04T14:46:52.508Z"
   },
   {
    "duration": 8,
    "start_time": "2022-11-04T14:46:52.523Z"
   },
   {
    "duration": 5,
    "start_time": "2022-11-04T14:46:52.532Z"
   },
   {
    "duration": 6,
    "start_time": "2022-11-04T14:46:52.539Z"
   },
   {
    "duration": 6,
    "start_time": "2022-11-04T14:46:52.576Z"
   },
   {
    "duration": 37,
    "start_time": "2022-11-04T14:46:52.584Z"
   },
   {
    "duration": 3,
    "start_time": "2022-11-04T14:46:52.623Z"
   },
   {
    "duration": 14,
    "start_time": "2022-11-04T14:46:52.628Z"
   },
   {
    "duration": 20,
    "start_time": "2022-11-04T14:46:52.643Z"
   },
   {
    "duration": 42,
    "start_time": "2022-11-04T14:46:52.665Z"
   },
   {
    "duration": 12,
    "start_time": "2022-11-04T14:46:52.709Z"
   },
   {
    "duration": 18,
    "start_time": "2022-11-04T14:46:52.723Z"
   },
   {
    "duration": 7,
    "start_time": "2022-11-04T14:46:57.728Z"
   },
   {
    "duration": 8,
    "start_time": "2022-11-04T14:47:15.967Z"
   },
   {
    "duration": 5,
    "start_time": "2022-11-04T14:47:45.031Z"
   },
   {
    "duration": 5,
    "start_time": "2022-11-04T14:47:55.930Z"
   },
   {
    "duration": 3,
    "start_time": "2022-11-04T14:48:08.468Z"
   },
   {
    "duration": 7,
    "start_time": "2022-11-04T14:48:08.584Z"
   },
   {
    "duration": 6,
    "start_time": "2022-11-04T14:49:14.492Z"
   },
   {
    "duration": 3,
    "start_time": "2022-11-04T14:56:33.279Z"
   },
   {
    "duration": 5,
    "start_time": "2022-11-04T14:57:09.753Z"
   },
   {
    "duration": 73,
    "start_time": "2022-11-04T14:57:47.857Z"
   },
   {
    "duration": 5,
    "start_time": "2022-11-04T14:58:14.338Z"
   },
   {
    "duration": 7,
    "start_time": "2022-11-04T14:58:58.091Z"
   },
   {
    "duration": 5,
    "start_time": "2022-11-04T15:00:20.386Z"
   },
   {
    "duration": 5,
    "start_time": "2022-11-04T15:00:46.086Z"
   },
   {
    "duration": 5,
    "start_time": "2022-11-04T15:00:56.473Z"
   },
   {
    "duration": 5,
    "start_time": "2022-11-04T15:01:24.851Z"
   },
   {
    "duration": 4,
    "start_time": "2022-11-04T15:01:46.793Z"
   },
   {
    "duration": 4,
    "start_time": "2022-11-04T15:02:48.479Z"
   },
   {
    "duration": 4,
    "start_time": "2022-11-04T15:03:02.860Z"
   },
   {
    "duration": 6,
    "start_time": "2022-11-04T15:03:12.872Z"
   },
   {
    "duration": 2,
    "start_time": "2022-11-04T15:11:21.396Z"
   },
   {
    "duration": 70,
    "start_time": "2022-11-04T15:11:21.415Z"
   },
   {
    "duration": 13,
    "start_time": "2022-11-04T15:11:21.487Z"
   },
   {
    "duration": 16,
    "start_time": "2022-11-04T15:11:21.502Z"
   },
   {
    "duration": 8,
    "start_time": "2022-11-04T15:11:21.520Z"
   },
   {
    "duration": 48,
    "start_time": "2022-11-04T15:11:21.529Z"
   },
   {
    "duration": 12,
    "start_time": "2022-11-04T15:11:21.579Z"
   },
   {
    "duration": 9,
    "start_time": "2022-11-04T15:11:21.593Z"
   },
   {
    "duration": 4,
    "start_time": "2022-11-04T15:11:21.603Z"
   },
   {
    "duration": 5,
    "start_time": "2022-11-04T15:11:21.609Z"
   },
   {
    "duration": 6,
    "start_time": "2022-11-04T15:11:21.800Z"
   },
   {
    "duration": 6,
    "start_time": "2022-11-04T15:11:21.807Z"
   },
   {
    "duration": 2,
    "start_time": "2022-11-04T15:11:29.565Z"
   },
   {
    "duration": 66,
    "start_time": "2022-11-04T15:11:29.576Z"
   },
   {
    "duration": 14,
    "start_time": "2022-11-04T15:11:29.643Z"
   },
   {
    "duration": 12,
    "start_time": "2022-11-04T15:11:29.664Z"
   },
   {
    "duration": 9,
    "start_time": "2022-11-04T15:11:29.678Z"
   },
   {
    "duration": 34,
    "start_time": "2022-11-04T15:11:29.842Z"
   },
   {
    "duration": 12,
    "start_time": "2022-11-04T15:11:29.877Z"
   },
   {
    "duration": 11,
    "start_time": "2022-11-04T15:11:29.890Z"
   },
   {
    "duration": 4,
    "start_time": "2022-11-04T15:11:29.902Z"
   },
   {
    "duration": 6,
    "start_time": "2022-11-04T15:11:29.907Z"
   },
   {
    "duration": 4,
    "start_time": "2022-11-04T15:11:29.914Z"
   },
   {
    "duration": 31,
    "start_time": "2022-11-04T15:11:29.980Z"
   },
   {
    "duration": 4,
    "start_time": "2022-11-04T15:11:30.013Z"
   },
   {
    "duration": 12,
    "start_time": "2022-11-04T15:11:30.018Z"
   },
   {
    "duration": 28,
    "start_time": "2022-11-04T15:11:30.031Z"
   },
   {
    "duration": 28,
    "start_time": "2022-11-04T15:11:30.129Z"
   },
   {
    "duration": 10,
    "start_time": "2022-11-04T15:11:30.158Z"
   },
   {
    "duration": 25,
    "start_time": "2022-11-04T15:11:30.169Z"
   },
   {
    "duration": 12,
    "start_time": "2022-11-04T15:11:30.195Z"
   },
   {
    "duration": 25,
    "start_time": "2022-11-04T15:11:30.208Z"
   },
   {
    "duration": 66,
    "start_time": "2022-11-04T15:13:20.378Z"
   },
   {
    "duration": 73,
    "start_time": "2022-11-04T15:13:46.969Z"
   },
   {
    "duration": 75,
    "start_time": "2022-11-04T15:14:02.887Z"
   },
   {
    "duration": 81,
    "start_time": "2022-11-04T15:14:15.115Z"
   },
   {
    "duration": 75,
    "start_time": "2022-11-04T15:14:29.283Z"
   },
   {
    "duration": 70,
    "start_time": "2022-11-04T15:14:45.171Z"
   },
   {
    "duration": 71,
    "start_time": "2022-11-04T15:15:16.061Z"
   },
   {
    "duration": 4,
    "start_time": "2022-11-04T15:16:13.581Z"
   },
   {
    "duration": 16,
    "start_time": "2022-11-04T15:20:49.703Z"
   },
   {
    "duration": 6,
    "start_time": "2022-11-04T15:21:12.856Z"
   },
   {
    "duration": 3,
    "start_time": "2022-11-04T15:21:19.375Z"
   },
   {
    "duration": 3,
    "start_time": "2022-11-04T15:26:50.288Z"
   },
   {
    "duration": 24,
    "start_time": "2022-11-04T15:26:59.858Z"
   },
   {
    "duration": 2,
    "start_time": "2022-11-04T15:27:36.730Z"
   },
   {
    "duration": 81,
    "start_time": "2022-11-04T15:27:36.749Z"
   },
   {
    "duration": 15,
    "start_time": "2022-11-04T15:27:36.831Z"
   },
   {
    "duration": 37,
    "start_time": "2022-11-04T15:27:36.847Z"
   },
   {
    "duration": 14,
    "start_time": "2022-11-04T15:27:36.886Z"
   },
   {
    "duration": 34,
    "start_time": "2022-11-04T15:27:36.902Z"
   },
   {
    "duration": 11,
    "start_time": "2022-11-04T15:27:36.937Z"
   },
   {
    "duration": 18,
    "start_time": "2022-11-04T15:27:36.950Z"
   },
   {
    "duration": 8,
    "start_time": "2022-11-04T15:27:36.970Z"
   },
   {
    "duration": 23,
    "start_time": "2022-11-04T15:27:36.979Z"
   },
   {
    "duration": 14,
    "start_time": "2022-11-04T15:27:37.003Z"
   },
   {
    "duration": 57,
    "start_time": "2022-11-04T15:27:37.019Z"
   },
   {
    "duration": 8,
    "start_time": "2022-11-04T15:27:37.078Z"
   },
   {
    "duration": 6,
    "start_time": "2022-11-04T15:27:37.087Z"
   },
   {
    "duration": 36,
    "start_time": "2022-11-04T15:27:37.095Z"
   },
   {
    "duration": 28,
    "start_time": "2022-11-04T15:27:37.133Z"
   },
   {
    "duration": 10,
    "start_time": "2022-11-04T15:27:37.162Z"
   },
   {
    "duration": 15,
    "start_time": "2022-11-04T15:27:37.173Z"
   },
   {
    "duration": 21,
    "start_time": "2022-11-04T15:27:37.189Z"
   },
   {
    "duration": 24,
    "start_time": "2022-11-04T15:27:37.212Z"
   },
   {
    "duration": 14,
    "start_time": "2022-11-04T15:27:37.237Z"
   },
   {
    "duration": 11,
    "start_time": "2022-11-04T15:27:39.454Z"
   },
   {
    "duration": 4,
    "start_time": "2022-11-04T15:28:42.250Z"
   },
   {
    "duration": 11,
    "start_time": "2022-11-04T15:28:45.103Z"
   },
   {
    "duration": 28,
    "start_time": "2022-11-04T15:28:50.186Z"
   },
   {
    "duration": 3,
    "start_time": "2022-11-04T15:29:07.005Z"
   },
   {
    "duration": 66,
    "start_time": "2022-11-04T15:29:07.029Z"
   },
   {
    "duration": 15,
    "start_time": "2022-11-04T15:29:07.096Z"
   },
   {
    "duration": 15,
    "start_time": "2022-11-04T15:29:07.112Z"
   },
   {
    "duration": 9,
    "start_time": "2022-11-04T15:29:07.129Z"
   },
   {
    "duration": 56,
    "start_time": "2022-11-04T15:29:07.140Z"
   },
   {
    "duration": 13,
    "start_time": "2022-11-04T15:29:07.198Z"
   },
   {
    "duration": 9,
    "start_time": "2022-11-04T15:29:07.212Z"
   },
   {
    "duration": 5,
    "start_time": "2022-11-04T15:29:07.223Z"
   },
   {
    "duration": 6,
    "start_time": "2022-11-04T15:29:07.231Z"
   },
   {
    "duration": 4,
    "start_time": "2022-11-04T15:29:07.238Z"
   },
   {
    "duration": 67,
    "start_time": "2022-11-04T15:29:07.243Z"
   },
   {
    "duration": 4,
    "start_time": "2022-11-04T15:29:07.312Z"
   },
   {
    "duration": 9,
    "start_time": "2022-11-04T15:29:07.318Z"
   },
   {
    "duration": 18,
    "start_time": "2022-11-04T15:29:07.328Z"
   },
   {
    "duration": 48,
    "start_time": "2022-11-04T15:29:07.348Z"
   },
   {
    "duration": 10,
    "start_time": "2022-11-04T15:29:07.397Z"
   },
   {
    "duration": 5,
    "start_time": "2022-11-04T15:29:07.408Z"
   },
   {
    "duration": 8,
    "start_time": "2022-11-04T15:29:07.415Z"
   },
   {
    "duration": 4,
    "start_time": "2022-11-04T15:29:07.425Z"
   },
   {
    "duration": 3,
    "start_time": "2022-11-04T15:29:07.432Z"
   },
   {
    "duration": 51,
    "start_time": "2022-11-04T15:29:07.437Z"
   },
   {
    "duration": 3,
    "start_time": "2022-11-04T15:29:39.707Z"
   },
   {
    "duration": 76,
    "start_time": "2022-11-04T15:29:39.832Z"
   },
   {
    "duration": 15,
    "start_time": "2022-11-04T15:29:39.910Z"
   },
   {
    "duration": 15,
    "start_time": "2022-11-04T15:29:39.927Z"
   },
   {
    "duration": 8,
    "start_time": "2022-11-04T15:29:39.944Z"
   },
   {
    "duration": 53,
    "start_time": "2022-11-04T15:29:39.954Z"
   },
   {
    "duration": 11,
    "start_time": "2022-11-04T15:29:40.009Z"
   },
   {
    "duration": 12,
    "start_time": "2022-11-04T15:29:40.022Z"
   },
   {
    "duration": 3,
    "start_time": "2022-11-04T15:29:40.036Z"
   },
   {
    "duration": 8,
    "start_time": "2022-11-04T15:29:40.041Z"
   },
   {
    "duration": 27,
    "start_time": "2022-11-04T15:29:40.051Z"
   },
   {
    "duration": 38,
    "start_time": "2022-11-04T15:29:40.080Z"
   },
   {
    "duration": 4,
    "start_time": "2022-11-04T15:29:40.120Z"
   },
   {
    "duration": 6,
    "start_time": "2022-11-04T15:29:40.126Z"
   },
   {
    "duration": 19,
    "start_time": "2022-11-04T15:29:40.134Z"
   },
   {
    "duration": 48,
    "start_time": "2022-11-04T15:29:40.154Z"
   },
   {
    "duration": 11,
    "start_time": "2022-11-04T15:29:40.204Z"
   },
   {
    "duration": 4,
    "start_time": "2022-11-04T15:29:40.217Z"
   },
   {
    "duration": 12,
    "start_time": "2022-11-04T15:29:40.222Z"
   },
   {
    "duration": 10,
    "start_time": "2022-11-04T15:29:40.235Z"
   },
   {
    "duration": 4,
    "start_time": "2022-11-04T15:29:40.246Z"
   },
   {
    "duration": 50,
    "start_time": "2022-11-04T15:29:40.251Z"
   },
   {
    "duration": 4,
    "start_time": "2022-11-04T15:32:18.477Z"
   },
   {
    "duration": 4,
    "start_time": "2022-11-04T15:32:25.856Z"
   },
   {
    "duration": 12,
    "start_time": "2022-11-04T15:32:30.351Z"
   },
   {
    "duration": 374,
    "start_time": "2022-11-06T14:17:12.952Z"
   },
   {
    "duration": 315,
    "start_time": "2022-11-06T14:17:13.328Z"
   },
   {
    "duration": 24,
    "start_time": "2022-11-06T14:17:13.645Z"
   },
   {
    "duration": 15,
    "start_time": "2022-11-06T14:17:13.671Z"
   },
   {
    "duration": 10,
    "start_time": "2022-11-06T14:17:13.688Z"
   },
   {
    "duration": 54,
    "start_time": "2022-11-06T14:17:13.700Z"
   },
   {
    "duration": 16,
    "start_time": "2022-11-06T14:17:13.757Z"
   },
   {
    "duration": 28,
    "start_time": "2022-11-06T14:17:13.775Z"
   },
   {
    "duration": 18,
    "start_time": "2022-11-06T14:17:13.805Z"
   },
   {
    "duration": 30,
    "start_time": "2022-11-06T14:17:13.825Z"
   },
   {
    "duration": 14,
    "start_time": "2022-11-06T14:17:13.858Z"
   },
   {
    "duration": 45,
    "start_time": "2022-11-06T14:17:13.874Z"
   },
   {
    "duration": 4,
    "start_time": "2022-11-06T14:17:13.921Z"
   },
   {
    "duration": 5,
    "start_time": "2022-11-06T14:17:13.928Z"
   },
   {
    "duration": 25,
    "start_time": "2022-11-06T14:17:13.934Z"
   },
   {
    "duration": 35,
    "start_time": "2022-11-06T14:17:13.961Z"
   },
   {
    "duration": 11,
    "start_time": "2022-11-06T14:17:14.020Z"
   },
   {
    "duration": 7,
    "start_time": "2022-11-06T14:17:14.033Z"
   },
   {
    "duration": 22,
    "start_time": "2022-11-06T14:17:14.042Z"
   },
   {
    "duration": 14,
    "start_time": "2022-11-06T14:17:14.065Z"
   },
   {
    "duration": 6,
    "start_time": "2022-11-06T14:17:14.080Z"
   },
   {
    "duration": 20,
    "start_time": "2022-11-06T14:17:14.087Z"
   },
   {
    "duration": 142,
    "start_time": "2022-11-06T14:17:42.251Z"
   },
   {
    "duration": 392,
    "start_time": "2022-11-06T14:17:47.648Z"
   }
  ],
  "colab": {
   "provenance": []
  },
  "kernelspec": {
   "display_name": "Python 3 (ipykernel)",
   "language": "python",
   "name": "python3"
  },
  "language_info": {
   "codemirror_mode": {
    "name": "ipython",
    "version": 3
   },
   "file_extension": ".py",
   "mimetype": "text/x-python",
   "name": "python",
   "nbconvert_exporter": "python",
   "pygments_lexer": "ipython3",
   "version": "3.9.13"
  },
  "toc": {
   "base_numbering": 1,
   "nav_menu": {},
   "number_sections": true,
   "sideBar": true,
   "skip_h1_title": true,
   "title_cell": "Table of Contents",
   "title_sidebar": "Contents",
   "toc_cell": false,
   "toc_position": {},
   "toc_section_display": true,
   "toc_window_display": false
  }
 },
 "nbformat": 4,
 "nbformat_minor": 5
}
