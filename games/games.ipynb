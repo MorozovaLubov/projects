{
 "cells": [
  {
   "cell_type": "markdown",
   "id": "30e4e448",
   "metadata": {},
   "source": [
    "# Сборный проект. Оценка закономерностей популярности компьютерных игр для планирования рекламной кампании на 2017 год"
   ]
  },
  {
   "cell_type": "markdown",
   "id": "3b30cb72",
   "metadata": {},
   "source": [
    "В последнее время всё больше появляется платформ для игр, также популярность набирают игры на мобильные телефоны, за счет этого конкуренция на рынке растет. И перед нами стоит задача определиться, какой же продукт наиболее популярен среди пользователей, чтобы составить план рекламной компании. Данное исследование проводится для интернет-магазина \"Стримчик\". \n",
    "\n",
    "**Цель**: выявить наиболее перспективные игровые платформы, определиться с портретами пользователей для планирования рекламной кампании на 2017 год и оценить, какие факторы могут влиять на популярность игр среди пользователей.\n",
    "\n",
    "**Описание данных:**\n",
    "Данные получены их открытых источников.\n",
    "\n",
    "Name — название игры \\\n",
    "Platform — платформа \\\n",
    "Year_of_Release — год выпуска \\\n",
    "Genre — жанр игры \\\n",
    "NA_sales — продажи в Северной Америке (миллионы проданных копий) \\\n",
    "EU_sales — продажи в Европе (миллионы проданных копий) \\\n",
    "JP_sales — продажи в Японии (миллионы проданных копий) \\\n",
    "Other_sales — продажи в других странах (миллионы проданных копий) \\\n",
    "Critic_Score — оценка критиков (максимум 100) \\\n",
    "User_Score — оценка пользователей (максимум 10) \\\n",
    "Rating — рейтинг от организации ESRB (англ. Entertainment Software Rating Board). Эта ассоциация определяет рейтинг компьютерных игр и присваивает им подходящую возрастную категорию.\n",
    "\n",
    "**Ход исследования:**\n",
    "1. Общее ознакомление с данными\n",
    "2. Предобработка данных\n",
    "3. Исследовательский анализ\n",
    "4. Составление портрета пользователя по регионам\n",
    "5. Проверка гипотез\n",
    "6. Формирование выводов"
   ]
  },
  {
   "cell_type": "markdown",
   "id": "d94ca211",
   "metadata": {},
   "source": [
    "## Шаг 1: Изучение общей информации о данных"
   ]
  },
  {
   "cell_type": "code",
   "execution_count": 2,
   "id": "e910123f",
   "metadata": {},
   "outputs": [],
   "source": [
    "import pandas as pd\n",
    "import numpy as np\n",
    "import matplotlib.pyplot as plt\n",
    "import seaborn as sns\n",
    "sns.set_theme(style='ticks')\n",
    "from scipy import stats as st #загружаем библиотеки в отдельной ячейке"
   ]
  },
  {
   "cell_type": "code",
   "execution_count": 3,
   "id": "7df6e8ec",
   "metadata": {},
   "outputs": [
    {
     "data": {
      "text/html": [
       "<div>\n",
       "<style scoped>\n",
       "    .dataframe tbody tr th:only-of-type {\n",
       "        vertical-align: middle;\n",
       "    }\n",
       "\n",
       "    .dataframe tbody tr th {\n",
       "        vertical-align: top;\n",
       "    }\n",
       "\n",
       "    .dataframe thead th {\n",
       "        text-align: right;\n",
       "    }\n",
       "</style>\n",
       "<table border=\"1\" class=\"dataframe\">\n",
       "  <thead>\n",
       "    <tr style=\"text-align: right;\">\n",
       "      <th></th>\n",
       "      <th>Name</th>\n",
       "      <th>Platform</th>\n",
       "      <th>Year_of_Release</th>\n",
       "      <th>Genre</th>\n",
       "      <th>NA_sales</th>\n",
       "      <th>EU_sales</th>\n",
       "      <th>JP_sales</th>\n",
       "      <th>Other_sales</th>\n",
       "      <th>Critic_Score</th>\n",
       "      <th>User_Score</th>\n",
       "      <th>Rating</th>\n",
       "    </tr>\n",
       "  </thead>\n",
       "  <tbody>\n",
       "    <tr>\n",
       "      <th>0</th>\n",
       "      <td>Wii Sports</td>\n",
       "      <td>Wii</td>\n",
       "      <td>2006.0</td>\n",
       "      <td>Sports</td>\n",
       "      <td>41.36</td>\n",
       "      <td>28.96</td>\n",
       "      <td>3.77</td>\n",
       "      <td>8.45</td>\n",
       "      <td>76.0</td>\n",
       "      <td>8</td>\n",
       "      <td>E</td>\n",
       "    </tr>\n",
       "    <tr>\n",
       "      <th>1</th>\n",
       "      <td>Super Mario Bros.</td>\n",
       "      <td>NES</td>\n",
       "      <td>1985.0</td>\n",
       "      <td>Platform</td>\n",
       "      <td>29.08</td>\n",
       "      <td>3.58</td>\n",
       "      <td>6.81</td>\n",
       "      <td>0.77</td>\n",
       "      <td>NaN</td>\n",
       "      <td>NaN</td>\n",
       "      <td>NaN</td>\n",
       "    </tr>\n",
       "    <tr>\n",
       "      <th>2</th>\n",
       "      <td>Mario Kart Wii</td>\n",
       "      <td>Wii</td>\n",
       "      <td>2008.0</td>\n",
       "      <td>Racing</td>\n",
       "      <td>15.68</td>\n",
       "      <td>12.76</td>\n",
       "      <td>3.79</td>\n",
       "      <td>3.29</td>\n",
       "      <td>82.0</td>\n",
       "      <td>8.3</td>\n",
       "      <td>E</td>\n",
       "    </tr>\n",
       "    <tr>\n",
       "      <th>3</th>\n",
       "      <td>Wii Sports Resort</td>\n",
       "      <td>Wii</td>\n",
       "      <td>2009.0</td>\n",
       "      <td>Sports</td>\n",
       "      <td>15.61</td>\n",
       "      <td>10.93</td>\n",
       "      <td>3.28</td>\n",
       "      <td>2.95</td>\n",
       "      <td>80.0</td>\n",
       "      <td>8</td>\n",
       "      <td>E</td>\n",
       "    </tr>\n",
       "    <tr>\n",
       "      <th>4</th>\n",
       "      <td>Pokemon Red/Pokemon Blue</td>\n",
       "      <td>GB</td>\n",
       "      <td>1996.0</td>\n",
       "      <td>Role-Playing</td>\n",
       "      <td>11.27</td>\n",
       "      <td>8.89</td>\n",
       "      <td>10.22</td>\n",
       "      <td>1.00</td>\n",
       "      <td>NaN</td>\n",
       "      <td>NaN</td>\n",
       "      <td>NaN</td>\n",
       "    </tr>\n",
       "    <tr>\n",
       "      <th>5</th>\n",
       "      <td>Tetris</td>\n",
       "      <td>GB</td>\n",
       "      <td>1989.0</td>\n",
       "      <td>Puzzle</td>\n",
       "      <td>23.20</td>\n",
       "      <td>2.26</td>\n",
       "      <td>4.22</td>\n",
       "      <td>0.58</td>\n",
       "      <td>NaN</td>\n",
       "      <td>NaN</td>\n",
       "      <td>NaN</td>\n",
       "    </tr>\n",
       "    <tr>\n",
       "      <th>6</th>\n",
       "      <td>New Super Mario Bros.</td>\n",
       "      <td>DS</td>\n",
       "      <td>2006.0</td>\n",
       "      <td>Platform</td>\n",
       "      <td>11.28</td>\n",
       "      <td>9.14</td>\n",
       "      <td>6.50</td>\n",
       "      <td>2.88</td>\n",
       "      <td>89.0</td>\n",
       "      <td>8.5</td>\n",
       "      <td>E</td>\n",
       "    </tr>\n",
       "    <tr>\n",
       "      <th>7</th>\n",
       "      <td>Wii Play</td>\n",
       "      <td>Wii</td>\n",
       "      <td>2006.0</td>\n",
       "      <td>Misc</td>\n",
       "      <td>13.96</td>\n",
       "      <td>9.18</td>\n",
       "      <td>2.93</td>\n",
       "      <td>2.84</td>\n",
       "      <td>58.0</td>\n",
       "      <td>6.6</td>\n",
       "      <td>E</td>\n",
       "    </tr>\n",
       "    <tr>\n",
       "      <th>8</th>\n",
       "      <td>New Super Mario Bros. Wii</td>\n",
       "      <td>Wii</td>\n",
       "      <td>2009.0</td>\n",
       "      <td>Platform</td>\n",
       "      <td>14.44</td>\n",
       "      <td>6.94</td>\n",
       "      <td>4.70</td>\n",
       "      <td>2.24</td>\n",
       "      <td>87.0</td>\n",
       "      <td>8.4</td>\n",
       "      <td>E</td>\n",
       "    </tr>\n",
       "    <tr>\n",
       "      <th>9</th>\n",
       "      <td>Duck Hunt</td>\n",
       "      <td>NES</td>\n",
       "      <td>1984.0</td>\n",
       "      <td>Shooter</td>\n",
       "      <td>26.93</td>\n",
       "      <td>0.63</td>\n",
       "      <td>0.28</td>\n",
       "      <td>0.47</td>\n",
       "      <td>NaN</td>\n",
       "      <td>NaN</td>\n",
       "      <td>NaN</td>\n",
       "    </tr>\n",
       "  </tbody>\n",
       "</table>\n",
       "</div>"
      ],
      "text/plain": [
       "                        Name Platform  Year_of_Release         Genre  \\\n",
       "0                 Wii Sports      Wii           2006.0        Sports   \n",
       "1          Super Mario Bros.      NES           1985.0      Platform   \n",
       "2             Mario Kart Wii      Wii           2008.0        Racing   \n",
       "3          Wii Sports Resort      Wii           2009.0        Sports   \n",
       "4   Pokemon Red/Pokemon Blue       GB           1996.0  Role-Playing   \n",
       "5                     Tetris       GB           1989.0        Puzzle   \n",
       "6      New Super Mario Bros.       DS           2006.0      Platform   \n",
       "7                   Wii Play      Wii           2006.0          Misc   \n",
       "8  New Super Mario Bros. Wii      Wii           2009.0      Platform   \n",
       "9                  Duck Hunt      NES           1984.0       Shooter   \n",
       "\n",
       "   NA_sales  EU_sales  JP_sales  Other_sales  Critic_Score User_Score Rating  \n",
       "0     41.36     28.96      3.77         8.45          76.0          8      E  \n",
       "1     29.08      3.58      6.81         0.77           NaN        NaN    NaN  \n",
       "2     15.68     12.76      3.79         3.29          82.0        8.3      E  \n",
       "3     15.61     10.93      3.28         2.95          80.0          8      E  \n",
       "4     11.27      8.89     10.22         1.00           NaN        NaN    NaN  \n",
       "5     23.20      2.26      4.22         0.58           NaN        NaN    NaN  \n",
       "6     11.28      9.14      6.50         2.88          89.0        8.5      E  \n",
       "7     13.96      9.18      2.93         2.84          58.0        6.6      E  \n",
       "8     14.44      6.94      4.70         2.24          87.0        8.4      E  \n",
       "9     26.93      0.63      0.28         0.47           NaN        NaN    NaN  "
      ]
     },
     "execution_count": 3,
     "metadata": {},
     "output_type": "execute_result"
    }
   ],
   "source": [
    "try:\n",
    "    games = pd.read_csv('games.csv')\n",
    "except:\n",
    "    games = pd.read_csv('/datasets/games.csv')\n",
    "games.head(10) #посмотрим первые 10 строк датафрейма"
   ]
  },
  {
   "cell_type": "markdown",
   "id": "7da68c87",
   "metadata": {},
   "source": [
    "Уже при обзоре данных заметны пропуски в некоторых столбцах, а также не совсем точно выбранный тип данных, например, в столбце года выпуска. Сейчас посмотрим общую информацию о пропусках и типах данных:"
   ]
  },
  {
   "cell_type": "code",
   "execution_count": 4,
   "id": "7fddeb4d",
   "metadata": {},
   "outputs": [
    {
     "name": "stdout",
     "output_type": "stream",
     "text": [
      "<class 'pandas.core.frame.DataFrame'>\n",
      "RangeIndex: 16715 entries, 0 to 16714\n",
      "Data columns (total 11 columns):\n",
      " #   Column           Non-Null Count  Dtype  \n",
      "---  ------           --------------  -----  \n",
      " 0   Name             16713 non-null  object \n",
      " 1   Platform         16715 non-null  object \n",
      " 2   Year_of_Release  16446 non-null  float64\n",
      " 3   Genre            16713 non-null  object \n",
      " 4   NA_sales         16715 non-null  float64\n",
      " 5   EU_sales         16715 non-null  float64\n",
      " 6   JP_sales         16715 non-null  float64\n",
      " 7   Other_sales      16715 non-null  float64\n",
      " 8   Critic_Score     8137 non-null   float64\n",
      " 9   User_Score       10014 non-null  object \n",
      " 10  Rating           9949 non-null   object \n",
      "dtypes: float64(6), object(5)\n",
      "memory usage: 1.4+ MB\n"
     ]
    }
   ],
   "source": [
    "games.info()"
   ]
  },
  {
   "cell_type": "code",
   "execution_count": 5,
   "id": "f61542d4",
   "metadata": {
    "scrolled": true
   },
   "outputs": [
    {
     "data": {
      "image/png": "[encoded data removed]",
      "text/plain": [
       "<Figure size 432x288 with 1 Axes>"
      ]
     },
     "metadata": {},
     "output_type": "display_data"
    }
   ],
   "source": [
    "miss_data = games.isna().sum(axis=0).reset_index()\n",
    "miss_data.columns = ['column', 'missing']\n",
    "miss_data = miss_data[miss_data['missing'] != 0]\n",
    "miss_data['percent'] = (miss_data['missing'] / len(games))*100\n",
    "miss_data.plot.bar(x='column', y='missing', rot=0, title='Количество пропусков');"
   ]
  },
  {
   "cell_type": "markdown",
   "id": "a45ed28c",
   "metadata": {},
   "source": [
    "Из общей информации видно, что большее количество пропусков в столбцах с рейтингами. Для удобства восприятия представила информацию о количестве пропусков в виде столбчатой диаграммы. В двух строках пропущены данные о жанре и о названии игры, небольшое количество пропусков в столбце с годом выпуска. \n",
    "Также в глаза бросается тип данных float в столбце с годом релиза и оценкой критиков (после запятой там 0, значит, значения целые), а также возникает вопрос по поводу типа object в столбце пользовательского рейтинга."
   ]
  },
  {
   "cell_type": "markdown",
   "id": "21061c05",
   "metadata": {},
   "source": [
    "Посмотрим на наличие дубликатов в данных:"
   ]
  },
  {
   "cell_type": "code",
   "execution_count": 6,
   "id": "4bc9b083",
   "metadata": {},
   "outputs": [
    {
     "data": {
      "text/plain": [
       "0"
      ]
     },
     "execution_count": 6,
     "metadata": {},
     "output_type": "execute_result"
    }
   ],
   "source": [
    "games.duplicated().sum()"
   ]
  },
  {
   "cell_type": "markdown",
   "id": "154252e1",
   "metadata": {},
   "source": [
    "Явных дубликатов нет - это уже хорошо. Значит, наша задача разобраться с типами данных и с пропусками в определенных столбцах."
   ]
  },
  {
   "cell_type": "markdown",
   "id": "3362f823",
   "metadata": {},
   "source": [
    "## Шаг 2: Предобработка данных"
   ]
  },
  {
   "cell_type": "markdown",
   "id": "2a9a91ca",
   "metadata": {},
   "source": [
    "Перед тем, как проводить предобработку, сохраним размер датафрейма, чтобы сравнить после."
   ]
  },
  {
   "cell_type": "code",
   "execution_count": 7,
   "id": "064dc941",
   "metadata": {},
   "outputs": [],
   "source": [
    "old_df = games"
   ]
  },
  {
   "cell_type": "markdown",
   "id": "38a39b97",
   "metadata": {},
   "source": [
    "Для начала для удобства дальнейшей работы приведем все названия столбцов к нижнему регистру:"
   ]
  },
  {
   "cell_type": "code",
   "execution_count": 8,
   "id": "2ceb0ad1",
   "metadata": {},
   "outputs": [],
   "source": [
    "games.columns = games.columns.str.lower()"
   ]
  },
  {
   "cell_type": "code",
   "execution_count": 9,
   "id": "2d9236b9",
   "metadata": {
    "scrolled": true
   },
   "outputs": [
    {
     "data": {
      "text/plain": [
       "Index(['name', 'platform', 'year_of_release', 'genre', 'na_sales', 'eu_sales',\n",
       "       'jp_sales', 'other_sales', 'critic_score', 'user_score', 'rating'],\n",
       "      dtype='object')"
      ]
     },
     "execution_count": 9,
     "metadata": {},
     "output_type": "execute_result"
    }
   ],
   "source": [
    "games.columns #посмотрим, что получилось"
   ]
  },
  {
   "cell_type": "markdown",
   "id": "1421fda1",
   "metadata": {},
   "source": [
    "### 2.1 Работа с пропусками"
   ]
  },
  {
   "cell_type": "markdown",
   "id": "ea0075ae",
   "metadata": {},
   "source": [
    "Теперь проверим, в каких строках пропущенны названия и жанры:"
   ]
  },
  {
   "cell_type": "code",
   "execution_count": 10,
   "id": "e0610bf5",
   "metadata": {},
   "outputs": [
    {
     "data": {
      "text/html": [
       "<div>\n",
       "<style scoped>\n",
       "    .dataframe tbody tr th:only-of-type {\n",
       "        vertical-align: middle;\n",
       "    }\n",
       "\n",
       "    .dataframe tbody tr th {\n",
       "        vertical-align: top;\n",
       "    }\n",
       "\n",
       "    .dataframe thead th {\n",
       "        text-align: right;\n",
       "    }\n",
       "</style>\n",
       "<table border=\"1\" class=\"dataframe\">\n",
       "  <thead>\n",
       "    <tr style=\"text-align: right;\">\n",
       "      <th></th>\n",
       "      <th>name</th>\n",
       "      <th>platform</th>\n",
       "      <th>year_of_release</th>\n",
       "      <th>genre</th>\n",
       "      <th>na_sales</th>\n",
       "      <th>eu_sales</th>\n",
       "      <th>jp_sales</th>\n",
       "      <th>other_sales</th>\n",
       "      <th>critic_score</th>\n",
       "      <th>user_score</th>\n",
       "      <th>rating</th>\n",
       "    </tr>\n",
       "  </thead>\n",
       "  <tbody>\n",
       "    <tr>\n",
       "      <th>659</th>\n",
       "      <td>NaN</td>\n",
       "      <td>GEN</td>\n",
       "      <td>1993.0</td>\n",
       "      <td>NaN</td>\n",
       "      <td>1.78</td>\n",
       "      <td>0.53</td>\n",
       "      <td>0.00</td>\n",
       "      <td>0.08</td>\n",
       "      <td>NaN</td>\n",
       "      <td>NaN</td>\n",
       "      <td>NaN</td>\n",
       "    </tr>\n",
       "    <tr>\n",
       "      <th>14244</th>\n",
       "      <td>NaN</td>\n",
       "      <td>GEN</td>\n",
       "      <td>1993.0</td>\n",
       "      <td>NaN</td>\n",
       "      <td>0.00</td>\n",
       "      <td>0.00</td>\n",
       "      <td>0.03</td>\n",
       "      <td>0.00</td>\n",
       "      <td>NaN</td>\n",
       "      <td>NaN</td>\n",
       "      <td>NaN</td>\n",
       "    </tr>\n",
       "  </tbody>\n",
       "</table>\n",
       "</div>"
      ],
      "text/plain": [
       "      name platform  year_of_release genre  na_sales  eu_sales  jp_sales  \\\n",
       "659    NaN      GEN           1993.0   NaN      1.78      0.53      0.00   \n",
       "14244  NaN      GEN           1993.0   NaN      0.00      0.00      0.03   \n",
       "\n",
       "       other_sales  critic_score user_score rating  \n",
       "659           0.08           NaN        NaN    NaN  \n",
       "14244         0.00           NaN        NaN    NaN  "
      ]
     },
     "execution_count": 10,
     "metadata": {},
     "output_type": "execute_result"
    }
   ],
   "source": [
    "games.loc[(games['name'].isna()) & (games['genre'].isna())]"
   ]
  },
  {
   "cell_type": "markdown",
   "id": "7406efac",
   "metadata": {},
   "source": [
    "Хм, в одних и тех же строках с низкими или нулевыми продажами. Очень неинформативные строки, к тому же с большим количеством пропусков, по которым сложно будет провести какой-либо анализ. Мы может удалить их из датафрейма без последствий.\n",
    "Это старые игры на сегу, возможно, пропуски здесь связаны с тем, что не сохранились названия данных игр ввиду их непопулярности, нет оценок, вероятно, тк этих данных также не было, они утеряны или вообще игра не оценивалась, например, ESRB появилась позже (в 1994 году)."
   ]
  },
  {
   "cell_type": "code",
   "execution_count": 11,
   "id": "f4bcffa1",
   "metadata": {},
   "outputs": [
    {
     "data": {
      "text/plain": [
       "name                  0\n",
       "platform              0\n",
       "year_of_release     269\n",
       "genre                 0\n",
       "na_sales              0\n",
       "eu_sales              0\n",
       "jp_sales              0\n",
       "other_sales           0\n",
       "critic_score       8576\n",
       "user_score         6699\n",
       "rating             6764\n",
       "dtype: int64"
      ]
     },
     "execution_count": 11,
     "metadata": {},
     "output_type": "execute_result"
    }
   ],
   "source": [
    "games = games.dropna(subset=['name']).reset_index(drop=True)\n",
    "games.isna().sum()"
   ]
  },
  {
   "cell_type": "markdown",
   "id": "9fadeb23",
   "metadata": {},
   "source": [
    "Посмотрим, в каких играх пропущен год выхода, может быть, эти игры еще не выпустили, они только ожидаются."
   ]
  },
  {
   "cell_type": "code",
   "execution_count": 12,
   "id": "6daaf762",
   "metadata": {
    "scrolled": true
   },
   "outputs": [
    {
     "data": {
      "text/html": [
       "<div>\n",
       "<style scoped>\n",
       "    .dataframe tbody tr th:only-of-type {\n",
       "        vertical-align: middle;\n",
       "    }\n",
       "\n",
       "    .dataframe tbody tr th {\n",
       "        vertical-align: top;\n",
       "    }\n",
       "\n",
       "    .dataframe thead th {\n",
       "        text-align: right;\n",
       "    }\n",
       "</style>\n",
       "<table border=\"1\" class=\"dataframe\">\n",
       "  <thead>\n",
       "    <tr style=\"text-align: right;\">\n",
       "      <th></th>\n",
       "      <th>name</th>\n",
       "      <th>platform</th>\n",
       "      <th>year_of_release</th>\n",
       "      <th>genre</th>\n",
       "      <th>na_sales</th>\n",
       "      <th>eu_sales</th>\n",
       "      <th>jp_sales</th>\n",
       "      <th>other_sales</th>\n",
       "      <th>critic_score</th>\n",
       "      <th>user_score</th>\n",
       "      <th>rating</th>\n",
       "    </tr>\n",
       "  </thead>\n",
       "  <tbody>\n",
       "    <tr>\n",
       "      <th>183</th>\n",
       "      <td>Madden NFL 2004</td>\n",
       "      <td>PS2</td>\n",
       "      <td>NaN</td>\n",
       "      <td>Sports</td>\n",
       "      <td>4.26</td>\n",
       "      <td>0.26</td>\n",
       "      <td>0.01</td>\n",
       "      <td>0.71</td>\n",
       "      <td>94.0</td>\n",
       "      <td>8.5</td>\n",
       "      <td>E</td>\n",
       "    </tr>\n",
       "    <tr>\n",
       "      <th>377</th>\n",
       "      <td>FIFA Soccer 2004</td>\n",
       "      <td>PS2</td>\n",
       "      <td>NaN</td>\n",
       "      <td>Sports</td>\n",
       "      <td>0.59</td>\n",
       "      <td>2.36</td>\n",
       "      <td>0.04</td>\n",
       "      <td>0.51</td>\n",
       "      <td>84.0</td>\n",
       "      <td>6.4</td>\n",
       "      <td>E</td>\n",
       "    </tr>\n",
       "    <tr>\n",
       "      <th>456</th>\n",
       "      <td>LEGO Batman: The Videogame</td>\n",
       "      <td>Wii</td>\n",
       "      <td>NaN</td>\n",
       "      <td>Action</td>\n",
       "      <td>1.80</td>\n",
       "      <td>0.97</td>\n",
       "      <td>0.00</td>\n",
       "      <td>0.29</td>\n",
       "      <td>74.0</td>\n",
       "      <td>7.9</td>\n",
       "      <td>E10+</td>\n",
       "    </tr>\n",
       "    <tr>\n",
       "      <th>475</th>\n",
       "      <td>wwe Smackdown vs. Raw 2006</td>\n",
       "      <td>PS2</td>\n",
       "      <td>NaN</td>\n",
       "      <td>Fighting</td>\n",
       "      <td>1.57</td>\n",
       "      <td>1.02</td>\n",
       "      <td>0.00</td>\n",
       "      <td>0.41</td>\n",
       "      <td>NaN</td>\n",
       "      <td>NaN</td>\n",
       "      <td>NaN</td>\n",
       "    </tr>\n",
       "    <tr>\n",
       "      <th>609</th>\n",
       "      <td>Space Invaders</td>\n",
       "      <td>2600</td>\n",
       "      <td>NaN</td>\n",
       "      <td>Shooter</td>\n",
       "      <td>2.36</td>\n",
       "      <td>0.14</td>\n",
       "      <td>0.00</td>\n",
       "      <td>0.03</td>\n",
       "      <td>NaN</td>\n",
       "      <td>NaN</td>\n",
       "      <td>NaN</td>\n",
       "    </tr>\n",
       "    <tr>\n",
       "      <th>...</th>\n",
       "      <td>...</td>\n",
       "      <td>...</td>\n",
       "      <td>...</td>\n",
       "      <td>...</td>\n",
       "      <td>...</td>\n",
       "      <td>...</td>\n",
       "      <td>...</td>\n",
       "      <td>...</td>\n",
       "      <td>...</td>\n",
       "      <td>...</td>\n",
       "      <td>...</td>\n",
       "    </tr>\n",
       "    <tr>\n",
       "      <th>16371</th>\n",
       "      <td>PDC World Championship Darts 2008</td>\n",
       "      <td>PSP</td>\n",
       "      <td>NaN</td>\n",
       "      <td>Sports</td>\n",
       "      <td>0.01</td>\n",
       "      <td>0.00</td>\n",
       "      <td>0.00</td>\n",
       "      <td>0.00</td>\n",
       "      <td>43.0</td>\n",
       "      <td>tbd</td>\n",
       "      <td>E10+</td>\n",
       "    </tr>\n",
       "    <tr>\n",
       "      <th>16403</th>\n",
       "      <td>Freaky Flyers</td>\n",
       "      <td>GC</td>\n",
       "      <td>NaN</td>\n",
       "      <td>Racing</td>\n",
       "      <td>0.01</td>\n",
       "      <td>0.00</td>\n",
       "      <td>0.00</td>\n",
       "      <td>0.00</td>\n",
       "      <td>69.0</td>\n",
       "      <td>6.5</td>\n",
       "      <td>T</td>\n",
       "    </tr>\n",
       "    <tr>\n",
       "      <th>16446</th>\n",
       "      <td>Inversion</td>\n",
       "      <td>PC</td>\n",
       "      <td>NaN</td>\n",
       "      <td>Shooter</td>\n",
       "      <td>0.01</td>\n",
       "      <td>0.00</td>\n",
       "      <td>0.00</td>\n",
       "      <td>0.00</td>\n",
       "      <td>59.0</td>\n",
       "      <td>6.7</td>\n",
       "      <td>M</td>\n",
       "    </tr>\n",
       "    <tr>\n",
       "      <th>16456</th>\n",
       "      <td>Hakuouki: Shinsengumi Kitan</td>\n",
       "      <td>PS3</td>\n",
       "      <td>NaN</td>\n",
       "      <td>Adventure</td>\n",
       "      <td>0.01</td>\n",
       "      <td>0.00</td>\n",
       "      <td>0.00</td>\n",
       "      <td>0.00</td>\n",
       "      <td>NaN</td>\n",
       "      <td>NaN</td>\n",
       "      <td>NaN</td>\n",
       "    </tr>\n",
       "    <tr>\n",
       "      <th>16520</th>\n",
       "      <td>Virtua Quest</td>\n",
       "      <td>GC</td>\n",
       "      <td>NaN</td>\n",
       "      <td>Role-Playing</td>\n",
       "      <td>0.01</td>\n",
       "      <td>0.00</td>\n",
       "      <td>0.00</td>\n",
       "      <td>0.00</td>\n",
       "      <td>55.0</td>\n",
       "      <td>5.5</td>\n",
       "      <td>T</td>\n",
       "    </tr>\n",
       "  </tbody>\n",
       "</table>\n",
       "<p>269 rows × 11 columns</p>\n",
       "</div>"
      ],
      "text/plain": [
       "                                    name platform  year_of_release  \\\n",
       "183                      Madden NFL 2004      PS2              NaN   \n",
       "377                     FIFA Soccer 2004      PS2              NaN   \n",
       "456           LEGO Batman: The Videogame      Wii              NaN   \n",
       "475           wwe Smackdown vs. Raw 2006      PS2              NaN   \n",
       "609                       Space Invaders     2600              NaN   \n",
       "...                                  ...      ...              ...   \n",
       "16371  PDC World Championship Darts 2008      PSP              NaN   \n",
       "16403                      Freaky Flyers       GC              NaN   \n",
       "16446                          Inversion       PC              NaN   \n",
       "16456        Hakuouki: Shinsengumi Kitan      PS3              NaN   \n",
       "16520                       Virtua Quest       GC              NaN   \n",
       "\n",
       "              genre  na_sales  eu_sales  jp_sales  other_sales  critic_score  \\\n",
       "183          Sports      4.26      0.26      0.01         0.71          94.0   \n",
       "377          Sports      0.59      2.36      0.04         0.51          84.0   \n",
       "456          Action      1.80      0.97      0.00         0.29          74.0   \n",
       "475        Fighting      1.57      1.02      0.00         0.41           NaN   \n",
       "609         Shooter      2.36      0.14      0.00         0.03           NaN   \n",
       "...             ...       ...       ...       ...          ...           ...   \n",
       "16371        Sports      0.01      0.00      0.00         0.00          43.0   \n",
       "16403        Racing      0.01      0.00      0.00         0.00          69.0   \n",
       "16446       Shooter      0.01      0.00      0.00         0.00          59.0   \n",
       "16456     Adventure      0.01      0.00      0.00         0.00           NaN   \n",
       "16520  Role-Playing      0.01      0.00      0.00         0.00          55.0   \n",
       "\n",
       "      user_score rating  \n",
       "183          8.5      E  \n",
       "377          6.4      E  \n",
       "456          7.9   E10+  \n",
       "475          NaN    NaN  \n",
       "609          NaN    NaN  \n",
       "...          ...    ...  \n",
       "16371        tbd   E10+  \n",
       "16403        6.5      T  \n",
       "16446        6.7      M  \n",
       "16456        NaN    NaN  \n",
       "16520        5.5      T  \n",
       "\n",
       "[269 rows x 11 columns]"
      ]
     },
     "execution_count": 12,
     "metadata": {},
     "output_type": "execute_result"
    }
   ],
   "source": [
    "miss_date = games.query('year_of_release.isna()')\n",
    "miss_date"
   ]
  },
  {
   "cell_type": "markdown",
   "id": "0fa3cea8",
   "metadata": {},
   "source": [
    "Первая мысль, которая возникла, глядя на эти пропуски - заполнить год выпуска годом из названия, если такой есть. Однако, есть нюанс: что игры выходят на разные платформы в разные годы, а также есть свои особенности релиза, например, FIFA выходит за год (то есть 2004 выходит в 2003), а вот дартс выходит в этот же год. Поэтому такое заполнение будет не совсем точным.\n",
    "\n",
    "Посмотрим, есть ли игры, где помимо года выпуска пропущены и другие значения:"
   ]
  },
  {
   "cell_type": "code",
   "execution_count": 13,
   "id": "86573ae3",
   "metadata": {
    "scrolled": true
   },
   "outputs": [
    {
     "data": {
      "text/html": [
       "<div>\n",
       "<style scoped>\n",
       "    .dataframe tbody tr th:only-of-type {\n",
       "        vertical-align: middle;\n",
       "    }\n",
       "\n",
       "    .dataframe tbody tr th {\n",
       "        vertical-align: top;\n",
       "    }\n",
       "\n",
       "    .dataframe thead th {\n",
       "        text-align: right;\n",
       "    }\n",
       "</style>\n",
       "<table border=\"1\" class=\"dataframe\">\n",
       "  <thead>\n",
       "    <tr style=\"text-align: right;\">\n",
       "      <th></th>\n",
       "      <th>name</th>\n",
       "      <th>platform</th>\n",
       "      <th>year_of_release</th>\n",
       "      <th>genre</th>\n",
       "      <th>na_sales</th>\n",
       "      <th>eu_sales</th>\n",
       "      <th>jp_sales</th>\n",
       "      <th>other_sales</th>\n",
       "      <th>critic_score</th>\n",
       "      <th>user_score</th>\n",
       "      <th>rating</th>\n",
       "    </tr>\n",
       "  </thead>\n",
       "  <tbody>\n",
       "    <tr>\n",
       "      <th>475</th>\n",
       "      <td>wwe Smackdown vs. Raw 2006</td>\n",
       "      <td>PS2</td>\n",
       "      <td>NaN</td>\n",
       "      <td>Fighting</td>\n",
       "      <td>1.57</td>\n",
       "      <td>1.02</td>\n",
       "      <td>0.00</td>\n",
       "      <td>0.41</td>\n",
       "      <td>NaN</td>\n",
       "      <td>NaN</td>\n",
       "      <td>NaN</td>\n",
       "    </tr>\n",
       "    <tr>\n",
       "      <th>609</th>\n",
       "      <td>Space Invaders</td>\n",
       "      <td>2600</td>\n",
       "      <td>NaN</td>\n",
       "      <td>Shooter</td>\n",
       "      <td>2.36</td>\n",
       "      <td>0.14</td>\n",
       "      <td>0.00</td>\n",
       "      <td>0.03</td>\n",
       "      <td>NaN</td>\n",
       "      <td>NaN</td>\n",
       "      <td>NaN</td>\n",
       "    </tr>\n",
       "    <tr>\n",
       "      <th>1300</th>\n",
       "      <td>Triple Play 99</td>\n",
       "      <td>PS</td>\n",
       "      <td>NaN</td>\n",
       "      <td>Sports</td>\n",
       "      <td>0.81</td>\n",
       "      <td>0.55</td>\n",
       "      <td>0.00</td>\n",
       "      <td>0.10</td>\n",
       "      <td>NaN</td>\n",
       "      <td>NaN</td>\n",
       "      <td>NaN</td>\n",
       "    </tr>\n",
       "    <tr>\n",
       "      <th>1505</th>\n",
       "      <td>Adventure</td>\n",
       "      <td>2600</td>\n",
       "      <td>NaN</td>\n",
       "      <td>Adventure</td>\n",
       "      <td>1.21</td>\n",
       "      <td>0.08</td>\n",
       "      <td>0.00</td>\n",
       "      <td>0.01</td>\n",
       "      <td>NaN</td>\n",
       "      <td>NaN</td>\n",
       "      <td>NaN</td>\n",
       "    </tr>\n",
       "    <tr>\n",
       "      <th>1584</th>\n",
       "      <td>Combat</td>\n",
       "      <td>2600</td>\n",
       "      <td>NaN</td>\n",
       "      <td>Action</td>\n",
       "      <td>1.17</td>\n",
       "      <td>0.07</td>\n",
       "      <td>0.00</td>\n",
       "      <td>0.01</td>\n",
       "      <td>NaN</td>\n",
       "      <td>NaN</td>\n",
       "      <td>NaN</td>\n",
       "    </tr>\n",
       "    <tr>\n",
       "      <th>...</th>\n",
       "      <td>...</td>\n",
       "      <td>...</td>\n",
       "      <td>...</td>\n",
       "      <td>...</td>\n",
       "      <td>...</td>\n",
       "      <td>...</td>\n",
       "      <td>...</td>\n",
       "      <td>...</td>\n",
       "      <td>...</td>\n",
       "      <td>...</td>\n",
       "      <td>...</td>\n",
       "    </tr>\n",
       "    <tr>\n",
       "      <th>16178</th>\n",
       "      <td>WRC: FIA World Rally Championship</td>\n",
       "      <td>PC</td>\n",
       "      <td>NaN</td>\n",
       "      <td>Racing</td>\n",
       "      <td>0.00</td>\n",
       "      <td>0.01</td>\n",
       "      <td>0.00</td>\n",
       "      <td>0.00</td>\n",
       "      <td>65.0</td>\n",
       "      <td>NaN</td>\n",
       "      <td>RP</td>\n",
       "    </tr>\n",
       "    <tr>\n",
       "      <th>16291</th>\n",
       "      <td>AKB1/48: Idol to Guam de Koishitara...</td>\n",
       "      <td>X360</td>\n",
       "      <td>NaN</td>\n",
       "      <td>Misc</td>\n",
       "      <td>0.00</td>\n",
       "      <td>0.00</td>\n",
       "      <td>0.01</td>\n",
       "      <td>0.00</td>\n",
       "      <td>NaN</td>\n",
       "      <td>NaN</td>\n",
       "      <td>NaN</td>\n",
       "    </tr>\n",
       "    <tr>\n",
       "      <th>16327</th>\n",
       "      <td>Brothers in Arms: Furious 4</td>\n",
       "      <td>X360</td>\n",
       "      <td>NaN</td>\n",
       "      <td>Shooter</td>\n",
       "      <td>0.01</td>\n",
       "      <td>0.00</td>\n",
       "      <td>0.00</td>\n",
       "      <td>0.00</td>\n",
       "      <td>NaN</td>\n",
       "      <td>NaN</td>\n",
       "      <td>M</td>\n",
       "    </tr>\n",
       "    <tr>\n",
       "      <th>16346</th>\n",
       "      <td>Agarest Senki: Re-appearance</td>\n",
       "      <td>PS3</td>\n",
       "      <td>NaN</td>\n",
       "      <td>Role-Playing</td>\n",
       "      <td>0.00</td>\n",
       "      <td>0.00</td>\n",
       "      <td>0.01</td>\n",
       "      <td>0.00</td>\n",
       "      <td>NaN</td>\n",
       "      <td>NaN</td>\n",
       "      <td>NaN</td>\n",
       "    </tr>\n",
       "    <tr>\n",
       "      <th>16456</th>\n",
       "      <td>Hakuouki: Shinsengumi Kitan</td>\n",
       "      <td>PS3</td>\n",
       "      <td>NaN</td>\n",
       "      <td>Adventure</td>\n",
       "      <td>0.01</td>\n",
       "      <td>0.00</td>\n",
       "      <td>0.00</td>\n",
       "      <td>0.00</td>\n",
       "      <td>NaN</td>\n",
       "      <td>NaN</td>\n",
       "      <td>NaN</td>\n",
       "    </tr>\n",
       "  </tbody>\n",
       "</table>\n",
       "<p>94 rows × 11 columns</p>\n",
       "</div>"
      ],
      "text/plain": [
       "                                         name platform  year_of_release  \\\n",
       "475                wwe Smackdown vs. Raw 2006      PS2              NaN   \n",
       "609                            Space Invaders     2600              NaN   \n",
       "1300                           Triple Play 99       PS              NaN   \n",
       "1505                                Adventure     2600              NaN   \n",
       "1584                                   Combat     2600              NaN   \n",
       "...                                       ...      ...              ...   \n",
       "16178       WRC: FIA World Rally Championship       PC              NaN   \n",
       "16291  AKB1/48: Idol to Guam de Koishitara...     X360              NaN   \n",
       "16327             Brothers in Arms: Furious 4     X360              NaN   \n",
       "16346            Agarest Senki: Re-appearance      PS3              NaN   \n",
       "16456             Hakuouki: Shinsengumi Kitan      PS3              NaN   \n",
       "\n",
       "              genre  na_sales  eu_sales  jp_sales  other_sales  critic_score  \\\n",
       "475        Fighting      1.57      1.02      0.00         0.41           NaN   \n",
       "609         Shooter      2.36      0.14      0.00         0.03           NaN   \n",
       "1300         Sports      0.81      0.55      0.00         0.10           NaN   \n",
       "1505      Adventure      1.21      0.08      0.00         0.01           NaN   \n",
       "1584         Action      1.17      0.07      0.00         0.01           NaN   \n",
       "...             ...       ...       ...       ...          ...           ...   \n",
       "16178        Racing      0.00      0.01      0.00         0.00          65.0   \n",
       "16291          Misc      0.00      0.00      0.01         0.00           NaN   \n",
       "16327       Shooter      0.01      0.00      0.00         0.00           NaN   \n",
       "16346  Role-Playing      0.00      0.00      0.01         0.00           NaN   \n",
       "16456     Adventure      0.01      0.00      0.00         0.00           NaN   \n",
       "\n",
       "      user_score rating  \n",
       "475          NaN    NaN  \n",
       "609          NaN    NaN  \n",
       "1300         NaN    NaN  \n",
       "1505         NaN    NaN  \n",
       "1584         NaN    NaN  \n",
       "...          ...    ...  \n",
       "16178        NaN     RP  \n",
       "16291        NaN    NaN  \n",
       "16327        NaN      M  \n",
       "16346        NaN    NaN  \n",
       "16456        NaN    NaN  \n",
       "\n",
       "[94 rows x 11 columns]"
      ]
     },
     "execution_count": 13,
     "metadata": {},
     "output_type": "execute_result"
    }
   ],
   "source": [
    "games.query('year_of_release.isna() and user_score.isna()')"
   ]
  },
  {
   "cell_type": "markdown",
   "id": "d60efacd",
   "metadata": {},
   "source": [
    "Да, обращает на себя внимание такое количество пропусков в некоторых строках. Я решила не удалять все пропуски в этом столбце, однако избавиться от тех строк, где пропуски во многих столбцах, к тому же у таких игр еще и довольно низкие продажи. Остальные игры с пропусками в дате релиза оставим, они могут понадобиться для анализа. "
   ]
  },
  {
   "cell_type": "code",
   "execution_count": 14,
   "id": "0f2f7c2c",
   "metadata": {},
   "outputs": [],
   "source": [
    "games = games.loc[~(games['year_of_release'].isna() & (games['user_score'].isna()))]"
   ]
  },
  {
   "cell_type": "code",
   "execution_count": 15,
   "id": "8322afe1",
   "metadata": {
    "scrolled": true
   },
   "outputs": [
    {
     "data": {
      "text/plain": [
       "name                  0\n",
       "platform              0\n",
       "year_of_release     175\n",
       "genre                 0\n",
       "na_sales              0\n",
       "eu_sales              0\n",
       "jp_sales              0\n",
       "other_sales           0\n",
       "critic_score       8487\n",
       "user_score         6605\n",
       "rating             6679\n",
       "dtype: int64"
      ]
     },
     "execution_count": 15,
     "metadata": {},
     "output_type": "execute_result"
    }
   ],
   "source": [
    "games.isna().sum()"
   ]
  },
  {
   "cell_type": "markdown",
   "id": "1689db27",
   "metadata": {},
   "source": [
    "Остается внушительное количество пропусков в оценках критиков, пользователей и рейтинге от ESRB. Но в данном случае будет некорректно заполнять их медианой или средним, так как всё-таки эти показатели индивидуальны для каждой игры и не зависят от жанра или чего-либо еще. Мы не можем решать за пользователя или критика, это исказит всю картину.\n",
    "Пропуски в рейтинге ESRB вполне объяснимы: ряд игр в датафрейме вышел до появления этой организации, также не все игры имеют этот рейтинг, так как ESRB - организация Северной Америки и Канады, игры, которые выходят в других странах и направлены на рынок там могут не иметь их оценки, а иметь оценку от своей внутренней подобной организации. \\\n",
    "Пропуски в остальных оценках могут быть связаны с выгрузкой данных, какие-то технические проблемы, очень большое количество пропусков. \\\n",
    "Сейчас нужно разобраться с типом данных. Для начала посмотрим, почему в столбце `user_score` тип object, значит, там содержатся какие-то строковые значения."
   ]
  },
  {
   "cell_type": "code",
   "execution_count": 16,
   "id": "d46b0cf5",
   "metadata": {},
   "outputs": [
    {
     "data": {
      "text/plain": [
       "array(['8', nan, '8.3', '8.5', '6.6', '8.4', '8.6', '7.7', '6.3', '7.4',\n",
       "       '8.2', '9', '7.9', '8.1', '8.7', '7.1', '3.4', '5.3', '4.8', '3.2',\n",
       "       '8.9', '6.4', '7.8', '7.5', '2.6', '7.2', '9.2', '7', '7.3', '4.3',\n",
       "       '7.6', '5.7', '5', '9.1', '6.5', 'tbd', '8.8', '6.9', '9.4', '6.8',\n",
       "       '6.1', '6.7', '5.4', '4', '4.9', '4.5', '9.3', '6.2', '4.2', '6',\n",
       "       '3.7', '4.1', '5.8', '5.6', '5.5', '4.4', '4.6', '5.9', '3.9',\n",
       "       '3.1', '2.9', '5.2', '3.3', '4.7', '5.1', '3.5', '2.5', '1.9', '3',\n",
       "       '2.7', '2.2', '2', '9.5', '2.1', '3.6', '2.8', '1.8', '3.8', '0',\n",
       "       '1.6', '9.6', '2.4', '1.7', '1.1', '0.3', '1.5', '0.7', '1.2',\n",
       "       '2.3', '0.5', '1.3', '0.2', '0.6', '1.4', '0.9', '1', '9.7'],\n",
       "      dtype=object)"
      ]
     },
     "execution_count": 16,
     "metadata": {},
     "output_type": "execute_result"
    }
   ],
   "source": [
    "games['user_score'].unique()"
   ]
  },
  {
   "cell_type": "markdown",
   "id": "adff8e76",
   "metadata": {},
   "source": [
    "Вот и \"белая ворона\" среди данных - строковое значение tbd. После непродолжительного поиска в интернете стало понятно, что аббревиатура TBD расшифровывается как to be determinate - то есть оценка еще не определена. Может быть, эти игры вышли недавно, еще недостаточное количество данных, а, может быть, данные об оценки пользователей просто отсутствуют ввиду непопулярности или давней даты выпуска. Посмотрим, что это за строки:"
   ]
  },
  {
   "cell_type": "code",
   "execution_count": 17,
   "id": "e63ca0f0",
   "metadata": {},
   "outputs": [
    {
     "name": "stdout",
     "output_type": "stream",
     "text": [
      "2424\n"
     ]
    },
    {
     "data": {
      "text/plain": [
       "34"
      ]
     },
     "execution_count": 17,
     "metadata": {},
     "output_type": "execute_result"
    }
   ],
   "source": [
    "print(len(games.query('user_score == \"tbd\"')))\n",
    "len(games.query('user_score == \"tbd\" and year_of_release > 2015'))"
   ]
  },
  {
   "cell_type": "markdown",
   "id": "525d4620",
   "metadata": {},
   "source": [
    "Да, действительно есть относительно новые игры с оценкой tbd, однако это далеко не все из них, поэтому проблема, скорее всего, не только с недавней датой выпуска, но и связана с выгрузкой или отсутствием данных.\n",
    "Чтобы в дальнейшем строковые значения не помешали проводить анализ, заменим значения tbd на NaN:"
   ]
  },
  {
   "cell_type": "code",
   "execution_count": 18,
   "id": "5af8c7af",
   "metadata": {},
   "outputs": [
    {
     "data": {
      "text/plain": [
       "array(['8', nan, '8.3', '8.5', '6.6', '8.4', '8.6', '7.7', '6.3', '7.4',\n",
       "       '8.2', '9', '7.9', '8.1', '8.7', '7.1', '3.4', '5.3', '4.8', '3.2',\n",
       "       '8.9', '6.4', '7.8', '7.5', '2.6', '7.2', '9.2', '7', '7.3', '4.3',\n",
       "       '7.6', '5.7', '5', '9.1', '6.5', '8.8', '6.9', '9.4', '6.8', '6.1',\n",
       "       '6.7', '5.4', '4', '4.9', '4.5', '9.3', '6.2', '4.2', '6', '3.7',\n",
       "       '4.1', '5.8', '5.6', '5.5', '4.4', '4.6', '5.9', '3.9', '3.1',\n",
       "       '2.9', '5.2', '3.3', '4.7', '5.1', '3.5', '2.5', '1.9', '3', '2.7',\n",
       "       '2.2', '2', '9.5', '2.1', '3.6', '2.8', '1.8', '3.8', '0', '1.6',\n",
       "       '9.6', '2.4', '1.7', '1.1', '0.3', '1.5', '0.7', '1.2', '2.3',\n",
       "       '0.5', '1.3', '0.2', '0.6', '1.4', '0.9', '1', '9.7'], dtype=object)"
      ]
     },
     "execution_count": 18,
     "metadata": {},
     "output_type": "execute_result"
    }
   ],
   "source": [
    "games.loc[games['user_score'] == 'tbd', 'user_score'] = np.NaN\n",
    "games['user_score'].unique()"
   ]
  },
  {
   "cell_type": "code",
   "execution_count": 19,
   "id": "42a847b0",
   "metadata": {},
   "outputs": [
    {
     "data": {
      "text/plain": [
       "name                  0\n",
       "platform              0\n",
       "year_of_release     175\n",
       "genre                 0\n",
       "na_sales              0\n",
       "eu_sales              0\n",
       "jp_sales              0\n",
       "other_sales           0\n",
       "critic_score       8487\n",
       "user_score         9029\n",
       "rating             6679\n",
       "dtype: int64"
      ]
     },
     "execution_count": 19,
     "metadata": {},
     "output_type": "execute_result"
    }
   ],
   "source": [
    "games.isna().sum() #пропусков в оценках пользователей должно стать больше"
   ]
  },
  {
   "cell_type": "markdown",
   "id": "0195c7bb",
   "metadata": {},
   "source": [
    "### 2.2 Изменение типов данных"
   ]
  },
  {
   "cell_type": "code",
   "execution_count": 20,
   "id": "09d0a130",
   "metadata": {},
   "outputs": [
    {
     "data": {
      "text/plain": [
       "name                object\n",
       "platform            object\n",
       "year_of_release    float64\n",
       "genre               object\n",
       "na_sales           float64\n",
       "eu_sales           float64\n",
       "jp_sales           float64\n",
       "other_sales        float64\n",
       "critic_score       float64\n",
       "user_score          object\n",
       "rating              object\n",
       "dtype: object"
      ]
     },
     "execution_count": 20,
     "metadata": {},
     "output_type": "execute_result"
    }
   ],
   "source": [
    "games.dtypes #снова вспомним, какие типы данных надо заменить"
   ]
  },
  {
   "cell_type": "code",
   "execution_count": 21,
   "id": "01fd1575",
   "metadata": {},
   "outputs": [
    {
     "data": {
      "text/plain": [
       "name                object\n",
       "platform            object\n",
       "year_of_release      Int64\n",
       "genre               object\n",
       "na_sales           float64\n",
       "eu_sales           float64\n",
       "jp_sales           float64\n",
       "other_sales        float64\n",
       "critic_score         Int64\n",
       "user_score         float64\n",
       "rating              object\n",
       "dtype: object"
      ]
     },
     "execution_count": 21,
     "metadata": {},
     "output_type": "execute_result"
    }
   ],
   "source": [
    "games = games.astype({'year_of_release' : 'Int64', 'critic_score' : 'Int64', 'user_score' : 'float64'})\n",
    "games.dtypes"
   ]
  },
  {
   "cell_type": "markdown",
   "id": "b19d8ab5",
   "metadata": {},
   "source": [
    "Заменили типы данных в столбце год выпуска на целочисленный, так как указан только год, приводить к типу datetime не нужно. Заменили тип данных в столбце оценка критиков также на целочисленный, так как там многие оценки уже имели 0 после запятой, здесь оценивается по 100-балльной шкале, так что целочисленная оценка будет корректна.\n",
    "А вот оценку пользователей перевели в тип float, так как там учитывается средняя оценка по 10-балльной шкале, могут быть не целые числа, а округление может смазать картину.\n",
    "Остальные типы данных корректны."
   ]
  },
  {
   "cell_type": "code",
   "execution_count": 22,
   "id": "71728345",
   "metadata": {},
   "outputs": [
    {
     "data": {
      "text/plain": [
       "0.9942566556984744"
      ]
     },
     "execution_count": 22,
     "metadata": {},
     "output_type": "execute_result"
    }
   ],
   "source": [
    "games.shape[0] / old_df.shape[0] #посмотрим, сколько процентов данных мы потеряли"
   ]
  },
  {
   "cell_type": "markdown",
   "id": "f0f19f7e",
   "metadata": {},
   "source": [
    "### 2.3 Суммарные продажи в регионах"
   ]
  },
  {
   "cell_type": "markdown",
   "id": "2e439b83",
   "metadata": {},
   "source": [
    "В данных представлены продажи по трем регионам: Северная Америка, Япония и Европа, а также продажи в других странах. Создадим отдельный столбец в датафрейме, где будет информация о суммарных продажах игры во всех регионах."
   ]
  },
  {
   "cell_type": "code",
   "execution_count": 23,
   "id": "2ab0a3c1",
   "metadata": {
    "scrolled": true
   },
   "outputs": [
    {
     "data": {
      "text/html": [
       "<div>\n",
       "<style scoped>\n",
       "    .dataframe tbody tr th:only-of-type {\n",
       "        vertical-align: middle;\n",
       "    }\n",
       "\n",
       "    .dataframe tbody tr th {\n",
       "        vertical-align: top;\n",
       "    }\n",
       "\n",
       "    .dataframe thead th {\n",
       "        text-align: right;\n",
       "    }\n",
       "</style>\n",
       "<table border=\"1\" class=\"dataframe\">\n",
       "  <thead>\n",
       "    <tr style=\"text-align: right;\">\n",
       "      <th></th>\n",
       "      <th>name</th>\n",
       "      <th>platform</th>\n",
       "      <th>year_of_release</th>\n",
       "      <th>genre</th>\n",
       "      <th>na_sales</th>\n",
       "      <th>eu_sales</th>\n",
       "      <th>jp_sales</th>\n",
       "      <th>other_sales</th>\n",
       "      <th>critic_score</th>\n",
       "      <th>user_score</th>\n",
       "      <th>rating</th>\n",
       "      <th>all_sales</th>\n",
       "    </tr>\n",
       "  </thead>\n",
       "  <tbody>\n",
       "    <tr>\n",
       "      <th>0</th>\n",
       "      <td>Wii Sports</td>\n",
       "      <td>Wii</td>\n",
       "      <td>2006</td>\n",
       "      <td>Sports</td>\n",
       "      <td>41.36</td>\n",
       "      <td>28.96</td>\n",
       "      <td>3.77</td>\n",
       "      <td>8.45</td>\n",
       "      <td>76</td>\n",
       "      <td>8.0</td>\n",
       "      <td>E</td>\n",
       "      <td>82.54</td>\n",
       "    </tr>\n",
       "    <tr>\n",
       "      <th>1</th>\n",
       "      <td>Super Mario Bros.</td>\n",
       "      <td>NES</td>\n",
       "      <td>1985</td>\n",
       "      <td>Platform</td>\n",
       "      <td>29.08</td>\n",
       "      <td>3.58</td>\n",
       "      <td>6.81</td>\n",
       "      <td>0.77</td>\n",
       "      <td>&lt;NA&gt;</td>\n",
       "      <td>NaN</td>\n",
       "      <td>NaN</td>\n",
       "      <td>40.24</td>\n",
       "    </tr>\n",
       "    <tr>\n",
       "      <th>2</th>\n",
       "      <td>Mario Kart Wii</td>\n",
       "      <td>Wii</td>\n",
       "      <td>2008</td>\n",
       "      <td>Racing</td>\n",
       "      <td>15.68</td>\n",
       "      <td>12.76</td>\n",
       "      <td>3.79</td>\n",
       "      <td>3.29</td>\n",
       "      <td>82</td>\n",
       "      <td>8.3</td>\n",
       "      <td>E</td>\n",
       "      <td>35.52</td>\n",
       "    </tr>\n",
       "    <tr>\n",
       "      <th>3</th>\n",
       "      <td>Wii Sports Resort</td>\n",
       "      <td>Wii</td>\n",
       "      <td>2009</td>\n",
       "      <td>Sports</td>\n",
       "      <td>15.61</td>\n",
       "      <td>10.93</td>\n",
       "      <td>3.28</td>\n",
       "      <td>2.95</td>\n",
       "      <td>80</td>\n",
       "      <td>8.0</td>\n",
       "      <td>E</td>\n",
       "      <td>32.77</td>\n",
       "    </tr>\n",
       "    <tr>\n",
       "      <th>4</th>\n",
       "      <td>Pokemon Red/Pokemon Blue</td>\n",
       "      <td>GB</td>\n",
       "      <td>1996</td>\n",
       "      <td>Role-Playing</td>\n",
       "      <td>11.27</td>\n",
       "      <td>8.89</td>\n",
       "      <td>10.22</td>\n",
       "      <td>1.00</td>\n",
       "      <td>&lt;NA&gt;</td>\n",
       "      <td>NaN</td>\n",
       "      <td>NaN</td>\n",
       "      <td>31.38</td>\n",
       "    </tr>\n",
       "    <tr>\n",
       "      <th>5</th>\n",
       "      <td>Tetris</td>\n",
       "      <td>GB</td>\n",
       "      <td>1989</td>\n",
       "      <td>Puzzle</td>\n",
       "      <td>23.20</td>\n",
       "      <td>2.26</td>\n",
       "      <td>4.22</td>\n",
       "      <td>0.58</td>\n",
       "      <td>&lt;NA&gt;</td>\n",
       "      <td>NaN</td>\n",
       "      <td>NaN</td>\n",
       "      <td>30.26</td>\n",
       "    </tr>\n",
       "    <tr>\n",
       "      <th>6</th>\n",
       "      <td>New Super Mario Bros.</td>\n",
       "      <td>DS</td>\n",
       "      <td>2006</td>\n",
       "      <td>Platform</td>\n",
       "      <td>11.28</td>\n",
       "      <td>9.14</td>\n",
       "      <td>6.50</td>\n",
       "      <td>2.88</td>\n",
       "      <td>89</td>\n",
       "      <td>8.5</td>\n",
       "      <td>E</td>\n",
       "      <td>29.80</td>\n",
       "    </tr>\n",
       "    <tr>\n",
       "      <th>7</th>\n",
       "      <td>Wii Play</td>\n",
       "      <td>Wii</td>\n",
       "      <td>2006</td>\n",
       "      <td>Misc</td>\n",
       "      <td>13.96</td>\n",
       "      <td>9.18</td>\n",
       "      <td>2.93</td>\n",
       "      <td>2.84</td>\n",
       "      <td>58</td>\n",
       "      <td>6.6</td>\n",
       "      <td>E</td>\n",
       "      <td>28.91</td>\n",
       "    </tr>\n",
       "    <tr>\n",
       "      <th>8</th>\n",
       "      <td>New Super Mario Bros. Wii</td>\n",
       "      <td>Wii</td>\n",
       "      <td>2009</td>\n",
       "      <td>Platform</td>\n",
       "      <td>14.44</td>\n",
       "      <td>6.94</td>\n",
       "      <td>4.70</td>\n",
       "      <td>2.24</td>\n",
       "      <td>87</td>\n",
       "      <td>8.4</td>\n",
       "      <td>E</td>\n",
       "      <td>28.32</td>\n",
       "    </tr>\n",
       "    <tr>\n",
       "      <th>9</th>\n",
       "      <td>Duck Hunt</td>\n",
       "      <td>NES</td>\n",
       "      <td>1984</td>\n",
       "      <td>Shooter</td>\n",
       "      <td>26.93</td>\n",
       "      <td>0.63</td>\n",
       "      <td>0.28</td>\n",
       "      <td>0.47</td>\n",
       "      <td>&lt;NA&gt;</td>\n",
       "      <td>NaN</td>\n",
       "      <td>NaN</td>\n",
       "      <td>28.31</td>\n",
       "    </tr>\n",
       "  </tbody>\n",
       "</table>\n",
       "</div>"
      ],
      "text/plain": [
       "                        name platform  year_of_release         genre  \\\n",
       "0                 Wii Sports      Wii             2006        Sports   \n",
       "1          Super Mario Bros.      NES             1985      Platform   \n",
       "2             Mario Kart Wii      Wii             2008        Racing   \n",
       "3          Wii Sports Resort      Wii             2009        Sports   \n",
       "4   Pokemon Red/Pokemon Blue       GB             1996  Role-Playing   \n",
       "5                     Tetris       GB             1989        Puzzle   \n",
       "6      New Super Mario Bros.       DS             2006      Platform   \n",
       "7                   Wii Play      Wii             2006          Misc   \n",
       "8  New Super Mario Bros. Wii      Wii             2009      Platform   \n",
       "9                  Duck Hunt      NES             1984       Shooter   \n",
       "\n",
       "   na_sales  eu_sales  jp_sales  other_sales  critic_score  user_score rating  \\\n",
       "0     41.36     28.96      3.77         8.45            76         8.0      E   \n",
       "1     29.08      3.58      6.81         0.77          <NA>         NaN    NaN   \n",
       "2     15.68     12.76      3.79         3.29            82         8.3      E   \n",
       "3     15.61     10.93      3.28         2.95            80         8.0      E   \n",
       "4     11.27      8.89     10.22         1.00          <NA>         NaN    NaN   \n",
       "5     23.20      2.26      4.22         0.58          <NA>         NaN    NaN   \n",
       "6     11.28      9.14      6.50         2.88            89         8.5      E   \n",
       "7     13.96      9.18      2.93         2.84            58         6.6      E   \n",
       "8     14.44      6.94      4.70         2.24            87         8.4      E   \n",
       "9     26.93      0.63      0.28         0.47          <NA>         NaN    NaN   \n",
       "\n",
       "   all_sales  \n",
       "0      82.54  \n",
       "1      40.24  \n",
       "2      35.52  \n",
       "3      32.77  \n",
       "4      31.38  \n",
       "5      30.26  \n",
       "6      29.80  \n",
       "7      28.91  \n",
       "8      28.32  \n",
       "9      28.31  "
      ]
     },
     "execution_count": 23,
     "metadata": {},
     "output_type": "execute_result"
    }
   ],
   "source": [
    "games['all_sales'] = games[['na_sales', 'eu_sales', 'jp_sales', 'other_sales']].sum(axis=1)\n",
    "games.head(10)"
   ]
  },
  {
   "cell_type": "markdown",
   "id": "98844ce0",
   "metadata": {},
   "source": [
    "**Вывод:** \\\n",
    "Таким образом, в результате предобработки были удалены строки с пропусками:\n",
    "- в столбцах `name` и `genre`, эти пропуски могут быть связаны с технической проблемой при выгрузке или с тем, что эти игры довольно старые, не имеют оценок, многие данные в них, возможно, просто утеряны\n",
    "- в столбце `year_of_release` часть строк, где множество пропусков и по другим данным \n",
    "\n",
    "В столбце `user_score` значения 'tbd' были заменены на пропуски NaN, чтобы строковый тип данных в дальнейшем не мешал анализу.\\\n",
    "Часть пропусков решено оставить, так как некорректно было бы заполнять рейтинги и оценки медианами или средними значениями, это исказило бы всю картину, а терять такое большое количество данных не стоит. Действительно, очень много пропусков в оценках, что может быть связано с техническими проблемами при выгрузке, с отсутствием этих данных ввиду непредоставления, а пропуски в рейтинге ESRB могут быть связаны с тем, что ряд игр вышел позже появления данной организации, не все игры проходят эту оценку, не во всех странах применяется именно оценка ESRB, только Северная Америка и Канада, в других странах есть аналогичные организации для внутреннего рейтинга. \\\n",
    "Также в результате предобработки был изменен тип данных в части строк: год выпуска - на целочисленный, оценка критиков - на целочисленный, оценка пользователей - на float. \\\n",
    "Всего потеряно менее 1% данных.\\\n",
    "Для дальнейшего анализа создан столбец для каждый игры по суммарным продажам во всех регионах. Данные готовы к работе."
   ]
  },
  {
   "cell_type": "markdown",
   "id": "3ad6be25",
   "metadata": {},
   "source": [
    "## Шаг 3: Исследовательский анализ данных"
   ]
  },
  {
   "cell_type": "code",
   "execution_count": 24,
   "id": "5b155ab4",
   "metadata": {},
   "outputs": [
    {
     "data": {
      "text/html": [
       "<div>\n",
       "<style scoped>\n",
       "    .dataframe tbody tr th:only-of-type {\n",
       "        vertical-align: middle;\n",
       "    }\n",
       "\n",
       "    .dataframe tbody tr th {\n",
       "        vertical-align: top;\n",
       "    }\n",
       "\n",
       "    .dataframe thead th {\n",
       "        text-align: right;\n",
       "    }\n",
       "</style>\n",
       "<table border=\"1\" class=\"dataframe\">\n",
       "  <thead>\n",
       "    <tr style=\"text-align: right;\">\n",
       "      <th></th>\n",
       "      <th>year_of_release</th>\n",
       "      <th>na_sales</th>\n",
       "      <th>eu_sales</th>\n",
       "      <th>jp_sales</th>\n",
       "      <th>other_sales</th>\n",
       "      <th>critic_score</th>\n",
       "      <th>user_score</th>\n",
       "      <th>all_sales</th>\n",
       "    </tr>\n",
       "  </thead>\n",
       "  <tbody>\n",
       "    <tr>\n",
       "      <th>count</th>\n",
       "      <td>16444.000000</td>\n",
       "      <td>16619.000000</td>\n",
       "      <td>16619.000000</td>\n",
       "      <td>16619.000000</td>\n",
       "      <td>16619.000000</td>\n",
       "      <td>8132.000000</td>\n",
       "      <td>7590.000000</td>\n",
       "      <td>16619.000000</td>\n",
       "    </tr>\n",
       "    <tr>\n",
       "      <th>mean</th>\n",
       "      <td>2006.486256</td>\n",
       "      <td>0.263897</td>\n",
       "      <td>0.145638</td>\n",
       "      <td>0.077747</td>\n",
       "      <td>0.047540</td>\n",
       "      <td>68.972455</td>\n",
       "      <td>7.125046</td>\n",
       "      <td>0.534822</td>\n",
       "    </tr>\n",
       "    <tr>\n",
       "      <th>std</th>\n",
       "      <td>5.875525</td>\n",
       "      <td>0.815373</td>\n",
       "      <td>0.504627</td>\n",
       "      <td>0.309596</td>\n",
       "      <td>0.187217</td>\n",
       "      <td>13.940612</td>\n",
       "      <td>1.500006</td>\n",
       "      <td>1.552113</td>\n",
       "    </tr>\n",
       "    <tr>\n",
       "      <th>min</th>\n",
       "      <td>1980.000000</td>\n",
       "      <td>0.000000</td>\n",
       "      <td>0.000000</td>\n",
       "      <td>0.000000</td>\n",
       "      <td>0.000000</td>\n",
       "      <td>13.000000</td>\n",
       "      <td>0.000000</td>\n",
       "      <td>0.000000</td>\n",
       "    </tr>\n",
       "    <tr>\n",
       "      <th>25%</th>\n",
       "      <td>2003.000000</td>\n",
       "      <td>0.000000</td>\n",
       "      <td>0.000000</td>\n",
       "      <td>0.000000</td>\n",
       "      <td>0.000000</td>\n",
       "      <td>60.000000</td>\n",
       "      <td>6.400000</td>\n",
       "      <td>0.060000</td>\n",
       "    </tr>\n",
       "    <tr>\n",
       "      <th>50%</th>\n",
       "      <td>2007.000000</td>\n",
       "      <td>0.080000</td>\n",
       "      <td>0.020000</td>\n",
       "      <td>0.000000</td>\n",
       "      <td>0.010000</td>\n",
       "      <td>71.000000</td>\n",
       "      <td>7.500000</td>\n",
       "      <td>0.170000</td>\n",
       "    </tr>\n",
       "    <tr>\n",
       "      <th>75%</th>\n",
       "      <td>2010.000000</td>\n",
       "      <td>0.240000</td>\n",
       "      <td>0.110000</td>\n",
       "      <td>0.040000</td>\n",
       "      <td>0.030000</td>\n",
       "      <td>79.000000</td>\n",
       "      <td>8.200000</td>\n",
       "      <td>0.470000</td>\n",
       "    </tr>\n",
       "    <tr>\n",
       "      <th>max</th>\n",
       "      <td>2016.000000</td>\n",
       "      <td>41.360000</td>\n",
       "      <td>28.960000</td>\n",
       "      <td>10.220000</td>\n",
       "      <td>10.570000</td>\n",
       "      <td>98.000000</td>\n",
       "      <td>9.700000</td>\n",
       "      <td>82.540000</td>\n",
       "    </tr>\n",
       "  </tbody>\n",
       "</table>\n",
       "</div>"
      ],
      "text/plain": [
       "       year_of_release      na_sales      eu_sales      jp_sales  \\\n",
       "count     16444.000000  16619.000000  16619.000000  16619.000000   \n",
       "mean       2006.486256      0.263897      0.145638      0.077747   \n",
       "std           5.875525      0.815373      0.504627      0.309596   \n",
       "min        1980.000000      0.000000      0.000000      0.000000   \n",
       "25%        2003.000000      0.000000      0.000000      0.000000   \n",
       "50%        2007.000000      0.080000      0.020000      0.000000   \n",
       "75%        2010.000000      0.240000      0.110000      0.040000   \n",
       "max        2016.000000     41.360000     28.960000     10.220000   \n",
       "\n",
       "        other_sales  critic_score   user_score     all_sales  \n",
       "count  16619.000000   8132.000000  7590.000000  16619.000000  \n",
       "mean       0.047540     68.972455     7.125046      0.534822  \n",
       "std        0.187217     13.940612     1.500006      1.552113  \n",
       "min        0.000000     13.000000     0.000000      0.000000  \n",
       "25%        0.000000     60.000000     6.400000      0.060000  \n",
       "50%        0.010000     71.000000     7.500000      0.170000  \n",
       "75%        0.030000     79.000000     8.200000      0.470000  \n",
       "max       10.570000     98.000000     9.700000     82.540000  "
      ]
     },
     "execution_count": 24,
     "metadata": {},
     "output_type": "execute_result"
    }
   ],
   "source": [
    "games.describe() #перед началом анализа ознакомимся с описанием данных"
   ]
  },
  {
   "cell_type": "markdown",
   "id": "e9302cea",
   "metadata": {},
   "source": [
    "Есть игры с рекордно большими продажами, при дальнейшем анализе посмотрим, с чем это связано."
   ]
  },
  {
   "cell_type": "markdown",
   "id": "eba81d29",
   "metadata": {},
   "source": [
    "### 3.1 Выбор актуального периода и потенциально прибыльных платформ"
   ]
  },
  {
   "cell_type": "markdown",
   "id": "2a02ff3a",
   "metadata": {},
   "source": [
    "Для начала определимся, сколько игр выпускалось в разные годы. Ведь дял планирования рекламной компании не нужно учитывать весь период с 1980 года, нужно определиться с динамикой выхода игр и с их количеством за последние несколько лет."
   ]
  },
  {
   "cell_type": "code",
   "execution_count": 25,
   "id": "6007b54e",
   "metadata": {},
   "outputs": [
    {
     "data": {
      "image/png": "[encoded data removed]",
      "text/plain": [
       "<Figure size 936x432 with 1 Axes>"
      ]
     },
     "metadata": {},
     "output_type": "display_data"
    }
   ],
   "source": [
    "game_year = games.pivot_table(index='year_of_release', values='name', aggfunc='count').reset_index()\n",
    "game_year.columns = ['year_of_release', 'count']\n",
    "game_year.plot.bar(x='year_of_release', y='count', figsize=(13,6))\n",
    "plt.title('Количество игр за год', fontsize=15);\n",
    "plt.xlabel('Год выпуска', fontsize=12);\n",
    "plt.ylabel('Количество игр', fontsize=12);"
   ]
  },
  {
   "cell_type": "markdown",
   "id": "1118a6e9",
   "metadata": {},
   "source": [
    "А как менялись продажи за эти годы?"
   ]
  },
  {
   "cell_type": "code",
   "execution_count": 26,
   "id": "d5223acc",
   "metadata": {},
   "outputs": [
    {
     "data": {
      "image/png": "[encoded data removed]",
      "text/plain": [
       "<Figure size 432x288 with 1 Axes>"
      ]
     },
     "metadata": {},
     "output_type": "display_data"
    }
   ],
   "source": [
    "sns.lineplot(\n",
    "    x='year_of_release', \n",
    "    y='all_sales', \n",
    "    data=games.groupby('year_of_release').agg({'all_sales': 'sum'}));\n",
    "plt.title('Изменение количества продаж за 1980-2016гг');"
   ]
  },
  {
   "cell_type": "markdown",
   "id": "2f5667bb",
   "metadata": {},
   "source": [
    "До 2000-х годов количество выпущенных игр за год совсем мало, что и логично: индустрия только начала развиваться, платформ для игр было не так много и производителей тоже. Пик по количеству выпущенных игр и по суммарным продажам приходится на 2007-2011 годы, а затем количество вместе с продажами начинают резко снижаться. Пока не совсем понятно, с чем это связано, может быть, усиленное развитие мобильных игр и пик их популярности так повлияло. Посмотрим, какие платформы представлены в данных."
   ]
  },
  {
   "cell_type": "code",
   "execution_count": 27,
   "id": "79e5837e",
   "metadata": {
    "scrolled": true
   },
   "outputs": [
    {
     "data": {
      "text/html": [
       "<div>\n",
       "<style scoped>\n",
       "    .dataframe tbody tr th:only-of-type {\n",
       "        vertical-align: middle;\n",
       "    }\n",
       "\n",
       "    .dataframe tbody tr th {\n",
       "        vertical-align: top;\n",
       "    }\n",
       "\n",
       "    .dataframe thead th {\n",
       "        text-align: right;\n",
       "    }\n",
       "</style>\n",
       "<table border=\"1\" class=\"dataframe\">\n",
       "  <thead>\n",
       "    <tr style=\"text-align: right;\">\n",
       "      <th></th>\n",
       "      <th>platform</th>\n",
       "      <th>all_sales</th>\n",
       "    </tr>\n",
       "  </thead>\n",
       "  <tbody>\n",
       "    <tr>\n",
       "      <th>16</th>\n",
       "      <td>PS2</td>\n",
       "      <td>1251.44</td>\n",
       "    </tr>\n",
       "    <tr>\n",
       "      <th>28</th>\n",
       "      <td>X360</td>\n",
       "      <td>971.07</td>\n",
       "    </tr>\n",
       "    <tr>\n",
       "      <th>17</th>\n",
       "      <td>PS3</td>\n",
       "      <td>938.92</td>\n",
       "    </tr>\n",
       "    <tr>\n",
       "      <th>26</th>\n",
       "      <td>Wii</td>\n",
       "      <td>905.89</td>\n",
       "    </tr>\n",
       "    <tr>\n",
       "      <th>4</th>\n",
       "      <td>DS</td>\n",
       "      <td>805.47</td>\n",
       "    </tr>\n",
       "    <tr>\n",
       "      <th>15</th>\n",
       "      <td>PS</td>\n",
       "      <td>729.27</td>\n",
       "    </tr>\n",
       "    <tr>\n",
       "      <th>6</th>\n",
       "      <td>GBA</td>\n",
       "      <td>316.46</td>\n",
       "    </tr>\n",
       "    <tr>\n",
       "      <th>18</th>\n",
       "      <td>PS4</td>\n",
       "      <td>314.14</td>\n",
       "    </tr>\n",
       "    <tr>\n",
       "      <th>19</th>\n",
       "      <td>PSP</td>\n",
       "      <td>292.53</td>\n",
       "    </tr>\n",
       "    <tr>\n",
       "      <th>13</th>\n",
       "      <td>PC</td>\n",
       "      <td>259.46</td>\n",
       "    </tr>\n",
       "    <tr>\n",
       "      <th>2</th>\n",
       "      <td>3DS</td>\n",
       "      <td>258.65</td>\n",
       "    </tr>\n",
       "    <tr>\n",
       "      <th>29</th>\n",
       "      <td>XB</td>\n",
       "      <td>257.68</td>\n",
       "    </tr>\n",
       "    <tr>\n",
       "      <th>5</th>\n",
       "      <td>GB</td>\n",
       "      <td>254.43</td>\n",
       "    </tr>\n",
       "    <tr>\n",
       "      <th>11</th>\n",
       "      <td>NES</td>\n",
       "      <td>251.05</td>\n",
       "    </tr>\n",
       "    <tr>\n",
       "      <th>10</th>\n",
       "      <td>N64</td>\n",
       "      <td>218.01</td>\n",
       "    </tr>\n",
       "    <tr>\n",
       "      <th>23</th>\n",
       "      <td>SNES</td>\n",
       "      <td>200.04</td>\n",
       "    </tr>\n",
       "    <tr>\n",
       "      <th>7</th>\n",
       "      <td>GC</td>\n",
       "      <td>198.69</td>\n",
       "    </tr>\n",
       "    <tr>\n",
       "      <th>30</th>\n",
       "      <td>XOne</td>\n",
       "      <td>159.32</td>\n",
       "    </tr>\n",
       "    <tr>\n",
       "      <th>0</th>\n",
       "      <td>2600</td>\n",
       "      <td>86.48</td>\n",
       "    </tr>\n",
       "    <tr>\n",
       "      <th>27</th>\n",
       "      <td>WiiU</td>\n",
       "      <td>82.19</td>\n",
       "    </tr>\n",
       "    <tr>\n",
       "      <th>20</th>\n",
       "      <td>PSV</td>\n",
       "      <td>54.07</td>\n",
       "    </tr>\n",
       "    <tr>\n",
       "      <th>21</th>\n",
       "      <td>SAT</td>\n",
       "      <td>33.59</td>\n",
       "    </tr>\n",
       "    <tr>\n",
       "      <th>8</th>\n",
       "      <td>GEN</td>\n",
       "      <td>28.35</td>\n",
       "    </tr>\n",
       "    <tr>\n",
       "      <th>3</th>\n",
       "      <td>DC</td>\n",
       "      <td>15.95</td>\n",
       "    </tr>\n",
       "    <tr>\n",
       "      <th>22</th>\n",
       "      <td>SCD</td>\n",
       "      <td>1.86</td>\n",
       "    </tr>\n",
       "    <tr>\n",
       "      <th>12</th>\n",
       "      <td>NG</td>\n",
       "      <td>1.44</td>\n",
       "    </tr>\n",
       "    <tr>\n",
       "      <th>25</th>\n",
       "      <td>WS</td>\n",
       "      <td>1.42</td>\n",
       "    </tr>\n",
       "    <tr>\n",
       "      <th>24</th>\n",
       "      <td>TG16</td>\n",
       "      <td>0.16</td>\n",
       "    </tr>\n",
       "    <tr>\n",
       "      <th>1</th>\n",
       "      <td>3DO</td>\n",
       "      <td>0.10</td>\n",
       "    </tr>\n",
       "    <tr>\n",
       "      <th>9</th>\n",
       "      <td>GG</td>\n",
       "      <td>0.04</td>\n",
       "    </tr>\n",
       "    <tr>\n",
       "      <th>14</th>\n",
       "      <td>PCFX</td>\n",
       "      <td>0.03</td>\n",
       "    </tr>\n",
       "  </tbody>\n",
       "</table>\n",
       "</div>"
      ],
      "text/plain": [
       "   platform  all_sales\n",
       "16      PS2    1251.44\n",
       "28     X360     971.07\n",
       "17      PS3     938.92\n",
       "26      Wii     905.89\n",
       "4        DS     805.47\n",
       "15       PS     729.27\n",
       "6       GBA     316.46\n",
       "18      PS4     314.14\n",
       "19      PSP     292.53\n",
       "13       PC     259.46\n",
       "2       3DS     258.65\n",
       "29       XB     257.68\n",
       "5        GB     254.43\n",
       "11      NES     251.05\n",
       "10      N64     218.01\n",
       "23     SNES     200.04\n",
       "7        GC     198.69\n",
       "30     XOne     159.32\n",
       "0      2600      86.48\n",
       "27     WiiU      82.19\n",
       "20      PSV      54.07\n",
       "21      SAT      33.59\n",
       "8       GEN      28.35\n",
       "3        DC      15.95\n",
       "22      SCD       1.86\n",
       "12       NG       1.44\n",
       "25       WS       1.42\n",
       "24     TG16       0.16\n",
       "1       3DO       0.10\n",
       "9        GG       0.04\n",
       "14     PCFX       0.03"
      ]
     },
     "execution_count": 27,
     "metadata": {},
     "output_type": "execute_result"
    }
   ],
   "source": [
    "platforms = games.pivot_table(index='platform', values='all_sales', aggfunc='sum').reset_index()\n",
    "platforms.columns = ['platform', 'all_sales']\n",
    "platforms.sort_values(by='all_sales', ascending=False)"
   ]
  },
  {
   "cell_type": "markdown",
   "id": "318a0df8",
   "metadata": {},
   "source": [
    "В данном списке на первом месте по продажам стоит PS2, однако надо учитывать, что появилась она в 2000 году, на момент 2016 года уже представлены PS3 и PS4, по продажам они пока отстают, однако в топ-10 входят, связано это, скорее всего, с их более поздним появлением. Такая же ситуация и с Xbox 360 и One. В основном в топе представлены игры для PlayStation, Xbox, различные Nintendo (GBA, Wii, DS), а замыкают десятку лидеров игры на компьютер.\n",
    "Посмотрим, как менялись платформы в течение последних 10 лет и сколько примерно времени уходит на угасание популярности платформы и появление новой."
   ]
  },
  {
   "cell_type": "code",
   "execution_count": 28,
   "id": "fc861a40",
   "metadata": {},
   "outputs": [],
   "source": [
    "top10 = platforms.sort_values(by='all_sales', ascending=False).head(10)\n",
    "top10 = list(top10['platform'])\n",
    "top10.append('XOne')\n",
    "top10.append('WiiU')\n",
    "top10 = games.query('platform == @top10')\n",
    "top_10years = top10.query('year_of_release > 2006')#выберем из всего датафрейма только топ10 популярных платформ за последние 10 лет"
   ]
  },
  {
   "cell_type": "markdown",
   "id": "e467f5b2",
   "metadata": {},
   "source": [
    "Дополнительно к 10 лидерам я добавила еще Xbox One, который вышел после 360, и платформу WiiU, которая появилась после Wii, чтобы проверить гипотезу о том, что новые платформы начинают набирать популярность."
   ]
  },
  {
   "cell_type": "code",
   "execution_count": 29,
   "id": "a7c4a316",
   "metadata": {},
   "outputs": [
    {
     "data": {
      "image/png": "[encoded data removed]",
      "text/plain": [
       "<Figure size 432x288 with 2 Axes>"
      ]
     },
     "metadata": {},
     "output_type": "display_data"
    },
    {
     "data": {
      "text/plain": [
       "<Figure size 720x504 with 0 Axes>"
      ]
     },
     "metadata": {},
     "output_type": "display_data"
    }
   ],
   "source": [
    "sns.heatmap(top_10years.pivot_table(index='year_of_release', columns='platform', values='all_sales', aggfunc='sum'));\n",
    "plt.figure(figsize=(10,7));"
   ]
  },
  {
   "cell_type": "markdown",
   "id": "eae843bf",
   "metadata": {},
   "source": [
    "Из хитмэпа видно, что большинство платформ имеют регрессивный тип продаж, то есть продажи постепенно снижаются (становятся темнее), в среднем \"светлый\", то есть популярный период, длится 4 года, затем популярность уходит, так как появляются новые платформы.\n",
    "Сейчас перспективно развитие PS4 и XOne ввиду их свежести. Однако, по XOne на гарфике всё не так однозначно, он еще не успел захватить популярность, а вот у PS4 видна динамика к увеличению продаж. Также можно обратить внимание на Wii, она была на пике популярности в годы выхода, следует помнить, что в 2016 году Нинтендо представила новую платформу - Switch, однако, пока официального релиза не было, соответственно, и оценить мы не можем.\n",
    "Если посмотреть на последний ряд хитмэпа - 2016 год - можно заметить, что светлее других явно PS4, XOne и WiiU. Эти платформы и будут наиболее прибыльными. А вот ПК к 2016 году совсем \"угас\". Жизненый цикл платформы примем за 4 года, соответственно, анализировать данные будем за период с 2013 по 2016.\\\n",
    "*Выберем всё же топ платформ за наиболее актуальный период, а не за все 10 лет.*"
   ]
  },
  {
   "cell_type": "code",
   "execution_count": 30,
   "id": "4217998a",
   "metadata": {
    "scrolled": true
   },
   "outputs": [
    {
     "data": {
      "text/html": [
       "<div>\n",
       "<style scoped>\n",
       "    .dataframe tbody tr th:only-of-type {\n",
       "        vertical-align: middle;\n",
       "    }\n",
       "\n",
       "    .dataframe tbody tr th {\n",
       "        vertical-align: top;\n",
       "    }\n",
       "\n",
       "    .dataframe thead th {\n",
       "        text-align: right;\n",
       "    }\n",
       "</style>\n",
       "<table border=\"1\" class=\"dataframe\">\n",
       "  <thead>\n",
       "    <tr style=\"text-align: right;\">\n",
       "      <th></th>\n",
       "      <th>platform</th>\n",
       "      <th>all_sales</th>\n",
       "    </tr>\n",
       "  </thead>\n",
       "  <tbody>\n",
       "    <tr>\n",
       "      <th>4</th>\n",
       "      <td>PS4</td>\n",
       "      <td>314.14</td>\n",
       "    </tr>\n",
       "    <tr>\n",
       "      <th>3</th>\n",
       "      <td>PS3</td>\n",
       "      <td>181.43</td>\n",
       "    </tr>\n",
       "    <tr>\n",
       "      <th>10</th>\n",
       "      <td>XOne</td>\n",
       "      <td>159.32</td>\n",
       "    </tr>\n",
       "    <tr>\n",
       "      <th>0</th>\n",
       "      <td>3DS</td>\n",
       "      <td>143.25</td>\n",
       "    </tr>\n",
       "    <tr>\n",
       "      <th>9</th>\n",
       "      <td>X360</td>\n",
       "      <td>136.80</td>\n",
       "    </tr>\n",
       "    <tr>\n",
       "      <th>8</th>\n",
       "      <td>WiiU</td>\n",
       "      <td>64.63</td>\n",
       "    </tr>\n",
       "    <tr>\n",
       "      <th>2</th>\n",
       "      <td>PC</td>\n",
       "      <td>39.43</td>\n",
       "    </tr>\n",
       "    <tr>\n",
       "      <th>6</th>\n",
       "      <td>PSV</td>\n",
       "      <td>32.99</td>\n",
       "    </tr>\n",
       "    <tr>\n",
       "      <th>7</th>\n",
       "      <td>Wii</td>\n",
       "      <td>13.66</td>\n",
       "    </tr>\n",
       "    <tr>\n",
       "      <th>5</th>\n",
       "      <td>PSP</td>\n",
       "      <td>3.50</td>\n",
       "    </tr>\n",
       "  </tbody>\n",
       "</table>\n",
       "</div>"
      ],
      "text/plain": [
       "   platform  all_sales\n",
       "4       PS4     314.14\n",
       "3       PS3     181.43\n",
       "10     XOne     159.32\n",
       "0       3DS     143.25\n",
       "9      X360     136.80\n",
       "8      WiiU      64.63\n",
       "2        PC      39.43\n",
       "6       PSV      32.99\n",
       "7       Wii      13.66\n",
       "5       PSP       3.50"
      ]
     },
     "execution_count": 30,
     "metadata": {},
     "output_type": "execute_result"
    }
   ],
   "source": [
    "top = games.query('year_of_release > 2012').pivot_table(index='platform', \n",
    "                                                        values='all_sales', aggfunc='sum') \\\n",
    ".reset_index().sort_values(by='all_sales', ascending=False).head(10)\n",
    "top"
   ]
  },
  {
   "cell_type": "code",
   "execution_count": 31,
   "id": "b425f681",
   "metadata": {},
   "outputs": [
    {
     "data": {
      "text/plain": [
       "(0.0, 2.0)"
      ]
     },
     "execution_count": 31,
     "metadata": {},
     "output_type": "execute_result"
    },
    {
     "data": {
      "image/png": "[encoded data removed]",
      "text/plain": [
       "<Figure size 979.2x576 with 1 Axes>"
      ]
     },
     "metadata": {},
     "output_type": "display_data"
    }
   ],
   "source": [
    "#теперь построим боксплот по популярным плафтформам за последние 4 года\n",
    "top.columns = ['platform', 'all_sales']\n",
    "top_platforms = list(top['platform'])\n",
    "top10_current = games.query('year_of_release > 2012 and platform == @top_platforms')\n",
    "sns.catplot(\n",
    "    kind='box',\n",
    "    data=top10_current,\n",
    "    x='platform',\n",
    "    y='all_sales',\n",
    "    height=8, aspect=1.7,\n",
    "    orient='v',\n",
    "    palette='pastel',\n",
    "    showfliers=False\n",
    ") \n",
    "plt.ylim(0,2)"
   ]
  },
  {
   "cell_type": "markdown",
   "id": "7891fd89",
   "metadata": {},
   "source": [
    "Сразу обращает на себя внимание размах продаж у PS4, медиана и квартили чуть ниже, чем у других, однако \"усы\" доходят до максимальных значений, видимо, некоторые игры настолько \"выстрелили\".\\\n",
    "Совсем немного отстает платформа X360, хоть по медианному значению продажи выше PS4, однако размах усов немного ниже, преемник X360 - XOne тоже имеет довольно большой размах услов и высокое медианное значение продаж. \\\n",
    "Следует обратить внимание на платформу Wii, да, действительно, она показала хорошие продажи, высокие максимальные значения, при этом не стоит забывать про хитмэп - популярность данной платформы уже угасает, ввиду появления новых платформ от этой базы - 3DS и WiiU, которые вышли примерно одновременно с разницей в год. \\\n",
    "А вот ПК и здесь показал себя неперспективной платформой."
   ]
  },
  {
   "cell_type": "markdown",
   "id": "86b100d1",
   "metadata": {},
   "source": [
    "**Вывод:** Таким образом мы выявили 3 перспективные платформы для дальнейшего анализа: PS4, XOne и WiiU. Так как средний жизненный цикл платформ около 4 лет, то и актуальным периодом для анализа будут 2013-2016 годы. "
   ]
  },
  {
   "cell_type": "markdown",
   "id": "63d32059",
   "metadata": {},
   "source": [
    "### 3.2 Влияние оценок пользователей и критиков на количество продаж среди лидеров платформ"
   ]
  },
  {
   "cell_type": "markdown",
   "id": "19aa028f",
   "metadata": {},
   "source": [
    "Для начала построим диаграммы рассеяния и поситаем коэфициент Пирсона для каждой из этих платформ."
   ]
  },
  {
   "cell_type": "code",
   "execution_count": 32,
   "id": "10bbc224",
   "metadata": {},
   "outputs": [
    {
     "data": {
      "image/png": "[encoded data removed]",
      "text/plain": [
       "<Figure size 432x288 with 1 Axes>"
      ]
     },
     "metadata": {},
     "output_type": "display_data"
    },
    {
     "data": {
      "image/png": "[encoded data removed]",
      "text/plain": [
       "<Figure size 432x288 with 1 Axes>"
      ]
     },
     "metadata": {},
     "output_type": "display_data"
    },
    {
     "data": {
      "image/png": "[encoded data removed]",
      "text/plain": [
       "<Figure size 432x288 with 1 Axes>"
      ]
     },
     "metadata": {},
     "output_type": "display_data"
    }
   ],
   "source": [
    "top3_platforms = ['PS4', 'XOne', 'WiiU']\n",
    "for elem in top3_platforms:\n",
    "    top10_current.loc[top10_current['platform'] == elem].plot(\n",
    "        kind='scatter', \n",
    "        x='user_score', y='all_sales', \n",
    "        grid=True, alpha=0.3,\n",
    "        xlim=(0,10),\n",
    "        title=f'Влияние оценок пользователей на продажи игр {elem}',\n",
    "        c='Blue',\n",
    "    );"
   ]
  },
  {
   "cell_type": "code",
   "execution_count": 33,
   "id": "26585688",
   "metadata": {},
   "outputs": [
    {
     "data": {
      "image/png": "[encoded data removed]",
      "text/plain": [
       "<Figure size 432x288 with 1 Axes>"
      ]
     },
     "metadata": {},
     "output_type": "display_data"
    },
    {
     "data": {
      "image/png": "[encoded data removed]",
      "text/plain": [
       "<Figure size 432x288 with 1 Axes>"
      ]
     },
     "metadata": {},
     "output_type": "display_data"
    },
    {
     "data": {
      "image/png": "[encoded data removed]",
      "text/plain": [
       "<Figure size 432x288 with 1 Axes>"
      ]
     },
     "metadata": {},
     "output_type": "display_data"
    }
   ],
   "source": [
    "for elem in top3_platforms:    \n",
    "    top10_current.loc[top10_current['platform'] == elem].plot(\n",
    "        kind='scatter', \n",
    "        x='critic_score', y='all_sales', \n",
    "        grid=True, alpha=0.3,\n",
    "        xlim=(0,100),\n",
    "        title=f'Влияние оценок критиков на продажи игр {elem}',\n",
    "        c='Blue'\n",
    "    );"
   ]
  },
  {
   "cell_type": "code",
   "execution_count": 34,
   "id": "a5686d1b",
   "metadata": {},
   "outputs": [
    {
     "name": "stdout",
     "output_type": "stream",
     "text": [
      "Корреляция между оценками пользователей и критиков для PS4\n"
     ]
    },
    {
     "data": {
      "text/html": [
       "<div>\n",
       "<style scoped>\n",
       "    .dataframe tbody tr th:only-of-type {\n",
       "        vertical-align: middle;\n",
       "    }\n",
       "\n",
       "    .dataframe tbody tr th {\n",
       "        vertical-align: top;\n",
       "    }\n",
       "\n",
       "    .dataframe thead th {\n",
       "        text-align: right;\n",
       "    }\n",
       "</style>\n",
       "<table border=\"1\" class=\"dataframe\">\n",
       "  <thead>\n",
       "    <tr style=\"text-align: right;\">\n",
       "      <th></th>\n",
       "      <th>critic_score</th>\n",
       "      <th>user_score</th>\n",
       "      <th>all_sales</th>\n",
       "    </tr>\n",
       "  </thead>\n",
       "  <tbody>\n",
       "    <tr>\n",
       "      <th>critic_score</th>\n",
       "      <td>1.000000</td>\n",
       "      <td>0.557654</td>\n",
       "      <td>0.406568</td>\n",
       "    </tr>\n",
       "    <tr>\n",
       "      <th>user_score</th>\n",
       "      <td>0.557654</td>\n",
       "      <td>1.000000</td>\n",
       "      <td>-0.031957</td>\n",
       "    </tr>\n",
       "    <tr>\n",
       "      <th>all_sales</th>\n",
       "      <td>0.406568</td>\n",
       "      <td>-0.031957</td>\n",
       "      <td>1.000000</td>\n",
       "    </tr>\n",
       "  </tbody>\n",
       "</table>\n",
       "</div>"
      ],
      "text/plain": [
       "              critic_score  user_score  all_sales\n",
       "critic_score      1.000000    0.557654   0.406568\n",
       "user_score        0.557654    1.000000  -0.031957\n",
       "all_sales         0.406568   -0.031957   1.000000"
      ]
     },
     "metadata": {},
     "output_type": "display_data"
    },
    {
     "name": "stdout",
     "output_type": "stream",
     "text": [
      "Корреляция между оценками пользователей и критиков для XOne\n"
     ]
    },
    {
     "data": {
      "text/html": [
       "<div>\n",
       "<style scoped>\n",
       "    .dataframe tbody tr th:only-of-type {\n",
       "        vertical-align: middle;\n",
       "    }\n",
       "\n",
       "    .dataframe tbody tr th {\n",
       "        vertical-align: top;\n",
       "    }\n",
       "\n",
       "    .dataframe thead th {\n",
       "        text-align: right;\n",
       "    }\n",
       "</style>\n",
       "<table border=\"1\" class=\"dataframe\">\n",
       "  <thead>\n",
       "    <tr style=\"text-align: right;\">\n",
       "      <th></th>\n",
       "      <th>critic_score</th>\n",
       "      <th>user_score</th>\n",
       "      <th>all_sales</th>\n",
       "    </tr>\n",
       "  </thead>\n",
       "  <tbody>\n",
       "    <tr>\n",
       "      <th>critic_score</th>\n",
       "      <td>1.000000</td>\n",
       "      <td>0.472462</td>\n",
       "      <td>0.416998</td>\n",
       "    </tr>\n",
       "    <tr>\n",
       "      <th>user_score</th>\n",
       "      <td>0.472462</td>\n",
       "      <td>1.000000</td>\n",
       "      <td>-0.068925</td>\n",
       "    </tr>\n",
       "    <tr>\n",
       "      <th>all_sales</th>\n",
       "      <td>0.416998</td>\n",
       "      <td>-0.068925</td>\n",
       "      <td>1.000000</td>\n",
       "    </tr>\n",
       "  </tbody>\n",
       "</table>\n",
       "</div>"
      ],
      "text/plain": [
       "              critic_score  user_score  all_sales\n",
       "critic_score      1.000000    0.472462   0.416998\n",
       "user_score        0.472462    1.000000  -0.068925\n",
       "all_sales         0.416998   -0.068925   1.000000"
      ]
     },
     "metadata": {},
     "output_type": "display_data"
    },
    {
     "name": "stdout",
     "output_type": "stream",
     "text": [
      "Корреляция между оценками пользователей и критиков для WiiU\n"
     ]
    },
    {
     "data": {
      "text/html": [
       "<div>\n",
       "<style scoped>\n",
       "    .dataframe tbody tr th:only-of-type {\n",
       "        vertical-align: middle;\n",
       "    }\n",
       "\n",
       "    .dataframe tbody tr th {\n",
       "        vertical-align: top;\n",
       "    }\n",
       "\n",
       "    .dataframe thead th {\n",
       "        text-align: right;\n",
       "    }\n",
       "</style>\n",
       "<table border=\"1\" class=\"dataframe\">\n",
       "  <thead>\n",
       "    <tr style=\"text-align: right;\">\n",
       "      <th></th>\n",
       "      <th>critic_score</th>\n",
       "      <th>user_score</th>\n",
       "      <th>all_sales</th>\n",
       "    </tr>\n",
       "  </thead>\n",
       "  <tbody>\n",
       "    <tr>\n",
       "      <th>critic_score</th>\n",
       "      <td>1.000000</td>\n",
       "      <td>0.721313</td>\n",
       "      <td>0.376415</td>\n",
       "    </tr>\n",
       "    <tr>\n",
       "      <th>user_score</th>\n",
       "      <td>0.721313</td>\n",
       "      <td>1.000000</td>\n",
       "      <td>0.419330</td>\n",
       "    </tr>\n",
       "    <tr>\n",
       "      <th>all_sales</th>\n",
       "      <td>0.376415</td>\n",
       "      <td>0.419330</td>\n",
       "      <td>1.000000</td>\n",
       "    </tr>\n",
       "  </tbody>\n",
       "</table>\n",
       "</div>"
      ],
      "text/plain": [
       "              critic_score  user_score  all_sales\n",
       "critic_score      1.000000    0.721313   0.376415\n",
       "user_score        0.721313    1.000000   0.419330\n",
       "all_sales         0.376415    0.419330   1.000000"
      ]
     },
     "metadata": {},
     "output_type": "display_data"
    }
   ],
   "source": [
    "for elem in top3_platforms:\n",
    "    print(f'Корреляция между оценками пользователей и критиков для {elem}')\n",
    "    display(top10_current.loc[top10_current['platform'] == elem][['critic_score', 'user_score', 'all_sales']].corr())"
   ]
  },
  {
   "cell_type": "markdown",
   "id": "b0ab0d81",
   "metadata": {},
   "source": [
    "**Вывод:** Изучив диаграммы рассеяния и коэффициенты Пирсона можем сделать вывод, что на продажи игр PS4 и XOne в большей степени влияют оценки критиков (0.4), парадоксально, что оценки пользователей оказывают даже минимальной обратное влияние на продажи - чем выше оценка, тем ниже продажи. Однако, коэффициенты -0.03 и -0.06 не очень информативны, поэтому можем сказать, что оценки пользователей не влияют на продажи игр PS4 и XOne.\\\n",
    "Немного иначе обстоит дело с играми WiiU - здесь, как мы видим из диаграмм и коэффициента корреляции, оценки пользователей оказывают даже большее влияние на покупку игр, чем оценки критиков (0.4 и 0.3 соответственно).\n",
    "Таким образом да, оценки критиков влияют на количество продаж среди всех трёх лидеров, при этом игры на WiiU в большей степени зависят и от оценки пользователей, а игры на PS4 и XOne и вовсе не имеют зависимости от пользовательских оценок."
   ]
  },
  {
   "cell_type": "markdown",
   "id": "59d384ca",
   "metadata": {},
   "source": [
    "### 3.3 Влияние оценок пользователей и критиков на количество продаж в целом за актуальный период"
   ]
  },
  {
   "cell_type": "markdown",
   "id": "4ac1f846",
   "metadata": {},
   "source": [
    "Чтобы посмотреть, сохраняется ли общая тенденция среди всех платформ, построим диаграммы рассеяния и посчитаем коэффициенты корреляции для всего датафрейма, но за актуальный период с 2013 по 2016 годы."
   ]
  },
  {
   "cell_type": "code",
   "execution_count": 35,
   "id": "4c66f0b5",
   "metadata": {},
   "outputs": [
    {
     "data": {
      "image/png": "[encoded data removed]",
      "text/plain": [
       "<Figure size 432x288 with 1 Axes>"
      ]
     },
     "metadata": {},
     "output_type": "display_data"
    }
   ],
   "source": [
    "games.query('year_of_release > 2012').plot(\n",
    "    kind='scatter', \n",
    "    x='user_score', y='all_sales', \n",
    "    grid=True, alpha=0.2,\n",
    "    xlim=(0,10),\n",
    "    title='Влияние оценок пользователей на продажи игр 2013-2016гг',\n",
    "    c='Green',\n",
    ");"
   ]
  },
  {
   "cell_type": "code",
   "execution_count": 36,
   "id": "3df75d52",
   "metadata": {},
   "outputs": [
    {
     "data": {
      "image/png": "[encoded data removed]",
      "text/plain": [
       "<Figure size 432x288 with 1 Axes>"
      ]
     },
     "metadata": {},
     "output_type": "display_data"
    }
   ],
   "source": [
    "games.query('year_of_release > 2012').plot(\n",
    "    kind='scatter', \n",
    "    x='critic_score', y='all_sales', \n",
    "    grid=True, alpha=0.2,\n",
    "    xlim=(0,100),\n",
    "    title='Влияние оценок критиков на продажи игр 2013-2016гг',\n",
    "    c='Green'\n",
    ");"
   ]
  },
  {
   "cell_type": "code",
   "execution_count": 37,
   "id": "351fab3b",
   "metadata": {},
   "outputs": [
    {
     "data": {
      "text/html": [
       "<div>\n",
       "<style scoped>\n",
       "    .dataframe tbody tr th:only-of-type {\n",
       "        vertical-align: middle;\n",
       "    }\n",
       "\n",
       "    .dataframe tbody tr th {\n",
       "        vertical-align: top;\n",
       "    }\n",
       "\n",
       "    .dataframe thead th {\n",
       "        text-align: right;\n",
       "    }\n",
       "</style>\n",
       "<table border=\"1\" class=\"dataframe\">\n",
       "  <thead>\n",
       "    <tr style=\"text-align: right;\">\n",
       "      <th></th>\n",
       "      <th>critic_score</th>\n",
       "      <th>user_score</th>\n",
       "      <th>all_sales</th>\n",
       "    </tr>\n",
       "  </thead>\n",
       "  <tbody>\n",
       "    <tr>\n",
       "      <th>critic_score</th>\n",
       "      <td>1.000000</td>\n",
       "      <td>0.502221</td>\n",
       "      <td>0.313700</td>\n",
       "    </tr>\n",
       "    <tr>\n",
       "      <th>user_score</th>\n",
       "      <td>0.502221</td>\n",
       "      <td>1.000000</td>\n",
       "      <td>-0.002608</td>\n",
       "    </tr>\n",
       "    <tr>\n",
       "      <th>all_sales</th>\n",
       "      <td>0.313700</td>\n",
       "      <td>-0.002608</td>\n",
       "      <td>1.000000</td>\n",
       "    </tr>\n",
       "  </tbody>\n",
       "</table>\n",
       "</div>"
      ],
      "text/plain": [
       "              critic_score  user_score  all_sales\n",
       "critic_score      1.000000    0.502221   0.313700\n",
       "user_score        0.502221    1.000000  -0.002608\n",
       "all_sales         0.313700   -0.002608   1.000000"
      ]
     },
     "execution_count": 37,
     "metadata": {},
     "output_type": "execute_result"
    }
   ],
   "source": [
    "games.loc[games['year_of_release'] > 2012][['critic_score', 'user_score', 'all_sales']].corr()"
   ]
  },
  {
   "cell_type": "markdown",
   "id": "f67cd869",
   "metadata": {},
   "source": [
    "**Вывод:** Оценив все игры за 2013-2016 годы мы можем сделать вывод, что здесь сохраняется такая же тенденция, как и среди лидеров: оценка критиков в большей степени влияет на количество продаж, а вот пользовательская оценка вовсе никак не определяет уровень продаж (коэффициенты Пирсона 0.3 и -0.002 соответсвенно)."
   ]
  },
  {
   "cell_type": "markdown",
   "id": "c545d741",
   "metadata": {},
   "source": [
    "### 3.4 Влияние жанра на количество продаж игр"
   ]
  },
  {
   "cell_type": "markdown",
   "id": "ed474320",
   "metadata": {},
   "source": [
    "Для начала посмотрим, как распределились жанры среди топ10 лидеров."
   ]
  },
  {
   "cell_type": "code",
   "execution_count": 38,
   "id": "f99e0b54",
   "metadata": {},
   "outputs": [
    {
     "data": {
      "image/png": "[encoded data removed]",
      "text/plain": [
       "<Figure size 576x576 with 1 Axes>"
      ]
     },
     "metadata": {},
     "output_type": "display_data"
    }
   ],
   "source": [
    "top10_current['genre'].value_counts().plot(kind='pie', \n",
    "                                           y='genre', \n",
    "                                           figsize=(8,8), \n",
    "                                           autopct='%1.1f%%', \n",
    "                                           ylabel=' ',\n",
    "                                           title = 'Распределение игр за 2013-2016 годы по жанрам'\n",
    ");"
   ]
  },
  {
   "cell_type": "markdown",
   "id": "d7d49be5",
   "metadata": {},
   "source": [
    "Основная масса игр представлена в жанре Экшен - более 30%, затем идут Ролевые игры РПГ и Приключения. Минимальную долю составляют Паззлы.\n",
    "Посмотрим, есть ли более прибыльные жанры, так как оценивать сумму продаж было бы некорректно (ведь некоторых жанров просто в разы больше), будем оценивать по медианным значениям продаж."
   ]
  },
  {
   "cell_type": "code",
   "execution_count": 39,
   "id": "8b3f4a5b",
   "metadata": {},
   "outputs": [
    {
     "data": {
      "image/png": "[encoded data removed]",
      "text/plain": [
       "<Figure size 432x288 with 1 Axes>"
      ]
     },
     "metadata": {},
     "output_type": "display_data"
    }
   ],
   "source": [
    "genres = top10_current.groupby('genre').agg({'all_sales':'median'}).reset_index().sort_values(by='all_sales',ascending=False).plot(\n",
    "                                    kind='bar',\n",
    "                                    x='genre',\n",
    "                                    y='all_sales',\n",
    "                                    rot=0,\n",
    "                                    title='Распределение жанров по количеству продаж'\n",
    "                                    );\n",
    "plt.xticks(rotation=90);"
   ]
  },
  {
   "cell_type": "markdown",
   "id": "c0a586fe",
   "metadata": {},
   "source": [
    "Несмотря на то, что большая часть игр - Экшены, наиболее популяными по количеству продаж являются Шутеры, Экшены и РПГ не вошли даже в тройку лидеров. А вот многочисленные приключения приносят меньше всего прибыли, несмотря на бОльшую распространенность."
   ]
  },
  {
   "cell_type": "markdown",
   "id": "e4a0f3b8",
   "metadata": {},
   "source": [
    "**Вывод:** Таким образом, мы выявили, что самые распространенные игры в период 2013-2016 годов - это игры жанров Экшен, РПГ и Приключения. Но при этом наиболее прибыльными по продажам являются Шутеры, Спортивные, Платформеры, РПГ. В то время как распространенные Приключения занимают последнее место по прибыльности. Поэтому нужно быть внимательными - не всегда широко выпускаемые игры являются и максимально прибыльными."
   ]
  },
  {
   "cell_type": "markdown",
   "id": "16bdfef6",
   "metadata": {},
   "source": [
    "## Шаг 4: Составление портретов пользователя для каждого региона"
   ]
  },
  {
   "cell_type": "markdown",
   "id": "fb5bfdca",
   "metadata": {},
   "source": [
    "### 4.1 Топ-5 популярных платформ"
   ]
  },
  {
   "cell_type": "code",
   "execution_count": 40,
   "id": "7246ef06",
   "metadata": {
    "scrolled": false
   },
   "outputs": [
    {
     "data": {
      "image/png": "[encoded data removed]",
      "text/plain": [
       "<Figure size 432x288 with 1 Axes>"
      ]
     },
     "metadata": {},
     "output_type": "display_data"
    }
   ],
   "source": [
    "games.query('year_of_release > 2012').groupby('platform').agg({'na_sales': 'sum'}).reset_index().set_index('platform').sort_values(by='na_sales', ascending=False).head().plot(\n",
    "    kind='pie',\n",
    "    y='na_sales',\n",
    "    autopct='%1.1f%%',\n",
    "    ylabel=' ',\n",
    "    title='Топ-5 игровых платформ в Северной Америке'\n",
    ");"
   ]
  },
  {
   "cell_type": "markdown",
   "id": "dd683aff",
   "metadata": {},
   "source": [
    "Основная масса пятерки лидеров представлена двумя поколениями Xbox - более 45%, примерно третью долю занимает консоль PS4, а вот 3DS от Nintendo не пользуется такой популярностью."
   ]
  },
  {
   "cell_type": "code",
   "execution_count": 41,
   "id": "4db7c17e",
   "metadata": {},
   "outputs": [
    {
     "data": {
      "image/png": "[encoded data removed]",
      "text/plain": [
       "<Figure size 432x288 with 1 Axes>"
      ]
     },
     "metadata": {},
     "output_type": "display_data"
    }
   ],
   "source": [
    "games.query('year_of_release > 2012').groupby('platform').agg({'eu_sales': 'sum'}).reset_index().set_index('platform').sort_values(by='eu_sales', ascending=False).head().plot(\n",
    "    kind='pie',\n",
    "    y='eu_sales',\n",
    "    autopct='%1.1f%%',\n",
    "    ylabel=' ',\n",
    "    title='Топ-5 игровых платформ в Европе'\n",
    ");"
   ]
  },
  {
   "cell_type": "markdown",
   "id": "608b1fa4",
   "metadata": {},
   "source": [
    "В Европе около 60% популярнейших консолей составляет именно PS двух поколений. Xbox занимает уже меньшую долю, в отличие от Америки. Нинтендо по-прежнему на 5 месте."
   ]
  },
  {
   "cell_type": "code",
   "execution_count": 42,
   "id": "a9645374",
   "metadata": {},
   "outputs": [
    {
     "data": {
      "image/png": "[encoded data removed]",
      "text/plain": [
       "<Figure size 432x288 with 1 Axes>"
      ]
     },
     "metadata": {},
     "output_type": "display_data"
    }
   ],
   "source": [
    "games.query('year_of_release > 2012').groupby('platform').agg({'jp_sales': 'sum'}).reset_index().set_index('platform').sort_values(by='jp_sales', ascending=False).head().plot(\n",
    "    kind='pie',\n",
    "    y='jp_sales',\n",
    "    autopct='%1.1f%%',\n",
    "    ylabel=' ',\n",
    "    title='Топ-5 игровых платформ в Японии'\n",
    ");"
   ]
  },
  {
   "cell_type": "markdown",
   "id": "d1dca80c",
   "metadata": {},
   "source": [
    "Вот как здесь интересно, в Японии почти 50% от популярнейших консолей занимают приставки Нинтендо с платформой 3DS, также в пятерку лидеров попали WiiU того же производителя и несколько консолей от PS. В лидерах Xbox даже не наблюдается."
   ]
  },
  {
   "cell_type": "markdown",
   "id": "93186647",
   "metadata": {},
   "source": [
    "**Вывод:** \\\n",
    "Большая часть игровых консолей в Америке представлена поколениями Xbox 360 и One. PS и 3DS представлены в меньшей степени. Такое превалирование Xbox легко объяснить тем, что его производитель Microsoft располагается в Америке, поэтому японские консоли не так популярны здесь.\\\n",
    "В Европе Xbox по-прежнему остается в пятерке лидеров, однако более 60% топ-5 консолей представлены платформами PS двух поколений. То есть в европейской части предпочитают устройства от Sony, но и Xbox пользуется большой популярностью. Своих компаний, производящих консоли, в Европе нет.\\\n",
    "А вот в Японии заметно сменилась пятерка лидеров, Xbox здесь вообщне не наблюдается, что ожидаемо, а вот почти 50% занимает платформа от Nintendo - 3DS, также в топ-5 попала и платформа WiiU от того же производителя. И, конечно, более 40% от всех пяти лидеров занимают различные платформы PS, даже PSV, которую в других странах и в общей таблице в лидерах мы не наблюдали. Что и стоило ожидать - все лидеры в Японии представлены Японскими производителями."
   ]
  },
  {
   "cell_type": "markdown",
   "id": "0d77be3e",
   "metadata": {},
   "source": [
    "### 4.2 Топ-5 популярных жанров"
   ]
  },
  {
   "cell_type": "code",
   "execution_count": 43,
   "id": "94d961c3",
   "metadata": {},
   "outputs": [
    {
     "data": {
      "image/png": "[encoded data removed]",
      "text/plain": [
       "<Figure size 432x288 with 1 Axes>"
      ]
     },
     "metadata": {},
     "output_type": "display_data"
    }
   ],
   "source": [
    "games.query('year_of_release > 2012').groupby('genre').agg({'na_sales': 'sum'}).reset_index().set_index('genre').sort_values(by='na_sales', ascending=False).head().plot(\n",
    "    kind='pie',\n",
    "    y='na_sales',\n",
    "    autopct='%1.1f%%',\n",
    "    ylabel=' ',\n",
    "    title='Топ-5 игровых жанров в Северной Америке'\n",
    ");"
   ]
  },
  {
   "cell_type": "markdown",
   "id": "13e22079",
   "metadata": {},
   "source": [
    "В Америке наиболее часто покупают игры жанра Экшен, практически в равных долях они находятся со вторым по популярности жанров - Шутер. В меньшей степени американскому рынку интересны Спортивные и РПГ игры. А аркады замыкают пятерку лидеров."
   ]
  },
  {
   "cell_type": "code",
   "execution_count": 44,
   "id": "3df86d85",
   "metadata": {},
   "outputs": [
    {
     "data": {
      "image/png": "[encoded data removed]",
      "text/plain": [
       "<Figure size 432x288 with 1 Axes>"
      ]
     },
     "metadata": {},
     "output_type": "display_data"
    }
   ],
   "source": [
    "games.query('year_of_release > 2012').groupby('genre').agg({'eu_sales': 'sum'}).reset_index().set_index('genre').sort_values(by='eu_sales', ascending=False).head().plot(\n",
    "    kind='pie',\n",
    "    y='eu_sales',\n",
    "    autopct='%1.1f%%',\n",
    "    ylabel=' ',\n",
    "    title='Топ-5 игровых жанров в Европе'\n",
    ");"
   ]
  },
  {
   "cell_type": "markdown",
   "id": "263ae5f4",
   "metadata": {},
   "source": [
    "В Европе очень похожая картинка с Американским рынком: лидируют Экшены и Шутеры. Только вот замыкают пятерку лидеров здесь гонки. Сложно сказать, с чем связано такое распределение и любовь к одинаковым играм. Может быть, играет роль некоторая схожесть игровых платформ, может быть, связано с похожими производителями для американского и европейского рынка. "
   ]
  },
  {
   "cell_type": "code",
   "execution_count": 45,
   "id": "ea3d737f",
   "metadata": {},
   "outputs": [
    {
     "data": {
      "image/png": "[encoded data removed]",
      "text/plain": [
       "<Figure size 432x288 with 1 Axes>"
      ]
     },
     "metadata": {},
     "output_type": "display_data"
    }
   ],
   "source": [
    "games.query('year_of_release > 2012').groupby('genre').agg({'jp_sales': 'sum'}).reset_index().set_index('genre').sort_values(by='jp_sales', ascending=False).head().plot(\n",
    "    kind='pie',\n",
    "    y='jp_sales',\n",
    "    autopct='%1.1f%%',\n",
    "    ylabel=' ',\n",
    "    title='Топ-5 игровых жанров в Японии'\n",
    ");"
   ]
  },
  {
   "cell_type": "markdown",
   "id": "bf7c9c43",
   "metadata": {},
   "source": [
    "А вот в Японии снова разительно отличается распределение по жанрам. РПГ здесь занимают лидирующие позиции, а во Шутеры откатились и замыкают пятерку лидеров."
   ]
  },
  {
   "cell_type": "markdown",
   "id": "f7a448dd",
   "metadata": {},
   "source": [
    "**Вывод:** \\\n",
    "В целом вкусы по жанрам в Америке и Европе очень похожи - лидируют Экшены, Шутеры, что не противоречит и полученным данным по всему миру. \\\n",
    "А вот в Японии немного другая картинка - ни для кого не секрет, что японцы очень любят игры в жанре РПГ, у них есть множество игр на портативные, стационарные консоли и ПК - на диаграмме мы это и наблюдаем, более 44% игр в пятерке лидеров представлена жанром РПГ. Жанр Экшен в Японии тоже остается популярен, как и в других регионах. А вот Шутеры не пользуются таким спросом и лишь замыкают пятерку лидеров."
   ]
  },
  {
   "cell_type": "markdown",
   "id": "99c3e7f8",
   "metadata": {},
   "source": [
    "### 4.3 Влияние рейтинга ESRB на продажи "
   ]
  },
  {
   "cell_type": "code",
   "execution_count": 46,
   "id": "6bd7a2d4",
   "metadata": {},
   "outputs": [
    {
     "data": {
      "text/plain": [
       "array(['M', nan, 'E', 'T', 'E10+'], dtype=object)"
      ]
     },
     "execution_count": 46,
     "metadata": {},
     "output_type": "execute_result"
    }
   ],
   "source": [
    "games.query('year_of_release > 2012')['rating'].unique() #посмотрим, какие знаечния есть в этом столбце"
   ]
  },
  {
   "cell_type": "markdown",
   "id": "244def01",
   "metadata": {},
   "source": [
    "Всего в данном рейтинге больше различных оценок, но в наших данных именно с 2013 года осталось небольшое количество категорий, перечислим их, чтобы запомнить и не возвращаться в гугл:\n",
    "- М - для лиц старше 17 лет\n",
    "- E - подходит для лиц всех возрастов, в том числе и детей\n",
    "- T - для лиц старше 13 лет\n",
    "- E10+ - для лиц старше 10 лет"
   ]
  },
  {
   "cell_type": "code",
   "execution_count": 47,
   "id": "83fa2ab2",
   "metadata": {},
   "outputs": [],
   "source": [
    "current_date = games.query('year_of_release > 2012') #создадим отдельную переменную с нужными датами, чтобы было удобнее обращаться"
   ]
  },
  {
   "cell_type": "markdown",
   "id": "e1aef24b",
   "metadata": {},
   "source": [
    "Для начала посмотрим, как вообще распределены игры в зависимости от рейтинга, есть ли сильное превалирование каких-либо игр."
   ]
  },
  {
   "cell_type": "code",
   "execution_count": 48,
   "id": "b649a699",
   "metadata": {},
   "outputs": [
    {
     "data": {
      "image/png": "[encoded data removed]",
      "text/plain": [
       "<Figure size 432x288 with 1 Axes>"
      ]
     },
     "metadata": {},
     "output_type": "display_data"
    }
   ],
   "source": [
    "current_date.groupby('rating').agg({'na_sales': 'count'}).reset_index().plot(\n",
    "    kind='bar',\n",
    "    x='rating',\n",
    "    y='na_sales',\n",
    "    rot=1,\n",
    "    title='Распределение количества игр по рейтингам ESRB в Северной Америке'\n",
    ");"
   ]
  },
  {
   "cell_type": "markdown",
   "id": "b29b6d3f",
   "metadata": {},
   "source": [
    "Большая часть игр в Северной Америке имеет категорию M - старше 17 лет, однако резкого преобладания какого-либо рейтинга нет, разница по количеству в 50-100 игр. \\\n",
    "Теперь посмотрим на распределение количества продаж в зависиомсти от рейтинга:"
   ]
  },
  {
   "cell_type": "code",
   "execution_count": 49,
   "id": "84e578c8",
   "metadata": {},
   "outputs": [
    {
     "data": {
      "image/png": "[encoded data removed]",
      "text/plain": [
       "<Figure size 432x288 with 1 Axes>"
      ]
     },
     "metadata": {},
     "output_type": "display_data"
    }
   ],
   "source": [
    "current_date.groupby('rating').agg({'na_sales': 'sum'}).reset_index().plot(\n",
    "    kind='bar',\n",
    "    x='rating',\n",
    "    y='na_sales',\n",
    "    rot=1,\n",
    "    title='Распределение количества продаж в зависимости от рейтинга ESRB'\n",
    ");"
   ]
  },
  {
   "cell_type": "markdown",
   "id": "e68d1677",
   "metadata": {},
   "source": [
    "Несмотря на незначительное отличие по численности выпущенных игр, разница в суммарных продажах довольно ощутимая: так игры категории M имеют наибольшее количество продаж, а значит, более прибыльны в Северной Америке.\\\n",
    "Посмотрим, будут ли отличия в других регионах:"
   ]
  },
  {
   "cell_type": "code",
   "execution_count": 50,
   "id": "67fc56a7",
   "metadata": {},
   "outputs": [
    {
     "data": {
      "image/png": "[encoded data removed]",
      "text/plain": [
       "<Figure size 432x288 with 1 Axes>"
      ]
     },
     "metadata": {},
     "output_type": "display_data"
    }
   ],
   "source": [
    "current_date.groupby('rating').agg({'eu_sales': 'count'}).reset_index().plot(\n",
    "    kind='bar',\n",
    "    x='rating',\n",
    "    y='eu_sales',\n",
    "    rot=1,\n",
    "    title='Распределение количества игр по рейтингам ESRB в Европе'\n",
    ");"
   ]
  },
  {
   "cell_type": "markdown",
   "id": "dc9232da",
   "metadata": {},
   "source": [
    "Интересно, что распределение по количеству игр в зависимости от рейтинга ESRB в Европе аналогично такому распределению в Америке. Посмотрим на продажи:"
   ]
  },
  {
   "cell_type": "code",
   "execution_count": 51,
   "id": "a7be21ae",
   "metadata": {},
   "outputs": [
    {
     "data": {
      "image/png": "[encoded data removed]",
      "text/plain": [
       "<Figure size 432x288 with 1 Axes>"
      ]
     },
     "metadata": {},
     "output_type": "display_data"
    }
   ],
   "source": [
    "current_date.groupby('rating').agg({'eu_sales': 'sum'}).reset_index().plot(\n",
    "    kind='bar',\n",
    "    x='rating',\n",
    "    y='eu_sales',\n",
    "    rot=1,\n",
    "    title='Распределение количества продаж в зависимости от рейтинга ESRB'\n",
    ");"
   ]
  },
  {
   "cell_type": "markdown",
   "id": "98c99c70",
   "metadata": {},
   "source": [
    "По продажам в Европе также лидируют игры категории M, причем с таким же значительным отрывом."
   ]
  },
  {
   "cell_type": "code",
   "execution_count": 52,
   "id": "8b07c2a0",
   "metadata": {},
   "outputs": [
    {
     "data": {
      "image/png": "[encoded data removed]",
      "text/plain": [
       "<Figure size 432x288 with 1 Axes>"
      ]
     },
     "metadata": {},
     "output_type": "display_data"
    }
   ],
   "source": [
    "current_date.groupby('rating').agg({'jp_sales': 'count'}).reset_index().plot(\n",
    "    kind='bar',\n",
    "    x='rating',\n",
    "    y='jp_sales',\n",
    "    rot=1,\n",
    "    title='Распределение количества игр по рейтингам ESRB в Японии'\n",
    ");"
   ]
  },
  {
   "cell_type": "markdown",
   "id": "fb142591",
   "metadata": {},
   "source": [
    "В Японии количество игр распределено так же, как и в Америке и Европе, посмотрим на продажи:"
   ]
  },
  {
   "cell_type": "code",
   "execution_count": 53,
   "id": "336395df",
   "metadata": {},
   "outputs": [
    {
     "data": {
      "image/png": "[encoded data removed]",
      "text/plain": [
       "<Figure size 432x288 with 1 Axes>"
      ]
     },
     "metadata": {},
     "output_type": "display_data"
    }
   ],
   "source": [
    "current_date.groupby('rating').agg({'jp_sales': 'sum'}).reset_index().plot(\n",
    "    kind='bar',\n",
    "    x='rating',\n",
    "    y='jp_sales',\n",
    "    rot=1,\n",
    "    title='Распределение количества продаж в зависимости от рейтинга ESRB'\n",
    ");"
   ]
  },
  {
   "cell_type": "markdown",
   "id": "474f5c4d",
   "metadata": {},
   "source": [
    "А вот здесь уже есть отличия: в Японии наиболее прибыльными популярными играми являются игры с рейтингом T - доступные с 13 лет. Но аналогично Европе и Америке игры от 10 лет занимают последнее место по популярности. Зато игры, доступные для всех возрастов, являются более востребованными у японцев, чем в других регионах."
   ]
  },
  {
   "cell_type": "markdown",
   "id": "fb222225",
   "metadata": {},
   "source": [
    "**Вывод:** \\\n",
    "Изучив полученные данные можно сказать, что в Европе и Америке очень похожи распределения игр пок атегориями - наиболее популярными здесь являются игры для взрослых - доступные с 17 лет. \\\n",
    "А вот Япония снова отличилась от других регионов - здесь преобладают игры, доступные с 13 лет, а также бОльшей популярность обладают игры для всех возрастов.\\\n",
    "Но! Следует учитывать, что многие значения в данных были пропущенны, следует помнить, что в Японии и Европе есть свои шкалы для оценки игр по возрастным ограничениям, они могли не войти в анализ."
   ]
  },
  {
   "cell_type": "markdown",
   "id": "4f1231be",
   "metadata": {},
   "source": [
    "## Шаг 5: Проверка гипотез"
   ]
  },
  {
   "cell_type": "markdown",
   "id": "b172901d",
   "metadata": {},
   "source": [
    "У нас есть две гипотезы, который нужно проверить:\n",
    " - средние пользовательские оценки платформ XOne и PC одинаковые\n",
    " - средние пользовательские оценки жанров Экшен и Спорт разные"
   ]
  },
  {
   "cell_type": "markdown",
   "id": "d7f315f2",
   "metadata": {},
   "source": [
    "Для проверки первой гипотезы мы примем за нулевую гипотезу то, что средние пользовательские оценки платформ XOne и PC равны. Так как гипотеза односторонняя (нам не важно, больше они или меньше, важно лишь равны или нет), то альтернативная гипотеза будет то, что эти оценки не равны. \\\n",
    "Для проверки нулевой гипотезы будем использовать t-тест Стъюдента для независимых совокупностей и считать гипотезу отвергнутой при p-value менее 0.01. \\\n",
    "У нас нет оснований полагать, что дисперсии двух совокупностей равны, однако мы можем это проверить двумя способами: с помощью возведения в квадрат стандартного отклонения, или с помощью математического подсчета дисперсии с помощью библиотеки numpy. Я выбрала второй способ:"
   ]
  },
  {
   "cell_type": "code",
   "execution_count": 54,
   "id": "15eb3d82",
   "metadata": {},
   "outputs": [
    {
     "name": "stdout",
     "output_type": "stream",
     "text": [
      "Дисперсия PC: 3.016306347554631\n"
     ]
    }
   ],
   "source": [
    "print('Дисперсия PC:', np.var(list(current_date.loc[~(current_date['user_score'].isna()) & (current_date['platform']=='PC'), 'user_score'])))"
   ]
  },
  {
   "cell_type": "code",
   "execution_count": 55,
   "id": "c7a9eeda",
   "metadata": {},
   "outputs": [
    {
     "name": "stdout",
     "output_type": "stream",
     "text": [
      "Дисперсия XOne: 1.8965188383045526\n"
     ]
    }
   ],
   "source": [
    "print('Дисперсия XOne:', np.var(list(current_date.loc[~(current_date['user_score'].isna()) & (current_date['platform']=='XOne'), 'user_score'])))"
   ]
  },
  {
   "cell_type": "markdown",
   "id": "850857e3",
   "metadata": {},
   "source": [
    "Дисперсии совокупностей не равны."
   ]
  },
  {
   "cell_type": "code",
   "execution_count": 56,
   "id": "3a937e4e",
   "metadata": {},
   "outputs": [
    {
     "name": "stdout",
     "output_type": "stream",
     "text": [
      "Значение p-value: 0.14759594013430463\n"
     ]
    }
   ],
   "source": [
    "alpha = 0.01 #критическое значение p-value\n",
    "result = st.ttest_ind(\n",
    "    current_date.loc[~(current_date['user_score'].isna()) & (current_date['platform']=='PC'), 'user_score'],\n",
    "    current_date.loc[~(current_date['user_score'].isna()) & (current_date['platform']=='XOne'), 'user_score'],\n",
    "    equal_var=False #так как дисперсии не равны\n",
    ") \n",
    "\n",
    "print('Значение p-value:', result.pvalue)"
   ]
  },
  {
   "cell_type": "code",
   "execution_count": 57,
   "id": "a762a62a",
   "metadata": {},
   "outputs": [
    {
     "name": "stdout",
     "output_type": "stream",
     "text": [
      "Не получилось отвергнуть нулевую гипотезу\n"
     ]
    }
   ],
   "source": [
    "#проверяем гипотезу\n",
    "if result.pvalue < alpha:\n",
    "    print('Отвергаем нулевую гипотезу')\n",
    "else:\n",
    "    print('Не получилось отвергнуть нулевую гипотезу')        "
   ]
  },
  {
   "cell_type": "code",
   "execution_count": 58,
   "id": "488c9a1b",
   "metadata": {},
   "outputs": [
    {
     "name": "stdout",
     "output_type": "stream",
     "text": [
      "Средняя пользовательская оценка игр на PC 6.2696774193548395\n",
      "Средняя пользовательская оценка игр на XOne 6.521428571428572\n"
     ]
    }
   ],
   "source": [
    "#посмотрим математически на средние двух платформ\n",
    "print('Средняя пользовательская оценка игр на PC', current_date.loc[~(current_date['user_score'].isna()) & (current_date['platform']=='PC'), 'user_score'].mean())\n",
    "print('Средняя пользовательская оценка игр на XOne', current_date.loc[~(current_date['user_score'].isna()) & (current_date['platform']=='XOne'), 'user_score'].mean())"
   ]
  },
  {
   "cell_type": "markdown",
   "id": "a98ee814",
   "metadata": {},
   "source": [
    "Построим еще гистограммы для обеих совокупностей для наглядности:"
   ]
  },
  {
   "cell_type": "code",
   "execution_count": 59,
   "id": "30fe76ba",
   "metadata": {},
   "outputs": [
    {
     "data": {
      "image/png": "[encoded data removed]",
      "text/plain": [
       "<Figure size 432x288 with 1 Axes>"
      ]
     },
     "metadata": {},
     "output_type": "display_data"
    }
   ],
   "source": [
    "current_date.loc[~(current_date['user_score'].isna()) & (current_date['platform']=='PC'), 'user_score'].plot(\n",
    "    kind='hist',\n",
    "    histtype='step',\n",
    "    alpha=0.7,\n",
    "    linewidth=5,\n",
    "    grid=True,\n",
    "    label='PC',\n",
    "    legend=True\n",
    ");\n",
    "\n",
    "current_date.loc[~(current_date['user_score'].isna()) & (current_date['platform']=='XOne'), 'user_score'].plot(\n",
    "    kind='hist',\n",
    "    histtype='step',\n",
    "    alpha=0.7,\n",
    "    linewidth=5,\n",
    "    grid=True,\n",
    "    label='XOne',\n",
    "    legend=True\n",
    ");"
   ]
  },
  {
   "cell_type": "markdown",
   "id": "3a0e553e",
   "metadata": {},
   "source": [
    "На графике видно, что распределения оценок для обеих платформ очень похожи."
   ]
  },
  {
   "cell_type": "markdown",
   "id": "3c359443",
   "metadata": {},
   "source": [
    "**Вывод:** \\\n",
    "Гипотеза о том, что средние оценки пользователей платформ PC и XOne равны, подтвердилась. То есть пользовательский рейтинг игр на обе эти платформы примерно одинаков, однако XOne остается популярной и востребованной платформой, а вот ПК к 2016 году имеет низкие продажи и не рассматривается как потенциально прибыльная платформа. МЫ наблюдали отсутсвие корреляции между оценкой пользователей и количеством продаж, сейчас это еще раз подтвердилось. Не всегда игры, имеющие высокие оценки игроков, хорошо продаются и являются потенциально прибыльными. \\\n",
    "Такой результат можем быть связан с тем, что некоторые игры созданы для любителей контретного жанра или истории, они получаютв высокие оценки от своих игроков, однако, не выходят широко на рынок и не являются популярными."
   ]
  },
  {
   "cell_type": "markdown",
   "id": "1200747b",
   "metadata": {},
   "source": [
    "Вторая гипотеза звучит так: средние оценки пользователей жанров Экшен и Спорт разные. Однако нулевая гипотеза будет обратной - средние оценки игр Экшен и Спорт равны. Гипотеза тоже будет двухсторонняя, так как не важно, какая оценка выше, какая ниже, нам важно лишь наличие разницы. \\\n",
    "И снова мы имеем дело с двумя независимыми совокупностями и будем проверять с помощью t-теста Стъюдента. Для начала проверим дисперсии обеих совокупностей, на этот раз воспользуемся стандартным отклонением:"
   ]
  },
  {
   "cell_type": "code",
   "execution_count": 60,
   "id": "a0d8d537",
   "metadata": {},
   "outputs": [
    {
     "name": "stdout",
     "output_type": "stream",
     "text": [
      "Дисперсия жанр Экшен: 1.7693609042482703\n"
     ]
    }
   ],
   "source": [
    "print('Дисперсия жанр Экшен:', (current_date.loc[~(current_date['user_score'].isna()) \n",
    "                                                 & (current_date['genre']=='Action'), 'user_score'].std())**2)"
   ]
  },
  {
   "cell_type": "code",
   "execution_count": 61,
   "id": "118b89be",
   "metadata": {},
   "outputs": [
    {
     "name": "stdout",
     "output_type": "stream",
     "text": [
      "Дисперсия жанр Спорт: 3.180612814465409\n"
     ]
    }
   ],
   "source": [
    "print('Дисперсия жанр Спорт:', (current_date.loc[~(current_date['user_score'].isna()) \n",
    "                                                 & (current_date['genre']=='Sports'), 'user_score'].std())**2)"
   ]
  },
  {
   "cell_type": "markdown",
   "id": "b0ed99d0",
   "metadata": {},
   "source": [
    "Дисперсии снова не равны."
   ]
  },
  {
   "cell_type": "code",
   "execution_count": 62,
   "id": "5d7b8a61",
   "metadata": {},
   "outputs": [
    {
     "name": "stdout",
     "output_type": "stream",
     "text": [
      "Значение p-value: 1.4460039700704315e-20\n"
     ]
    }
   ],
   "source": [
    "alpha = 0.01 #критическое значение p-value\n",
    "result = st.ttest_ind(\n",
    "    current_date.loc[~(current_date['user_score'].isna()) & (current_date['genre']=='Action'), 'user_score'],\n",
    "    current_date.loc[~(current_date['user_score'].isna()) & (current_date['genre']=='Sports'), 'user_score'],\n",
    "    equal_var=False #так как дисперсии не равны\n",
    ") \n",
    "\n",
    "print('Значение p-value:', result.pvalue)"
   ]
  },
  {
   "cell_type": "markdown",
   "id": "94e0e0ff",
   "metadata": {},
   "source": [
    "А вот здесь надо быть внимательным при p-value < 0.01 мы отвергаем нулевую гипотезу. Однако надо помнить, что наша гипотеза из задания противоположна нулевой и говорит о разности двух совокупностей. Значит при овтержении нулевой гипотезы наша гипотеза как раз подвердится"
   ]
  },
  {
   "cell_type": "code",
   "execution_count": 63,
   "id": "10edf16a",
   "metadata": {},
   "outputs": [
    {
     "name": "stdout",
     "output_type": "stream",
     "text": [
      "Отвергаем нулевую гипотезу\n"
     ]
    }
   ],
   "source": [
    "#проверяем гипотезу\n",
    "if result.pvalue < alpha:\n",
    "    print('Отвергаем нулевую гипотезу')\n",
    "else:\n",
    "    print('Не получилось отвергнуть нулевую гипотезу')  "
   ]
  },
  {
   "cell_type": "code",
   "execution_count": 64,
   "id": "ed960090",
   "metadata": {},
   "outputs": [
    {
     "name": "stdout",
     "output_type": "stream",
     "text": [
      "Средняя пользовательская оценка игр жанра Экшен 6.837532133676092\n",
      "Средняя пользовательская оценка игр жанра Спорт 5.238124999999999\n"
     ]
    }
   ],
   "source": [
    "#посмотрим математически на средние жанров\n",
    "print('Средняя пользовательская оценка игр жанра Экшен', current_date.loc[~(current_date['user_score'].isna()) & (current_date['genre']=='Action'), 'user_score'].mean())\n",
    "print('Средняя пользовательская оценка игр жанра Спорт', current_date.loc[~(current_date['user_score'].isna()) & (current_date['genre']=='Sports'), 'user_score'].mean())"
   ]
  },
  {
   "cell_type": "markdown",
   "id": "ff1a9af2",
   "metadata": {},
   "source": [
    "И для наглядности построим гистограммы:"
   ]
  },
  {
   "cell_type": "code",
   "execution_count": 65,
   "id": "73c18dff",
   "metadata": {},
   "outputs": [
    {
     "data": {
      "image/png": "[encoded data removed]",
      "text/plain": [
       "<Figure size 432x288 with 1 Axes>"
      ]
     },
     "metadata": {},
     "output_type": "display_data"
    }
   ],
   "source": [
    "current_date.loc[~(current_date['user_score'].isna()) & (current_date['genre']=='Action'), 'user_score'].plot(\n",
    "    kind='hist',\n",
    "    histtype='step',\n",
    "    alpha=0.7,\n",
    "    linewidth=5,\n",
    "    grid=True,\n",
    "    label='Action',\n",
    "    legend=True\n",
    ");\n",
    "\n",
    "current_date.loc[~(current_date['user_score'].isna()) & (current_date['genre']=='Sports'), 'user_score'].plot(\n",
    "    kind='hist',\n",
    "    histtype='step',\n",
    "    alpha=0.7,\n",
    "    linewidth=5,\n",
    "    grid=True,\n",
    "    label='Sports',\n",
    "    legend=True\n",
    ");"
   ]
  },
  {
   "cell_type": "markdown",
   "id": "88e2bd94",
   "metadata": {},
   "source": [
    "А здесь мы и по графику видим, что распределения оценок для двух жанров различны."
   ]
  },
  {
   "cell_type": "markdown",
   "id": "4adcacac",
   "metadata": {},
   "source": [
    "**Вывод:** \\\n",
    "Гипотеза о том, что пользовательские оценки жанров Экшен и Спорт различны - подтвердилась. Мы обнаружили, что средний рейтинг игроков игр в жанре Экшен выше, чем у игр жанра Спорт. Экшены и более распространены, за 4 года выпускалось бОльшее количество игр. Хотя следует обратить внимание, что при этом игры жанра Спорт обгоняют Экшены по количеству продаж  во всем мире за эти 4 года, то есть являются более популярными и прибыльными. Что еще раз указывает нам на то, что пользовательский рейтинг не влияет на количество продаж и при планировании рекламных кампаний на него ориентироваться не стоит."
   ]
  },
  {
   "cell_type": "markdown",
   "id": "93a2bca3",
   "metadata": {},
   "source": [
    "## Шаг 6: Общий вывод и рекомендации для рекламы на 2017 год"
   ]
  },
  {
   "cell_type": "markdown",
   "id": "62e0507d",
   "metadata": {},
   "source": [
    "**1.** В ходе предобработки данных было выявлено множество прпоусков. Удалены две игры с неизвестными названием и жанром 90х годов, также исключены некоторые игры с неизвестным годом выпуска и отсутствием оценок. Ряд пропусков решено оставить, часть из них можно объяснить отсутсвием рейтинга в виду старости игры или особенностями оценки возрастных ограничений для разных стран. Однако стоит обратить внимание на такое количество пропусков, возможно, это техническая ошибка при выгрузке данных.\n",
    "\n",
    "**2.** В ходе исследования был определен средний жизненный цикл платформы - 4 года. Более старые платформы теряют популярность и не стоит делать на них акценты во время проведения рекламной кампании. Так было выделены следующие перспективные платформы:\n",
    "- PS4\n",
    "- XOne\n",
    "- WiiU\n",
    "- 3DS для Японии\n",
    "\n",
    "Следует обратить внимание на различие предпочтений у разных регионов: так в *Северной Америке* наиболее популярными являются платформы от Xbox, на втором месте PS. В *Европе* PS и Xbox с преобладанием первых. А вот в *Японии* весь топ-5 платформ занимают японские консоли, в том числе портативные, 3DS при этом является абсолютным лидером по популярности у японских пользователей. Следует это учитывать при планировании рекламы на 2017 год и делать акценты на игры для определенных платформ в определенных регионах.\n",
    "\n",
    "**3.** Наиболее распространенными по количеству выпускаемых игр оказались жанры Экшен, РПГ и Приключения. При этом по количеству продаж жанра Приключения не оказалось ни в одной пятерке лидеров по разным регионам. В статистике по миру Приключения занимают последнее место по прибыльности. На это тоже стоит обратить внимание при проведении рекламы - *не всегда широко распространенные игры являются прибыльными и популярными.* \\\n",
    "Лидерами по продажам в мире стали игры жанра Шутеры, Спорт и Платформы. При этом снова есть некоторые различия по регионам, что необходимо учитывать: в *Северной Америке и Европе* самый популярный по продажам жанр Экшен, также вошли Шутеры, Спорт и РПГ, что, в принципе, соответсвует мировому рейтингу с некоторыми особенностями. А вот в *Японии* картинка немного другая: абсолютными лидерами там являются игры жанра РПГ, также в лидеры вошли Экшен и Аркады, а вот Шутеры здесь менее популярны, это стоит учитывать при планировании рекламы на японский рынок, а также обязательно помнить про любовь японцев к портативным консолям.\n",
    "\n",
    "**4.** В ходе исследования было также изучено влияние рейтинга ESRB на количество продаж. И обнаружено, что в Северной Америке и Европе предпочитают игры, доступные от 17 лет (M). А вот в Японии отдают предпочтение играм, которые доступны уже с 13 лет (T), и игры категории E - для любого возраста - в Японии более популярны, чем в других странах. При этом игры от 10 лет (E10+) имеют самые низкие продажи во всех регионах. \n",
    "\n",
    "**Таким образом** стоит учесть все особенности при проведении рекламы в различным регионах. Северная Америка: платформы XOne в большей степени и PS4, игры категории M жанров Экшен, Шутеры, Спорт, РПГ. В Европе: так же игры от 17 лет в жанрах Экшен, Шутеры, Спорти  РПГ, только уже бОльший акцент на PS4, а затем XOne. А вот в Японии - портативные консоли от Nintendo (3DS, WiiU), консоли от PS, игры, которые дсотупны с более младшего возраста - 13 лет - в жанрах РПГ, Аркады, Экшен.\n",
    "\n",
    "**5.** Было изучено влияние оценок критиков и пользователей на количество продаж. Установлено, что оценки критиков в большей степени влияют на продажи игр - чем выше оценка, тем выше количество продаж. А вот пользовательский рейтинг, напротив, не определяет популярность. Так, например, установлено, что средний пользовательский рейтинг у игр на ПК и XOne одинаков, однако ПК к 2016 году имеет совсем низкие продажи и не является перспективной платформой, в отличие от XOne. Также было установлено, что игроки более высоко оценивают игры жанра Экшен, чем Спорт, хотя суммарные мировые продажи у Экшенов ниже. Поэтому при планировании рекламной компании не стоит ориентироваться на пользовательский рейтинг, учитывать только оценку критиков."
   ]
  },
  {
   "cell_type": "code",
   "execution_count": null,
   "id": "96c3997e",
   "metadata": {},
   "outputs": [],
   "source": []
  }
 ],
 "metadata": {
  "ExecuteTimeLog": [
   {
    "duration": 1115,
    "start_time": "2022-12-15T06:11:29.993Z"
   },
   {
    "duration": 124,
    "start_time": "2022-12-15T06:11:31.110Z"
   },
   {
    "duration": 14,
    "start_time": "2022-12-15T06:11:31.235Z"
   },
   {
    "duration": 157,
    "start_time": "2022-12-15T06:11:31.251Z"
   },
   {
    "duration": 19,
    "start_time": "2022-12-15T06:11:31.410Z"
   },
   {
    "duration": 23,
    "start_time": "2022-12-15T06:11:31.431Z"
   },
   {
    "duration": 20,
    "start_time": "2022-12-15T06:11:31.455Z"
   },
   {
    "duration": 28,
    "start_time": "2022-12-15T06:11:31.477Z"
   },
   {
    "duration": 40,
    "start_time": "2022-12-15T06:11:31.507Z"
   },
   {
    "duration": 40,
    "start_time": "2022-12-15T06:11:31.550Z"
   },
   {
    "duration": 32,
    "start_time": "2022-12-15T06:11:31.591Z"
   },
   {
    "duration": 25,
    "start_time": "2022-12-15T06:11:31.625Z"
   },
   {
    "duration": 17,
    "start_time": "2022-12-15T06:11:31.652Z"
   },
   {
    "duration": 38,
    "start_time": "2022-12-15T06:11:31.673Z"
   },
   {
    "duration": 18,
    "start_time": "2022-12-15T06:11:31.712Z"
   },
   {
    "duration": 33,
    "start_time": "2022-12-15T06:11:31.732Z"
   },
   {
    "duration": 32,
    "start_time": "2022-12-15T06:11:31.766Z"
   },
   {
    "duration": 30,
    "start_time": "2022-12-15T06:11:31.800Z"
   },
   {
    "duration": 45,
    "start_time": "2022-12-15T06:11:31.832Z"
   },
   {
    "duration": 33,
    "start_time": "2022-12-15T06:11:31.879Z"
   },
   {
    "duration": 24,
    "start_time": "2022-12-15T06:11:31.914Z"
   },
   {
    "duration": 27,
    "start_time": "2022-12-15T06:11:31.939Z"
   },
   {
    "duration": 47,
    "start_time": "2022-12-15T06:11:31.968Z"
   },
   {
    "duration": 317,
    "start_time": "2022-12-15T06:11:32.017Z"
   },
   {
    "duration": 144,
    "start_time": "2022-12-15T06:11:32.337Z"
   },
   {
    "duration": 17,
    "start_time": "2022-12-15T06:11:32.483Z"
   },
   {
    "duration": 26,
    "start_time": "2022-12-15T06:11:32.502Z"
   },
   {
    "duration": 415,
    "start_time": "2022-12-15T06:11:32.530Z"
   },
   {
    "duration": 21,
    "start_time": "2022-12-15T06:11:32.947Z"
   },
   {
    "duration": 486,
    "start_time": "2022-12-15T06:11:32.969Z"
   },
   {
    "duration": 144,
    "start_time": "2022-12-15T06:11:33.456Z"
   },
   {
    "duration": 201,
    "start_time": "2022-12-15T06:11:33.602Z"
   },
   {
    "duration": 17,
    "start_time": "2022-12-15T06:11:33.805Z"
   },
   {
    "duration": 140,
    "start_time": "2022-12-15T06:11:33.824Z"
   },
   {
    "duration": 128,
    "start_time": "2022-12-15T06:11:33.965Z"
   },
   {
    "duration": 10,
    "start_time": "2022-12-15T06:11:34.094Z"
   },
   {
    "duration": 152,
    "start_time": "2022-12-15T06:11:34.106Z"
   },
   {
    "duration": 130,
    "start_time": "2022-12-15T06:11:34.260Z"
   },
   {
    "duration": 10,
    "start_time": "2022-12-15T06:11:34.392Z"
   },
   {
    "duration": 155,
    "start_time": "2022-12-15T06:11:34.403Z"
   },
   {
    "duration": 160,
    "start_time": "2022-12-15T06:11:34.562Z"
   },
   {
    "duration": 11,
    "start_time": "2022-12-15T06:11:34.724Z"
   },
   {
    "duration": 189,
    "start_time": "2022-12-15T06:11:34.737Z"
   },
   {
    "duration": 180,
    "start_time": "2022-12-15T06:11:34.928Z"
   },
   {
    "duration": 221,
    "start_time": "2022-12-15T06:11:35.110Z"
   },
   {
    "duration": 199,
    "start_time": "2022-12-15T06:11:35.334Z"
   },
   {
    "duration": 250,
    "start_time": "2022-12-15T06:11:35.534Z"
   },
   {
    "duration": 208,
    "start_time": "2022-12-15T06:11:35.786Z"
   },
   {
    "duration": 195,
    "start_time": "2022-12-15T06:11:35.996Z"
   },
   {
    "duration": 185,
    "start_time": "2022-12-15T06:11:36.193Z"
   },
   {
    "duration": 7,
    "start_time": "2022-12-15T06:11:36.379Z"
   },
   {
    "duration": 30,
    "start_time": "2022-12-15T06:11:36.388Z"
   },
   {
    "duration": 155,
    "start_time": "2022-12-15T06:11:36.420Z"
   },
   {
    "duration": 151,
    "start_time": "2022-12-15T06:11:36.577Z"
   },
   {
    "duration": 137,
    "start_time": "2022-12-15T06:11:36.729Z"
   },
   {
    "duration": 140,
    "start_time": "2022-12-15T06:11:36.868Z"
   },
   {
    "duration": 141,
    "start_time": "2022-12-15T06:11:37.009Z"
   },
   {
    "duration": 148,
    "start_time": "2022-12-15T06:11:37.152Z"
   },
   {
    "duration": 5,
    "start_time": "2022-12-15T06:11:37.302Z"
   },
   {
    "duration": 39,
    "start_time": "2022-12-15T06:11:37.309Z"
   },
   {
    "duration": 35,
    "start_time": "2022-12-15T06:11:37.350Z"
   },
   {
    "duration": 31,
    "start_time": "2022-12-15T06:11:37.387Z"
   },
   {
    "duration": 33,
    "start_time": "2022-12-15T06:11:37.420Z"
   },
   {
    "duration": 176,
    "start_time": "2022-12-15T06:11:37.455Z"
   },
   {
    "duration": 6,
    "start_time": "2022-12-15T06:11:37.633Z"
   },
   {
    "duration": 33,
    "start_time": "2022-12-15T06:11:37.641Z"
   },
   {
    "duration": 34,
    "start_time": "2022-12-15T06:11:37.676Z"
   },
   {
    "duration": 38,
    "start_time": "2022-12-15T06:11:37.712Z"
   },
   {
    "duration": 21,
    "start_time": "2022-12-15T06:11:37.752Z"
   },
   {
    "duration": 220,
    "start_time": "2022-12-15T06:11:37.774Z"
   },
   {
    "duration": 49,
    "start_time": "2022-12-16T03:51:26.174Z"
   },
   {
    "duration": 1376,
    "start_time": "2022-12-16T03:51:31.684Z"
   },
   {
    "duration": 147,
    "start_time": "2022-12-16T03:51:33.062Z"
   },
   {
    "duration": 15,
    "start_time": "2022-12-16T03:51:33.211Z"
   },
   {
    "duration": 176,
    "start_time": "2022-12-16T03:51:33.228Z"
   },
   {
    "duration": 17,
    "start_time": "2022-12-16T03:51:33.407Z"
   },
   {
    "duration": 3,
    "start_time": "2022-12-16T03:51:33.435Z"
   },
   {
    "duration": 14,
    "start_time": "2022-12-16T03:51:33.439Z"
   },
   {
    "duration": 21,
    "start_time": "2022-12-16T03:51:33.454Z"
   },
   {
    "duration": 22,
    "start_time": "2022-12-16T03:51:33.476Z"
   },
   {
    "duration": 29,
    "start_time": "2022-12-16T03:51:33.501Z"
   },
   {
    "duration": 24,
    "start_time": "2022-12-16T03:51:33.531Z"
   },
   {
    "duration": 23,
    "start_time": "2022-12-16T03:51:33.557Z"
   },
   {
    "duration": 6,
    "start_time": "2022-12-16T03:51:33.582Z"
   },
   {
    "duration": 17,
    "start_time": "2022-12-16T03:51:33.590Z"
   },
   {
    "duration": 28,
    "start_time": "2022-12-16T03:51:33.608Z"
   },
   {
    "duration": 15,
    "start_time": "2022-12-16T03:51:33.638Z"
   },
   {
    "duration": 9,
    "start_time": "2022-12-16T03:51:33.655Z"
   },
   {
    "duration": 14,
    "start_time": "2022-12-16T03:51:33.666Z"
   },
   {
    "duration": 16,
    "start_time": "2022-12-16T03:51:33.682Z"
   },
   {
    "duration": 22,
    "start_time": "2022-12-16T03:51:33.699Z"
   },
   {
    "duration": 12,
    "start_time": "2022-12-16T03:51:33.723Z"
   },
   {
    "duration": 23,
    "start_time": "2022-12-16T03:51:33.737Z"
   },
   {
    "duration": 48,
    "start_time": "2022-12-16T03:51:33.762Z"
   },
   {
    "duration": 372,
    "start_time": "2022-12-16T03:51:33.812Z"
   },
   {
    "duration": 175,
    "start_time": "2022-12-16T03:51:34.186Z"
   },
   {
    "duration": 18,
    "start_time": "2022-12-16T03:51:34.364Z"
   },
   {
    "duration": 13,
    "start_time": "2022-12-16T03:51:34.383Z"
   },
   {
    "duration": 449,
    "start_time": "2022-12-16T03:51:34.400Z"
   },
   {
    "duration": 19,
    "start_time": "2022-12-16T03:51:34.851Z"
   },
   {
    "duration": 495,
    "start_time": "2022-12-16T03:51:34.872Z"
   },
   {
    "duration": 501,
    "start_time": "2022-12-16T03:51:35.369Z"
   },
   {
    "duration": 464,
    "start_time": "2022-12-16T03:51:35.871Z"
   },
   {
    "duration": 29,
    "start_time": "2022-12-16T03:51:36.337Z"
   },
   {
    "duration": 158,
    "start_time": "2022-12-16T03:51:36.368Z"
   },
   {
    "duration": 153,
    "start_time": "2022-12-16T03:51:36.527Z"
   },
   {
    "duration": 12,
    "start_time": "2022-12-16T03:51:36.682Z"
   },
   {
    "duration": 245,
    "start_time": "2022-12-16T03:51:36.696Z"
   },
   {
    "duration": 198,
    "start_time": "2022-12-16T03:51:36.943Z"
   },
   {
    "duration": 199,
    "start_time": "2022-12-16T03:51:37.143Z"
   },
   {
    "duration": 198,
    "start_time": "2022-12-16T03:51:37.344Z"
   },
   {
    "duration": 195,
    "start_time": "2022-12-16T03:51:37.544Z"
   },
   {
    "duration": 301,
    "start_time": "2022-12-16T03:51:37.741Z"
   },
   {
    "duration": 204,
    "start_time": "2022-12-16T03:51:38.044Z"
   },
   {
    "duration": 204,
    "start_time": "2022-12-16T03:51:38.250Z"
   },
   {
    "duration": 7,
    "start_time": "2022-12-16T03:51:38.456Z"
   },
   {
    "duration": 18,
    "start_time": "2022-12-16T03:51:38.465Z"
   },
   {
    "duration": 154,
    "start_time": "2022-12-16T03:51:38.485Z"
   },
   {
    "duration": 162,
    "start_time": "2022-12-16T03:51:38.641Z"
   },
   {
    "duration": 149,
    "start_time": "2022-12-16T03:51:38.804Z"
   },
   {
    "duration": 162,
    "start_time": "2022-12-16T03:51:38.955Z"
   },
   {
    "duration": 150,
    "start_time": "2022-12-16T03:51:39.119Z"
   },
   {
    "duration": 160,
    "start_time": "2022-12-16T03:51:39.271Z"
   },
   {
    "duration": 6,
    "start_time": "2022-12-16T03:51:39.435Z"
   },
   {
    "duration": 15,
    "start_time": "2022-12-16T03:51:39.443Z"
   },
   {
    "duration": 13,
    "start_time": "2022-12-16T03:51:39.460Z"
   },
   {
    "duration": 13,
    "start_time": "2022-12-16T03:51:39.475Z"
   },
   {
    "duration": 16,
    "start_time": "2022-12-16T03:51:39.490Z"
   },
   {
    "duration": 179,
    "start_time": "2022-12-16T03:51:39.507Z"
   },
   {
    "duration": 5,
    "start_time": "2022-12-16T03:51:39.687Z"
   },
   {
    "duration": 12,
    "start_time": "2022-12-16T03:51:39.694Z"
   },
   {
    "duration": 16,
    "start_time": "2022-12-16T03:51:39.707Z"
   },
   {
    "duration": 10,
    "start_time": "2022-12-16T03:51:39.725Z"
   },
   {
    "duration": 12,
    "start_time": "2022-12-16T03:51:39.737Z"
   },
   {
    "duration": 156,
    "start_time": "2022-12-16T03:51:39.751Z"
   },
   {
    "duration": 976,
    "start_time": "2022-12-16T03:51:55.759Z"
   }
  ],
  "kernelspec": {
   "display_name": "Python 3 (ipykernel)",
   "language": "python",
   "name": "python3"
  },
  "language_info": {
   "codemirror_mode": {
    "name": "ipython",
    "version": 3
   },
   "file_extension": ".py",
   "mimetype": "text/x-python",
   "name": "python",
   "nbconvert_exporter": "python",
   "pygments_lexer": "ipython3",
   "version": "3.9.13"
  },
  "toc": {
   "base_numbering": 1,
   "nav_menu": {},
   "number_sections": true,
   "sideBar": true,
   "skip_h1_title": true,
   "title_cell": "Table of Contents",
   "title_sidebar": "Contents",
   "toc_cell": false,
   "toc_position": {
    "height": "calc(100% - 180px)",
    "left": "10px",
    "top": "150px",
    "width": "273.188px"
   },
   "toc_section_display": true,
   "toc_window_display": false
  }
 },
 "nbformat": 4,
 "nbformat_minor": 5
}
